{
 "cells": [
  {
   "cell_type": "raw",
   "metadata": {},
   "source": [
    "---\n",
    "layout: single\n",
    "category: courses\n",
    "title: \"Introduction to Earth Data Science | Earth Lab CU Boulder\"\n",
    "authors: ['Leah Wasser', 'Jenny Palomino']\n",
    "nav-title: \"Intro to Earth Data Science Home\"\n",
    "permalink: /courses/intro-to-earth-data-science/\n",
    "course: \"intro-to-earth-data-science-textbook\"\n",
    "modified: '{:%Y-%m-%d}'.format(datetime.now())\n",
    "module-type: 'overview'\n",
    "module-title: \"Intro to Earth Data Science Textbook\"\n",
    "week-landing: 0\n",
    "week: 0\n",
    "estimated-time: \"12 weeks\"\n",
    "difficulty: \"beginner\"\n",
    "sidebar:\n",
    "  nav:\n",
    "comments: false\n",
    "author_profile: false\n",
    "overview-order: 1\n",
    "redirect_from:\n",
    "  - \"/courses/earth-analytics-bootcamp/\"\n",
    "  - \"/courses/intro-to-earth-data-science-textbook/\" \n",
    "---\n"
   ]
  },
  {
   "cell_type": "markdown",
   "metadata": {},
   "source": [
    "\n",
    "{% include toc title=\"This Textbook\" icon=\"file-text\" %}\n",
    "\n",
    "{% assign course_posts = site.posts | course: page.course %}\n",
    "{% assign sorted_posts = course_posts | sort:'overview-order' %}\n",
    "\n",
    "{% assign modules = sorted_posts | where:\"module-type\", 'overview' %}\n",
    "{% assign modules_course = modules | where:\"course\", page.course %}\n",
    "\n",
    "<div class=\"notice--info\" markdown=\"1\">\n",
    "\n",
    "## <i class=\"fa fa-ship\" aria-hidden=\"true\"></i> Welcome to the Introduction to Earth Data Science Textbook!\n",
    "\n",
    "## Key Materials\n",
    "\n",
    "{% for post in modules_course %}\n",
    " * <a href=\"{{ site.url }}{{ post.permalink }}\">{{ post.title }}</a>\n",
    "{% endfor %}\n",
    "\n",
    "</div>\n",
    "<!-- an overview module specifies the overview content for the course including syllabus and any assignments  module-type: 'session' specified a week or a particular set of content surrounding a topic - eg internship seminar, etc -->\n",
    "\n",
    "## About the Introduction to Earth Data Science Textbook\n",
    "\n",
    "Introduction to Earth Data Science is an online textbook for anyone new to open reproducible science and the `Python` programming language. There are no prerequisites for this material, and no prior programming knowledge is assumed. \n",
    "\n",
    "This textbook is designed for the Earth Analytics Bootcamp for the <a href=\"https://earthlab.colorado.edu/earth-data-analytics-professional-graduate-certificate?utm_source=eds&utm_medium=website&utm_campaign=certificate-2018\" target = \"_blank\">Earth Data Analytics Professional Certificate </a> taught by instructors at CU Boulder. \n",
    "\n",
    "### Overview \n",
    "\n",
    "In this textbook, you will learn how to analyze and visualize earth and environmental science data using the `Python` programming language. You will also get familiar with a suite of open source tools that are often used in open reproducible science workflows including `bash`, `git` and `Github.com`, and `Jupyter Notebook`.\n",
    "\n",
    "This textbook is highly technical, and each chapter covers some aspect of scientific programming and open reproducible science workflows. Additional sections and chapters will continue to be added. \n",
    "\n",
    "{% include textbook-toc.html %}"
   ]
  },
  {
   "cell_type": "code",
   "execution_count": null,
   "metadata": {},
   "outputs": [],
   "source": []
  }
 ],
 "metadata": {
  "kernelspec": {
   "display_name": "Python 3",
   "language": "python",
   "name": "python3"
  },
  "language_info": {
   "codemirror_mode": {
    "name": "ipython",
    "version": 3
   },
   "file_extension": ".py",
   "mimetype": "text/x-python",
   "name": "python",
   "nbconvert_exporter": "python",
   "pygments_lexer": "ipython3",
   "version": "3.7.3"
  },
  "varInspector": {
   "cols": {
    "lenName": 16,
    "lenType": 16,
    "lenVar": 40
   },
   "kernels_config": {
    "python": {
     "delete_cmd_postfix": "",
     "delete_cmd_prefix": "del ",
     "library": "var_list.py",
     "varRefreshCmd": "print(var_dic_list())"
    },
    "r": {
     "delete_cmd_postfix": ") ",
     "delete_cmd_prefix": "rm(",
     "library": "var_list.r",
     "varRefreshCmd": "cat(var_dic_list()) "
    }
   },
   "types_to_exclude": [
    "module",
    "function",
    "builtin_function_or_method",
    "instance",
    "_Feature"
   ],
   "window_display": false
  }
 },
 "nbformat": 4,
 "nbformat_minor": 2
}
