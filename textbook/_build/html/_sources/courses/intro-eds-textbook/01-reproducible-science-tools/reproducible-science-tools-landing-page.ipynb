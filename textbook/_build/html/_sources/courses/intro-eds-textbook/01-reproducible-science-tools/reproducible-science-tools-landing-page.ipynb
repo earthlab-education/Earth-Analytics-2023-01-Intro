{
 "cells": [
  {
   "cell_type": "raw",
   "metadata": {},
   "source": [
    "---\n",
    "layout: single\n",
    "category: courses\n",
    "title: \"Introduction to Open Reproducible Science Workflows\"\n",
    "permalink: /courses/intro-to-earth-data-science/open-reproducible-science/\n",
    "week-landing: 1\n",
    "modified: '{:%Y-%m-%d}'.format(datetime.now())\n",
    "week: 1\n",
    "sidebar:\n",
    "  nav:\n",
    "comments: false\n",
    "author_profile: false\n",
    "course: \"intro-to-earth-data-science-textbook\"\n",
    "module-type: 'session'\n",
    "redirect_from:\n",
    "  - \"/courses/earth-analytics-bootcamp/get-started-with-open-science/\"\n",
    "---\n"
   ]
  },
  {
   "cell_type": "markdown",
   "metadata": {},
   "source": [
    "{% include toc title=\"Section One\" icon=\"file-text\" %}\n",
    "\n",
    "<div class=\"notice--info\" markdown=\"1\">\n",
    "\n",
    "## <i class=\"fa fa-ship\" aria-hidden=\"true\"></i> Section One - An Introduction to Open Reproducible Science Workflows\n",
    "\n",
    "In section one of this textbook, you will learn about open reproducible science. You will learn about a suite of open source tools that are often used in open reproducible science workflows including `Bash`/`Shell`, `Python`, and the `Jupyter` ecosystem, including `Jupyter Notebook`. You will also learn about best practices for open reproducible projects and workflows. \n",
    "\n",
    "\n",
    "## <i class=\"fa fa-graduation-cap\" aria-hidden=\"true\"></i> Learning Objectives\n",
    "\n",
    "After completing this section of the introduction to earth data science online textbook, you will be able to:\n",
    "\n",
    "* Define open reproducible science and explain its importance.\n",
    "* Describe how reproducibility can benefit you and others.\n",
    "* Identify best practices for open reproducible science projects and workflows. \n",
    "* Run `Bash` commands in the terminal to work with files and directories on your computer.\n",
    "* Launch and navigate the `Jupyter Notebook` dashboard to access and create `Jupyter Notebook` files.\n",
    "* Run cells within `Jupyter Notebook` to execute `Python` code and render `Markdown` text.\n",
    "\n",
    "</div>\n",
    "\n",
    "\n",
    "{% include textbook-section-toc.html %}"
   ]
  },
  {
   "cell_type": "code",
   "execution_count": null,
   "metadata": {},
   "outputs": [],
   "source": []
  }
 ],
 "metadata": {
  "kernelspec": {
   "display_name": "Python 3",
   "language": "python",
   "name": "python3"
  },
  "language_info": {
   "codemirror_mode": {
    "name": "ipython",
    "version": 3
   },
   "file_extension": ".py",
   "mimetype": "text/x-python",
   "name": "python",
   "nbconvert_exporter": "python",
   "pygments_lexer": "ipython3",
   "version": "3.7.3"
  },
  "varInspector": {
   "cols": {
    "lenName": 16,
    "lenType": 16,
    "lenVar": 40
   },
   "kernels_config": {
    "python": {
     "delete_cmd_postfix": "",
     "delete_cmd_prefix": "del ",
     "library": "var_list.py",
     "varRefreshCmd": "print(var_dic_list())"
    },
    "r": {
     "delete_cmd_postfix": ") ",
     "delete_cmd_prefix": "rm(",
     "library": "var_list.r",
     "varRefreshCmd": "cat(var_dic_list()) "
    }
   },
   "types_to_exclude": [
    "module",
    "function",
    "builtin_function_or_method",
    "instance",
    "_Feature"
   ],
   "window_display": false
  }
 },
 "nbformat": 4,
 "nbformat_minor": 2
}
