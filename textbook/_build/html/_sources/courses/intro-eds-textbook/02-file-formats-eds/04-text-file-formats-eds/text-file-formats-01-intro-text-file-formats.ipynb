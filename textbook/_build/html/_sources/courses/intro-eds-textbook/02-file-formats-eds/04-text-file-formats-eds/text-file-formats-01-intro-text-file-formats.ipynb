{
 "cells": [
  {
   "cell_type": "raw",
   "metadata": {},
   "source": [
    "---\n",
    "layout: single\n",
    "title: 'Text File Formats for Earth Data Science'\n",
    "excerpt: \"There are many text file formats that are useful for earth data science workflows including Markdown, text (.txt, .csv) files, and YAML (Yet Another Markup Language). Learn about these common text file formats for earth data science workflows.\"\n",
    "authors: ['Jenny Palomino', 'Leah Wasser']\n",
    "category: [courses]\n",
    "class-lesson: ['text-file-formats']\n",
    "permalink: /courses/intro-to-earth-data-science/file-formats/use-text-files/\n",
    "nav-title: \"Intro to Text File Formats\"\n",
    "dateCreated: 2019-08-29\n",
    "modified: '{:%Y-%m-%d}'.format(datetime.now())\n",
    "module-title: 'Text File Formats for Earth Data Science'\n",
    "module-nav-title: 'Text File Formats'\n",
    "module-description: 'There are many text file formats that are useful for earth data science workflows including Markdown, text (.txt, .csv) files, and YAML (Yet Another Markup Language). Learn about these common text file formats for earth data science workflows.'\n",
    "module-type: 'class'\n",
    "chapter: 4\n",
    "class-order: 1\n",
    "course: \"intro-to-earth-data-science-textbook\"\n",
    "week: 2\n",
    "estimated-time: \"1 hour\"\n",
    "difficulty: \"beginner\"\n",
    "sidebar:\n",
    "  nav:\n",
    "author_profile: false\n",
    "comments: true\n",
    "order: 1\n",
    "topics:\n",
    "  reproducible-science-and-programming: ['markdown']\n",
    "---\n"
   ]
  },
  {
   "cell_type": "markdown",
   "metadata": {},
   "source": [
    "{% include toc title=\"In This Chapter\" icon=\"file-text\" %}\n",
    "\n",
    "<div class='notice--success' markdown=\"1\">\n",
    "\n",
    "## <i class=\"fa fa-ship\" aria-hidden=\"true\"></i> Chapter Four - Text File Formats for Earth Data Science\n",
    "\n",
    "In this chapter, you will learn about common text file formats for earth data science workflows including Markdown, text (.txt, .csv) files, and YAML (Yet Another Markup Language). \n",
    "\n",
    "After completing this chapter, you will be able to:\n",
    "\n",
    "* Explain what the `Markdown` format is and describe its role in the documentation of earth data science workflows.\n",
    "* Use basic `Markdown` syntax to format text in `Jupyter Notebook` files.\n",
    "* Describe how text (.txt) and CSV files can be used for scientific data.\n",
    "* Explain how YAML is used to support earth data science workflows.\n",
    "\n",
    "\n",
    "## <i class=\"fa fa-check-square-o fa-2\" aria-hidden=\"true\"></i> What You Need\n",
    "\n",
    "Be sure that you have completed the previous chapter on <a href=\"{{ site.url }}/courses/intro-to-earth-data-science/open-reproducible-science/jupyter-python/\">Jupyter Notebook</a>.\n",
    "\n",
    "</div>"
   ]
  }
 ],
 "metadata": {
  "celltoolbar": "Tags",
  "kernelspec": {
   "display_name": "Python 3",
   "language": "python",
   "name": "python3"
  },
  "language_info": {
   "codemirror_mode": {
    "name": "ipython",
    "version": 3
   },
   "file_extension": ".py",
   "mimetype": "text/x-python",
   "name": "python",
   "nbconvert_exporter": "python",
   "pygments_lexer": "ipython3",
   "version": "3.8.5"
  },
  "toc": {
   "base_numbering": 1,
   "nav_menu": {},
   "number_sections": true,
   "sideBar": true,
   "skip_h1_title": false,
   "title_cell": "Table of Contents",
   "title_sidebar": "Contents",
   "toc_cell": false,
   "toc_position": {},
   "toc_section_display": true,
   "toc_window_display": false
  },
  "varInspector": {
   "cols": {
    "lenName": 16,
    "lenType": 16,
    "lenVar": 40
   },
   "kernels_config": {
    "python": {
     "delete_cmd_postfix": "",
     "delete_cmd_prefix": "del ",
     "library": "var_list.py",
     "varRefreshCmd": "print(var_dic_list())"
    },
    "r": {
     "delete_cmd_postfix": ") ",
     "delete_cmd_prefix": "rm(",
     "library": "var_list.r",
     "varRefreshCmd": "cat(var_dic_list()) "
    }
   },
   "types_to_exclude": [
    "module",
    "function",
    "builtin_function_or_method",
    "instance",
    "_Feature"
   ],
   "window_display": false
  }
 },
 "nbformat": 4,
 "nbformat_minor": 2
}
