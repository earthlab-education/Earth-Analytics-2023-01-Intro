{
 "cells": [
  {
   "cell_type": "raw",
   "metadata": {},
   "source": [
    "---\n",
    "layout: single\n",
    "title: 'Use Tabular Data for Earth Data Science'\n",
    "excerpt: \"Tabular data is common in all analytical work, most commonly seen as .txt and .csv files. Learn to work with tabular data for earth data science in this lesson.\"\n",
    "authors: ['Leah Wasser', 'Nathan Korinek']\n",
    "category: [courses]\n",
    "class-lesson: ['text-file-formats']\n",
    "permalink: /courses/intro-to-earth-data-science/file-formats/use-text-files/use-tabular-data/\n",
    "nav-title: \"Use Tabular Data\"\n",
    "dateCreated: 2020-06-20\n",
    "modified: '{:%Y-%m-%d}'.format(datetime.now())\n",
    "module-type: 'class'\n",
    "course: \"intro-to-earth-data-science-textbook\"\n",
    "week: 2\n",
    "sidebar:\n",
    "  nav:\n",
    "author_profile: false\n",
    "comments: true\n",
    "order: 3\n",
    "topics:\n",
    "  file-formats: ['csv']\n",
    "---\n"
   ]
  },
  {
   "cell_type": "markdown",
   "metadata": {},
   "source": [
    "{% include toc title=\"On This Page\" icon=\"file-text\" %}\n",
    "\n",
    "<div class=\"notice--success alert alert-info\" markdown=\"1\">\n",
    "\n",
    "## <i class=\"fa fa-graduation-cap\" aria-hidden=\"true\"></i> Learning Objectives\n",
    "\n",
    "At the end of this activity, you will be able to:\n",
    "\n",
    "* Define the structure of tabular data.\n",
    "* Describe the difference between the two common types of tabular text file formats: `txt` and `csv` files.\n",
    "* Be able to list some commonly used scientific data types that often are downloaded in a tabular format. \n",
    "\n",
    "</div>"
   ]
  },
  {
   "cell_type": "markdown",
   "metadata": {},
   "source": [
    "\n",
    "## What is Tabular Data?\n",
    "\n",
    "Tabular data are data that are stored in a row / column format. Columns (and \n",
    "sometimes rows) are often identified by headers, which if named correctly, explain\n",
    "what is in that row or column. You may already be \n",
    "familiar with spreadsheet tools such as Excel and Google Sheets that can be \n",
    "used to open tabular data. \n",
    "\n",
    "\n",
    "## Tabular Data Structure\n",
    "In the example below, you see a table of values \n",
    "that represent precipitation for 3 days. The headers in the data include \n",
    "\n",
    "* `day` and\n",
    "* `precipitation-mm`\n",
    "\n",
    "\n",
    "| day   | precipitation-mm    |  \n",
    "|:----------|:-------------|\n",
    "| monday | 0 | \n",
    "| tuesday | 1   | \n",
    "| wednesday | 5 | \n",
    "\n",
    "The tabular data above contains 4 rows - the first of which (row 1) is a header row and subsequent rows contain data. The table also has 2 columns. \n",
    "\n",
    "\n",
    "## Common Tabular Data File Types: .csv and .txt\n",
    "\n",
    "Tabular data can be downloaded in many different file formats. Spreadsheet formats \n",
    "include `.xls` and `xlsx` which can be directly opened in Microsoft \n",
    "Excel. When you are downloading Earth and Environmental data, you will often \n",
    "see tablular data stored in file formats including: \n",
    "\n",
    "* `.csv`: Comma Separated Values - This file has each column separated (delimited) by a comma. \n",
    "* `.txt`: A basic text file. In a `txt` file, often the delimiter (the thing that separates out each column) can vary. Delimiters are discussed below in more detail. \n",
    "\n",
    "These formats are text based and often can be opened in a text editor like Atom or Notepad. \n",
    "They can be then imported into **Python** using **Pandas** for further exploration \n",
    "and processing. \n",
    "\n",
    "\n",
    "<div class=\"notice--success alert alert-info\" markdown=\"1\">\n",
    "\n",
    "<i class=\"fa fa-star\"></i> **Data Tip:** The challenge with graphical user \n",
    "interface (GUI) based tools like Excel\n",
    "is that they often have limitations when it comes to working with larger files. \n",
    "Further, it becomes difficult to recreate workflows implemented in Excel because\n",
    "you are often pressing buttons rather than scripting workflows. You can use \n",
    "Open Source Python to implement any workflow you might implement in Excel \n",
    "and that workflow can become fully sharable and reproducible! \n",
    "</div>\n",
    "\n",
    "## Text Files & Delimiters\n",
    "\n",
    "A delimiter refers to the character that defines the boundary for different sets of information. \n",
    "In a text file, the delimiter defines the boundary between columns. A line break (a return) defines \n",
    "each row. \n",
    "\n",
    "Below you will find an example of a comma delimited text file. In the example below, each column of data \n",
    "is separated by a comma `,`. The data also include a header row which is also separated by commas.\n",
    "\n",
    "```\n",
    "site_code, year, month, day, hour, minute, second, time_decimal, value, value_std_dev  \n",
    "BRW,1973,1,1,0,0,0,1973.0,-999.99,-99.99\n",
    "BRW,1973,2,1,0,0,0,1973.0849315068492,-999.99,-99.99 \n",
    "BRW,1973,3,1,0,0,0,1973.1616438356164,-999.99,-99.99 \n",
    "```\n",
    "\n",
    "Here is an example of a space delimited text file. In the example below, each column of data \n",
    "are separated by a single space. \n",
    "\n",
    "```\n",
    "site_code year month day hour minute second time_decimal value value_std_dev  \n",
    "BRW 1973 1 1 0 0 0 1973.0 -999.99 -99.99\n",
    "BRW 1973 2 1 0 0 0 1973.0849315068492 -999.99 -99.99 \n",
    "BRW 1973 3 1 0 0 0 1973.1616438356164 -999.99 -99.99 \n",
    "```\n",
    "\n",
    "There are many different types of delimiters including:\n",
    "\n",
    "* tabs\n",
    "* commas\n",
    "* 1 (or more) spaces\n",
    "\n",
    "Sometimes you will find other characters used as delimiters but the above-listed options are the most common. \n",
    "\n",
    "<div class='notice--success alert alert-info' markdown=\"1\">\n",
    "\n",
    "<i class=\"fa fa-star\"></i> **Data Tip:** The `.csv` file format is most often delimited by a comma. Hence the name: \n",
    "</div>\n",
    "\n",
    "\n",
    "\n",
    "## Earth and Environmental Data That Are Stored In Text File Format\n",
    "\n",
    "There are many different types of data that are stored in text and tabular file formats.\n",
    "Below you will see a few different examples of data that are provided in this format. You\n",
    "will also explore some of the cleanup steps that you need to import and begin to work with \n",
    "the data. \n",
    "\n",
    "\n",
    "<div class=\"notice--success alert alert-info\" markdown=\"1\">\n",
    "\n",
    "<i class=\"fa fa-star\"></i> **Data Tip:** Not all text files store tabular text (character) based data. The `.asc` file format is a text based format that stores spatial raster data.  \n",
    "</div>\n",
    "\n"
   ]
  },
  {
   "cell_type": "code",
   "execution_count": 1,
   "metadata": {
    "lines_to_next_cell": 2
   },
   "outputs": [],
   "source": [
    "# Import packages\n",
    "import os\n",
    "\n",
    "import matplotlib.pyplot as plt\n",
    "import pandas as pd"
   ]
  },
  {
   "cell_type": "markdown",
   "metadata": {},
   "source": [
    "If you have a url that links directly to a file online, you can \n",
    "open it using pandas `.read_csv()`. Have a look at the data below - \n",
    "and notice that is has:\n",
    "\n",
    "* 3 columns: months, precip and seasons\n",
    "* 12 rows: notice that the first row is numered as `0`. This is because indexing \n",
    "in Python always starts at 0 rather than 1. \n",
    "\n",
    "\n",
    "<div class=\"notice--success alert alert-info\" markdown=\"1\">\n",
    "\n",
    "<i class=\"fa fa-star\"></i> **Data Tip:** You can learn more about zero-based indexing in the <a href=\"https://www.earthdatascience.org/courses/intro-to-earth-data-science/python-code-fundamentals/get-started-using-python/lists/#list-index-in-python\" target = \"_link\" >chapter on lists in this textbook </a>  \n",
    "\n",
    "</div>\n"
   ]
  },
  {
   "cell_type": "code",
   "execution_count": 2,
   "metadata": {},
   "outputs": [
    {
     "data": {
      "text/html": [
       "<div>\n",
       "<style scoped>\n",
       "    .dataframe tbody tr th:only-of-type {\n",
       "        vertical-align: middle;\n",
       "    }\n",
       "\n",
       "    .dataframe tbody tr th {\n",
       "        vertical-align: top;\n",
       "    }\n",
       "\n",
       "    .dataframe thead th {\n",
       "        text-align: right;\n",
       "    }\n",
       "</style>\n",
       "<table border=\"1\" class=\"dataframe\">\n",
       "  <thead>\n",
       "    <tr style=\"text-align: right;\">\n",
       "      <th></th>\n",
       "      <th>months</th>\n",
       "      <th>precip</th>\n",
       "      <th>seasons</th>\n",
       "    </tr>\n",
       "  </thead>\n",
       "  <tbody>\n",
       "    <tr>\n",
       "      <th>0</th>\n",
       "      <td>Jan</td>\n",
       "      <td>0.70</td>\n",
       "      <td>Winter</td>\n",
       "    </tr>\n",
       "    <tr>\n",
       "      <th>1</th>\n",
       "      <td>Feb</td>\n",
       "      <td>0.75</td>\n",
       "      <td>Winter</td>\n",
       "    </tr>\n",
       "    <tr>\n",
       "      <th>2</th>\n",
       "      <td>Mar</td>\n",
       "      <td>1.85</td>\n",
       "      <td>Spring</td>\n",
       "    </tr>\n",
       "    <tr>\n",
       "      <th>3</th>\n",
       "      <td>Apr</td>\n",
       "      <td>2.93</td>\n",
       "      <td>Spring</td>\n",
       "    </tr>\n",
       "    <tr>\n",
       "      <th>4</th>\n",
       "      <td>May</td>\n",
       "      <td>3.05</td>\n",
       "      <td>Spring</td>\n",
       "    </tr>\n",
       "    <tr>\n",
       "      <th>5</th>\n",
       "      <td>June</td>\n",
       "      <td>2.02</td>\n",
       "      <td>Summer</td>\n",
       "    </tr>\n",
       "    <tr>\n",
       "      <th>6</th>\n",
       "      <td>July</td>\n",
       "      <td>1.93</td>\n",
       "      <td>Summer</td>\n",
       "    </tr>\n",
       "    <tr>\n",
       "      <th>7</th>\n",
       "      <td>Aug</td>\n",
       "      <td>1.62</td>\n",
       "      <td>Summer</td>\n",
       "    </tr>\n",
       "    <tr>\n",
       "      <th>8</th>\n",
       "      <td>Sept</td>\n",
       "      <td>1.84</td>\n",
       "      <td>Fall</td>\n",
       "    </tr>\n",
       "    <tr>\n",
       "      <th>9</th>\n",
       "      <td>Oct</td>\n",
       "      <td>1.31</td>\n",
       "      <td>Fall</td>\n",
       "    </tr>\n",
       "    <tr>\n",
       "      <th>10</th>\n",
       "      <td>Nov</td>\n",
       "      <td>1.39</td>\n",
       "      <td>Fall</td>\n",
       "    </tr>\n",
       "    <tr>\n",
       "      <th>11</th>\n",
       "      <td>Dec</td>\n",
       "      <td>0.84</td>\n",
       "      <td>Winter</td>\n",
       "    </tr>\n",
       "  </tbody>\n",
       "</table>\n",
       "</div>"
      ],
      "text/plain": [
       "   months  precip seasons\n",
       "0     Jan    0.70  Winter\n",
       "1     Feb    0.75  Winter\n",
       "2     Mar    1.85  Spring\n",
       "3     Apr    2.93  Spring\n",
       "4     May    3.05  Spring\n",
       "5    June    2.02  Summer\n",
       "6    July    1.93  Summer\n",
       "7     Aug    1.62  Summer\n",
       "8    Sept    1.84    Fall\n",
       "9     Oct    1.31    Fall\n",
       "10    Nov    1.39    Fall\n",
       "11    Dec    0.84  Winter"
      ]
     },
     "execution_count": 2,
     "metadata": {},
     "output_type": "execute_result"
    }
   ],
   "source": [
    "# Download and open the .csv file using Pandas\n",
    "avg_monthly_precip = pd.read_csv(\n",
    "    \"https://ndownloader.figshare.com/files/12710618\")\n",
    "\n",
    "# View the data that you just downloaded and opened\n",
    "avg_monthly_precip"
   ]
  },
  {
   "cell_type": "markdown",
   "metadata": {},
   "source": [
    "In **Pandas**, this table format is referred to as a `dataframe`. \n",
    "You can view some stats about the `dataframe` including the number of columns \n",
    "and rows in the data using `.info()`."
   ]
  },
  {
   "cell_type": "code",
   "execution_count": 3,
   "metadata": {},
   "outputs": [
    {
     "name": "stdout",
     "output_type": "stream",
     "text": [
      "<class 'pandas.core.frame.DataFrame'>\n",
      "RangeIndex: 12 entries, 0 to 11\n",
      "Data columns (total 3 columns):\n",
      " #   Column   Non-Null Count  Dtype  \n",
      "---  ------   --------------  -----  \n",
      " 0   months   12 non-null     object \n",
      " 1   precip   12 non-null     float64\n",
      " 2   seasons  12 non-null     object \n",
      "dtypes: float64(1), object(2)\n",
      "memory usage: 416.0+ bytes\n"
     ]
    }
   ],
   "source": [
    "avg_monthly_precip.info()"
   ]
  },
  {
   "cell_type": "markdown",
   "metadata": {},
   "source": [
    "Finally, you can easily plot the data using `.plot()`."
   ]
  },
  {
   "cell_type": "code",
   "execution_count": 4,
   "metadata": {
    "caption": "Line plot of precipitation (mm) for one year."
   },
   "outputs": [
    {
     "name": "stderr",
     "output_type": "stream",
     "text": [
      "/home/nathan/miniconda3/envs/earth-analytics-python/lib/python3.7/site-packages/pandas/plotting/_matplotlib/core.py:1235: UserWarning: FixedFormatter should only be used together with FixedLocator\n",
      "  ax.set_xticklabels(xticklabels)\n"
     ]
    },
    {
     "data": {
      "image/png": "[encoded data removed]",
      "text/plain": [
       "<Figure size 432x288 with 1 Axes>"
      ]
     },
     "metadata": {
      "needs_background": "light"
     },
     "output_type": "display_data"
    }
   ],
   "source": [
    "# Plot the data\n",
    "f, ax = plt.subplots()\n",
    "avg_monthly_precip.plot(x=\"months\",\n",
    "                        y=\"precip\",\n",
    "                        title=\"Precipitation (mm) for One Year\",\n",
    "                        ax=ax)\n",
    "ax.set(xlabel='Month',\n",
    "       ylabel='Precipitation (mm)')\n",
    "plt.show()"
   ]
  },
  {
   "cell_type": "markdown",
   "metadata": {},
   "source": [
    "<div class=\"notice--warning alert alert-info\" markdown=\"1\">\n",
    "\n",
    "\n",
    "## <i class=\"fa fa-pencil-square-o\" aria-hidden=\"true\"></i> Challenge 1\n",
    "\n",
    "* Use Python to determine the `type` of data stored in `avg_monthly_precip`\n",
    "\n",
    "HINT: you learned how to determine the type of an object in the variables lessons last week. \n",
    "\n",
    "</div>\n"
   ]
  },
  {
   "cell_type": "code",
   "execution_count": 5,
   "metadata": {
    "tags": [
     "hide"
    ]
   },
   "outputs": [
    {
     "data": {
      "text/plain": [
       "pandas.core.frame.DataFrame"
      ]
     },
     "execution_count": 5,
     "metadata": {},
     "output_type": "execute_result"
    }
   ],
   "source": [
    "# Check the type of the variable avg_monthly_precip in this cell\n",
    "type(avg_monthly_precip)"
   ]
  },
  {
   "cell_type": "markdown",
   "metadata": {},
   "source": [
    "<div class=\"notice--warning alert alert-info\" markdown=\"1\">\n",
    "\n",
    "## <i class=\"fa fa-pencil-square-o\" aria-hidden=\"true\"></i> Challenge 2\n",
    "\n",
    "In most programming languages, you can customize the options for how a function \n",
    "runs by using parameters. Examples of parameters in the plot above include: \n",
    "\n",
    "* `x=\"months\"` - tell python which data to place on the x-axis\n",
    "* `y=\"precip\"` - tell python which data to place on the y-axis\n",
    "\n",
    "Above you created a line plot. You can use the `kind=\"\"` parameter to \n",
    "modify the type of plot that pandas created. You can use the `color=\"\"` \n",
    "parameter to specify a color that you wish to use for each bar in the plot. \n",
    "\n",
    "Do the following:\n",
    "\n",
    "1. copy the code below.\n",
    "2. Add `kind=\"bar\"` to the `.plot()` method. \n",
    "3. Specify the color of each bar using the `color=\"\"` parameter. \n",
    "\n",
    "Run your code and see what the final plot looks like. You can select \n",
    "any color that you wish to complete your plot. \n",
    "\n",
    "Use this link to find a list of colors (open it in a new browser tab!) https://het.as.utexas.edu/HET/Software/Matplotlib/api/colors_api.html\n",
    "\n",
    "\n",
    "```python\n",
    "f, ax = plt.subplots()\n",
    "avg_monthly_precip.plot(x=\"months\",\n",
    "                        y=\"precip\",\n",
    "                        title=\"Precipitation (mm) for One Year\",\n",
    "                        ax=ax)\n",
    "ax.set(xlabel='Month',\n",
    "       ylabel='Precipitation (mm)')\n",
    "plt.show()\n",
    "```\n",
    "\n",
    "The plot below is an example of what your final plot should look like. \n",
    "</div>"
   ]
  },
  {
   "cell_type": "code",
   "execution_count": 6,
   "metadata": {
    "caption": "Bar plot of precipitation (mm) for one year.",
    "tags": [
     "hide"
    ]
   },
   "outputs": [
    {
     "data": {
      "image/png": "[encoded data removed]",
      "text/plain": [
       "<Figure size 432x288 with 1 Axes>"
      ]
     },
     "metadata": {
      "needs_background": "light"
     },
     "output_type": "display_data"
    }
   ],
   "source": [
    "# Modify the plot code above in this cell - to create a bar plot using kind=\n",
    "# Change the color of the bars using color=\n",
    "f, ax = plt.subplots()\n",
    "avg_monthly_precip.plot(kind=\"bar\",\n",
    "                        color=\"green\",\n",
    "                        x=\"months\",\n",
    "                        y=\"precip\",\n",
    "                        title=\"Challenge 2 Plot: Precipitation (mm) for One Year\",\n",
    "                        ax=ax)\n",
    "ax.set(xlabel='Month',\n",
    "       ylabel='Precipitation (mm)')\n",
    "plt.show()"
   ]
  },
  {
   "cell_type": "markdown",
   "metadata": {},
   "source": [
    "## Cleaning Tabular Text Files So You Can Open Them in Python\n",
    "\n",
    "### Missing Data Values & Headers in Text Files\n",
    "\n",
    "Not all text files are as simple as the example above. Many text files have \n",
    "several lines of header text above the data that provide you with useful information\n",
    "about the data itself. This data is referred to as metadata. \n",
    "\n",
    "Also, often times, there are data missing from the data that were collected. \n",
    "These missing values will be identified using a specific value that is hopefully\n",
    "documented in the metadata for that file. \n",
    "\n",
    "Next you will explore some temperature data that need to be cleaned up. \n",
    "\n",
    "\n",
    "<div class=\"notice--success alert alert-info\" markdown=\"1\">\n",
    "\n",
    "<i class=\"fa fa-star\"></i> **Data Tip:** You can visit <a href=\"https://www.ncdc.noaa.gov/cag/city/time-series/\" target = \"_link\" >the NOAA NCDC website to learn more about the data you are \n",
    "using below.</a>  \n",
    "    \n",
    "* Miami, Florida CSV: https://www.ncdc.noaa.gov/cag/city/time-series/USW00012839-tmax-12-12-1895-2020.csv \n",
    "* Seattle, Washington CSV: https://www.ncdc.noaa.gov/cag/city/time-series/USW00013895-tmax-1-5-1895-2020.csv \n",
    "\n",
    "</div>"
   ]
  },
  {
   "cell_type": "code",
   "execution_count": 7,
   "metadata": {},
   "outputs": [
    {
     "data": {
      "text/html": [
       "<div>\n",
       "<style scoped>\n",
       "    .dataframe tbody tr th:only-of-type {\n",
       "        vertical-align: middle;\n",
       "    }\n",
       "\n",
       "    .dataframe tbody tr th {\n",
       "        vertical-align: top;\n",
       "    }\n",
       "\n",
       "    .dataframe thead th {\n",
       "        text-align: right;\n",
       "    }\n",
       "</style>\n",
       "<table border=\"1\" class=\"dataframe\">\n",
       "  <thead>\n",
       "    <tr style=\"text-align: right;\">\n",
       "      <th></th>\n",
       "      <th>Miami</th>\n",
       "      <th>Florida</th>\n",
       "      <th>Maximum Temperature</th>\n",
       "      <th>January-December</th>\n",
       "    </tr>\n",
       "  </thead>\n",
       "  <tbody>\n",
       "    <tr>\n",
       "      <th>0</th>\n",
       "      <td>Units: Degrees Fahrenheit</td>\n",
       "      <td>NaN</td>\n",
       "      <td>NaN</td>\n",
       "      <td>NaN</td>\n",
       "    </tr>\n",
       "    <tr>\n",
       "      <th>1</th>\n",
       "      <td>Missing: -99</td>\n",
       "      <td>NaN</td>\n",
       "      <td>NaN</td>\n",
       "      <td>NaN</td>\n",
       "    </tr>\n",
       "    <tr>\n",
       "      <th>2</th>\n",
       "      <td>Date</td>\n",
       "      <td>Value</td>\n",
       "      <td>NaN</td>\n",
       "      <td>NaN</td>\n",
       "    </tr>\n",
       "    <tr>\n",
       "      <th>3</th>\n",
       "      <td>194812</td>\n",
       "      <td>83.7</td>\n",
       "      <td>NaN</td>\n",
       "      <td>NaN</td>\n",
       "    </tr>\n",
       "    <tr>\n",
       "      <th>4</th>\n",
       "      <td>194912</td>\n",
       "      <td>83.1</td>\n",
       "      <td>NaN</td>\n",
       "      <td>NaN</td>\n",
       "    </tr>\n",
       "    <tr>\n",
       "      <th>...</th>\n",
       "      <td>...</td>\n",
       "      <td>...</td>\n",
       "      <td>...</td>\n",
       "      <td>...</td>\n",
       "    </tr>\n",
       "    <tr>\n",
       "      <th>70</th>\n",
       "      <td>201512</td>\n",
       "      <td>85.6</td>\n",
       "      <td>NaN</td>\n",
       "      <td>NaN</td>\n",
       "    </tr>\n",
       "    <tr>\n",
       "      <th>71</th>\n",
       "      <td>201612</td>\n",
       "      <td>84.5</td>\n",
       "      <td>NaN</td>\n",
       "      <td>NaN</td>\n",
       "    </tr>\n",
       "    <tr>\n",
       "      <th>72</th>\n",
       "      <td>201712</td>\n",
       "      <td>85.2</td>\n",
       "      <td>NaN</td>\n",
       "      <td>NaN</td>\n",
       "    </tr>\n",
       "    <tr>\n",
       "      <th>73</th>\n",
       "      <td>201812</td>\n",
       "      <td>85.1</td>\n",
       "      <td>NaN</td>\n",
       "      <td>NaN</td>\n",
       "    </tr>\n",
       "    <tr>\n",
       "      <th>74</th>\n",
       "      <td>201912</td>\n",
       "      <td>85.6</td>\n",
       "      <td>NaN</td>\n",
       "      <td>NaN</td>\n",
       "    </tr>\n",
       "  </tbody>\n",
       "</table>\n",
       "<p>75 rows × 4 columns</p>\n",
       "</div>"
      ],
      "text/plain": [
       "                        Miami  Florida   Maximum Temperature  \\\n",
       "0   Units: Degrees Fahrenheit      NaN                   NaN   \n",
       "1                Missing: -99      NaN                   NaN   \n",
       "2                        Date    Value                   NaN   \n",
       "3                      194812     83.7                   NaN   \n",
       "4                      194912     83.1                   NaN   \n",
       "..                        ...      ...                   ...   \n",
       "70                     201512     85.6                   NaN   \n",
       "71                     201612     84.5                   NaN   \n",
       "72                     201712     85.2                   NaN   \n",
       "73                     201812     85.1                   NaN   \n",
       "74                     201912     85.6                   NaN   \n",
       "\n",
       "     January-December  \n",
       "0                 NaN  \n",
       "1                 NaN  \n",
       "2                 NaN  \n",
       "3                 NaN  \n",
       "4                 NaN  \n",
       "..                ...  \n",
       "70                NaN  \n",
       "71                NaN  \n",
       "72                NaN  \n",
       "73                NaN  \n",
       "74                NaN  \n",
       "\n",
       "[75 rows x 4 columns]"
      ]
     },
     "execution_count": 7,
     "metadata": {},
     "output_type": "execute_result"
    }
   ],
   "source": [
    "# Open temperature data for Miami, Florida\n",
    "miami_temp_url = \"https://www.ncdc.noaa.gov/cag/city/time-series/USW00012839-tmax-12-12-1895-2020.csv\"\n",
    "\n",
    "miami_temp = pd.read_csv(miami_temp_url)\n",
    "miami_temp"
   ]
  },
  {
   "cell_type": "markdown",
   "metadata": {},
   "source": [
    "Notice that the data above contain a few extra rows of information. This \n",
    "information however is important for you to understand. \n",
    "\n",
    "* `Missing: -99` -- this is the value that represents the \"no data\" value. Misisng data might occur if a sensor stops working or a measurement isn't recorded. You will want to remove any missing data values.\n",
    "* `Units: Degrees Fahrenheit` -- it's always important to first understand the units of the data before you try to interpret what the data are showing!  \n",
    "\n",
    "Below you will use all of the information stored in the header to import your data.\n",
    "You will also remove the first few rows of data because they don't actually contain any\n",
    "data values. These rows contain metadata. \n",
    "\n",
    "### Function Parameters in Python\n",
    "\n",
    "A parameter refers to an option that you can specify when running a function \n",
    "in **Python**. You can adjust the parameters associated with importing your data \n",
    "in the same way that you adjusted the plot type and colors above. \n",
    "\n",
    "Below you use: \n",
    "\n",
    "* `skiprows=`: to tell **Python** to skip the first 3 rows of your data\n",
    "* `na_values=`: to tell **Python** to reassign any missing data values to \"NA\" \n",
    "\n",
    "NA refers to missing data. When you specify a value as NA (NaN or Not a Number \n",
    "in **Python**), it will not be included in plots or any mathematical operations.\n",
    "\n",
    "<div class='notice--success' markdown=\"1\">\n",
    "\n",
    "<i class=\"fa fa-star\"></i> **Data Tip:** You can learn more about no data values \n",
    "in Pandas in the <a href=\"https://www.earthdatascience.org/courses/use-data-open-source-python/use-time-series-data-in-python/date-time-types-in-pandas-python/\" target = \"_blank\" >intermediate earth data science textbook</a>  \n",
    "    \n",
    "</div>\n"
   ]
  },
  {
   "cell_type": "code",
   "execution_count": 8,
   "metadata": {},
   "outputs": [
    {
     "data": {
      "text/html": [
       "<div>\n",
       "<style scoped>\n",
       "    .dataframe tbody tr th:only-of-type {\n",
       "        vertical-align: middle;\n",
       "    }\n",
       "\n",
       "    .dataframe tbody tr th {\n",
       "        vertical-align: top;\n",
       "    }\n",
       "\n",
       "    .dataframe thead th {\n",
       "        text-align: right;\n",
       "    }\n",
       "</style>\n",
       "<table border=\"1\" class=\"dataframe\">\n",
       "  <thead>\n",
       "    <tr style=\"text-align: right;\">\n",
       "      <th></th>\n",
       "      <th>Date</th>\n",
       "      <th>Value</th>\n",
       "    </tr>\n",
       "  </thead>\n",
       "  <tbody>\n",
       "    <tr>\n",
       "      <th>0</th>\n",
       "      <td>194812</td>\n",
       "      <td>83.7</td>\n",
       "    </tr>\n",
       "    <tr>\n",
       "      <th>1</th>\n",
       "      <td>194912</td>\n",
       "      <td>83.1</td>\n",
       "    </tr>\n",
       "    <tr>\n",
       "      <th>2</th>\n",
       "      <td>195012</td>\n",
       "      <td>82.4</td>\n",
       "    </tr>\n",
       "    <tr>\n",
       "      <th>3</th>\n",
       "      <td>195112</td>\n",
       "      <td>82.8</td>\n",
       "    </tr>\n",
       "    <tr>\n",
       "      <th>4</th>\n",
       "      <td>195212</td>\n",
       "      <td>83.4</td>\n",
       "    </tr>\n",
       "  </tbody>\n",
       "</table>\n",
       "</div>"
      ],
      "text/plain": [
       "     Date  Value\n",
       "0  194812   83.7\n",
       "1  194912   83.1\n",
       "2  195012   82.4\n",
       "3  195112   82.8\n",
       "4  195212   83.4"
      ]
     },
     "execution_count": 8,
     "metadata": {},
     "output_type": "execute_result"
    }
   ],
   "source": [
    "# Open the Miami data skipping the first 3 rows and setting no data values\n",
    "miami_temp = pd.read_csv(miami_temp_url,\n",
    "                         skiprows=3,\n",
    "                         na_values=-99)\n",
    "\n",
    "# View the first 5 rows of the data\n",
    "miami_temp.head()"
   ]
  },
  {
   "cell_type": "markdown",
   "metadata": {},
   "source": [
    "<div class=\"notice--warning alert alert-info\" markdown=\"1\">\n",
    "\n",
    "## <i class=\"fa fa-pencil-square-o\" aria-hidden=\"true\"></i> Challenge 3\n",
    "\n",
    "Now that you have imported temperature data for Miami, plot the \n",
    "data using the code example above!! In your plot code, set `Date` as your \n",
    "`x-axis` value and `Value` column as your `y-axis` value.\n",
    "\n",
    "The plot below is an example of what your final plot should look like. \n",
    "</div>"
   ]
  },
  {
   "cell_type": "code",
   "execution_count": 9,
   "metadata": {
    "caption": "Line plot of temperature (F) for Miami, Florida.",
    "tags": [
     "hide"
    ]
   },
   "outputs": [
    {
     "data": {
      "image/png": "[encoded data removed]",
      "text/plain": [
       "<Figure size 432x288 with 1 Axes>"
      ]
     },
     "metadata": {
      "needs_background": "light"
     },
     "output_type": "display_data"
    }
   ],
   "source": [
    "# Add the code needed to plot the miami_data object below\n",
    "f, ax = plt.subplots()\n",
    "miami_temp.plot(x=\"Date\",\n",
    "                y=\"Value\",\n",
    "                kind=\"line\",\n",
    "                title=\"Challenge 3 Plot: Temperature (Fahrenheit) - Miami, FL\",\n",
    "                ax=ax)\n",
    "ax.set(xlabel='Date',\n",
    "       ylabel='Temperature (Fahrenheit)')\n",
    "plt.show()"
   ]
  },
  {
   "cell_type": "markdown",
   "metadata": {},
   "source": [
    "<div class=\"notice--warning alert alert-info\" markdown=\"1\">\n",
    "\n",
    "## <i class=\"fa fa-pencil-square-o\" aria-hidden=\"true\"></i> Challenge 4\n",
    "\n",
    "Use the link below to open and plot temperature data for Seattle, Washington. \n",
    "\n",
    "<a href=\"https://www.ncdc.noaa.gov/cag/city/time-series/USW00013895-tmax-1-5-1895-2020.csv\" target=\"_blank\">https://www.ncdc.noaa.gov/cag/city/time-series/USW00013895-tmax-1-5-1895-2020.csv</a>\n",
    "\n",
    "</div>\n"
   ]
  },
  {
   "cell_type": "code",
   "execution_count": 10,
   "metadata": {
    "caption": "Line plot of temperature (F) for Montgomery, Alabama.",
    "tags": [
     "hide"
    ]
   },
   "outputs": [
    {
     "data": {
      "image/png": "[encoded data removed]",
      "text/plain": [
       "<Figure size 432x288 with 1 Axes>"
      ]
     },
     "metadata": {
      "needs_background": "light"
     },
     "output_type": "display_data"
    }
   ],
   "source": [
    "# Add your code to plot the data below\n",
    "montgomery_temp_url = \"https://www.ncdc.noaa.gov/cag/city/time-series/USW00013895-tmax-1-5-1895-2020.csv\"\n",
    "\n",
    "\n",
    "montgomery_temp = pd.read_csv(montgomery_temp_url)\n",
    "montgomery_temp\n",
    "\n",
    "\n",
    "# Open the Montgomery data skipping the first 3 rows and setting no data values\n",
    "montgomery_temp = pd.read_csv(montgomery_temp_url,\n",
    "                              skiprows=3,\n",
    "                              na_values=-99)\n",
    "\n",
    "# View the first 5 rows of the data\n",
    "montgomery_temp.head()\n",
    "\n",
    "\n",
    "f, ax = plt.subplots()\n",
    "montgomery_temp.plot(x=\"Date\",\n",
    "                     kind=\"line\",\n",
    "                     y=\"Value\",\n",
    "                     title=\"Challenge 4 Plot: Temperature (Fahrenheit) - Montogmery, AL\",\n",
    "                     ax=ax,\n",
    "                     color=\"red\")\n",
    "ax.set(xlabel='Date',\n",
    "       ylabel='Temperature (Fahrenheit)')\n",
    "plt.show()"
   ]
  },
  {
   "cell_type": "markdown",
   "metadata": {},
   "source": [
    "<div class=\"notice--warning alert alert-info\" markdown=\"1\">\n",
    "\n",
    "## <i class=\"fa fa-pencil-square-o\" aria-hidden=\"true\"></i> Challenge 5 -- OPTIONAL\n",
    "\n",
    "Copy the code below into your code. Run the code. \n",
    "It should download and open a new dataset that has CO2 emissions for a field site\n",
    "in Barrow, Alaska (brw). \n",
    "\n",
    "The code below will download your data into your working directory. You should \n",
    "be able to open it using the filename `co2-emissions-barrow.csv`.\n",
    "\n",
    "```python\n",
    "# Download greenhouse gas CO2 data\n",
    "import urllib.request\n",
    "\n",
    "greenhouse_gas_url = \"ftp://aftp.cmdl.noaa.gov/data/trace_gases/co2/in-situ/surface/brw/co2_brw_surface-insitu_1_ccgg_MonthlyData.txt\"\n",
    "\n",
    "urllib.request.urlretrieve(url=greenhouse_gas_url,\n",
    "                           filename=\"co2-emissions-barrow.csv\")\n",
    "\n",
    "```\n",
    "\n",
    "Once you have downloaded the data\n",
    "1. Read the data in using pandas `read_csv()`\n",
    "2. The data has some additional rows of information stored as metadata. You will\n",
    "need to use the `skiprows=` parameter to skip those metadata rows and properly \n",
    "import the data. HINT: remember when you use `skiprows` to consider 0-based indexing.\n",
    "3. Finally plot the data using pandas. plot the `\"time_decimal\"` column on the \n",
    "x-axis and `\"value\"` on the y-axis.\n",
    "\n",
    "</div>\n"
   ]
  },
  {
   "cell_type": "code",
   "execution_count": 11,
   "metadata": {
    "tags": [
     "hide"
    ]
   },
   "outputs": [],
   "source": [
    "# Add your code to open and view the data here\n",
    "\n",
    "# Download greenhouse gas CO2 data\n",
    "import urllib.request\n",
    "\n",
    "greenhouse_gas_url = \"ftp://aftp.cmdl.noaa.gov/data/trace_gases/co2/in-situ/surface/brw/co2_brw_surface-insitu_1_ccgg_MonthlyData.txt\"\n",
    "\n",
    "urllib.request.urlretrieve(url=greenhouse_gas_url,\n",
    "                           filename=\"co2-emissions-barrow.csv\")\n",
    "\n",
    "greenhouse_gas = pd.read_csv(greenhouse_gas_url,\n",
    "                             skiprows=148,\n",
    "                             na_values=-999.99,\n",
    "                             delimiter=\" \")\n",
    "# greenhouse_gas.info()\n",
    "# greenhouse_gas.head()\n",
    "# greenhouse_gas"
   ]
  },
  {
   "cell_type": "code",
   "execution_count": 12,
   "metadata": {
    "caption": "Line plot of temperature (F) for Barrow, Alaska.",
    "tags": [
     "hide"
    ]
   },
   "outputs": [
    {
     "data": {
      "image/png": "[encoded data removed]",
      "text/plain": [
       "<Figure size 432x288 with 1 Axes>"
      ]
     },
     "metadata": {
      "needs_background": "light"
     },
     "output_type": "display_data"
    }
   ],
   "source": [
    "# make a plot of [CO2] vs. time\n",
    "#  Add your code to plot the final CO2 data here\n",
    "import matplotlib.pyplot as plt\n",
    "\n",
    "f, ax = plt.subplots()\n",
    "greenhouse_gas.plot(x=\"time_decimal\",\n",
    "                    y=\"value\",\n",
    "                    title=\"Challenge 5 Plot: CO2 - Barrow, AK\",\n",
    "                    ax=ax)\n",
    "ax.set(xlabel='Date',\n",
    "       ylabel='CO2')\n",
    "plt.show()"
   ]
  },
  {
   "cell_type": "markdown",
   "metadata": {},
   "source": [
    "<div class=\"notice--info alert alert-info\" markdown=\"1\">\n",
    "\n",
    "## Additional Resources\n",
    "\n",
    "* <a href=\"https://www.earthdatascience.org/courses/intro-to-earth-data-science/scientific-data-structures-python/pandas-dataframes/\" target = \"_link\" >Chapter on Pandas in the Intro to Earth Data Science textbook </a> \n",
    "* <a href=\"https://www.earthdatascience.org/courses/use-data-open-source-python/use-time-series-data-in-python/date-time-types-in-pandas-python/\" target = \"_link\" >Chapter on Time Series with Pandas </a>  \n",
    "* <a href=\"https://www.earthdatascience.org/courses/use-data-open-source-python/use-time-series-data-in-python/date-time-types-in-pandas-python/#work-with-no-data-values-in-pandas-dataframe\" target = \"_link\" > Textbook Section on Dealing with No Data Values in Pandas </a> \n",
    "</div>\n"
   ]
  }
 ],
 "metadata": {
  "celltoolbar": "Edit Metadata",
  "kernelspec": {
   "display_name": "Python 3",
   "language": "python",
   "name": "python3"
  },
  "language_info": {
   "codemirror_mode": {
    "name": "ipython",
    "version": 3
   },
   "file_extension": ".py",
   "mimetype": "text/x-python",
   "name": "python",
   "nbconvert_exporter": "python",
   "pygments_lexer": "ipython3",
   "version": "3.8.5"
  },
  "toc": {
   "base_numbering": 1,
   "nav_menu": {},
   "number_sections": true,
   "sideBar": true,
   "skip_h1_title": false,
   "title_cell": "Table of Contents",
   "title_sidebar": "Contents",
   "toc_cell": false,
   "toc_position": {},
   "toc_section_display": true,
   "toc_window_display": true
  },
  "varInspector": {
   "cols": {
    "lenName": 16,
    "lenType": 16,
    "lenVar": 40
   },
   "kernels_config": {
    "python": {
     "delete_cmd_postfix": "",
     "delete_cmd_prefix": "del ",
     "library": "var_list.py",
     "varRefreshCmd": "print(var_dic_list())"
    },
    "r": {
     "delete_cmd_postfix": ") ",
     "delete_cmd_prefix": "rm(",
     "library": "var_list.r",
     "varRefreshCmd": "cat(var_dic_list()) "
    }
   },
   "types_to_exclude": [
    "module",
    "function",
    "builtin_function_or_method",
    "instance",
    "_Feature"
   ],
   "window_display": false
  }
 },
 "nbformat": 4,
 "nbformat_minor": 4
}
