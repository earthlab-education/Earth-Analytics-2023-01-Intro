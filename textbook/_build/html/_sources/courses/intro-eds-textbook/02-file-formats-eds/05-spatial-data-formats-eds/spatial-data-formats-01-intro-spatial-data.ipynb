{
 "cells": [
  {
   "cell_type": "raw",
   "metadata": {},
   "source": [
    "---\n",
    "layout: single\n",
    "title: 'Spatial Data Formats for Earth Data Science'\n",
    "excerpt: \"Two of the major spatial data formats used in earth data science are vector and raster data. Learn about these two common spatial data formats for earth data science workflows in this chapter.\"\n",
    "authors: ['Leah Wasser', 'Nathan Korinek']\n",
    "category: [courses]\n",
    "class-lesson: ['spatial-data-formats']\n",
    "permalink: /courses/intro-to-earth-data-science/file-formats/use-spatial-data/\n",
    "nav-title: \"Intro to Spatial Data Formats\"\n",
    "dateCreated: 2019-08-29\n",
    "modified: '{:%Y-%m-%d}'.format(datetime.now())\n",
    "module-title: 'Spatial Data Formats for Earth Data Science'\n",
    "module-nav-title: 'Spatial Data Formats'\n",
    "module-description: 'There are two primary spatial data formats that are useful for earth data science, vector and raster. Learn about these two common spatial data formats for earth data science workflows.'\n",
    "module-type: 'class'\n",
    "chapter: 5\n",
    "class-order: 2\n",
    "course: \"intro-to-earth-data-science-textbook\"\n",
    "week: 2\n",
    "sidebar:\n",
    "  nav:\n",
    "author_profile: false\n",
    "comments: true\n",
    "order: 1\n",
    "topics:\n",
    "  spatial-data-and-gis: ['raster-data', 'vector-data']\n",
    "---\n"
   ]
  },
  {
   "cell_type": "markdown",
   "metadata": {},
   "source": [
    "{% include toc title=\"In This Chapter\" icon=\"file-text\" %}\n",
    "\n",
    "<div class='notice--success' markdown=\"1\">\n",
    "\n",
    "## <i class=\"fa fa-ship\" aria-hidden=\"true\"></i> Chapter Five - Spatial Data Formats for Earth Data Science\n",
    "\n",
    "In this chapter, you will learn about the two primary spatial data formats that are useful for earth data science, vector and raster. \n",
    "\n",
    "After completing this chapter, you will be able to:\n",
    "\n",
    "* Open spatial data in **Python**, including shapefiles using **Geopandas** - `gpd.read_file()` and raster data using **Rasterio** in **Python**.\n",
    "* Plot spatial data in **Python**, including shapfiles using **Geopandas** - `gpd.plot()`and raster data using **EarthPy**.\n",
    "* Describe the characteristics of 3 key vector data structures: points, lines and polygons.\n",
    "\n",
    "\n",
    "## <i class=\"fa fa-check-square-o fa-2\" aria-hidden=\"true\"></i> What You Need\n",
    "\n",
    "Be sure that you have completed the previous chapter on <a href=\"{{ site.url }}/courses/intro-to-earth-data-science/file-formats/use-text-files/\">text file formats</a>.\n",
    "\n",
    "</div>"
   ]
  },
  {
   "cell_type": "code",
   "execution_count": null,
   "metadata": {},
   "outputs": [],
   "source": []
  }
 ],
 "metadata": {
  "celltoolbar": "Tags",
  "kernelspec": {
   "display_name": "Python 3",
   "language": "python",
   "name": "python3"
  },
  "language_info": {
   "codemirror_mode": {
    "name": "ipython",
    "version": 3
   },
   "file_extension": ".py",
   "mimetype": "text/x-python",
   "name": "python",
   "nbconvert_exporter": "python",
   "pygments_lexer": "ipython3",
   "version": "3.8.5"
  },
  "toc": {
   "base_numbering": 1,
   "nav_menu": {},
   "number_sections": true,
   "sideBar": true,
   "skip_h1_title": false,
   "title_cell": "Table of Contents",
   "title_sidebar": "Contents",
   "toc_cell": false,
   "toc_position": {},
   "toc_section_display": true,
   "toc_window_display": false
  },
  "varInspector": {
   "cols": {
    "lenName": 16,
    "lenType": 16,
    "lenVar": 40
   },
   "kernels_config": {
    "python": {
     "delete_cmd_postfix": "",
     "delete_cmd_prefix": "del ",
     "library": "var_list.py",
     "varRefreshCmd": "print(var_dic_list())"
    },
    "r": {
     "delete_cmd_postfix": ") ",
     "delete_cmd_prefix": "rm(",
     "library": "var_list.r",
     "varRefreshCmd": "cat(var_dic_list()) "
    }
   },
   "types_to_exclude": [
    "module",
    "function",
    "builtin_function_or_method",
    "instance",
    "_Feature"
   ],
   "window_display": false
  }
 },
 "nbformat": 4,
 "nbformat_minor": 2
}
