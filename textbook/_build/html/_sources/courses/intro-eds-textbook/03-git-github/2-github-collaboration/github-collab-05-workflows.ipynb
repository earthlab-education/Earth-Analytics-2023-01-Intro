{
 "cells": [
  {
   "cell_type": "raw",
   "metadata": {},
   "source": [
    "---\n",
    "layout: single\n",
    "title: 'An Example of a Github Collaborative Workflow for Team Science'\n",
    "excerpt: \"GitHub.com can be used to store and access files in the cloud using GitHub repositories. Learn how to submit pull requests on GitHub.com to suggest changes to a GitHub repository.\"\n",
    "authors: ['Leah Wasser', 'Jenny Palomino', 'Max Joseph']\n",
    "category: [courses]\n",
    "class-lesson: ['git-github-collaboration-tb']\n",
    "permalink: /courses/intro-to-earth-data-science/git-github/github-collaboration/github-for-collaboration-open-science-workflow/\n",
    "nav-title: \"GitHub Collaborative Workflow\"\n",
    "dateCreated: 2019-10-02\n",
    "modified: '{:%Y-%m-%d}'.format(datetime.now())\n",
    "module-type: 'class'\n",
    "course: \"intro-to-earth-data-science-textbook\"\n",
    "week: 3\n",
    "sidebar:\n",
    "  nav:\n",
    "author_profile: false\n",
    "comments: true\n",
    "order: 5\n",
    "topics:\n",
    "  reproducible-science-and-programming: ['git']\n",
    "redirect_from:\n",
    "  - \"/courses/earth-analytics-bootcamp/git-github-version-control/guided-activity-pull-request/\"\n",
    "---"
   ]
  },
  {
   "cell_type": "markdown",
   "metadata": {
    "lines_to_next_cell": 0
   },
   "source": [
    "{% include toc title=\"On This Page\" icon=\"file-text\" %}\n",
    "\n",
    "<div class='notice--success' markdown=\"1\">\n",
    "\n",
    "## <i class=\"fa fa-graduation-cap\" aria-hidden=\"true\"></i> Learning Objectives\n",
    "\n",
    "After completing this page, you will be able to:\n",
    "\n",
    "* Describe a typical workflow associated with collaborating with group using GitHub.com\n",
    "* Describe how issues and pull requests are used together to collaboratively manage tasks.\n",
    "\n",
    "</div>\n",
    "\n",
    "In the last lessons you have learned about:\n",
    "\n",
    "* GitHub issues as they are used to track and discussion changes to code in a GitHub repo\n",
    "* GitHub pull requests as they are used to submit changes to a repo that have been discussed in an issue\n",
    "* GitHub mentions to notify collaborators who you want to review an issue or pull request\n",
    "\n",
    "In this lesson, you will see the bigger picture of what a typical GitHub collaborative \n",
    "workflow looks like. The workflow presented below is a typical Open Source \n",
    "Software workflow that can and has been successfully applied to large scientific \n",
    "collaborations on GitHub.com. \n",
    "\n",
    "## An Example Workflow \n",
    "\n",
    "In the scenario laid out below, you are collaborating with 5 other colleagues\n",
    "who live in different parts of the country or world on a code base to process\n",
    "some spatial data. The code base lives in a repo on GitHub.com. You do not own \n",
    "the main repo so you will be working off of a fork of the main repo.\n",
    "\n",
    "The main repository is called:\n",
    "\n",
    "`https://github.com/main-repo/spatial-data-project`\n",
    "\n",
    "To begin, you look at the code and try it out for the project. You realize that \n",
    "there is a bug in the code where the output data that it processed isn't in the correct format. You know how to fix this issue but want the OK from your collaborators\n",
    "before you submit any change. \n",
    "\n",
    "* Step 1. You <a href=\"https://www.earthdatascience.org/courses/intro-to-earth-data-science/git-github/github-collaboration/github-issues-to-document-and-manage-repo-changes/\">submit an ISSUE to the repo</a> that states the problem and how you proposed to fix it. You also MENTION two collaborators who will likely have feedback on your proposed change. \n",
    "\n",
    "<i class=\"fa fa-star\"></i> **Data Tip:** even if you didn't know how to fix the issue you could still submit and issue about the problem to simply notify your collaborators that this was a problem. \n",
    "{: .notice--success}\n",
    "\n",
    "After you submit your issue, two of your collaborators respond. Both agree that this is a problem and one suggests a way that you could approach making the fix to the code base. \n",
    "They suggest that you submit a PULL REQUEST to address the change to the code. \n",
    "\n",
    "* **Step 2. Fork and Clone:** Now that you have the OK from your collaborators to submit a change to the code, your work begins. <a href=\"{{ site.url }}/courses/intro-to-earth-data-science/git-github/version-control/fork-clone-github-repositories/\">You: FORK the repo into your account - making a copy of the repo that you own and can make changes to directly. You then CLONE the repo to your local computer so you can more easily work on the code.</a> \n",
    "\n",
    "Your forked repo url is called:\n",
    "\n",
    "`https://github.com/your-user-name/spatial-data-project`\n",
    "\n",
    "\n",
    "* **Step 3: Modify the code locally on your computer**. As you are working locally, you add and commit changes to the code. Once you are happy with your changes. You use <a href=\"{{ site.url }}/courses/intro-to-earth-data-science/git-github/version-control/git-commands/\">`git push` to push the changes back to your forked repo</a>. \n",
    "\n",
    "* **Step 4: Submit a pull request:** When you are happy with the changes you've made, you can <a href=\"{{ site.url }}/courses/intro-to-earth-data-science/git-github/github-collaboration/how-to-submit-pull-requests-on-github/\">submit a Pull Request</a> back to the main repo. IMPORTANT: in your pull request be sure to 1. mention the original issue where the changes were discussed and 2. to MENTION the collaborators who you want to review the PR. \n",
    "\n",
    "Remember that this pull request will be made to this main repo:\n",
    "\n",
    "`https://github.com/main-repo/spatial-data-project`\n",
    "\n",
    "from your forked repo\n",
    "\n",
    "`https://github.com/your-user-name/spatial-data-project`\n",
    "\n",
    "* **Step 5: Review your own pull request:** Once you have opened up your pull request, you want to closely review your own work. Make sure that the changes that you can see on Github for each file are exactly what you wish to submit to the main repo. This step is important yet often overlooked. If you see any extra files or changes that you did not intend to submit, CLEAN THOSE UP before **MENTION**ing your collaborators for a review! You don't want to waste anyones time reviewing files that are incorrect!  \n",
    "\n",
    "* **Step 6: Feedback on your PR** Your collaborators will likely have some feedback and changes that they want on your PR. They will likely leave you some line by line feedback with specific things that should be changed. At that point you will need to go back to your local clone, and make changes as they suggest.\n",
    "\n",
    "<i class=\"fa fa-star\"></i> **Data Tip:** sometimes collaborators will make suggested changes to your code directly in the Pull Request. If that happens, you may need to accept those changes and then do a **Reverse Pull Request** to update your forked repo from the main repo. \n",
    "{: .notice--success}\n",
    "\n",
    "* **Step 7: Add More Changes to your PR** After you have worked on the changes locally, you will follow the same git add, commit and push. steps that you followed to submit the original Pull Request. The big difference is that because you already have a PR open, any change that you make to your fork, will automatically be added to your open pull request! Thus, you do NOT need to submit a new pull request!\n",
    "\n",
    "Steps 6 and 7 may take a few rounds of iterations until everyone is happy with the changes. \n",
    "\n",
    "* **Step 8: Your PR is Merged into the Main Repo:** After all of your hard work, your PR is accepted and approved! The owners of the **main-repo** will merge your Pull Request into the main code base!\n",
    "\n",
    "Once your code is merged, your work is done! \n",
    "\n",
    "<i class=\"fa fa-star\"></i> **Data Tip:** When you are working collaboratively on a repo using forks, it is important to always make sure that your fork is synced with the main repository. This means that you will want to submit a reverse Pull Request to update your fork, and then pull down those changes locally using `git pull`.\n",
    "{: .notice--success}\n",
    "\n"
   ]
  }
 ],
 "metadata": {
  "celltoolbar": "Edit Metadata",
  "jupytext": {
   "formats": "ipynb,md"
  },
  "kernelspec": {
   "display_name": "Python 3",
   "language": "python",
   "name": "python3"
  },
  "language_info": {
   "codemirror_mode": {
    "name": "ipython",
    "version": 3
   },
   "file_extension": ".py",
   "mimetype": "text/x-python",
   "name": "python",
   "nbconvert_exporter": "python",
   "pygments_lexer": "ipython3",
   "version": "3.7.8"
  },
  "toc": {
   "base_numbering": 1,
   "nav_menu": {},
   "number_sections": true,
   "sideBar": true,
   "skip_h1_title": false,
   "title_cell": "Table of Contents",
   "title_sidebar": "Contents",
   "toc_cell": false,
   "toc_position": {},
   "toc_section_display": true,
   "toc_window_display": false
  },
  "varInspector": {
   "cols": {
    "lenName": 16,
    "lenType": 16,
    "lenVar": 40
   },
   "kernels_config": {
    "python": {
     "delete_cmd_postfix": "",
     "delete_cmd_prefix": "del ",
     "library": "var_list.py",
     "varRefreshCmd": "print(var_dic_list())"
    },
    "r": {
     "delete_cmd_postfix": ") ",
     "delete_cmd_prefix": "rm(",
     "library": "var_list.r",
     "varRefreshCmd": "cat(var_dic_list()) "
    }
   },
   "types_to_exclude": [
    "module",
    "function",
    "builtin_function_or_method",
    "instance",
    "_Feature"
   ],
   "window_display": false
  }
 },
 "nbformat": 4,
 "nbformat_minor": 2
}
