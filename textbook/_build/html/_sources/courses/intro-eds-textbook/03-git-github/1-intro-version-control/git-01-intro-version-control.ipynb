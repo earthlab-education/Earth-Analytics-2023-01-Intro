{
 "cells": [
  {
   "cell_type": "raw",
   "metadata": {},
   "source": [
    "---\n",
    "layout: single\n",
    "title: 'What Is Version Control'\n",
    "excerpt: \"A version control system allows you to track and manage changes to your files. Learn benefits of version control for scientific workflows and how git and GitHub.com support version control.\"\n",
    "authors: ['Max Joseph', 'Leah Wasser', 'Jenny Palomino', 'Martha Morrissey']\n",
    "category: [courses]\n",
    "class-lesson: ['version-control-git-github']\n",
    "permalink: /courses/intro-to-earth-data-science/git-github/version-control/\n",
    "nav-title: \"About Version Control\"\n",
    "dateCreated: 2019-09-06\n",
    "modified: '{:%Y-%m-%d}'.format(datetime.now())\n",
    "module-title: 'Git/GitHub For Version Control'\n",
    "module-nav-title: 'Git/GitHub For Version Control'\n",
    "module-description: 'A version control system allows you to track and manage changes to your files. Learn how to get started with version control using git and GitHub.com.'\n",
    "module-type: 'class'\n",
    "chapter: 7\n",
    "class-order: 1\n",
    "course: \"intro-to-earth-data-science-textbook\"\n",
    "week: 3\n",
    "estimated-time: \"2-3 hours\"\n",
    "difficulty: \"beginner\"\n",
    "sidebar:\n",
    "  nav:\n",
    "author_profile: false\n",
    "comments: true\n",
    "order: 1\n",
    "topics:\n",
    "  reproducible-science-and-programming: ['git']\n",
    "redirect_from:\n",
    "  - \"/courses/earth-analytics-bootcamp/git-github-version-control/intro-version-control/\"\n",
    "---\n"
   ]
  },
  {
   "cell_type": "markdown",
   "metadata": {},
   "source": [
    "{% include toc title=\"In This Chapter\" icon=\"file-text\" %}\n",
    "\n",
    "<div class='notice--success' markdown=\"1\">\n",
    "\n",
    "## <i class=\"fa fa-ship\" aria-hidden=\"true\"></i> Chapter Seven - Git/GitHub.com\n",
    "\n",
    "In this chapter, you will learn about the benefits of version control for tracking and managing changes to your files. You will also learn how to implement version control using **git** and then upload changes to the cloud version of your files on **Github.com**. \n",
    "\n",
    "After completing this chapter, you will be able to:\n",
    "\n",
    "* Define **version control**.\n",
    "* Explain why **version control** is useful in a scientific workflow.\n",
    "* Implement version control using **git**.\n",
    "\n",
    "\n",
    "## <i class=\"fa fa-check-square-o fa-2\" aria-hidden=\"true\"></i> What You Need\n",
    "\n",
    "Be sure that you have completed the instructions on <a href=\"{{ site.url }}/workshops/setup-earth-analytics-python/setup-git-bash-conda/\">Setting up Git, Bash, and Conda on your computer</a> to install the tools for your operating system (Windows, Mac, Linux). \n",
    "\n",
    "You will also need a web browser and your **GitHub.com** login (username and password).\n",
    "\n",
    "</div>\n",
    "\n",
    "The text and graphics in the first three sections were borrowed, with some modifications, from Software Carpentry’s Version Control with **git** lessons.\n",
    "\n",
    " \n",
    "## What is Version Control?\n",
    "\n",
    "A version control system maintains a record of changes to code and other content. It also allows us to revert changes to a previous point in time."
   ]
  },
  {
   "cell_type": "markdown",
   "metadata": {},
   "source": [
    "<figure>\n",
    "   <a href=\"{{ site.url }}/images/earth-analytics/git-version-control/final-doc-phd-comics.gif\">\n",
    "   <img src=\"{{ site.url }}/images/earth-analytics/git-version-control/final-doc-phd-comics.gif\" alt=\"Many of us have appended a date to a file name as a method of version control at some point in our lives. Source: Piled Higher and Deeper by Jorge Cham www.phdcomics.com.\"></a>\n",
    "   <figcaption> Many of us have used the \"append a date\" to a file name version of version control at some point in our lives. Source: \"Piled Higher and Deeper\" by <a href=\"http://phdcomics.com/comics/archive/phd101212s.gif\">Jorge Cham on www.phdcomics.com</a>.\n",
    "   </figcaption>\n",
    "</figure>"
   ]
  },
  {
   "cell_type": "markdown",
   "metadata": {},
   "source": [
    "## Types of Version control\n",
    "\n",
    "There are many forms of version control. Some not as good:\n",
    "\n",
    "* Save a document with a new date or name (we’ve all done it, but it isn’t efficient and easy to lose track of the latest file).\n",
    "* Google Docs “history” function (not bad for some documents, but limited in scope).\n",
    "\n",
    "Some better:\n",
    "\n",
    "* Version control tools like Git, Mercurial, or Subversion.\n",
    "\n",
    "## Why Version Control is Important\n",
    "\n",
    "Version control facilitates two important aspects of many scientific workflows:\n",
    "\n",
    "1. The ability to save and review or revert to previous versions.\n",
    "2. The ability to collaborate on a single project.\n",
    "\n",
    "This means that you don’t have to worry about a collaborator (or your future self) overwriting something important. It also allows two people working on the same document to efficiently combine ideas and changes.\n",
    "\n",
    "\n",
    "<div class=\"notice--success\" markdown=\"1\">\n",
    "\n",
    "<i class=\"fa fa-star\"></i>**Thought Questions**: Think of a specific time when you weren’t using version control that it would have been useful.\n",
    "\n",
    "1. Why would version control have been helpful to your project and workflow?\n",
    "2. What were the consequences of not having a version control system in place?\n",
    "\n",
    "</div>\n",
    "\n",
    "\n",
    "## How Version Control Systems Works\n",
    "\n",
    "### Simple Version Control Model\n",
    "\n",
    "A version control system tracks what has changed in one or more files over \n",
    "time. Version control systems begin with a base version of a document. Then, \n",
    "they save the committed changes that you make. \n",
    "\n",
    "You can think of version control as a tape: if you rewind the tape and \n",
    "start at the base document, then you can play back each change and end \n",
    "up with your latest version."
   ]
  },
  {
   "cell_type": "markdown",
   "metadata": {},
   "source": [
    "<figure>\n",
    "   <a href=\"{{ site.url }}/images/earth-analytics/git-version-control/git-play-changes.png\">\n",
    "   <img src=\"{{ site.url }}/images/earth-analytics/git-version-control/git-play-changes.png\" alt=\"A version control system saves changes to a document, sequentially as you add and commit them to the system. Source: Software Carpentry.\"></a>\n",
    "   <figcaption> A version control system saves changes to a document, sequentially as you add and commit them to the system. <a href=\"http://swcarpentry.github.io/git-novice/fig/play-changes.svg\">Source: Software Carpentry</a>.\n",
    "   </figcaption>\n",
    "</figure>"
   ]
  },
  {
   "cell_type": "markdown",
   "metadata": {},
   "source": [
    "Once you think of changes as separate from the document itself, you can then think about “playing back” different sets of changes onto the base document. You can then retrieve, or revert to, different versions of the document.\n",
    "\n",
    "Collaboration with version control allows users to make independent changes to the same document."
   ]
  },
  {
   "cell_type": "markdown",
   "metadata": {},
   "source": [
    "<figure>\n",
    "   <a href=\"{{ site.url }}/images/earth-analytics/git-version-control/git-versions.png\">\n",
    "   <img src=\"{{ site.url }}/images/earth-analytics/git-version-control/git-versions.png\" alt=\"Different versions of the same document can be saved within a version control system. Source: Software Carpentry.\"></a>\n",
    "   <figcaption> Different versions of the same document can be saved within a version control system. <a href=\"http://swcarpentry.github.io/git-novice/fig/versions.svg\">Source: Software Carpentry</a>.\n",
    "   </figcaption>\n",
    "</figure>"
   ]
  },
  {
   "cell_type": "markdown",
   "metadata": {},
   "source": [
    "If there aren’t conflicts between the users’ changes (a conflict is an area where both users modified the same part of the same document in different ways), you can review two sets of changes on the same base document. If there are conflicts, they can be resolved by choosing which change you want to keep."
   ]
  },
  {
   "cell_type": "markdown",
   "metadata": {},
   "source": [
    "<figure>\n",
    "   <a href=\"{{ site.url }}/images/earth-analytics/git-version-control/git-merge.png\">\n",
    "   <img src=\"{{ site.url }}/images/earth-analytics/git-version-control/git-merge.png\" alt=\"Two sets of changes to the same base document can be merged together within a version control system if there are no conflicts (areas where both users modified the same part of the same document in different ways). If there are conflicts, they can resolved by choosing which change you want to keep. After conflicts are resolved, all other changes submitted by both users can then be merged together. Source: Software Carpentry.\"></a>\n",
    "   <figcaption> Two sets of changes to the same base document can be merged together within a version control system if there are no conflicts (areas where both users modified the same part of the same document in different ways). If there are conflicts, they can resolved by choosing which change you want to keep. After conflicts are resolved, all other changes submitted by both users can then be merged together. <a href=\"http://swcarpentry.github.io/git-novice/fig/merge.svg\">Source: Software Carpentry</a>.\n",
    "   </figcaption>\n",
    "</figure>"
   ]
  },
  {
   "cell_type": "markdown",
   "metadata": {},
   "source": [
    "A version control system is a tool that keeps track of all of these changes for us. \n",
    "Each version of a file can be viewed and reverted to at any time. That way if you \n",
    "add something that you end up not liking or delete something that you need, you can \n",
    "simply go back to a previous version. \n",
    "\n",
    "\n",
    "### Git and GitHub - A Distributed Version Control Model\n",
    "\n",
    "**Git** uses a distributed version control model. This means that there can be \n",
    "many copies (or forks/branches in **GitHub** world) of the repository. When \n",
    "working locally, **git** is the program that you will use to keep track of \n",
    "changes to your repository. \n",
    "\n",
    "**GitHub.com** is a location on the internet (a cloud web server) that acts as a remote location for your repository. **GitHub** provides a backup of your work that can be retrieved if your local copy is lost (e.g. if your computer falls off a pier). **GitHub** also allows you to share your work and collaborate with others on projects."
   ]
  },
  {
   "cell_type": "markdown",
   "metadata": {},
   "source": [
    "<figure>\n",
    "   <a href=\"{{ site.url }}/images/earth-analytics/git-version-control/git-distributed-version-control-model.png\">\n",
    "   <img src=\"{{ site.url }}/images/earth-analytics/git-version-control/git-distributed-version-control-model.png\" alt=\"One advantage of a distributed version control system is that there are many copies of the repository. Thus, if any one server or computer dies, any of the client repositories can be copied and used to restore the data! Source: Pro Git by Scott Chacon & Ben Straub. \"></a>\n",
    "   <figcaption> One advantage of a distributed version control system is that there are many copies of the repository. Thus, if any one server or computer dies, any of the client repositories can be copied and used to restore the data! <a href=\"https://git-scm.com/book/en/v2/book/01-introduction/images/distributed.png\">Source: Pro Git by Scott Chacon and Ben Straub</a>.\n",
    "    </figcaption>\n",
    "</figure>    "
   ]
  },
  {
   "cell_type": "markdown",
   "metadata": {},
   "source": [
    "## How Git and GitHub Support Version Control\n",
    "\n",
    "Due to the functionality that each tool provides, you can use **git** and **GitHub** together in the same workflow to:\n",
    "* keep track of changes to your code locally using **git**.\n",
    "* synchronizing code between different versions (i.e. either your own versions or others' versions).\n",
    "* test changes to code without losing the original.\n",
    "* revert back to older version of code, if needed.\n",
    "* back-up your files on the cloud (**GitHub.com**).\n",
    "* share your files on **GitHub.com** and collaborate with others.\n",
    "\n",
    "Throughout this textbook, you will learn more about the functionality of **git** and **GitHub** for version control and collaboration to support open reproducible science.  \n"
   ]
  }
 ],
 "metadata": {
  "celltoolbar": "Edit Metadata",
  "kernelspec": {
   "display_name": "Python 3",
   "language": "python",
   "name": "python3"
  },
  "language_info": {
   "codemirror_mode": {
    "name": "ipython",
    "version": 3
   },
   "file_extension": ".py",
   "mimetype": "text/x-python",
   "name": "python",
   "nbconvert_exporter": "python",
   "pygments_lexer": "ipython3",
   "version": "3.8.6"
  },
  "toc": {
   "base_numbering": 1,
   "nav_menu": {},
   "number_sections": true,
   "sideBar": true,
   "skip_h1_title": false,
   "title_cell": "Table of Contents",
   "title_sidebar": "Contents",
   "toc_cell": false,
   "toc_position": {},
   "toc_section_display": true,
   "toc_window_display": false
  },
  "varInspector": {
   "cols": {
    "lenName": 16,
    "lenType": 16,
    "lenVar": 40
   },
   "kernels_config": {
    "python": {
     "delete_cmd_postfix": "",
     "delete_cmd_prefix": "del ",
     "library": "var_list.py",
     "varRefreshCmd": "print(var_dic_list())"
    },
    "r": {
     "delete_cmd_postfix": ") ",
     "delete_cmd_prefix": "rm(",
     "library": "var_list.r",
     "varRefreshCmd": "cat(var_dic_list()) "
    }
   },
   "types_to_exclude": [
    "module",
    "function",
    "builtin_function_or_method",
    "instance",
    "_Feature"
   ],
   "window_display": false
  }
 },
 "nbformat": 4,
 "nbformat_minor": 2
}
