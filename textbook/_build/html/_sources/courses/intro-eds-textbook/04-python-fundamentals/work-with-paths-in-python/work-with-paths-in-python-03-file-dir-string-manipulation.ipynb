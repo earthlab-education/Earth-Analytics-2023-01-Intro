{
 "cells": [
  {
   "cell_type": "raw",
   "metadata": {},
   "source": [
    "---\n",
    "layout: single\n",
    "title: 'Use the OS and Glob Python Packages to Manipulate File Paths'\n",
    "excerpt: \"The os and glob packages are very useful tools in Python for accessing files and directories and for creating lists of paths to files and directories, respectively. Learn how to manipulate and parse file and directory paths using os and glob.\"\n",
    "authors: ['Nathan Korinek', 'Jenny Palomino', 'Leah Wasser']\n",
    "dateCreated: 2020-02-24\n",
    "modified: '{:%Y-%m-%d}'.format(datetime.now())\n",
    "category: [courses]\n",
    "class-lesson: ['work-with-files-directories-in-python']\n",
    "permalink: /courses/intro-to-earth-data-science/python-code-fundamentals/work-with-files-directories-paths-in-python/os-glob-manipulate-file-paths/\n",
    "nav-title: \"Manipulate File and Directory Paths\"\n",
    "course: \"intro-to-earth-data-science-textbook\"\n",
    "week: 4\n",
    "sidebar:\n",
    "  nav:\n",
    "author_profile: false\n",
    "comments: true\n",
    "order: 3\n",
    "topics:\n",
    "  reproducible-science-and-programming: ['python']\n",
    "redirect_from:\n",
    "  - \"/courses/earth-analytics-python/create-efficient-data-workflows/manipulate-files-directories-and-strings/\"  \n",
    "---\n"
   ]
  },
  {
   "cell_type": "markdown",
   "metadata": {},
   "source": [
    "{% include toc title=\"On This Page\" icon=\"file-text\" %}\n",
    "\n",
    "<div class='notice--success' markdown=\"1\">\n",
    "\n",
    "## <i class=\"fa fa-graduation-cap\" aria-hidden=\"true\"></i> Learning Objectives\n",
    "\n",
    "* Use **earthpy** to download files from a URL (internet address).\n",
    "* Use **glob** to get customized lists of files or directories.\n",
    "* Use various functions in the **os** package to manipulate file paths. \n",
    "\n",
    "</div>\n",
    "\n",
    "For many data projects, it can be helpful to manipulate and parse file and directory paths, especially when you want to programmatically access data files and automate workflows. \n",
    "\n",
    "To start working with file and directory paths in **Python**, you first need some files! On this page, you will first learn how to use the **earthpy** package to download files from a URL (internet address). \n",
    "\n",
    "Then, you will use the **os** and **glob** packages to access files and directories and to create lists of paths that you can parse to extract useful information from the file and directory names.\n",
    "\n",
    "\n",
    "## Download Files Using EarthPy\n",
    "\n",
    "You can use the function `data.get_data()` from the **earthpy** package to download data from online sources such as the **Figshare.com** data repository. \n",
    "\n",
    "Begin by importing the necessary packages: **os**, **glob**, and **earthpy** (using the alias `et`).  "
   ]
  },
  {
   "cell_type": "code",
   "execution_count": 1,
   "metadata": {},
   "outputs": [],
   "source": [
    "# Import necessary packages\n",
    "import os\n",
    "from glob import glob\n",
    "\n",
    "import earthpy as et"
   ]
  },
  {
   "cell_type": "markdown",
   "metadata": {},
   "source": [
    "To use the function `et.data.get_data()`, you can provide a parameter value for the `url`, which you define by providing a text string of the URL (internet address) for the dataset."
   ]
  },
  {
   "cell_type": "code",
   "execution_count": 2,
   "metadata": {},
   "outputs": [
    {
     "data": {
      "text/plain": [
       "'/home/jpalomino/earth-analytics/data/earthpy-downloads/avg-monthly-temp-fahr'"
      ]
     },
     "execution_count": 2,
     "metadata": {},
     "output_type": "execute_result"
    }
   ],
   "source": [
    "# Download data on average monthly temp for two California sites\n",
    "file_url = \"https://ndownloader.figshare.com/files/21894528\"\n",
    "et.data.get_data(url = file_url)"
   ]
  },
  {
   "cell_type": "markdown",
   "metadata": {},
   "source": [
    "By default, `et.data.get_data()` will download files to `earth-analytics/data/earthpy-downloads` under your home directory, and it will create the necessary directories if they do not already exist. \n",
    "\n",
    "With this information, you can set the working directory to your `earth-analytics` directory and then create a relative path to the downloaded data directory. "
   ]
  },
  {
   "cell_type": "code",
   "execution_count": 3,
   "metadata": {},
   "outputs": [],
   "source": [
    "# Set working directory to earth-analytics\n",
    "os.chdir(os.path.join(et.io.HOME, \"earth-analytics\"))\n",
    "\n",
    "# Create a path to the data folder\n",
    "data_folder = os.path.join(\"data\", \"earthpy-downloads\", \n",
    "                           \"avg-monthly-temp-fahr\")"
   ]
  },
  {
   "cell_type": "markdown",
   "metadata": {},
   "source": [
    "## Glob in Python\n",
    "\n",
    "**glob** is a powerful tool in Python to help with file management and filtering. While **os** helps manage and create specific paths that are friendly to whatever machine they are used on, **glob** helps to filter through large datasets and pull out only files that are of interest. \n",
    "\n",
    "The `glob()` function uses the rules of Unix shell to help users organize their files. Unix shell follows fairly straight-forward rules to search for items, which you will explore below."
   ]
  },
  {
   "cell_type": "markdown",
   "metadata": {},
   "source": [
    "### Search for a Specific Folder or File\n",
    "\n",
    "The `glob` function can be used to find just one folder or file. This can be done by just giving `glob` the path of the item you are trying to find. "
   ]
  },
  {
   "cell_type": "code",
   "execution_count": 4,
   "metadata": {},
   "outputs": [
    {
     "data": {
      "text/plain": [
       "['data/earthpy-downloads/avg-monthly-temp-fahr']"
      ]
     },
     "execution_count": 4,
     "metadata": {},
     "output_type": "execute_result"
    }
   ],
   "source": [
    "# Get a specific directory\n",
    "file_list = glob(data_folder)\n",
    "\n",
    "file_list"
   ]
  },
  {
   "cell_type": "markdown",
   "metadata": {},
   "source": [
    "This is not very useful, as you already have the data path if you are using it to search for something. \n",
    "\n",
    "Notice, however, that `glob` returns a list of all items that match your search, not as individual strings."
   ]
  },
  {
   "cell_type": "code",
   "execution_count": 5,
   "metadata": {},
   "outputs": [
    {
     "data": {
      "text/plain": [
       "list"
      ]
     },
     "execution_count": 5,
     "metadata": {},
     "output_type": "execute_result"
    }
   ],
   "source": [
    "type(file_list)"
   ]
  },
  {
   "cell_type": "markdown",
   "metadata": {},
   "source": [
    "You can also use the `glob()` function in combination with the `os.path.join()` function to create lists of paths that are built programmatically. "
   ]
  },
  {
   "cell_type": "code",
   "execution_count": 6,
   "metadata": {},
   "outputs": [
    {
     "data": {
      "text/plain": [
       "['data/earthpy-downloads/avg-monthly-temp-fahr/San-Diego/San-Diego-1999-temp.csv']"
      ]
     },
     "execution_count": 6,
     "metadata": {},
     "output_type": "execute_result"
    }
   ],
   "source": [
    "# Create a list containing a specific file name\n",
    "glob(os.path.join(data_folder, 'San-Diego', 'San-Diego-1999-temp.csv'))"
   ]
  },
  {
   "cell_type": "markdown",
   "metadata": {},
   "source": [
    "### `*` Operator\n",
    "\n",
    "`glob` uses different operators to broaden its searching abilities. The primary operator is `*`. \n",
    "\n",
    "The `*` is a sort of wildcard that can be used to search for items that have differences in their names. Whatever text doesn't match can be replaced by a `*`. \n",
    "\n",
    "For example, if you want every file in a directory to be returned to you, you can put a `*` at the end of a directory path.  \n",
    "\n",
    "`glob` will return a list of all of the files in that directory.  "
   ]
  },
  {
   "cell_type": "code",
   "execution_count": 7,
   "metadata": {},
   "outputs": [
    {
     "data": {
      "text/plain": [
       "['data/earthpy-downloads/avg-monthly-temp-fahr/San-Diego',\n",
       " 'data/earthpy-downloads/avg-monthly-temp-fahr/Sonoma']"
      ]
     },
     "execution_count": 7,
     "metadata": {},
     "output_type": "execute_result"
    }
   ],
   "source": [
    "# Get list of all files/dirs in data folder\n",
    "glob(os.path.join(data_folder, '*'))"
   ]
  },
  {
   "cell_type": "code",
   "execution_count": 8,
   "metadata": {},
   "outputs": [
    {
     "data": {
      "text/plain": [
       "['data/earthpy-downloads/avg-monthly-temp-fahr/San-Diego/San-Diego-1999-temp.csv',\n",
       " 'data/earthpy-downloads/avg-monthly-temp-fahr/San-Diego/San-Diego-2000-temp.csv',\n",
       " 'data/earthpy-downloads/avg-monthly-temp-fahr/San-Diego/San-Diego-2001-temp.csv',\n",
       " 'data/earthpy-downloads/avg-monthly-temp-fahr/San-Diego/San-Diego-2003-temp.csv',\n",
       " 'data/earthpy-downloads/avg-monthly-temp-fahr/San-Diego/San-Diego-2002-temp.csv']"
      ]
     },
     "execution_count": 8,
     "metadata": {},
     "output_type": "execute_result"
    }
   ],
   "source": [
    "# Get list of all files/dirs in San-Diego folder\n",
    "glob(os.path.join(data_folder, 'San-Diego', '*'))"
   ]
  },
  {
   "cell_type": "markdown",
   "metadata": {},
   "source": [
    "If you only want `.csv` files, than `*.csv` will return every file that ends with `.csv`. "
   ]
  },
  {
   "cell_type": "code",
   "execution_count": 9,
   "metadata": {},
   "outputs": [
    {
     "data": {
      "text/plain": [
       "['data/earthpy-downloads/avg-monthly-temp-fahr/San-Diego/San-Diego-1999-temp.csv',\n",
       " 'data/earthpy-downloads/avg-monthly-temp-fahr/San-Diego/San-Diego-2000-temp.csv',\n",
       " 'data/earthpy-downloads/avg-monthly-temp-fahr/San-Diego/San-Diego-2001-temp.csv',\n",
       " 'data/earthpy-downloads/avg-monthly-temp-fahr/San-Diego/San-Diego-2003-temp.csv',\n",
       " 'data/earthpy-downloads/avg-monthly-temp-fahr/San-Diego/San-Diego-2002-temp.csv']"
      ]
     },
     "execution_count": 9,
     "metadata": {},
     "output_type": "execute_result"
    }
   ],
   "source": [
    "# Get only csv files\n",
    "glob(os.path.join(data_folder, 'San-Diego', '*.csv'))"
   ]
  },
  {
   "cell_type": "markdown",
   "metadata": {},
   "source": [
    "If you only want `.csv` files with the number `2` somewhere in the file name, than `*2*.csv` will return that list. "
   ]
  },
  {
   "cell_type": "code",
   "execution_count": 10,
   "metadata": {},
   "outputs": [
    {
     "data": {
      "text/plain": [
       "['data/earthpy-downloads/avg-monthly-temp-fahr/San-Diego/San-Diego-2000-temp.csv',\n",
       " 'data/earthpy-downloads/avg-monthly-temp-fahr/San-Diego/San-Diego-2001-temp.csv',\n",
       " 'data/earthpy-downloads/avg-monthly-temp-fahr/San-Diego/San-Diego-2003-temp.csv',\n",
       " 'data/earthpy-downloads/avg-monthly-temp-fahr/San-Diego/San-Diego-2002-temp.csv']"
      ]
     },
     "execution_count": 10,
     "metadata": {},
     "output_type": "execute_result"
    }
   ],
   "source": [
    "# Use multiple wildcards\n",
    "glob(os.path.join(data_folder, 'San-Diego', '*2*.csv'))"
   ]
  },
  {
   "cell_type": "markdown",
   "metadata": {},
   "source": [
    "Note that `2*.csv` would only return files that **start** with the number `2`. "
   ]
  },
  {
   "cell_type": "code",
   "execution_count": 11,
   "metadata": {},
   "outputs": [
    {
     "data": {
      "text/plain": [
       "[]"
      ]
     },
     "execution_count": 11,
     "metadata": {},
     "output_type": "execute_result"
    }
   ],
   "source": [
    "# Create empty list (no file names begin with 2)\n",
    "glob(os.path.join(data_folder, 'San-Diego', '2*.csv'))"
   ]
  },
  {
   "cell_type": "markdown",
   "metadata": {},
   "source": [
    "The additional asterix in front of `2` (e.g. `*2*.csv`) allows the `2` to be anywhere in the path. \n",
    "\n",
    "The `*` is meant to replace all text that does not matter to your search. "
   ]
  },
  {
   "cell_type": "markdown",
   "metadata": {},
   "source": [
    "### Recursive Searches\n",
    "\n",
    "If you are trying to operate on files across multiple directories, you can use multiple `*` in a file path to indicate that you want every file in all folders in a directory. \n",
    "\n",
    "The first `*` is to access all directories in the starting directory (e.g. `data_folder`). \n",
    "\n",
    "This followed by the second `*` operator, which loops through all subdirectories to make a list of all their contents."
   ]
  },
  {
   "cell_type": "code",
   "execution_count": 12,
   "metadata": {},
   "outputs": [
    {
     "data": {
      "text/plain": [
       "['data/earthpy-downloads/avg-monthly-temp-fahr/San-Diego/San-Diego-1999-temp.csv',\n",
       " 'data/earthpy-downloads/avg-monthly-temp-fahr/San-Diego/San-Diego-2000-temp.csv',\n",
       " 'data/earthpy-downloads/avg-monthly-temp-fahr/San-Diego/San-Diego-2001-temp.csv',\n",
       " 'data/earthpy-downloads/avg-monthly-temp-fahr/San-Diego/San-Diego-2003-temp.csv',\n",
       " 'data/earthpy-downloads/avg-monthly-temp-fahr/San-Diego/San-Diego-2002-temp.csv',\n",
       " 'data/earthpy-downloads/avg-monthly-temp-fahr/Sonoma/Sonoma-2001-temp.csv',\n",
       " 'data/earthpy-downloads/avg-monthly-temp-fahr/Sonoma/Sonoma-2003-temp.csv',\n",
       " 'data/earthpy-downloads/avg-monthly-temp-fahr/Sonoma/Sonoma-1999-temp.csv',\n",
       " 'data/earthpy-downloads/avg-monthly-temp-fahr/Sonoma/Sonoma-2002-temp.csv',\n",
       " 'data/earthpy-downloads/avg-monthly-temp-fahr/Sonoma/Sonoma-2000-temp.csv']"
      ]
     },
     "execution_count": 12,
     "metadata": {},
     "output_type": "execute_result"
    }
   ],
   "source": [
    "# Search recursively through both site folders\n",
    "glob(os.path.join(data_folder, '*', '*'))"
   ]
  },
  {
   "cell_type": "markdown",
   "metadata": {},
   "source": [
    "### Sorting `glob` Lists\n",
    "\n",
    "Notice that the lists provided by `glob` are not sorted. "
   ]
  },
  {
   "cell_type": "code",
   "execution_count": 13,
   "metadata": {},
   "outputs": [
    {
     "data": {
      "text/plain": [
       "['data/earthpy-downloads/avg-monthly-temp-fahr/Sonoma/Sonoma-2001-temp.csv',\n",
       " 'data/earthpy-downloads/avg-monthly-temp-fahr/Sonoma/Sonoma-2003-temp.csv',\n",
       " 'data/earthpy-downloads/avg-monthly-temp-fahr/Sonoma/Sonoma-1999-temp.csv',\n",
       " 'data/earthpy-downloads/avg-monthly-temp-fahr/Sonoma/Sonoma-2002-temp.csv',\n",
       " 'data/earthpy-downloads/avg-monthly-temp-fahr/Sonoma/Sonoma-2000-temp.csv']"
      ]
     },
     "execution_count": 13,
     "metadata": {},
     "output_type": "execute_result"
    }
   ],
   "source": [
    "# Get list of CSVs in Sonoma directory\n",
    "sonoma_files = glob(os.path.join(data_folder, 'Sonoma', '*.csv'))\n",
    "sonoma_files"
   ]
  },
  {
   "cell_type": "markdown",
   "metadata": {},
   "source": [
    "If it's important for a list to be in a certain order, then always make sure to sort the list returned by `glob` using the `.sort()` method for lists."
   ]
  },
  {
   "cell_type": "code",
   "execution_count": 14,
   "metadata": {},
   "outputs": [],
   "source": [
    "# Sort glob list\n",
    "sonoma_files.sort()"
   ]
  },
  {
   "cell_type": "code",
   "execution_count": 15,
   "metadata": {},
   "outputs": [
    {
     "data": {
      "text/plain": [
       "['data/earthpy-downloads/avg-monthly-temp-fahr/Sonoma/Sonoma-1999-temp.csv',\n",
       " 'data/earthpy-downloads/avg-monthly-temp-fahr/Sonoma/Sonoma-2000-temp.csv',\n",
       " 'data/earthpy-downloads/avg-monthly-temp-fahr/Sonoma/Sonoma-2001-temp.csv',\n",
       " 'data/earthpy-downloads/avg-monthly-temp-fahr/Sonoma/Sonoma-2002-temp.csv',\n",
       " 'data/earthpy-downloads/avg-monthly-temp-fahr/Sonoma/Sonoma-2003-temp.csv']"
      ]
     },
     "execution_count": 15,
     "metadata": {},
     "output_type": "execute_result"
    }
   ],
   "source": [
    "# Another option for sorting lists\n",
    "sonoma_files = sorted(glob(os.path.join(data_folder, 'Sonoma', '*.csv')))\n",
    "sonoma_files"
   ]
  },
  {
   "cell_type": "markdown",
   "metadata": {},
   "source": [
    "Note that sorting can sometimes work differently than you may think, so check your sorted list before you move on with your project.  \n",
    "\n",
    "For example, if two items have identical path names, but one ends in `10` and the other ends in `1`, sometimes the file ending in `10` will be put above the file ending in `1`. Always double check!"
   ]
  },
  {
   "cell_type": "markdown",
   "metadata": {},
   "source": [
    "### Why Sort `glob` Lists?\n",
    "\n",
    "The order in which `glob` returns files from a folder can vary drastically.  Depending on the operating system being used, or the way the files are stored, different people may get results from a `glob` list in different orders. \n",
    "\n",
    "This can lead to data errors when running projects across computers. \n",
    "\n",
    "For example, consider how sorting a `glob` list changes what files you access when getting an index from the list, such as index `[4]` to access the 5th item in the list.  "
   ]
  },
  {
   "cell_type": "code",
   "execution_count": 16,
   "metadata": {},
   "outputs": [
    {
     "name": "stdout",
     "output_type": "stream",
     "text": [
      "data/earthpy-downloads/avg-monthly-temp-fahr/Sonoma/Sonoma-2000-temp.csv\n"
     ]
    }
   ],
   "source": [
    "unsorted_sonoma = glob(os.path.join(data_folder, 'Sonoma', '*'))\n",
    "print(unsorted_sonoma[4])"
   ]
  },
  {
   "cell_type": "code",
   "execution_count": 17,
   "metadata": {},
   "outputs": [
    {
     "name": "stdout",
     "output_type": "stream",
     "text": [
      "data/earthpy-downloads/avg-monthly-temp-fahr/Sonoma/Sonoma-2003-temp.csv\n"
     ]
    }
   ],
   "source": [
    "# Indexes change once a list is sorted!\n",
    "sorted_sonoma = glob(os.path.join(data_folder, 'Sonoma', '*'))\n",
    "sorted_sonoma.sort() \n",
    "\n",
    "print(sorted_sonoma[4])"
   ]
  },
  {
   "cell_type": "markdown",
   "metadata": {},
   "source": [
    "### Using Ranges\n",
    "\n",
    "In addition to using `*` to specify which parts of a file name are important to you, you can use `[]` to specify a range of characters to search for. \n",
    "\n",
    "For example, you can create a search for all files with 2001 to 2003 in the name by using `*200` and adding `[1-3]*` to it. "
   ]
  },
  {
   "cell_type": "code",
   "execution_count": 18,
   "metadata": {},
   "outputs": [
    {
     "data": {
      "text/plain": [
       "['data/earthpy-downloads/avg-monthly-temp-fahr/San-Diego/San-Diego-2001-temp.csv',\n",
       " 'data/earthpy-downloads/avg-monthly-temp-fahr/San-Diego/San-Diego-2003-temp.csv',\n",
       " 'data/earthpy-downloads/avg-monthly-temp-fahr/San-Diego/San-Diego-2002-temp.csv',\n",
       " 'data/earthpy-downloads/avg-monthly-temp-fahr/Sonoma/Sonoma-2001-temp.csv',\n",
       " 'data/earthpy-downloads/avg-monthly-temp-fahr/Sonoma/Sonoma-2003-temp.csv',\n",
       " 'data/earthpy-downloads/avg-monthly-temp-fahr/Sonoma/Sonoma-2002-temp.csv']"
      ]
     },
     "execution_count": 18,
     "metadata": {},
     "output_type": "execute_result"
    }
   ],
   "source": [
    "# Get files for 2001-2003\n",
    "glob(os.path.join(data_folder, '*', '*200[1-3]*'))"
   ]
  },
  {
   "cell_type": "markdown",
   "metadata": {},
   "source": [
    "This is not just limited to numbers. `[d-q]` would also filter results for characters between the letters `d` and `q`. \n",
    "\n",
    "Note, however, that this search range is for characters only, not strings. \n",
    "\n",
    "For example, you can search for numbers 2-7 with `[2-7]` but you would not be able to search for numbers `[2-14]` because `14` is more than one character.  \n",
    "\n",
    "Notice below that the search does not work correctly because `[2001-2003]` are more than one character."
   ]
  },
  {
   "cell_type": "code",
   "execution_count": 19,
   "metadata": {},
   "outputs": [
    {
     "data": {
      "text/plain": [
       "['data/earthpy-downloads/avg-monthly-temp-fahr/San-Diego/San-Diego-1999-temp.csv',\n",
       " 'data/earthpy-downloads/avg-monthly-temp-fahr/San-Diego/San-Diego-2000-temp.csv',\n",
       " 'data/earthpy-downloads/avg-monthly-temp-fahr/San-Diego/San-Diego-2001-temp.csv',\n",
       " 'data/earthpy-downloads/avg-monthly-temp-fahr/San-Diego/San-Diego-2003-temp.csv',\n",
       " 'data/earthpy-downloads/avg-monthly-temp-fahr/San-Diego/San-Diego-2002-temp.csv',\n",
       " 'data/earthpy-downloads/avg-monthly-temp-fahr/Sonoma/Sonoma-2001-temp.csv',\n",
       " 'data/earthpy-downloads/avg-monthly-temp-fahr/Sonoma/Sonoma-2003-temp.csv',\n",
       " 'data/earthpy-downloads/avg-monthly-temp-fahr/Sonoma/Sonoma-1999-temp.csv',\n",
       " 'data/earthpy-downloads/avg-monthly-temp-fahr/Sonoma/Sonoma-2002-temp.csv',\n",
       " 'data/earthpy-downloads/avg-monthly-temp-fahr/Sonoma/Sonoma-2000-temp.csv']"
      ]
     },
     "execution_count": 19,
     "metadata": {},
     "output_type": "execute_result"
    }
   ],
   "source": [
    "# Get incorrect range for 2002-2003\n",
    "glob(os.path.join(data_folder, '*', '*[2001-2003]*'))"
   ]
  },
  {
   "cell_type": "markdown",
   "metadata": {},
   "source": [
    "### `?` Operator\n",
    "\n",
    "The `?` operator functions similarly to the `*` operator but is used for a single character. \n",
    "\n",
    "If one character in the file name can be variable, but everything else must stay the same, than `?` is a good way to just replace that one character. "
   ]
  },
  {
   "cell_type": "code",
   "execution_count": 20,
   "metadata": {},
   "outputs": [
    {
     "data": {
      "text/plain": [
       "['data/earthpy-downloads/avg-monthly-temp-fahr/Sonoma/Sonoma-2001-temp.csv',\n",
       " 'data/earthpy-downloads/avg-monthly-temp-fahr/Sonoma/Sonoma-2003-temp.csv',\n",
       " 'data/earthpy-downloads/avg-monthly-temp-fahr/Sonoma/Sonoma-2002-temp.csv',\n",
       " 'data/earthpy-downloads/avg-monthly-temp-fahr/Sonoma/Sonoma-2000-temp.csv']"
      ]
     },
     "execution_count": 20,
     "metadata": {},
     "output_type": "execute_result"
    }
   ],
   "source": [
    "# ? operator used for last value in year\n",
    "glob(os.path.join(data_folder, 'Sonoma', '*200?-temp.csv'))"
   ]
  },
  {
   "cell_type": "markdown",
   "metadata": {},
   "source": [
    "`?` is not limited to one use per search and can be used to replace more than one character in a query. "
   ]
  },
  {
   "cell_type": "code",
   "execution_count": 21,
   "metadata": {},
   "outputs": [
    {
     "data": {
      "text/plain": [
       "['data/earthpy-downloads/avg-monthly-temp-fahr/Sonoma/Sonoma-1999-temp.csv']"
      ]
     },
     "execution_count": 21,
     "metadata": {},
     "output_type": "execute_result"
    }
   ],
   "source": [
    "# Multiple ? operators\n",
    "glob(os.path.join(data_folder, 'Sonoma', '*19??-temp.csv'))"
   ]
  },
  {
   "cell_type": "markdown",
   "metadata": {},
   "source": [
    "### Saving a `glob` Output to a Variable\n",
    "\n",
    "In order to use the output of `glob` later in a script, be sure to save it to a variable! It can be done easily by just assigning the `glob` function output a variable name."
   ]
  },
  {
   "cell_type": "code",
   "execution_count": 22,
   "metadata": {},
   "outputs": [
    {
     "data": {
      "text/plain": [
       "['data/earthpy-downloads/avg-monthly-temp-fahr/San-Diego/San-Diego-1999-temp.csv',\n",
       " 'data/earthpy-downloads/avg-monthly-temp-fahr/San-Diego/San-Diego-2000-temp.csv',\n",
       " 'data/earthpy-downloads/avg-monthly-temp-fahr/San-Diego/San-Diego-2001-temp.csv',\n",
       " 'data/earthpy-downloads/avg-monthly-temp-fahr/San-Diego/San-Diego-2002-temp.csv',\n",
       " 'data/earthpy-downloads/avg-monthly-temp-fahr/San-Diego/San-Diego-2003-temp.csv']"
      ]
     },
     "execution_count": 22,
     "metadata": {},
     "output_type": "execute_result"
    }
   ],
   "source": [
    "sd_data = glob(os.path.join(data_folder, 'San-Diego', '*'))\n",
    "sd_data.sort()\n",
    "\n",
    "sd_data"
   ]
  },
  {
   "cell_type": "markdown",
   "metadata": {},
   "source": [
    "## `os` Advanced Functionality\n",
    "\n",
    "`os` is another very powerful tool and has additional functionality that can be useful when dealing with file paths, such as advanced parsing abilities. \n",
    "\n",
    "For example, `os.path.normpath()` is a great way to clean up file paths. It takes out any unnecessary characters to make the path more easily read. \n",
    "\n",
    "It is a good way to make sure your path is properly formatted before using other `os` functions on the path. "
   ]
  },
  {
   "cell_type": "code",
   "execution_count": 23,
   "metadata": {},
   "outputs": [
    {
     "data": {
      "text/plain": [
       "'home/user/example_dir'"
      ]
     },
     "execution_count": 23,
     "metadata": {},
     "output_type": "execute_result"
    }
   ],
   "source": [
    "# Example of normpath cleaning up path\n",
    "example_path = \"home//user//example_dir\"\n",
    "os.path.normpath(example_path)"
   ]
  },
  {
   "cell_type": "markdown",
   "metadata": {},
   "source": [
    "`os.path.commonpath()` is a very useful when combined with `glob`. This function will take a list of file paths and find the lowest directory that all the files have in common. \n",
    "\n",
    "So if there were two files, one stored in `home/user/dir/dir2/example.txt` and one stored in `home/user/dir/example.txt`, then `os.path.commonpath()` would return `home/user/dir` as it's the lowest common directory the two folders share. "
   ]
  },
  {
   "cell_type": "code",
   "execution_count": 24,
   "metadata": {},
   "outputs": [
    {
     "data": {
      "text/plain": [
       "['data/earthpy-downloads/avg-monthly-temp-fahr/San-Diego/San-Diego-1999-temp.csv',\n",
       " 'data/earthpy-downloads/avg-monthly-temp-fahr/San-Diego/San-Diego-2000-temp.csv',\n",
       " 'data/earthpy-downloads/avg-monthly-temp-fahr/San-Diego/San-Diego-2001-temp.csv',\n",
       " 'data/earthpy-downloads/avg-monthly-temp-fahr/San-Diego/San-Diego-2002-temp.csv',\n",
       " 'data/earthpy-downloads/avg-monthly-temp-fahr/San-Diego/San-Diego-2003-temp.csv']"
      ]
     },
     "execution_count": 24,
     "metadata": {},
     "output_type": "execute_result"
    }
   ],
   "source": [
    "# Print list of files\n",
    "sd_data"
   ]
  },
  {
   "cell_type": "code",
   "execution_count": 25,
   "metadata": {},
   "outputs": [
    {
     "data": {
      "text/plain": [
       "'data/earthpy-downloads/avg-monthly-temp-fahr/San-Diego'"
      ]
     },
     "execution_count": 25,
     "metadata": {},
     "output_type": "execute_result"
    }
   ],
   "source": [
    "# Get a shared directory from a list of files\n",
    "os.path.commonpath(sd_data)"
   ]
  },
  {
   "cell_type": "markdown",
   "metadata": {},
   "source": [
    "`os.path.basename()` finds the last section of a path and returns that. If a file path is passed in, the file name will be parsed out and returned. "
   ]
  },
  {
   "cell_type": "code",
   "execution_count": 26,
   "metadata": {},
   "outputs": [
    {
     "data": {
      "text/plain": [
       "'data/earthpy-downloads/avg-monthly-temp-fahr'"
      ]
     },
     "execution_count": 26,
     "metadata": {},
     "output_type": "execute_result"
    }
   ],
   "source": [
    "# Print normalized path\n",
    "os.path.normpath(data_folder)"
   ]
  },
  {
   "cell_type": "code",
   "execution_count": 27,
   "metadata": {},
   "outputs": [
    {
     "data": {
      "text/plain": [
       "'avg-monthly-temp-fahr'"
      ]
     },
     "execution_count": 27,
     "metadata": {},
     "output_type": "execute_result"
    }
   ],
   "source": [
    "# Get the last part of a file path with basename\n",
    "os.path.basename(os.path.normpath(data_folder))"
   ]
  },
  {
   "cell_type": "markdown",
   "metadata": {},
   "source": [
    "`os.path.split()` will split a path into two parts:\n",
    "\n",
    "1. the last part of the path.\n",
    "2. the rest of the path. \n",
    "\n",
    "It returns the same output as `os.path.basename()` with the addition of the rest of the path that was left out as another ."
   ]
  },
  {
   "cell_type": "code",
   "execution_count": 28,
   "metadata": {},
   "outputs": [
    {
     "data": {
      "text/plain": [
       "('data/earthpy-downloads', 'avg-monthly-temp-fahr')"
      ]
     },
     "execution_count": 28,
     "metadata": {},
     "output_type": "execute_result"
    }
   ],
   "source": [
    "# Get the last part of a file path and the rest of the path\n",
    "os.path.split(os.path.normpath(data_folder))"
   ]
  },
  {
   "cell_type": "markdown",
   "metadata": {},
   "source": [
    "You can then use indexing on the result to get each piece of the split path."
   ]
  },
  {
   "cell_type": "code",
   "execution_count": 29,
   "metadata": {},
   "outputs": [
    {
     "data": {
      "text/plain": [
       "'data/earthpy-downloads'"
      ]
     },
     "execution_count": 29,
     "metadata": {},
     "output_type": "execute_result"
    }
   ],
   "source": [
    "os.path.split(os.path.normpath(data_folder))[0]"
   ]
  },
  {
   "cell_type": "code",
   "execution_count": 30,
   "metadata": {},
   "outputs": [
    {
     "data": {
      "text/plain": [
       "'avg-monthly-temp-fahr'"
      ]
     },
     "execution_count": 30,
     "metadata": {},
     "output_type": "execute_result"
    }
   ],
   "source": [
    "os.path.split(os.path.normpath(data_folder))[1]"
   ]
  },
  {
   "cell_type": "markdown",
   "metadata": {},
   "source": [
    "## String Manipulation \n",
    "\n",
    "Recall that when you create a file path using `os.path.join()`, it will properly format a string of the file path, so it can be used on any operating systems.\n",
    "\n",
    "Note, however, that the file path is still just a string. Thus, you can parse file paths, just like you would strings, and extract information from them that you may need for a project. \n",
    "\n",
    "`.split()` is a built-in **Python** function that splits a string into a list of strings based on a separator \n",
    "character, and can be used in combination with `os.sep` to separate directories in file paths into their base parts. `os.sep`is a data value stored in `os` that will return the character used to separate pathname components, such as directory or file names. This is `\\\\` for Windows and `/` for POSIX systems, such as Mac or Linux."
   ]
  },
  {
   "cell_type": "code",
   "execution_count": 31,
   "metadata": {},
   "outputs": [
    {
     "data": {
      "text/plain": [
       "['data', 'earthpy-downloads', 'avg-monthly-temp-fahr']"
      ]
     },
     "execution_count": 31,
     "metadata": {},
     "output_type": "execute_result"
    }
   ],
   "source": [
    "# Separate a path into parts\n",
    "file_path_list = data_folder.split(os.sep)\n",
    "file_path_list"
   ]
  },
  {
   "cell_type": "code",
   "execution_count": 32,
   "metadata": {},
   "outputs": [
    {
     "data": {
      "text/plain": [
       "'avg-monthly-temp-fahr'"
      ]
     },
     "execution_count": 32,
     "metadata": {},
     "output_type": "execute_result"
    }
   ],
   "source": [
    "file_path_list[2]"
   ]
  },
  {
   "cell_type": "markdown",
   "metadata": {},
   "source": [
    "In addition to built-in functions, file paths can be parsed with `string[start_index:end_index]` like a normal string. This can help get important infromation from a file path, such as a date."
   ]
  },
  {
   "cell_type": "code",
   "execution_count": 33,
   "metadata": {},
   "outputs": [
    {
     "data": {
      "text/plain": [
       "['data/earthpy-downloads/avg-monthly-temp-fahr/San-Diego/San-Diego-1999-temp.csv',\n",
       " 'data/earthpy-downloads/avg-monthly-temp-fahr/San-Diego/San-Diego-2000-temp.csv',\n",
       " 'data/earthpy-downloads/avg-monthly-temp-fahr/San-Diego/San-Diego-2001-temp.csv',\n",
       " 'data/earthpy-downloads/avg-monthly-temp-fahr/San-Diego/San-Diego-2002-temp.csv',\n",
       " 'data/earthpy-downloads/avg-monthly-temp-fahr/San-Diego/San-Diego-2003-temp.csv']"
      ]
     },
     "execution_count": 33,
     "metadata": {},
     "output_type": "execute_result"
    }
   ],
   "source": [
    "# Print list of files\n",
    "sd_data"
   ]
  },
  {
   "cell_type": "code",
   "execution_count": 34,
   "metadata": {},
   "outputs": [
    {
     "name": "stdout",
     "output_type": "stream",
     "text": [
      "San-Diego-1999-temp.csv\n"
     ]
    }
   ],
   "source": [
    "# Get file name\n",
    "year_path = sd_data[0]\n",
    "file_name = os.path.basename(year_path)\n",
    "print(file_name)"
   ]
  },
  {
   "cell_type": "code",
   "execution_count": 35,
   "metadata": {},
   "outputs": [
    {
     "name": "stdout",
     "output_type": "stream",
     "text": [
      "1999\n"
     ]
    }
   ],
   "source": [
    "# Parse a date from file name\n",
    "year = file_name[10:14]\n",
    "print(year)"
   ]
  },
  {
   "cell_type": "markdown",
   "metadata": {},
   "source": [
    "Notice that the range includes the first index value but not the second index value (e.g. `1999` are index values 10 through 13). \n",
    "\n",
    "Think about how you can use the same string parsing syntax to get the site name!\n",
    "\n",
    "You have now learned the essentials of **glob** and **os** to create custom lists of files and directories to manipulate and parse file names and directories, which can come in handy for future projects. "
   ]
  }
 ],
 "metadata": {
  "kernelspec": {
   "display_name": "Python 3",
   "language": "python",
   "name": "python3"
  },
  "language_info": {
   "codemirror_mode": {
    "name": "ipython",
    "version": 3
   },
   "file_extension": ".py",
   "mimetype": "text/x-python",
   "name": "python",
   "nbconvert_exporter": "python",
   "pygments_lexer": "ipython3",
   "version": "3.7.8"
  },
  "toc": {
   "base_numbering": 1,
   "nav_menu": {},
   "number_sections": true,
   "sideBar": true,
   "skip_h1_title": true,
   "title_cell": "Table of Contents",
   "title_sidebar": "Contents",
   "toc_cell": false,
   "toc_position": {},
   "toc_section_display": true,
   "toc_window_display": false
  },
  "varInspector": {
   "cols": {
    "lenName": 16,
    "lenType": 16,
    "lenVar": 40
   },
   "kernels_config": {
    "python": {
     "delete_cmd_postfix": "",
     "delete_cmd_prefix": "del ",
     "library": "var_list.py",
     "varRefreshCmd": "print(var_dic_list())"
    },
    "r": {
     "delete_cmd_postfix": ") ",
     "delete_cmd_prefix": "rm(",
     "library": "var_list.r",
     "varRefreshCmd": "cat(var_dic_list()) "
    }
   },
   "types_to_exclude": [
    "module",
    "function",
    "builtin_function_or_method",
    "instance",
    "_Feature"
   ],
   "window_display": false
  }
 },
 "nbformat": 4,
 "nbformat_minor": 4
}
