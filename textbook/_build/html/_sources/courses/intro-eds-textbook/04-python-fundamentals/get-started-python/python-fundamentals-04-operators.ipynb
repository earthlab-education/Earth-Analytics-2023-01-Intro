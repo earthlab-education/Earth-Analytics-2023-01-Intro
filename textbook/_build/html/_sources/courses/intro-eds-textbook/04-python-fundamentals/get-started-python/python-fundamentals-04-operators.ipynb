{
 "cells": [
  {
   "cell_type": "raw",
   "metadata": {},
   "source": [
    "---\n",
    "layout: single\n",
    "title: 'Basic Operators in Python'\n",
    "excerpt: \"Operators are symbols in Python that carry out a specific computation, or operation, such as arithmetic calculations. Learn how to use basic operators in Python.\"\n",
    "authors: ['Jenny Palomino', 'Leah Wasser', 'Nathan Korinek']\n",
    "category: [courses]\n",
    "class-lesson: ['get-started-python']\n",
    "permalink: /courses/intro-to-earth-data-science/python-code-fundamentals/get-started-using-python/python-operators/\n",
    "nav-title: \"Python Operators\"\n",
    "dateCreated: 2019-07-01\n",
    "modified: '{:%Y-%m-%d}'.format(datetime.now())\n",
    "module-type: 'class'\n",
    "course: \"intro-to-earth-data-science-textbook\"\n",
    "week: 4\n",
    "sidebar:\n",
    "  nav:\n",
    "author_profile: false\n",
    "comments: true\n",
    "order: 4\n",
    "topics:\n",
    "  reproducible-science-and-programming: ['python']\n",
    "---"
   ]
  },
  {
   "cell_type": "markdown",
   "metadata": {},
   "source": [
    "{% include toc title=\"On This Page\" icon=\"file-text\" %}\n",
    "\n",
    "<div class='notice--success' markdown=\"1\">\n",
    "\n",
    "## <i class=\"fa fa-graduation-cap\" aria-hidden=\"true\"></i> Learning Objectives\n",
    "\n",
    "At the end of this activity, you will be able to:\n",
    "\n",
    "* Explain how operators are used in **Python** to execute a specific computation or operation.\n",
    "* Write **Python** code to run different operations on data including math calculations, and conditional subsets.\n",
    "\n",
    "</div>\n"
   ]
  },
  {
   "cell_type": "markdown",
   "metadata": {},
   "source": [
    "## What are Operators in Python?\n",
    "\n",
    "Operators are symbols in Python that carry out a specific computation, \n",
    "or operation. The value or condition that the operator operates on is \n",
    "called the operand. The operand can be a variable such as `jan_precip_in`\n",
    "which has some value, (say, 0.70) or data structure like a list that contains \n",
    "`months`. The operand can also be a conditional expression or statement. \n",
    "\n",
    "For example, you might check that the list `months` contains the value `January`. \n",
    "If the list contains `January`, the return on the check is `True` (January does \n",
    "exist in the `months` list). If it does not contain `January`, the return will \n",
    "be `False` (January does not exist in the `months` list). There are \n",
    "<a href=\"https://python-reference.readthedocs.io/en/latest/docs/operators/\" target=\"_blank\">many different types of operators</a> in **Python** including: \n",
    "\n",
    "| Operator | Usage | Example |\n",
    "|:-----------------------------------|:-----------------------------------|:-----------------------------------|\n",
    "| Arithmetic  | to complete mathematical calculations | `boulder_precip_in * 25.4` |\n",
    "| Assignment  | to assign new values (typically as a result of a arithmetic calculation) | `boulder_precip_in *= 25.4` |\n",
    "| Comparison or Relational  | to compare operands (e.g. greater than symbol `>`)  | `boulder_precip_in > phoenix_precip_in`|\n",
    "| Identity  | to check whether operands are the same | `boulder_precip_in is not phoenix_precip_in` |\n",
    "| Membership  | to check whether one operand is contained within another operand | `\"January\" in months` |\n",
    "| Logical  | to check whether operands are `true` | `\"January\" in months AND \"Jan\" in months` |"
   ]
  },
  {
   "cell_type": "markdown",
   "metadata": {},
   "source": [
    "## Arithmetic Operators In Python\n",
    "\n",
    "In **Python**, there are <a href=\"https://docs.python.org/3/library/stdtypes.html#numeric-types-int-float-complex\" target=\"_blank\">many arithmetic operations</a> that can be completed, including operators for: \n",
    "\n",
    "* addition (`+`)\n",
    "* subtraction (`-`)\n",
    "* multiplication (`*`)\n",
    "* division (`/`)\n",
    "* exponents (`**`)\n",
    "\n",
    "Review the cells below to explore mathematical operators in **Python**. "
   ]
  },
  {
   "cell_type": "code",
   "execution_count": 1,
   "metadata": {},
   "outputs": [
    {
     "data": {
      "text/plain": [
       "5"
      ]
     },
     "execution_count": 1,
     "metadata": {},
     "output_type": "execute_result"
    }
   ],
   "source": [
    "# Add two values\n",
    "a = 2\n",
    "b = 3\n",
    "\n",
    "a + b"
   ]
  },
  {
   "cell_type": "code",
   "execution_count": 2,
   "metadata": {},
   "outputs": [
    {
     "data": {
      "text/plain": [
       "1"
      ]
     },
     "execution_count": 2,
     "metadata": {},
     "output_type": "execute_result"
    }
   ],
   "source": [
    "# Subtraction\n",
    "b - a"
   ]
  },
  {
   "cell_type": "code",
   "execution_count": 3,
   "metadata": {},
   "outputs": [
    {
     "data": {
      "text/plain": [
       "1.5"
      ]
     },
     "execution_count": 3,
     "metadata": {},
     "output_type": "execute_result"
    }
   ],
   "source": [
    "# Division \n",
    "b / a"
   ]
  },
  {
   "cell_type": "code",
   "execution_count": 4,
   "metadata": {},
   "outputs": [
    {
     "data": {
      "text/plain": [
       "6"
      ]
     },
     "execution_count": 4,
     "metadata": {},
     "output_type": "execute_result"
    }
   ],
   "source": [
    "# Multiply\n",
    "a * b"
   ]
  },
  {
   "cell_type": "code",
   "execution_count": 5,
   "metadata": {},
   "outputs": [
    {
     "data": {
      "text/plain": [
       "8"
      ]
     },
     "execution_count": 5,
     "metadata": {},
     "output_type": "execute_result"
    }
   ],
   "source": [
    "# Exponents\n",
    "a ** b"
   ]
  },
  {
   "cell_type": "markdown",
   "metadata": {},
   "source": [
    "### Example Applications Of Using Math Focused Operators in Python - Unit Conversion\n",
    "\n",
    "For scientific workflows, these arithmetic operators are very useful for \n",
    "converting the units of measurements, for example, from inches to millimeters \n",
    "(1 inch = 25.4 mm) for precipitation values. The example belows converts the \n",
    "average precipitation value for Boulder, CO in January from inches to millimeters."
   ]
  },
  {
   "cell_type": "code",
   "execution_count": 6,
   "metadata": {},
   "outputs": [
    {
     "data": {
      "text/plain": [
       "17.779999999999998"
      ]
     },
     "execution_count": 6,
     "metadata": {},
     "output_type": "execute_result"
    }
   ],
   "source": [
    "jan_precip_inches = 0.70\n",
    "inches_to_mm = 25.4\n",
    "\n",
    "jan_precip_inches * inches_to_mm"
   ]
  },
  {
   "cell_type": "markdown",
   "metadata": {},
   "source": [
    "<div class=\"notice--warning\" markdown=\"1\">\n",
    "\n",
    "## <i class=\"fa fa-pencil-square-o\" aria-hidden=\"true\"></i> Challenge - Data Types & Math\n",
    "\n",
    "### Interactive Activity\n",
    "\n",
    "Create two variables: \n",
    "* `march_precip_in` that contains the numeric value `1.85` which represents average precipitation in Boulder in March.\n",
    "* `in_to_mm` that contains the value `25.4` which represents the value to convert inches to mm.\n",
    "\n",
    "Using only these variables and arithmetic operators, create a third variable \n",
    "`march_precip_mm`, which represents the value for `march_precip_in` (average \n",
    "precipitation in Boulder) converted to millimeters (mm). Finally, answer the \n",
    "question: \n",
    "\n",
    "1. What is the `type()` of the object: `march_precip_mm`?\n",
    "</div>"
   ]
  },
  {
   "cell_type": "code",
   "execution_count": 7,
   "metadata": {
    "tags": [
     "hide"
    ]
   },
   "outputs": [
    {
     "data": {
      "text/plain": [
       "46.99"
      ]
     },
     "execution_count": 7,
     "metadata": {},
     "output_type": "execute_result"
    }
   ],
   "source": [
    "# Converting inches to mm\n",
    "\n",
    "march_precip_in = 1.85\n",
    "in_to_mm = 25.4\n",
    "march_precip_mm = 1.85*25.4\n",
    "march_precip_mm"
   ]
  },
  {
   "cell_type": "markdown",
   "metadata": {},
   "source": [
    "## Assignment Operators in Python\n",
    "\n",
    "While arithmetic operators are very useful for calculations, they do not change the original values of the variables being used. \n",
    "\n",
    "For example, when you run:\n",
    "\n",
    "```python\n",
    "jan_precip_inches = 0.70\n",
    "inches_to_mm = 25.4\n",
    "\n",
    "jan_precip_inches * inches_to_mm\n",
    "```\n",
    "\n",
    "the variable `jan_precip_inches` will still retain the value `0.7` (the measurement in inches), even after the calculation to convert to mm is run. "
   ]
  },
  {
   "cell_type": "code",
   "execution_count": 8,
   "metadata": {},
   "outputs": [
    {
     "data": {
      "text/plain": [
       "0.7"
      ]
     },
     "execution_count": 8,
     "metadata": {},
     "output_type": "execute_result"
    }
   ],
   "source": [
    "jan_precip_inches"
   ]
  },
  {
   "cell_type": "markdown",
   "metadata": {},
   "source": [
    "### Combining Assignment with Arithmetic Operators: Arithmetic Assignment \n",
    "\n",
    "If you want to assign a new value as a result of a calculation, you can use \n",
    "an assignment operator, which combines the arithmetic operator (e.g. `*`) \n",
    "with the assignment `=` to set a new value. For example, you can combine `*` \n",
    "and `=` to multiply a value and set the result equal to itself plus the new value. "
   ]
  },
  {
   "cell_type": "code",
   "execution_count": 9,
   "metadata": {},
   "outputs": [
    {
     "data": {
      "text/plain": [
       "17.779999999999998"
      ]
     },
     "execution_count": 9,
     "metadata": {},
     "output_type": "execute_result"
    }
   ],
   "source": [
    "jan_precip = 0.70\n",
    "inches_to_mm = 25.4\n",
    "\n",
    "jan_precip *= inches_to_mm\n",
    "\n",
    "jan_precip"
   ]
  },
  {
   "cell_type": "markdown",
   "metadata": {},
   "source": [
    "Recall that on the previous page on working with lists, you also used \n",
    "an assignment operator to append items to the end of a list. This works \n",
    "when your list contains strings. This is a special case of the addition \n",
    "assignment operator `+=` because it is not actually completing a \n",
    "mathematical operation on the list. It simply appends the values as new \n",
    "items to the end of the list. "
   ]
  },
  {
   "cell_type": "code",
   "execution_count": 10,
   "metadata": {},
   "outputs": [
    {
     "data": {
      "text/plain": [
       "['January', 'February']"
      ]
     },
     "execution_count": 10,
     "metadata": {},
     "output_type": "execute_result"
    }
   ],
   "source": [
    "months = [\"January\", \"February\"]\n",
    "\n",
    "months"
   ]
  },
  {
   "cell_type": "code",
   "execution_count": 11,
   "metadata": {},
   "outputs": [
    {
     "data": {
      "text/plain": [
       "['January', 'February', 'March', 'April']"
      ]
     },
     "execution_count": 11,
     "metadata": {},
     "output_type": "execute_result"
    }
   ],
   "source": [
    "months += [\"March\", \"April\"]\n",
    "\n",
    "months"
   ]
  },
  {
   "cell_type": "markdown",
   "metadata": {},
   "source": [
    "However, not all assignment operators can be used on all object types. For example, the following code will result in an error because **Python** does not know how to handle reassigning each value in the list.\n",
    "\n",
    "```python\n",
    "boulder_precip_in = [0.70, 0.75, 1.85]\n",
    "boulder_precip_in *= 25.4\n",
    "```\n",
    "\n",
    "<i class=\"fa fa-star\"></i> **Data Tip:** You can review the <a href=\"https://docs.python.org/3/library/stdtypes.html#\" target=\"_blank\">Python docs on types and operations</a> to see what kinds of operations can be run on different object types. \n",
    "{: .notice--success }"
   ]
  },
  {
   "cell_type": "markdown",
   "metadata": {},
   "source": [
    "<div class=\"notice--warning\" markdown=\"1\">\n",
    "\n",
    "## <i class=\"fa fa-pencil-square-o\" aria-hidden=\"true\"></i> Challenge\n",
    "\n",
    "Create two variables: \n",
    "* `annual_avg_precip_nyc` that is equal to `42.65` Note that this value represents the total annual average precipitation for New York City. However, it is is missing the value for precipitation in December. You are going to fix that!\n",
    "* `dec_avg_precip_nyc` that is equal to `3.58`\n",
    "\n",
    "Using the `+=` operator (addition assignment), add `december_precip_nyc` to `annual_avg_precip_nyc`, so that `annual_avg_precip_nyc` represents the complete annual average precipitation in New York City. \n",
    "\n",
    "</div>"
   ]
  },
  {
   "cell_type": "code",
   "execution_count": 12,
   "metadata": {
    "tags": [
     "hide"
    ]
   },
   "outputs": [],
   "source": [
    "# Operators challenge\n",
    "\n",
    "annual_avg_precip_nyc = 42.65\n",
    "dec_avg_precip_nyc = 3.58\n",
    "annual_avg_precip_nyc += dec_avg_precip_nyc"
   ]
  },
  {
   "cell_type": "markdown",
   "metadata": {},
   "source": [
    "## Output of Arithmetic Assignment Operators Does Not Automatically Print\n",
    "\n",
    "Notice now that the output is not automatically printed when you use \n",
    "arithmatic assignment operators. This is because there is an assignment involved \n",
    "(you are using the equals sign, so the output value is being reassigned to the variable). \n",
    "\n",
    "Remember that this:\n",
    "\n",
    "```python\n",
    "jan_precip = 0.70\n",
    "jan_precip *= 25.4\n",
    "```\n",
    "\n",
    "is the same as:\n",
    "\n",
    "```python\n",
    "jan_precip = 0.70\n",
    "jan_precip = 25.4 * jan_precip\n",
    "```"
   ]
  },
  {
   "cell_type": "code",
   "execution_count": 13,
   "metadata": {},
   "outputs": [],
   "source": [
    "jan_precip = 0.70\n",
    "jan_precip *= 25.4"
   ]
  },
  {
   "cell_type": "markdown",
   "metadata": {},
   "source": [
    "To see the new value, you can call the variable name (e.g. `jan_precip`), or \n",
    "you can use the print statement (e.g. `print(jan_precip)`) to display the new \n",
    "value. Using the print statement can be very helpful because then you can \n",
    "print multiple values. For example, notice calling only the variable names \n",
    "(e.g. `a`, `jan_precip`, `b`), you are only shown the value of the last variable."
   ]
  },
  {
   "cell_type": "code",
   "execution_count": 14,
   "metadata": {},
   "outputs": [
    {
     "data": {
      "text/plain": [
       "3"
      ]
     },
     "execution_count": 14,
     "metadata": {},
     "output_type": "execute_result"
    }
   ],
   "source": [
    "a\n",
    "jan_precip\n",
    "b"
   ]
  },
  {
   "cell_type": "markdown",
   "metadata": {},
   "source": [
    "Using `print()`, you can print as many things as you want. "
   ]
  },
  {
   "cell_type": "code",
   "execution_count": 15,
   "metadata": {},
   "outputs": [
    {
     "name": "stdout",
     "output_type": "stream",
     "text": [
      "2\n",
      "17.779999999999998\n",
      "3\n"
     ]
    }
   ],
   "source": [
    "print(a)\n",
    "print(jan_precip)\n",
    "print(b)"
   ]
  },
  {
   "cell_type": "markdown",
   "metadata": {},
   "source": [
    "You can even combine the variables with a text string in a print \n",
    "statement by including a text string `\"text\"` within the print \n",
    "statement. To do this, simply separate the text string from the \n",
    "object that is being printed using a comma `,`. "
   ]
  },
  {
   "cell_type": "code",
   "execution_count": 16,
   "metadata": {},
   "outputs": [
    {
     "name": "stdout",
     "output_type": "stream",
     "text": [
      "January precipitation: 17.779999999999998\n"
     ]
    }
   ],
   "source": [
    "print(\"January precipitation:\", jan_precip)"
   ]
  },
  {
   "cell_type": "markdown",
   "metadata": {},
   "source": [
    "Notice that the word `print` does not show up the output. Instead, \n",
    "you simply see the result, without the parentheses or quotations for \n",
    "the text string. **You have now used your first Python function - \n",
    "`print()`!** Functions in **Python** are commands that can take inputs \n",
    "that are used to produce output. You will learn more about functions \n",
    "later in these exercises, and you will use the `print` function a lot, \n",
    "as it can be very handy for viewing results and for communicating the \n",
    "status of your code. "
   ]
  },
  {
   "cell_type": "markdown",
   "metadata": {},
   "source": [
    "## Relational Operators in Python\n",
    "\n",
    "Often in **Python**, you need to compare two values against each other. \n",
    "To do this, you can check a statement, such as `3 < 4`, and get returned \n",
    "one of two values from **Python**: `True` or `False`. These are called \n",
    "boolean values and can be very powerful in scripting workflows. A boolean \n",
    "is a value that is either 1 (True), or 0 (False). Like `strings` or \n",
    "`integers`, booleans are their own data type.\n",
    "\n",
    "In **Python**, there are <a href=\"https://python-reference.readthedocs.io/en/latest/docs/operators/#relational-operators\" target=\"_blank\">many relational operations</a> that can be used, including operators for: \n",
    "* equal (`==`)\n",
    "* not equal (`!=`)\n",
    "* greater than (`>`)\n",
    "* greater than or equal (`>=`)\n",
    "* less than (`<`)\n",
    "* less than or equal (`<=`)\n",
    "\n",
    "Review the cells below to see what these operations return in different \n",
    "circumstances."
   ]
  },
  {
   "cell_type": "code",
   "execution_count": 17,
   "metadata": {},
   "outputs": [
    {
     "data": {
      "text/plain": [
       "bool"
      ]
     },
     "execution_count": 17,
     "metadata": {},
     "output_type": "execute_result"
    }
   ],
   "source": [
    "# What type of object is `True`?\n",
    "# Note that the T needs to be capitalized! type(true) won't work!\n",
    "type(True)"
   ]
  },
  {
   "cell_type": "markdown",
   "metadata": {},
   "source": [
    "Relational operations return a boolean value. "
   ]
  },
  {
   "cell_type": "code",
   "execution_count": 18,
   "metadata": {},
   "outputs": [
    {
     "data": {
      "text/plain": [
       "True"
      ]
     },
     "execution_count": 18,
     "metadata": {},
     "output_type": "execute_result"
    }
   ],
   "source": [
    "# Is the value 3 less then 4?\n",
    "3 < 4"
   ]
  },
  {
   "cell_type": "code",
   "execution_count": 19,
   "metadata": {},
   "outputs": [
    {
     "data": {
      "text/plain": [
       "False"
      ]
     },
     "execution_count": 19,
     "metadata": {},
     "output_type": "execute_result"
    }
   ],
   "source": [
    "# Is the value 3 greater than 4?\n",
    "3 > 4"
   ]
  },
  {
   "cell_type": "code",
   "execution_count": 20,
   "metadata": {},
   "outputs": [
    {
     "data": {
      "text/plain": [
       "True"
      ]
     },
     "execution_count": 20,
     "metadata": {},
     "output_type": "execute_result"
    }
   ],
   "source": [
    "# Does 3 equal 3?\n",
    "3 == 3"
   ]
  },
  {
   "cell_type": "code",
   "execution_count": 21,
   "metadata": {},
   "outputs": [
    {
     "data": {
      "text/plain": [
       "False"
      ]
     },
     "execution_count": 21,
     "metadata": {},
     "output_type": "execute_result"
    }
   ],
   "source": [
    "# Does 3 equal 4?\n",
    "3 == 4"
   ]
  },
  {
   "cell_type": "code",
   "execution_count": 22,
   "metadata": {},
   "outputs": [
    {
     "data": {
      "text/plain": [
       "True"
      ]
     },
     "execution_count": 22,
     "metadata": {},
     "output_type": "execute_result"
    }
   ],
   "source": [
    "# Does 3 NOT equal 4?\n",
    "3 != 4"
   ]
  },
  {
   "cell_type": "code",
   "execution_count": 23,
   "metadata": {},
   "outputs": [
    {
     "data": {
      "text/plain": [
       "True"
      ]
     },
     "execution_count": 23,
     "metadata": {},
     "output_type": "execute_result"
    }
   ],
   "source": [
    "# Is 3 less than or equal to 4?\n",
    "3 <= 4"
   ]
  },
  {
   "cell_type": "code",
   "execution_count": 24,
   "metadata": {},
   "outputs": [
    {
     "data": {
      "text/plain": [
       "True"
      ]
     },
     "execution_count": 24,
     "metadata": {},
     "output_type": "execute_result"
    }
   ],
   "source": [
    "# Is 3 less than or equal to 3?\n",
    "3 <= 3"
   ]
  },
  {
   "cell_type": "code",
   "execution_count": 25,
   "metadata": {},
   "outputs": [
    {
     "data": {
      "text/plain": [
       "False"
      ]
     },
     "execution_count": 25,
     "metadata": {},
     "output_type": "execute_result"
    }
   ],
   "source": [
    "# Is 3 greater than or equal to 4?\n",
    "3 >= 4"
   ]
  },
  {
   "cell_type": "markdown",
   "metadata": {},
   "source": [
    "Similar to other types of variable types, `bool` values can be assigned to a \n",
    "variable. \n",
    "\n",
    "<i class=\"fa fa-star\"></i> **Data Tip:** You do not need to put the operation below \n",
    "`(3 > 2)` in parenthesis, as is done below. However, doing so makes the code a \n",
    "bit easier to read. \n",
    "{: .notice--success }"
   ]
  },
  {
   "cell_type": "code",
   "execution_count": 26,
   "metadata": {},
   "outputs": [
    {
     "data": {
      "text/plain": [
       "True"
      ]
     },
     "execution_count": 26,
     "metadata": {},
     "output_type": "execute_result"
    }
   ],
   "source": [
    "is_greater = (3 > 2)\n",
    "\n",
    "is_greater"
   ]
  },
  {
   "cell_type": "markdown",
   "metadata": {},
   "source": [
    "Relational operators can be extremely powerful as you begin to develop more complex \n",
    "scripts. For example you may test whether a variable has a specific value. \n",
    "If it does (the condition is true), then you tell the script to run a particular \n",
    "operation.\n",
    "\n",
    "Example: \n",
    "\n",
    "```python\n",
    "rainfall = 3\n",
    "\n",
    "if rainfall > 2:\n",
    "    # Perform some calculation \n",
    "```\n",
    "\n",
    "You will learn more about <a href=\"https://www.earthdatascience.org/courses/intro-to-earth-data-science/write-efficient-python-code/conditional-statements/\"> conditions statements in chapter 17 of the introduction to earth data science textbook</a>."
   ]
  },
  {
   "cell_type": "markdown",
   "metadata": {},
   "source": [
    "## Membership Operators in Python\n",
    "\n",
    "A membership operator, such as `in`, will check if one item contains another item. This can be useful with strings, lists, or other data storage objects that you will learn about in later lessons, such as dataframes. "
   ]
  },
  {
   "cell_type": "code",
   "execution_count": 27,
   "metadata": {},
   "outputs": [
    {
     "data": {
      "text/plain": [
       "True"
      ]
     },
     "execution_count": 27,
     "metadata": {},
     "output_type": "execute_result"
    }
   ],
   "source": [
    "precip = \"Precipitation\"\n",
    "\n",
    "# Are the characters `Precip` in the object called precip?\n",
    "\"Precip\" in precip"
   ]
  },
  {
   "cell_type": "code",
   "execution_count": 28,
   "metadata": {},
   "outputs": [
    {
     "data": {
      "text/plain": [
       "True"
      ]
     },
     "execution_count": 28,
     "metadata": {},
     "output_type": "execute_result"
    }
   ],
   "source": [
    "temp_1 = [70, 68, 74]\n",
    "\n",
    "68 in temp_1"
   ]
  },
  {
   "cell_type": "code",
   "execution_count": 29,
   "metadata": {},
   "outputs": [
    {
     "data": {
      "text/plain": [
       "True"
      ]
     },
     "execution_count": 29,
     "metadata": {},
     "output_type": "execute_result"
    }
   ],
   "source": [
    "# You can also combine in with not to check for non-membership\n",
    "69 not in temp_1"
   ]
  },
  {
   "cell_type": "markdown",
   "metadata": {
    "caption": "This plot displays monthly average precipitation values in millimeters for Boulder, CO.",
    "label": "fig:bar_boulder_monthly_avg_precip",
    "tags": [
     "hide"
    ]
   },
   "source": [
    "<div class=\"notice--warning\" markdown=\"1\">\n",
    "\n",
    "## <i class=\"fa fa-pencil-square-o\" aria-hidden=\"true\"></i> Challenge: Test Your Knowledge \n",
    "\n",
    "Will the following statements return `True` of `False`?\n",
    "\n",
    "* `\"precip\" in precip`\n",
    "* `68 in temp_1`\n",
    "\n",
    "</div>"
   ]
  },
  {
   "cell_type": "markdown",
   "metadata": {
    "tags": [
     "hide"
    ]
   },
   "source": [
    "### Answer to the test you knowledge\n",
    "\n",
    "* `\"precip\" in precip` will return `False`, since the P in `\"precip\"` is not capitalized, whereas it is capitalized in the variable `precip` which is set to `\"Precipitation\"`. \n",
    "* `68 in temp_1` will return `True` since the value `68` is in the list temp_1. "
   ]
  },
  {
   "cell_type": "markdown",
   "metadata": {},
   "source": [
    "## Logical Operators\n",
    "\n",
    "Logical operators can be used to check combinations of booleans. The \n",
    "most common logical operators are `and` and `or`. `and` will check \n",
    "that both of the statements being checked are true. `True and True` \n",
    "will return `True`, but `True and False` will return `False`. `or` \n",
    "will check that one of the statements being checked are true. Unlike \n",
    "`and`, `True or True` will return `True`, and `True or False` will \n",
    "return `True` as well. Both `False and False` and `False or False` \n",
    "will return `False`. "
   ]
  },
  {
   "cell_type": "code",
   "execution_count": 30,
   "metadata": {},
   "outputs": [
    {
     "data": {
      "text/plain": [
       "True"
      ]
     },
     "execution_count": 30,
     "metadata": {},
     "output_type": "execute_result"
    }
   ],
   "source": [
    "# True and True\n",
    "68 in temp_1 and 70 in temp_1"
   ]
  },
  {
   "cell_type": "code",
   "execution_count": 31,
   "metadata": {},
   "outputs": [
    {
     "data": {
      "text/plain": [
       "False"
      ]
     },
     "execution_count": 31,
     "metadata": {},
     "output_type": "execute_result"
    }
   ],
   "source": [
    "# True and False\n",
    "68 in temp_1 and 69 in temp_1"
   ]
  },
  {
   "cell_type": "code",
   "execution_count": 32,
   "metadata": {},
   "outputs": [
    {
     "data": {
      "text/plain": [
       "True"
      ]
     },
     "execution_count": 32,
     "metadata": {},
     "output_type": "execute_result"
    }
   ],
   "source": [
    "# True or True\n",
    "68 in temp_1 or 70 in temp_1"
   ]
  },
  {
   "cell_type": "code",
   "execution_count": 33,
   "metadata": {},
   "outputs": [
    {
     "data": {
      "text/plain": [
       "True"
      ]
     },
     "execution_count": 33,
     "metadata": {},
     "output_type": "execute_result"
    }
   ],
   "source": [
    "# True or False\n",
    "68 in temp_1 or 69 in temp_1"
   ]
  },
  {
   "cell_type": "markdown",
   "metadata": {},
   "source": [
    "## Identity Operators in Python\n",
    "\n",
    "An identity operator, such as `is`, will check if two variables are referring \n",
    "to the same object. It is similar to the `==` operator, except that it will \n",
    "not only check that the values of two variables are identical, but it will \n",
    "check that they are referring to the exact same thing in **Python**. It's a \n",
    "subtle distinction, but can be very useful. "
   ]
  },
  {
   "cell_type": "markdown",
   "metadata": {},
   "source": [
    "<div class='notice--success alert alert-info' markdown=\"1\">\n",
    "\n",
    "<i class=\"fa fa-star\"></i> **Data Tip:** Memory Allocation in **Python**\n",
    "\n",
    "To understand the difference between `is` and `==`, first you need to know a little bit about how **Python** stores data. In **Python**, when a variable is declared, there's a certain place on your computer that is reserved to store that data. This place has a memory address. \n",
    "\n",
    "In **Python**, you can see the memory id of a variable using the `id()` function. This will print out a long integer that is how **Python** identifies the object. It's what **Python** uses to find the variable in the computer's memory. \n",
    "\n",
    "When you create a variable, let's say `a = 3`, if you run `id(a)` or `id(3)`, you'll get the same output. \n",
    "\n",
    "For me, it was `94641000121024`. This is the memory address where **Python** stores the variable `3` for your script. \n",
    "    \n",
    "When you create a list, a new `id` is created for your list, as it is a new variable in **Python**. So let's say you make a list like so: `list1 = [1, 2, 3]`. This list would be given a new id, such as `140657632719088`. \n",
    "\n",
    "If you create an identical list like this: `list2 = [1, 2, 3]` and check its `id`, it's stored at a different location, such as `140657632694912`. This is because the list is a new variable that's stored in a new place in the memory. \n",
    "\n",
    "Because of this, `list1 == list2` will return `True`, because their values are equal. However, `list1 is list2` will return `False`, since they are stored in different parts of your computer's memory.\n",
    "    \n",
    "However, if you make a list by assigning it to the old list, a.k.a `list1 = list2`, they will both have the memory address of `list1`, `140657632719088`. This is because you were not creating a new variable, and thus making a new memory address. \n",
    "\n",
    "You were instead pointing to an old memory address when creating `list2`. Because of this, `list1 == list2` will return `True`, because their values are equal, AND `list1 is list2` will also return `True`, since they are stored at the same location.\n",
    "</div>"
   ]
  },
  {
   "cell_type": "code",
   "execution_count": 34,
   "metadata": {},
   "outputs": [],
   "source": [
    "# Create variables to compare\n",
    "temp_1 = [70, 68, 74]\n",
    "temp_2 = [70, 68, 74]\n",
    "\n",
    "# Create a new variable called temp_3 from temp_1\n",
    "temp_3 = temp_1"
   ]
  },
  {
   "cell_type": "code",
   "execution_count": 35,
   "metadata": {},
   "outputs": [
    {
     "data": {
      "text/plain": [
       "True"
      ]
     },
     "execution_count": 35,
     "metadata": {},
     "output_type": "execute_result"
    }
   ],
   "source": [
    "# Test that temp_3 the same as temp_1\n",
    "temp_1 is temp_3"
   ]
  },
  {
   "cell_type": "code",
   "execution_count": 36,
   "metadata": {},
   "outputs": [
    {
     "data": {
      "text/plain": [
       "True"
      ]
     },
     "execution_count": 36,
     "metadata": {},
     "output_type": "execute_result"
    }
   ],
   "source": [
    "# While temp_1 and temp_2 contain the same values...\n",
    "temp_1 == temp_2"
   ]
  },
  {
   "cell_type": "code",
   "execution_count": 37,
   "metadata": {},
   "outputs": [
    {
     "data": {
      "text/plain": [
       "False"
      ]
     },
     "execution_count": 37,
     "metadata": {},
     "output_type": "execute_result"
    }
   ],
   "source": [
    "# They have been created independently\n",
    "temp_1 is temp_2"
   ]
  },
  {
   "cell_type": "markdown",
   "metadata": {},
   "source": [
    "\n",
    "With this example, you can easily see the distinction between == and is. Even though temp_1 and temp_2 contain identical values, they are technically not the same list. That is to say they are not stored in the same memory location on your computer. However, since temp_3 was set to equal temp_1, they are exactly the same."
   ]
  },
  {
   "cell_type": "markdown",
   "metadata": {},
   "source": [
    "You can also combine `is` with `not` to check that two variables are NOT the same. "
   ]
  },
  {
   "cell_type": "code",
   "execution_count": 38,
   "metadata": {},
   "outputs": [
    {
     "data": {
      "text/plain": [
       "True"
      ]
     },
     "execution_count": 38,
     "metadata": {},
     "output_type": "execute_result"
    }
   ],
   "source": [
    "temp_1 is not temp_2"
   ]
  },
  {
   "cell_type": "markdown",
   "metadata": {},
   "source": [
    "Like all other types of boolean values, the outputs of these operations can be assigned to variables as well."
   ]
  },
  {
   "cell_type": "code",
   "execution_count": 39,
   "metadata": {},
   "outputs": [
    {
     "data": {
      "text/plain": [
       "False"
      ]
     },
     "execution_count": 39,
     "metadata": {},
     "output_type": "execute_result"
    }
   ],
   "source": [
    "is_the_same = (temp_1 is temp_2)\n",
    "\n",
    "is_the_same"
   ]
  },
  {
   "cell_type": "markdown",
   "metadata": {},
   "source": [
    "<div class=\"notice--warning\" markdown=\"1\">\n",
    "\n",
    "## <i class=\"fa fa-pencil-square-o\" aria-hidden=\"true\"></i> Challenge: Test Your Knowledge \n",
    "\n",
    "Below, there are variables assigned to the output of either relational, identity, membership, or logical operations. Currently, each operation is returning `False`. Modify the operations so that they will all return `True`.\n",
    "</div>"
   ]
  },
  {
   "cell_type": "code",
   "execution_count": 40,
   "metadata": {},
   "outputs": [],
   "source": [
    "# Modify relational operation so the assigned variable returns True\n",
    "relational = (3 <= 2)\n",
    "\n",
    "# Modify identity operation so the assigned variable returns True\n",
    "identity = (4 is 3)\n",
    "\n",
    "# Modify membership operation so the assigned variable returns True\n",
    "membership = (72 in temp_1)\n",
    "\n",
    "# Modify logical operation so the assigned variable returns True\n",
    "temp_1 = [70, 68, 74]\n",
    "logical = (68 in temp_1 and 69 in temp_1)"
   ]
  },
  {
   "cell_type": "code",
   "execution_count": 41,
   "metadata": {},
   "outputs": [
    {
     "name": "stdout",
     "output_type": "stream",
     "text": [
      "False False False False\n"
     ]
    }
   ],
   "source": [
    "# Currently all of these objects return True. \n",
    "# Modify the code above so they all return True!\n",
    "print(relational, identity, membership, logical)"
   ]
  },
  {
   "cell_type": "code",
   "execution_count": 42,
   "metadata": {
    "tags": [
     "hide"
    ]
   },
   "outputs": [],
   "source": [
    "# Modifying the operations to return true\n",
    "\n",
    "# Modify relational operation so the assigned variable returns True\n",
    "relational = (3 >= 2)\n",
    "\n",
    "# Modify identity operation so the assigned variable returns True\n",
    "identity = (4 is 4)\n",
    "\n",
    "# Modify membership operation so the assigned variable returns True\n",
    "membership = (72 not in temp_1)\n",
    "\n",
    "# Modify logical operation so the assigned variable returns True\n",
    "temp_1 = [70, 68, 74]\n",
    "logical = (68 in temp_1 or 69 in temp_1)"
   ]
  },
  {
   "cell_type": "markdown",
   "metadata": {},
   "source": [
    " <div class=\"notice--info\" markdown=\"1\">\n",
    "\n",
    "## Additional Resources\n",
    "\n",
    "* <a href=\"https://docs.python.org/3/library/stdtypes.html#\" target=\"_blank\">Python docs on types and operations</a>\n",
    "\n",
    "* <a href=\"https://python-reference.readthedocs.io/en/latest/docs/operators/\" target=\"_blank\">Reference docs on operators</a>\n",
    "\n",
    "</div>   "
   ]
  }
 ],
 "metadata": {
  "celltoolbar": "Tags",
  "kernelspec": {
   "display_name": "Python 3",
   "language": "python",
   "name": "python3"
  },
  "language_info": {
   "codemirror_mode": {
    "name": "ipython",
    "version": 3
   },
   "file_extension": ".py",
   "mimetype": "text/x-python",
   "name": "python",
   "nbconvert_exporter": "python",
   "pygments_lexer": "ipython3",
   "version": "3.8.5"
  },
  "toc": {
   "base_numbering": 1,
   "nav_menu": {},
   "number_sections": true,
   "sideBar": true,
   "skip_h1_title": true,
   "title_cell": "Table of Contents",
   "title_sidebar": "Contents",
   "toc_cell": false,
   "toc_position": {},
   "toc_section_display": true,
   "toc_window_display": false
  },
  "varInspector": {
   "cols": {
    "lenName": 16,
    "lenType": 16,
    "lenVar": 40
   },
   "kernels_config": {
    "python": {
     "delete_cmd_postfix": "",
     "delete_cmd_prefix": "del ",
     "library": "var_list.py",
     "varRefreshCmd": "print(var_dic_list())"
    },
    "r": {
     "delete_cmd_postfix": ") ",
     "delete_cmd_prefix": "rm(",
     "library": "var_list.r",
     "varRefreshCmd": "cat(var_dic_list()) "
    }
   },
   "types_to_exclude": [
    "module",
    "function",
    "builtin_function_or_method",
    "instance",
    "_Feature"
   ],
   "window_display": false
  }
 },
 "nbformat": 4,
 "nbformat_minor": 2
}
