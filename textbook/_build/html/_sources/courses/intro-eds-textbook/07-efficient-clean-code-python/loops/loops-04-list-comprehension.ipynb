{
 "cells": [
  {
   "cell_type": "raw",
   "metadata": {},
   "source": [
    "---\n",
    "layout: single\n",
    "title: 'Introduction to List Comprehensions in Python: Write More Efficient Loops'\n",
    "excerpt: \"A list comprehensions in Python is a type of loop that is often faster than traditional loops. Learn how to create list comprehensions to automate data tasks in Python.\"\n",
    "authors: ['Nathan Korinek', 'Leah Wasser']\n",
    "category: [courses]\n",
    "class-lesson: ['intro-loops-tb']\n",
    "permalink: /courses/intro-to-earth-data-science/write-efficient-python-code/loops/list-comprehensions\n",
    "nav-title: \"List Comprehensions\"\n",
    "dateCreated: 2020-07-07\n",
    "modified: '{:%Y-%m-%d}'.format(datetime.now())\n",
    "module-type: 'class'\n",
    "chapter: 18\n",
    "course: \"intro-to-earth-data-science-textbook\"\n",
    "week: 7\n",
    "sidebar:\n",
    "  nav:\n",
    "author_profile: false\n",
    "comments: true\n",
    "order: 4\n",
    "topics:\n",
    "  reproducible-science-and-programming: ['python']\n",
    "---"
   ]
  },
  {
   "cell_type": "markdown",
   "metadata": {},
   "source": [
    "{% include toc title=\"On This Page\" icon=\"file-text\" %}\n",
    "\n",
    "<div class='notice--success' markdown=\"1\">\n",
    "\n",
    "## <i class=\"fa fa-graduation-cap\" aria-hidden=\"true\"></i> Learning Objectives\n",
    "\n",
    "After completing this chapter, you will be able to:\n",
    "\n",
    "* Modify values in a list using a list comprehension\n",
    "* Apply a function to values in a list using a list comprehension\n",
    "* Use conditional statements within a list comprehension to control list outputs\n",
    " \n",
    "</div>\n",
    "\n",
    "## List Comprehension Basics\n",
    "Loops, as you've seen, can be a very powerful tool to manipulate and create data. \n",
    "However, they're not the only option when it comes to these types of operations. \n",
    "Another popular method is list comprehension. It's a concise and quick way to modify \n",
    "values in a list and create a new list from the output. It works in a similar way to \n",
    "a `for` loop, but has slightly different syntax. One can be translated to the other fairly \n",
    "easily! \n",
    "\n",
    "To perform list comprehension, you have to put the for loop and the desired outcome inside \n",
    "of a list. So this:\n",
    "\n",
    "```\n",
    "new_list = []\n",
    "for i in list:\n",
    "    new_list.append(i*i)\n",
    "```\n",
    "becomes this:\n",
    "```\n",
    "new_list = [i*i for i in list]\n",
    "```\n",
    "\n",
    "You can see that the code takes up less space, and uses similar words to the for loop. \n",
    "However, the execution is different.\n",
    "\n",
    "### Benefits and Downsides of List Comprehension\n",
    "There are many pros and cons to consider when using list comprehension. \n",
    "\n",
    "Pros: \n",
    "* Generally faster than for loops, especially for large datasets.\n",
    "* Takes less code to write and fits in a smaller space than a for loop.\n",
    "\n",
    "Cons:\n",
    "* Can be less legible in certain situations.\n",
    "* Can be harder to implement for complicated operations in for loops. \n",
    "\n",
    "In this lesson, you will go over things you learned how to do with traditional `for` \n",
    "loops and see how to do them with list comprehension. "
   ]
  },
  {
   "cell_type": "markdown",
   "metadata": {},
   "source": [
    "## Time Saved with List Comprehension\n",
    "\n",
    "Because of differences in how **Python** implements for loops and list comprehension, \n",
    "list comprehensions are almost always faster than for loops when performing operations. \n",
    "Below, the same operation is performed by list comprehension and by for loop. It's a simple \n",
    "operation, it's just creating a list of the squares of numbers from 1 to 50000. From the \n",
    "timed cells below, you can see that the list comprehension runs almost twice as fast as the \n",
    "for loop for this calculation. This is one of the primary benefits of using list \n",
    "comprehension.  "
   ]
  },
  {
   "cell_type": "code",
   "execution_count": 1,
   "metadata": {},
   "outputs": [
    {
     "name": "stdout",
     "output_type": "stream",
     "text": [
      "Wall time: 8.99 ms\n"
     ]
    }
   ],
   "source": [
    "%%time\n",
    "# Time a cell using a for loop\n",
    "for_list = []\n",
    "for i in range(50000):\n",
    "    for_list.append(i*i)"
   ]
  },
  {
   "cell_type": "code",
   "execution_count": 2,
   "metadata": {
    "scrolled": false
   },
   "outputs": [
    {
     "name": "stdout",
     "output_type": "stream",
     "text": [
      "Wall time: 3.02 ms\n"
     ]
    }
   ],
   "source": [
    "%%time\n",
    "# Time a cell using list comprehension\n",
    "comp_list = [i*i for i in range(50000)]"
   ]
  },
  {
   "cell_type": "markdown",
   "metadata": {},
   "source": [
    "## Modify Values with List Comprehension\n",
    "\n",
    "Operations previously done by for loops can use list comprehension. You have \n",
    "converted inches to millimeters many times in these lessons. A cleaner way to \n",
    "do this is using list comprehension. Below is a list of Boulder precipitation \n",
    "values in inches being modified to millimeters with list comprehension."
   ]
  },
  {
   "cell_type": "code",
   "execution_count": 3,
   "metadata": {},
   "outputs": [
    {
     "data": {
      "text/plain": [
       "[17.779999999999998,\n",
       " 19.049999999999997,\n",
       " 46.99,\n",
       " 74.422,\n",
       " 77.46999999999998,\n",
       " 51.308,\n",
       " 49.022,\n",
       " 41.148,\n",
       " 46.736,\n",
       " 33.274,\n",
       " 35.306,\n",
       " 21.336]"
      ]
     },
     "execution_count": 3,
     "metadata": {},
     "output_type": "execute_result"
    }
   ],
   "source": [
    "# Create list of average monthly precip (inches) in Boulder, CO\n",
    "avg_monthly_precip_in = [0.70,  0.75, 1.85, 2.93, 3.05, 2.02, \n",
    "                         1.93, 1.62, 1.84, 1.31, 1.39, 0.84]\n",
    "\n",
    "# Convert each item in list from in to mm\n",
    "[month * 25.4 for month in avg_monthly_precip_in]"
   ]
  },
  {
   "cell_type": "markdown",
   "metadata": {},
   "source": [
    "## Apply a Function to a List\n",
    "\n",
    "Similar to modifying a value in a list, it's possible to use list comprehension \n",
    "to apply a function to every value in a list. This can be useful for more complicated \n",
    "operations that need to be performed. This can also be done with the `map` function. \n",
    "More info on mapping can be found in the Data Tip below."
   ]
  },
  {
   "cell_type": "markdown",
   "metadata": {},
   "source": [
    "<div class='notice--success alert alert-info' markdown=\"1\">\n",
    "\n",
    "<i class=\"fa fa-star\"></i> **Data Tip:** `map` in **Python**\n",
    "\n",
    "While a list comprehension is one way to apply a function to every variable in a list, **Python** has functions more suited for this type of operation, namely the `map()` function. Although it can be more complicated, it is very useful for the type of situation where you would be applying a complicated function to every variable in a list, **pandas** `DataFrame`, or other data storage object. [For further reading on `map()`, see this website explaining the fundamentals.](https://www.geeksforgeeks.org/python-map-function/)\n",
    "\n",
    "</div>"
   ]
  },
  {
   "cell_type": "code",
   "execution_count": 4,
   "metadata": {},
   "outputs": [
    {
     "data": {
      "text/plain": [
       "[17.779999999999998,\n",
       " 19.049999999999997,\n",
       " 46.99,\n",
       " 74.422,\n",
       " 77.46999999999998,\n",
       " 51.308,\n",
       " 49.022,\n",
       " 41.148,\n",
       " 46.736,\n",
       " 33.274,\n",
       " 35.306,\n",
       " 21.336]"
      ]
     },
     "execution_count": 4,
     "metadata": {},
     "output_type": "execute_result"
    }
   ],
   "source": [
    "# Function written to convert from inches to mm\n",
    "def convert_in_to_mm(num):\n",
    "    return num * 25.4\n",
    "\n",
    "# Using list comprehension to convert all the variables in the list\n",
    "[convert_in_to_mm(month) for month in avg_monthly_precip_in]"
   ]
  },
  {
   "cell_type": "markdown",
   "metadata": {},
   "source": [
    "## Conditionals\n",
    "\n",
    "### If Condition Only\n",
    "\n",
    "Conditionals can be implemented in list comprehension. This is can be an easy way \n",
    "to filter out unwanted variables from a list. If the conditional doesn't have an \n",
    "`else` statement, the `if` condition is put after the for loop."
   ]
  },
  {
   "cell_type": "code",
   "execution_count": 5,
   "metadata": {},
   "outputs": [
    {
     "data": {
      "text/plain": [
       "[1.85, 2.93, 3.05, 2.02, 1.93, 1.62, 1.84]"
      ]
     },
     "execution_count": 5,
     "metadata": {},
     "output_type": "execute_result"
    }
   ],
   "source": [
    "# Filtering out values in a month that are less than 1.5\n",
    "[month for month in avg_monthly_precip_in if month > 1.5]"
   ]
  },
  {
   "cell_type": "markdown",
   "metadata": {},
   "source": [
    "### If Else Conditionals\n",
    "\n",
    "If your conditional has an else statement, it is formatted differently. In this \n",
    "case, it would go before the for loop, with the operation for the `if` condition \n",
    "going before `if`, and the operation for the `else` condition going after `else`. "
   ]
  },
  {
   "cell_type": "code",
   "execution_count": 6,
   "metadata": {},
   "outputs": [
    {
     "data": {
      "text/plain": [
       "[1.4, 1.5, -3.7, -5.86, -6.1, -4.04, -3.86, -3.24, -3.68, 2.62, 2.78, 1.68]"
      ]
     },
     "execution_count": 6,
     "metadata": {},
     "output_type": "execute_result"
    }
   ],
   "source": [
    "# Performing two different operations on the variables depending on if they are more or less than 1.5. \n",
    "# If they are more then 1.5, they are multiplied by negative 2. Otherwise, they are multiplied by positive 2. \n",
    "[month * -2 if month > 1.5 else month * 2 for month in avg_monthly_precip_in]"
   ]
  }
 ],
 "metadata": {
  "celltoolbar": "Tags",
  "kernelspec": {
   "display_name": "Python 3",
   "language": "python",
   "name": "python3"
  },
  "language_info": {
   "codemirror_mode": {
    "name": "ipython",
    "version": 3
   },
   "file_extension": ".py",
   "mimetype": "text/x-python",
   "name": "python",
   "nbconvert_exporter": "python",
   "pygments_lexer": "ipython3",
   "version": "3.7.8"
  },
  "toc": {
   "base_numbering": 1,
   "nav_menu": {},
   "number_sections": true,
   "sideBar": true,
   "skip_h1_title": false,
   "title_cell": "Table of Contents",
   "title_sidebar": "Contents",
   "toc_cell": false,
   "toc_position": {},
   "toc_section_display": true,
   "toc_window_display": false
  },
  "varInspector": {
   "cols": {
    "lenName": 16,
    "lenType": 16,
    "lenVar": 40
   },
   "kernels_config": {
    "python": {
     "delete_cmd_postfix": "",
     "delete_cmd_prefix": "del ",
     "library": "var_list.py",
     "varRefreshCmd": "print(var_dic_list())"
    },
    "r": {
     "delete_cmd_postfix": ") ",
     "delete_cmd_prefix": "rm(",
     "library": "var_list.r",
     "varRefreshCmd": "cat(var_dic_list()) "
    }
   },
   "types_to_exclude": [
    "module",
    "function",
    "builtin_function_or_method",
    "instance",
    "_Feature"
   ],
   "window_display": false
  }
 },
 "nbformat": 4,
 "nbformat_minor": 2
}
