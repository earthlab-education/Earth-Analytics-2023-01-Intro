{
 "cells": [
  {
   "cell_type": "raw",
   "metadata": {},
   "source": [
    "---\n",
    "layout: single\n",
    "title: \"Introduction to Using Loops to Automate Workflows in Open Source Python\"\n",
    "excerpt: \"Loops can help reduce repetition in code by iteratively executing the same code on a range or list of values. Learn about the basic types of loops in Python and how they can be used to write Do Not Repeat Yourself, or DRY, code in Python.\"\n",
    "authors: ['Jenny Palomino', 'Leah Wasser']\n",
    "category: [courses]\n",
    "class-lesson: ['intro-loops-tb']\n",
    "permalink: /courses/intro-to-earth-data-science/write-efficient-python-code/loops/\n",
    "nav-title: \"Introduction to Loops\"\n",
    "dateCreated: 2019-10-23\n",
    "modified: '{:%Y-%m-%d}'.format(datetime.now())\n",
    "module-title: 'Introduction to Loops in Python'\n",
    "module-nav-title: 'Loops in Python'\n",
    "module-description: 'Loops can help reduce repetition in code by iteratively executing the same code on a range or list of values. Learn how to write loops in Python to write Do Not Repeat Yourself, or DRY, code in Python.'\n",
    "module-type: 'class'\n",
    "class-order: 3\n",
    "chapter: 18\n",
    "course: \"intro-to-earth-data-science-textbook\"\n",
    "week: 7\n",
    "estimated-time: \"2-3 hours\"\n",
    "difficulty: \"beginner\"\n",
    "sidebar:\n",
    "  nav:\n",
    "author_profile: false\n",
    "comments: true\n",
    "order: 1\n",
    "topics:\n",
    "  reproducible-science-and-programming: ['python']\n",
    "redirect_from:\n",
    "  - \"/courses/earth-analytics-bootcamp/loops/intro-loops/\"\n",
    "  - \"/courses/intro-to-earth-data-science/dry-code-python/loops/\"\n",
    "---"
   ]
  },
  {
   "cell_type": "markdown",
   "metadata": {},
   "source": [
    "{% include toc title=\"In This Chapter\" icon=\"file-text\" %}\n",
    "\n",
    "\n",
    "## <i class=\"fa fa-ship\" aria-hidden=\"true\"></i> Chapter Eighteen - Loops\n",
    "\n",
    "In this chapter, you will learn about the basic types of loops in **Python** and how you can use them to remove repetition in your code by iteratively executing code on a range or list of values. \n",
    "\n",
    "<div class='notice--success' markdown=\"1\">\n",
    "\n",
    "## <i class=\"fa fa-graduation-cap\" aria-hidden=\"true\"></i> Learning Objectives\n",
    "\n",
    "After completing this chapter, you will be able to:\n",
    "\n",
    "* Explain how using loops help you to write DRY (Don't Repeat Yourself) code in **Python**.\n",
    "* Describe the syntax for two basic looping structures used in **Python**: `while` and `for`.\n",
    "* Remove repetition in code by using loops to automate data tasks.  \n",
    "\n",
    "</div>\n",
    "\n",
    "## <i class=\"fa fa-check-square-o fa-2\" aria-hidden=\"true\"></i> What You Need\n",
    "\n",
    "You should have Conda setup on your computer and the Earth Analytics Python Conda environment. Follow the <a href=\"{{ site.url }}/workshops/setup-earth-analytics-python/setup-git-bash-conda/\">Set up Git, Bash, and Conda on your computer</a> to install these tools.\n",
    "\n",
    "Be sure that you have completed the chapters on <a href=\"{{ site.url }}/courses/intro-to-earth-data-science/open-reproducible-science/jupyter-python/\">Jupyter Notebook</a>, <a href=\"{{ site.url }}/courses/intro-to-earth-data-science/scientific-data-structures-python/numpy-arrays/\">Numpy Arrays</a>, and <a href=\"{{ site.url }}/courses/intro-to-earth-data-science/scientific-data-structures-python/pandas-dataframes/\">Pandas Dataframes</a>.\n",
    "\n",
    "\n",
    "## Why Use Loops -- Make Your Code DRY\n",
    "\n",
    "A loop is a sequence of operations that are performed over and over in some \n",
    "specified order. Following the DRY (Don't Repeat Yourself) principle of clean \n",
    "coding, loops can help you to eliminate repetition in code by replacing \n",
    "duplicate lines of code with an iteration, meaning that you can iteratively \n",
    "execute the same code line or block until it reaches a specified end point.\n",
    "\n",
    "Instead of copying and pasting the same code over and over to run it multiple times (say, on multiple variables or files), you can create a loop that contains one instance of the code and that executes that code block on a range or list of values that you provide. \n",
    "\n",
    "For example, the following lines could be replaced by a loop that iterates \n",
    "over a list of variable names and executes the `print()` function until it \n",
    "reaches the end of the list:\n"
   ]
  },
  {
   "cell_type": "code",
   "execution_count": 1,
   "metadata": {},
   "outputs": [
    {
     "name": "stdout",
     "output_type": "stream",
     "text": [
      "[1, 2, 3, 4, 5]\n"
     ]
    }
   ],
   "source": [
    "# Create 5 objects\n",
    "list_of_values = [1, 2, 3, 4, 5]\n",
    "\n",
    "# Print each object separately\n",
    "print(list_of_values)"
   ]
  },
  {
   "cell_type": "markdown",
   "metadata": {},
   "source": [
    "You can create a loop that will iterate through each value and print it."
   ]
  },
  {
   "cell_type": "code",
   "execution_count": 2,
   "metadata": {},
   "outputs": [
    {
     "name": "stdout",
     "output_type": "stream",
     "text": [
      "1\n",
      "2\n",
      "3\n",
      "4\n",
      "5\n"
     ]
    }
   ],
   "source": [
    "# Cycle through each object and print\n",
    "for avalue in list_of_values:\n",
    "    print(avalue)"
   ]
  },
  {
   "cell_type": "markdown",
   "metadata": {},
   "source": [
    "Once you have your list of values, you can enhance the print statement by adding \n",
    "text. "
   ]
  },
  {
   "cell_type": "code",
   "execution_count": 3,
   "metadata": {},
   "outputs": [
    {
     "name": "stdout",
     "output_type": "stream",
     "text": [
      "the current value is: 1\n",
      "the current value is: 2\n",
      "the current value is: 3\n",
      "the current value is: 4\n",
      "the current value is: 5\n"
     ]
    }
   ],
   "source": [
    "# Cycle through each object and print with enchancement\n",
    "for avalue in list_of_values:\n",
    "    print(\"the current value is:\", avalue)"
   ]
  },
  {
   "cell_type": "markdown",
   "metadata": {},
   "source": [
    "You can also use a loop to iteratively adjust each value. Below you \n",
    "add 1 to each value in the list, using your loop. "
   ]
  },
  {
   "cell_type": "code",
   "execution_count": 4,
   "metadata": {},
   "outputs": [
    {
     "name": "stdout",
     "output_type": "stream",
     "text": [
      "the current value is: 2\n",
      "the current value is: 3\n",
      "the current value is: 4\n",
      "the current value is: 5\n",
      "the current value is: 6\n"
     ]
    }
   ],
   "source": [
    "# Cycle through each object and print\n",
    "for avalue in list_of_values:\n",
    "    print(\"the current value is:\", avalue+1)"
   ]
  },
  {
   "cell_type": "markdown",
   "metadata": {},
   "source": [
    "You can create lists of variables, filenames, or other objects like data \n",
    "structures upon which you want to execute the same code. These lists can then \n",
    "be used to execute the code iteratively on each item in the list. You can also \n",
    "provide a numerical range of values to control how many times the code is executed. \n",
    "\n",
    "In **Python**, there are two primary structures for loops: `while` and `for`. \n",
    "Below you will learn about each one and how they can help you to write DRY \n",
    "(Don't Repeat Yourself) code.\n"
   ]
  },
  {
   "cell_type": "markdown",
   "metadata": {},
   "source": [
    " \n",
    "## Create For Loops in Python\n",
    "\n",
    "A `for` loop will iteratively execute code for each item in a pre-defined list. \n",
    "This list can be composed of numeric values, filenames, individual characters \n",
    "in a text string and objects such as data structures. Similar to the `while` (discussed below)\n",
    "loop, the syntax of a `for` loop includes rule (followed by a colon `:`) and \n",
    "indentations of the code lines that will be iterated. \n",
    "\n",
    "The main differences are that the loop begins with the word `for` and that a \n",
    "pre-defined list is explicitly referenced in the loop (e.g. `item_list` in the \n",
    "example below). The list to iterate upon is defined before the code for the `for` loop. \n",
    "\n",
    "```python\n",
    "item_list = [item_1, item_2, item_3]\n",
    "\n",
    "for i in item_list:\n",
    "    execute some code here\n",
    "```\n",
    "\n",
    "There is also a placeholder in the loop (e.g. `i`) that represents the items \n",
    "of the list. The initial value of `i` is equal to the first item in the list; \n",
    "as the loop iterates through the list, the value of `i` changes to hold the \n",
    "value of the next item in the list.\n",
    "\n",
    "In the first example below, a list with 4 non-sequential values is created. \n",
    "The loop executes the provided code (e.g. `print()`) on each item in the list. "
   ]
  },
  {
   "cell_type": "code",
   "execution_count": 5,
   "metadata": {},
   "outputs": [
    {
     "name": "stdout",
     "output_type": "stream",
     "text": [
      "22\n",
      "15\n",
      "146\n",
      "57\n"
     ]
    }
   ],
   "source": [
    "# Create list of integers\n",
    "num_list = [12, 5, 136, 47]\n",
    "\n",
    "# For each item in list, add 10 and print new value\n",
    "for i in num_list:\n",
    "    i += 10\n",
    "    print(i)"
   ]
  },
  {
   "cell_type": "markdown",
   "metadata": {},
   "source": [
    "Note that in this example, the values are not in sequential order or follow any \n",
    "kind of pattern. However, the loop is executed on each item, in the same order \n",
    "in which they are defined in the list. This is a unique characteristic of \n",
    "`for` loops; the placeholder represents the \n",
    "value of whichever item is being accessed from the list in that iteration. Thus, \n",
    "`i` is not a pre-defined variable, but rather a placeholder for the current \n",
    "item that the loop is working with in each iteration of the code.  \n",
    "\n",
    "This means that you could use any word or character to indicate the placeholder, \n",
    "with the exception of numeric values. You simply need to reuse that same word \n",
    "or character in the code lines that are \n",
    "being executed, in order to use the placeholder to access the items in the list. \n",
    "For example, the placeholder could be called `x`, or even something completely \n",
    "unrelated like `banana`. "
   ]
  },
  {
   "cell_type": "code",
   "execution_count": 6,
   "metadata": {},
   "outputs": [
    {
     "name": "stdout",
     "output_type": "stream",
     "text": [
      "The value of the variable 'x' is: 22\n",
      "The value of the variable 'x' is: 15\n",
      "The value of the variable 'x' is: 146\n",
      "The value of the variable 'x' is: 57\n"
     ]
    }
   ],
   "source": [
    "# Create list of integers\n",
    "num_list = [12, 5, 136, 47]\n",
    "\n",
    "# For each item in list, add 10 and print new value\n",
    "for x in num_list:\n",
    "    x += 10\n",
    "    print(\"The value of the variable 'x' is:\", x)"
   ]
  },
  {
   "cell_type": "code",
   "execution_count": 7,
   "metadata": {},
   "outputs": [
    {
     "name": "stdout",
     "output_type": "stream",
     "text": [
      "The value of the variable 'banana' is: 22\n",
      "The value of the variable 'banana' is: 15\n",
      "The value of the variable 'banana' is: 146\n",
      "The value of the variable 'banana' is: 57\n"
     ]
    }
   ],
   "source": [
    "# Create list of integers\n",
    "num_list = [12, 5, 136, 47]\n",
    "\n",
    "# For each item in list, add 10 and print new value\n",
    "for banana in num_list:\n",
    "    banana += 10\n",
    "    print(\"The value of the variable 'banana' is:\", banana)"
   ]
  },
  {
   "cell_type": "markdown",
   "metadata": {},
   "source": [
    "In this first example, `num_list` contains only numeric values, but you can also iterate on lists that contain other types, such as text strings for the names of files or data structures (including even the names of other lists!).  \n",
    "\n",
    "### Create For Loops with Text Strings\n",
    "\n",
    "In the example below, a list called `files` is defined with two text strings that represent two filenames. The `for` loop will run iteratively on each text string (represented by the placeholder `fname` in each iteration). \n",
    "\n",
    "In the first iteration of the loop, `fname` is equal to the text string `\"months.txt\"`; in the second iteration, `fname` represents the text string `\"avg-monthly-precip.txt\"`. "
   ]
  },
  {
   "cell_type": "code",
   "execution_count": 8,
   "metadata": {},
   "outputs": [
    {
     "name": "stdout",
     "output_type": "stream",
     "text": [
      "The value of the variable 'fname' is: months.txt\n",
      "The value of the variable 'fname' is: avg-monthly-precip.txt\n"
     ]
    }
   ],
   "source": [
    "# List of filenames\n",
    "files = [\"months.txt\", \"avg-monthly-precip.txt\"]\n",
    "\n",
    "# For each item in list, print value\n",
    "for fname in files:\n",
    "    print(\"The value of the variable 'fname' is:\", fname)"
   ]
  },
  {
   "cell_type": "markdown",
   "metadata": {},
   "source": [
    "Note that `print()` returns the text string that is the filename, but not the \n",
    "values in the file. This is because the list only contains text strings for the \n",
    "filenames, but does not actually contain the contents of the file. In fact, \n",
    "**Python** does not know that these text strings are filenames; it simply \n",
    "treats these as text string items in a list.  \n",
    "\n",
    "Taking another look at the definition of the list, you can notice that the \n",
    "items are just text strings identified by quotes `\"\"`.  The list does not \n",
    "contain variables or objects that have been defined (e.g. **numpy** arrays, \n",
    "**pandas** dataframes, or even other lists). Thus, it is important to remember\n",
    "that the objects that you use in the loop will determine what output you will\n",
    "receive.\n",
    "\n",
    "### For Loops on Data Structures\n",
    "\n",
    "For example, you can define a list that contains multiple objects (say, other lists). \n",
    "In the example below, the `print()` returns the actual values in each item in the \n",
    "list because the items are defined objects (in this example, each item is its own \n",
    "list of data values). \n",
    "\n",
    "In each iteration of the loop, `dlist` represents the data lists that you defined: in first iteration, `months`, and `avg_monthly_precip` in the second iteration. "
   ]
  },
  {
   "cell_type": "code",
   "execution_count": 9,
   "metadata": {},
   "outputs": [
    {
     "name": "stdout",
     "output_type": "stream",
     "text": [
      "The value of the variable 'dlist' is: ['Jan', 'Feb', 'Mar', 'Apr', 'May', 'June', 'July', 'Aug', 'Sept', 'Oct', 'Nov', 'Dec']\n",
      "The value of the variable 'dlist' is: [0.7, 0.75, 1.85, 2.93, 3.05, 2.02, 1.93, 1.62, 1.84, 1.31, 1.39, 0.84]\n"
     ]
    }
   ],
   "source": [
    "# Create list of abbreviated month names\n",
    "months = [\"Jan\", \"Feb\", \"Mar\", \"Apr\", \"May\", \"June\",\n",
    "          \"July\", \"Aug\", \"Sept\", \"Oct\", \"Nov\", \"Dec\"]\n",
    "\n",
    "# Create list of average monthly precip (inches) in Boulder, CO\n",
    "avg_monthly_precip = [0.70,  0.75, 1.85, 2.93, 3.05, 2.02,\n",
    "                      1.93, 1.62, 1.84, 1.31, 1.39, 0.84]\n",
    "\n",
    "# List of list names\n",
    "lists = [months, avg_monthly_precip]\n",
    "\n",
    "# For each item in list, print value\n",
    "for dlist in lists:\n",
    "    print(\"The value of the variable 'dlist' is:\", dlist)"
   ]
  },
  {
   "cell_type": "markdown",
   "metadata": {},
   "source": [
    "When working with data structures such as lists, **numpy** arrays, or \n",
    "**pandas** dataframes, the code that is executed in the loop is still subject \n",
    "to the object type that is provided. For example, because the items in `lists` \n",
    "are lists, then you can execute any code that can run on the list object type, \n",
    "such as querying the length of the list or for a specific index value. "
   ]
  },
  {
   "cell_type": "code",
   "execution_count": 10,
   "metadata": {},
   "outputs": [
    {
     "name": "stdout",
     "output_type": "stream",
     "text": [
      "The length of the variable 'dlist' is: 12\n",
      "The length of the variable 'dlist' is: 12\n"
     ]
    }
   ],
   "source": [
    "# For each list in lists, print the length\n",
    "for dlist in lists:\n",
    "    print(\"The length of the variable 'dlist' is:\", len(dlist))"
   ]
  },
  {
   "cell_type": "code",
   "execution_count": 11,
   "metadata": {},
   "outputs": [
    {
     "name": "stdout",
     "output_type": "stream",
     "text": [
      "Dec\n",
      "0.84\n"
     ]
    }
   ],
   "source": [
    "# For each list in lists, print the value at last index\n",
    "for dlist in lists:\n",
    "    print(dlist[-1])"
   ]
  },
  {
   "cell_type": "markdown",
   "metadata": {},
   "source": [
    "However, you would not be able to call a method or attribute that does not\n",
    "exist for that data structure. For example, while `.shape` is an attribute \n",
    "of **numpy** arrays that provides the number of elements, or rows and columns, \n",
    "`.shape` is not an attribute of lists. An attempt to call `.shape` on a list \n",
    "would result in an error, and thus, a failure of the loop as it cannot execute \n",
    "that code.\n",
    "\n",
    "```python\n",
    "# For each list in lists, print attribute shape\n",
    "for dlist in lists:\n",
    "    print(dlist.shape)\n",
    "```\n",
    "\n",
    "`AttributeError: 'list' object has no attribute 'shape'`"
   ]
  },
  {
   "cell_type": "markdown",
   "metadata": {},
   "source": [
    "\n",
    "## While Loops\n",
    "\n",
    "A `while` loop is used to iteratively execute code until a pre-defined condition \n",
    "is no longer satisfied (i.e. results in a value of `False`). That condition could \n",
    "be a limit on how many times you want the code to run, or that results of the \n",
    "code reach a certain value (e.g. code will iteratively execute as long as the \n",
    "current value of the results is less than 5). After the pre-defined condition is \n",
    "no longer `True`, the loop will not execute another iteration. \n",
    "\n",
    "\n",
    "```python\n",
    "while x < 5:\n",
    "    execute some code here\n",
    "```\n",
    "\n",
    "Notice that the loop begins with `while` followed by a condition that ends with \n",
    "a colon `:`. Also, notice that the code below the `while` statement is indented. \n",
    "This indentation is important, as it indicates that the code will be executed as \n",
    "part of the loop within it is contained, not after the loop is completed.\n",
    "\n",
    "Check out the examples below to see the `while` loop in action. The first example \n",
    "uses a `while` loop to iteratively add a value of `1` to a variable `x`, as long as \n",
    "the current value of `x` does not exceed a specified value. In this example, a \n",
    "comparison operator (e.g. `<`) is used to compare the value of `x` (which begins with \n",
    "value of `0`) to the value `10`, the designated end point. Within the loop, an \n",
    "assignment operator (`+=`) is used to add a value of `1` to `x`, and the current value \n",
    "of `x` is printed. This process repeats each time that the code iterates, until the \n",
    "current value of `x` is no longer less than `10`."
   ]
  },
  {
   "cell_type": "code",
   "execution_count": 12,
   "metadata": {},
   "outputs": [
    {
     "name": "stdout",
     "output_type": "stream",
     "text": [
      "1\n",
      "2\n",
      "3\n",
      "4\n",
      "5\n",
      "6\n",
      "7\n",
      "8\n",
      "9\n",
      "10\n"
     ]
    }
   ],
   "source": [
    "# Set x equal to 0\n",
    "x = 0\n",
    "\n",
    "# Add 1 to x until x is no longer less than 10\n",
    "while x < 10:\n",
    "    x += 1\n",
    "    print(x)"
   ]
  },
  {
   "cell_type": "markdown",
   "metadata": {},
   "source": [
    "Once `x` reaches 10, the condition is no longer true (as `x` is no \n",
    "longer less than `10`), so the loop ends and does not execute another \n",
    "iteration of the code. Note that to use the value of the variable `x` \n",
    "as a condition for the loop, you must use the correct variable name in \n",
    "the loop (e.g. `x`), so that the condition can check the status of `x` \n",
    "as the loop iterates.\n",
    "\n",
    "Also, note that the code within the loop is executed in order, meaning \n",
    "that the `print()` function executes after the value of `1` is added to \n",
    "`x`. You can change that order if you want to see the value of `x`, before \n",
    "the value of `1` has been added.  "
   ]
  },
  {
   "cell_type": "code",
   "execution_count": 13,
   "metadata": {},
   "outputs": [
    {
     "name": "stdout",
     "output_type": "stream",
     "text": [
      "0\n",
      "1\n",
      "2\n",
      "3\n",
      "4\n",
      "5\n",
      "6\n",
      "7\n",
      "8\n",
      "9\n",
      "Final value: 10\n"
     ]
    }
   ],
   "source": [
    "# Reset x equal to 0\n",
    "x = 0\n",
    "\n",
    "# Add 1 to x until x is no longer less than 10\n",
    "while x < 10:\n",
    "    print(x)\n",
    "    x += 1\n",
    "\n",
    "print(\"Final value:\", x)"
   ]
  },
  {
   "cell_type": "markdown",
   "metadata": {},
   "source": [
    "In this version of the loop, the value of `x` is printed first, and then, \n",
    "the assignment operator is executed to add a value of `1` to `x`. Note that \n",
    "any code provided after the loop ends will be executed at that point (e.g. \n",
    "the printing of the final value). \n",
    "\n",
    "Compare the first `while` loop to the code below that you would have to write \n",
    "to accomplish the same task without a loop. The `while loop` not only replaces \n",
    "many lines of code to remove repetition, but it also makes the code easier to \n",
    "read *and* write, making the workflow easier for everyone involved. "
   ]
  },
  {
   "cell_type": "code",
   "execution_count": 14,
   "metadata": {
    "lines_to_next_cell": 0
   },
   "outputs": [
    {
     "name": "stdout",
     "output_type": "stream",
     "text": [
      "1\n",
      "2\n",
      "3\n",
      "4\n",
      "5\n",
      "6\n",
      "7\n",
      "8\n",
      "9\n",
      "10\n"
     ]
    }
   ],
   "source": [
    "# Reset x equal to 0\n",
    "x = 0\n",
    "\n",
    "# Add 1 to x\n",
    "x += 1\n",
    "print(x)\n",
    "\n",
    "# Add 1 to x\n",
    "x += 1\n",
    "print(x)\n",
    "\n",
    "# Add 1 to x\n",
    "x += 1\n",
    "print(x)\n",
    "\n",
    "# Add 1 to x\n",
    "x += 1\n",
    "print(x)\n",
    "\n",
    "# Add 1 to x\n",
    "x += 1\n",
    "print(x)\n",
    "\n",
    "# Add 1 to x\n",
    "x += 1\n",
    "print(x)\n",
    "\n",
    "# Add 1 to x\n",
    "x += 1\n",
    "print(x)\n",
    "\n",
    "# Add 1 to x\n",
    "x += 1\n",
    "print(x)\n",
    "\n",
    "# Add 1 to x\n",
    "x += 1\n",
    "print(x)\n",
    "\n",
    "# Add 1 to x\n",
    "x += 1\n",
    "print(x)"
   ]
  },
  {
   "cell_type": "markdown",
   "metadata": {},
   "source": [
    "In addition to using comparison operators to compare values, you can also \n",
    "specify a range of values to limit the duration of the `while` loop. The range \n",
    "is inclusive of the starting value, but not of the ending value. "
   ]
  },
  {
   "cell_type": "code",
   "execution_count": 15,
   "metadata": {},
   "outputs": [
    {
     "name": "stdout",
     "output_type": "stream",
     "text": [
      "2\n",
      "3\n",
      "4\n",
      "5\n"
     ]
    }
   ],
   "source": [
    "# Set x equal to 1\n",
    "x = 1\n",
    "\n",
    "# Add 1 to x, while x is between 1 and 5\n",
    "while x in range(1, 5):\n",
    "    x += 1\n",
    "    print(x)"
   ]
  },
  {
   "cell_type": "markdown",
   "metadata": {},
   "source": [
    "Note that the structure of the `while` loop remains the same, regarding the use \n",
    "of a condition, colon, and indentations of the code that will be iterated. In \n",
    "this example, rather than using an explicit comparison operator, you are stating \n",
    "that the code below can continue to execute as long as the value of `x` remains \n",
    "within a certain range.\n",
    "\n",
    "Specifically, the code will execute as long as the value of `x` exists within \n",
    "a numeric range that begins at `1` to and ends with `5`, but is not inclusive \n",
    "of `5`. Thus, the loop ends when `x` reaches `5` and does not execute another \n",
    "iteration of the code.  \n",
    "\n",
    "In the rest of this chapter, you will continue to apply loops to data structures,\n",
    "including lists, **numpy** arrays and **pandas dataframes** and learn how to \n",
    "automate data tasks using loops."
   ]
  }
 ],
 "metadata": {
  "celltoolbar": "Tags",
  "kernelspec": {
   "display_name": "Python 3",
   "language": "python",
   "name": "python3"
  },
  "language_info": {
   "codemirror_mode": {
    "name": "ipython",
    "version": 3
   },
   "file_extension": ".py",
   "mimetype": "text/x-python",
   "name": "python",
   "nbconvert_exporter": "python",
   "pygments_lexer": "ipython3",
   "version": "3.7.8"
  },
  "toc": {
   "base_numbering": 1,
   "nav_menu": {},
   "number_sections": true,
   "sideBar": true,
   "skip_h1_title": false,
   "title_cell": "Table of Contents",
   "title_sidebar": "Contents",
   "toc_cell": false,
   "toc_position": {},
   "toc_section_display": true,
   "toc_window_display": false
  },
  "varInspector": {
   "cols": {
    "lenName": 16,
    "lenType": 16,
    "lenVar": 40
   },
   "kernels_config": {
    "python": {
     "delete_cmd_postfix": "",
     "delete_cmd_prefix": "del ",
     "library": "var_list.py",
     "varRefreshCmd": "print(var_dic_list())"
    },
    "r": {
     "delete_cmd_postfix": ") ",
     "delete_cmd_prefix": "rm(",
     "library": "var_list.r",
     "varRefreshCmd": "cat(var_dic_list()) "
    }
   },
   "types_to_exclude": [
    "module",
    "function",
    "builtin_function_or_method",
    "instance",
    "_Feature"
   ],
   "window_display": false
  }
 },
 "nbformat": 4,
 "nbformat_minor": 2
}
