{
 "cells": [
  {
   "cell_type": "raw",
   "metadata": {},
   "source": [
    "---\n",
    "layout: single\n",
    "title: 'Automate Data Tasks With Loops in Python'\n",
    "excerpt: \"Loops can be used to automate data tasks in Python by iteratively executing the same code on multiple data structures. Learn how to automate data tasks in Python using data structures such as lists, numpy arrays, and pandas dataframes.\"\n",
    "authors: ['Jenny Palomino', 'Leah Wasser']\n",
    "category: [courses]\n",
    "class-lesson: ['intro-loops-tb']\n",
    "permalink: /courses/intro-to-earth-data-science/write-efficient-python-code/loops/automate-data-tasks-with-loops/\n",
    "nav-title: \"Automate Data Tasks With Loops\"\n",
    "dateCreated: 2019-10-23\n",
    "modified: '{:%Y-%m-%d}'.format(datetime.now())\n",
    "module-type: 'class'\n",
    "chapter: 18\n",
    "course: \"intro-to-earth-data-science-textbook\"\n",
    "week: 7\n",
    "sidebar:\n",
    "  nav:\n",
    "author_profile: false\n",
    "comments: true\n",
    "order: 2\n",
    "topics:\n",
    "  reproducible-science-and-programming: ['python']\n",
    "redirect_from:\n",
    "  - \"/courses/earth-analytics-bootcamp/loops/automate-tasks-loops/\"\n",
    "  - \"/courses/intro-to-earth-data-science/dry-code-python/loops/automate-data-tasks-with-loops/\"\n",
    "  - \"/courses/intro-to-earth-data-science/write-efficient-python-code/automate-data-tasks-with-loops/\"\n",
    "---"
   ]
  },
  {
   "cell_type": "markdown",
   "metadata": {},
   "source": [
    "{% include toc title=\"On This Page\" icon=\"file-text\" %}\n",
    "\n",
    "<div class='notice--success' markdown=\"1\">\n",
    "\n",
    "## <i class=\"fa fa-graduation-cap\" aria-hidden=\"true\"></i> Learning Objectives\n",
    "\n",
    "After completing this chapter, you will be able to:\n",
    "\n",
    "* Automate tasks using data structures such as lists, **numpy** arrays, and **pandas** dataframe.\n",
    "* Add the results of a loop to a new list. \n",
    "* Automate data downloads with **earthpy**.\n",
    " \n",
    "</div>\n",
    "\n",
    "\n",
    "As you have already learned, loops are very useful for removing repetition \n",
    "in your code. As such, they are great for automating tasks that you want to \n",
    "run on multiple values or data structures. Explore the examples below to see \n",
    "how you can automate tasks using data structures such as lists, **numpy** \n",
    "arrays, and **pandas** dataframe.\n",
    "\n",
    "\n",
    "## Automate Calculations on Values in Lists\n",
    "\n",
    "Recall that in the lessons on variables and lists, you learned how to run \n",
    "calculations on individual variables to convert the units, using average monthly \n",
    "precipitation values for <a href=\"https://www.esrl.noaa.gov/psd/boulder/Boulder.mm.precip.html\" target=\"_blank\">\n",
    "    Boulder, Colorado, provided by the U.S. National Oceanic and Atmospheric \n",
    "    Administration (NOAA)</a>.\n",
    "\n",
    "Month  | Precipitation (inches) |\n",
    "--- | --- |\n",
    "Jan | 0.70 |\n",
    "Feb | 0.75 |\n",
    "Mar | 1.85 |\n",
    "Apr | 2.93 |\n",
    "May | 3.05 |\n",
    "June | 2.02 |\n",
    "July | 1.93 |\n",
    "Aug | 1.62 |\n",
    "Sept | 1.84 |\n",
    "Oct | 1.31 |\n",
    "Nov | 1.39 |\n",
    "Dec | 0.84 |\n",
    "\n",
    "After you converted each variable, you then manually created a list that \n",
    "contained the recalculated values. Using a loop, you can automate this task, \n",
    "so that you recalculate each value in an existing list. \n",
    "\n",
    "### Create List of Values For Loop\n",
    "\n",
    "Begin by creating the list upon which your loop will execute. "
   ]
  },
  {
   "cell_type": "code",
   "execution_count": 1,
   "metadata": {},
   "outputs": [],
   "source": [
    "# Create list of average monthly precip (inches) in Boulder, CO\n",
    "avg_monthly_precip_in = [0.70,  0.75, 1.85, 2.93, 3.05, 2.02, \n",
    "                         1.93, 1.62, 1.84, 1.31, 1.39, 0.84]"
   ]
  },
  {
   "cell_type": "markdown",
   "metadata": {},
   "source": [
    "### Write Loop\n",
    "\n",
    "Next, decide on the type of loop that will work best for your goal of running \n",
    "a calculation on each item of a list. In this case, you want to convert each item \n",
    "in a list from inches to millimeters (recall than 1 inch = 25.4 mm). So you have a \n",
    "fixed list of values upon which you want to iterate a calculation. Think about \n",
    "whether a `while` or `for` loop would work better for your task. Which type of loop \n",
    "structure is used in the code below?"
   ]
  },
  {
   "cell_type": "code",
   "execution_count": 2,
   "metadata": {},
   "outputs": [
    {
     "name": "stdout",
     "output_type": "stream",
     "text": [
      "17.779999999999998\n",
      "19.049999999999997\n",
      "46.99\n",
      "74.422\n",
      "77.46999999999998\n",
      "51.308\n",
      "49.022\n",
      "41.148\n",
      "46.736\n",
      "33.274\n",
      "35.306\n",
      "21.336\n"
     ]
    }
   ],
   "source": [
    "# Convert each item in list from inches to mm\n",
    "for month in avg_monthly_precip_in:\n",
    "    month *= 25.4\n",
    "    print(month)"
   ]
  },
  {
   "cell_type": "markdown",
   "metadata": {},
   "source": [
    "### Expand Loop To Add Results to New List\n",
    "\n",
    "In the loop above, each month's value is converted from inches to millimeters \n",
    "and the value is printed; however, the new value is not actually captured anywhere, \n",
    "as the original list is not updated. You can expand the loop with more code, so that \n",
    "each converted value is actually added to a new list. Previously in the textbook, \n",
    "you learned how to append items to the end of an existing list using \n",
    "`listname += [value]`, which employs an assignment operator to add the new values \n",
    "to the end of an existing list. \n",
    "\n",
    "You can add do this with your loop with only two new lines of code:\n",
    "1. First, you create an empty list that will receive new values using `listname = []`. \n",
    "2. Then, you can add a new line of code to append each value after it is calculated using `listname.append(value)`. "
   ]
  },
  {
   "cell_type": "code",
   "execution_count": 19,
   "metadata": {},
   "outputs": [],
   "source": [
    "# Create new empty to receive values\n",
    "avg_monthly_precip_mm = []\n",
    "\n",
    "# Convert each item from in to mm and add to new list\n",
    "for month in avg_monthly_precip_in:\n",
    "    month *= 25.4 \n",
    "    avg_monthly_precip_mm.append(month)"
   ]
  },
  {
   "cell_type": "markdown",
   "metadata": {},
   "source": [
    "You can print the values in both lists to see that the original list has \n",
    "not changed, and that the new list contains the converted values. "
   ]
  },
  {
   "cell_type": "code",
   "execution_count": 4,
   "metadata": {},
   "outputs": [
    {
     "name": "stdout",
     "output_type": "stream",
     "text": [
      "[0.7, 0.75, 1.85, 2.93, 3.05, 2.02, 1.93, 1.62, 1.84, 1.31, 1.39, 0.84]\n",
      "[17.779999999999998, 19.049999999999997, 46.99, 74.422, 77.46999999999998, 51.308, 49.022, 41.148, 46.736, 33.274, 35.306, 21.336]\n"
     ]
    }
   ],
   "source": [
    "# Print original list in inches\n",
    "print(avg_monthly_precip_in) \n",
    "    \n",
    "# Print new list after loop is complete\n",
    "print(avg_monthly_precip_mm) "
   ]
  },
  {
   "cell_type": "markdown",
   "metadata": {},
   "source": [
    "### Review the List Being Iterated Upon and the Placeholder in Loop\n",
    "\n",
    "Look carefully at how the variables `avg_monthly_precip_mm` and `month` are created. \n",
    "The list variable `avg_monthly_precip_mm` was explicitly created; in this case, \n",
    "you manually created the variable `avg_monthly_precip_mm` as an empty list. The variable \n",
    "`month` is the placeholder variable, meaning that it was not explicitly created by you. \n",
    "\n",
    "Rather, it is created as part of the loop and serves as a placeholder to represent each \n",
    "item from the original list (`avg_monthly_precip_in`), as the loop iterates. At the end \n",
    "of the loop, the placeholder variable is equal to the last value that it was assigned \n",
    "(e.g. `month` is equal to 21.336 when the loop ends). "
   ]
  },
  {
   "cell_type": "code",
   "execution_count": 5,
   "metadata": {},
   "outputs": [
    {
     "data": {
      "text/plain": [
       "21.336"
      ]
     },
     "execution_count": 5,
     "metadata": {},
     "output_type": "execute_result"
    }
   ],
   "source": [
    "# Final value of month\n",
    "month"
   ]
  },
  {
   "cell_type": "markdown",
   "metadata": {},
   "source": [
    "## Automate Summary Statistics on Multiple Numpy Arrays\n",
    "\n",
    "By now, you may be excited that you can automate these kinds of tasks, \n",
    "but you may also be thinking that you would prefer to iterate on **numpy** \n",
    "arrays or **pandas** dataframes, instead of working with data values in lists.\n",
    "\n",
    "You can do that, too! For example, you can build a loop that will calculate \n",
    "summary statistics (such as the sum or median values) of multiple data structures, \n",
    "such as **numpy** arrays. Recall that you can use the functions `np.sum()` and `np.median()` to calculate sum and median values of a **numpy** array.\n",
    "\n",
    "Begin by creating two **numpy** arrays containing the average monthly precipitation values in 2002 and 2013 for <a href=\"https://www.esrl.noaa.gov/psd/boulder/Boulder.mm.precip.html\" target=\"_blank\">Boulder, Colorado, provided by the U.S. National Oceanic and Atmospheric Administration (NOAA).</a> \n",
    "\n",
    "Month  | Precipitation (inches) in 2002 | Precipitation (inches) in 2013 |\n",
    "--- | --- | --- |\n",
    "Jan | 1.07 |0.27 |\n",
    "Feb | 0.44 |1.13 |\n",
    "Mar | 1.50 |1.72 |\n",
    "Apr | 0.20 |4.14 |\n",
    "May | 3.20 |2.66 |\n",
    "June | 1.18 |0.61 |\n",
    "July | 0.09 |1.03 |\n",
    "Aug | 1.44 |1.40 |\n",
    "Sept |1.52  |18.16 |\n",
    "Oct | 2.44 |2.24 |\n",
    "Nov | 0.78 |0.29 |\n",
    "Dec | 0.02 |0.50 |"
   ]
  },
  {
   "cell_type": "code",
   "execution_count": 6,
   "metadata": {},
   "outputs": [],
   "source": [
    "# Import necessary packages\n",
    "import numpy as np\n",
    "\n",
    "# Array of average monthly precip (inches) for 2002 in Boulder, CO\n",
    "precip_2002_arr = np.array([1.07, 0.44, 1.50, 0.20, 3.20, 1.18, \n",
    "                            0.09, 1.44, 1.52, 2.44, 0.78, 0.02])\n",
    "\n",
    "# Array of average monthly precip (inches) for 2013 in Boulder, CO\n",
    "precip_2013_arr = np.array([0.27, 1.13, 1.72, 4.14, 2.66, 0.61, \n",
    "                            1.03, 1.40, 18.16, 2.24, 0.29, 0.50])"
   ]
  },
  {
   "cell_type": "markdown",
   "metadata": {},
   "source": [
    "### Create List of Numpy Arrays For Loop\n",
    "\n",
    "Just like in the previous example, begin by creating the list upon which your \n",
    "loop will iterate. As you want to iterate on multiple **numpy** arrays, you can \n",
    "create a list that contains the object names for all of the **numpy** arrays that \n",
    "you want to work with in the loop. "
   ]
  },
  {
   "cell_type": "code",
   "execution_count": 7,
   "metadata": {},
   "outputs": [],
   "source": [
    "# Create list of numpy arrays\n",
    "arr_list = [precip_2002_arr, precip_2013_arr]"
   ]
  },
  {
   "cell_type": "markdown",
   "metadata": {},
   "source": [
    "### Write Loop\n",
    "\n",
    "Again, think about what type of loop would work best for this data. This time, \n",
    "you have a list of two object names, upon which you want to iterate a calculation: \n",
    "the **numpy** arrays for 2002 and 2013. Which type of loop structure is used in the \n",
    "code below?"
   ]
  },
  {
   "cell_type": "code",
   "execution_count": 8,
   "metadata": {},
   "outputs": [
    {
     "name": "stdout",
     "output_type": "stream",
     "text": [
      "sum: 13.879999999999999\n",
      "median: 1.125\n",
      "sum: 34.15\n",
      "median: 1.265\n"
     ]
    }
   ],
   "source": [
    "# Calculate sum and median for each numpy array in list\n",
    "for arr in arr_list:    \n",
    "    arr_sum = np.sum(arr)\n",
    "    print(\"sum:\", arr_sum)\n",
    "    \n",
    "    arr_median = np.median(arr)    \n",
    "    print(\"median:\", arr_median)    "
   ]
  },
  {
   "cell_type": "markdown",
   "metadata": {},
   "source": [
    "Again, you can capture these values in new, separate lists by defining empty \n",
    "lists and using the assignment operator (`listname += [value]`) to add the results \n",
    "to each list."
   ]
  },
  {
   "cell_type": "code",
   "execution_count": 20,
   "metadata": {},
   "outputs": [],
   "source": [
    "# Create new empty lists to receive values\n",
    "monthly_precip_sum = []\n",
    "monthly_precip_median = []\n",
    "\n",
    "# Calculate sum and median for each numpy array and add to new lists\n",
    "for arr in arr_list:    \n",
    "    arr_sum = np.sum(arr)\n",
    "    monthly_precip_sum.append(arr_sum)\n",
    "    \n",
    "    arr_median = np.median(arr)    \n",
    "    monthly_precip_median.append(arr_median)"
   ]
  },
  {
   "cell_type": "markdown",
   "metadata": {},
   "source": [
    "### Review the List Being Iterated Upon and the Placeholder in Loop\n",
    "\n",
    "In the example above, you explicitly created both `monthly_precip_sum` and \n",
    "`monthly_precip_median` as empty lists to which the loop results could be appended. \n",
    "So at the end of the loop, they are no longer empty, as they have been populated with \n",
    "the results of each iteration of the loop.   "
   ]
  },
  {
   "cell_type": "code",
   "execution_count": 21,
   "metadata": {},
   "outputs": [
    {
     "name": "stdout",
     "output_type": "stream",
     "text": [
      "[13.879999999999999, 34.15]\n",
      "[1.125, 1.265]\n"
     ]
    }
   ],
   "source": [
    "# Lists contain the calculated values\n",
    "print(monthly_precip_sum)\n",
    "print(monthly_precip_median)"
   ]
  },
  {
   "cell_type": "markdown",
   "metadata": {},
   "source": [
    "The variable `arr` is the placeholder variable that is created as part \n",
    "of the loop and serves as a placeholder to represent each item from the \n",
    "original list (`arr_list`), as the loop iterates. At the end of the loop, \n",
    "`arr` is equal to the last value that it was assigned (e.g. \n",
    "`precip_2013_arr`, the last array in the list).\n",
    "\n",
    "Similarly, at the end of the loop, `arr_sum` and `arr_median` are also equal\n",
    "to the last value that was calculated for each (e.g. the sum and median values \n",
    "for `precip_2013_arr`."
   ]
  },
  {
   "cell_type": "code",
   "execution_count": 11,
   "metadata": {},
   "outputs": [
    {
     "name": "stdout",
     "output_type": "stream",
     "text": [
      "[ 0.27  1.13  1.72  4.14  2.66  0.61  1.03  1.4  18.16  2.24  0.29  0.5 ]\n",
      "34.15\n",
      "1.265\n"
     ]
    }
   ],
   "source": [
    "# Final value of arr\n",
    "print(arr)\n",
    "\n",
    "# Final value of arr_sum\n",
    "print(arr_sum)\n",
    "\n",
    "# Final value of arr_median\n",
    "print(arr_median)"
   ]
  },
  {
   "cell_type": "markdown",
   "metadata": {},
   "source": [
    "## Automate Calculation on Multiple Columns in Pandas Dataframe\n",
    "\n",
    "In addition to running a loop on multiple data structures (e.g multiple \n",
    "**numpy** arrays like in the previous example), you can also run loops on \n",
    "multiple columns of a **pandas** dataframe. For example, you may need to \n",
    "convert the measurement units of multiple columns, such as converting the \n",
    "precipitation values from inches to millimeters (1 inch = 25.4 millimeters). \n",
    "\n",
    "Begin by creating a new **pandas** dataframe of the same average monthly \n",
    "precipitation values in 2002 and 2013 for Boulder, CO. "
   ]
  },
  {
   "cell_type": "code",
   "execution_count": 12,
   "metadata": {},
   "outputs": [
    {
     "data": {
      "text/html": [
       "<div>\n",
       "<style scoped>\n",
       "    .dataframe tbody tr th:only-of-type {\n",
       "        vertical-align: middle;\n",
       "    }\n",
       "\n",
       "    .dataframe tbody tr th {\n",
       "        vertical-align: top;\n",
       "    }\n",
       "\n",
       "    .dataframe thead th {\n",
       "        text-align: right;\n",
       "    }\n",
       "</style>\n",
       "<table border=\"1\" class=\"dataframe\">\n",
       "  <thead>\n",
       "    <tr style=\"text-align: right;\">\n",
       "      <th></th>\n",
       "      <th>month</th>\n",
       "      <th>precip_2002</th>\n",
       "      <th>precip_2013</th>\n",
       "    </tr>\n",
       "  </thead>\n",
       "  <tbody>\n",
       "    <tr>\n",
       "      <th>0</th>\n",
       "      <td>Jan</td>\n",
       "      <td>1.07</td>\n",
       "      <td>0.27</td>\n",
       "    </tr>\n",
       "    <tr>\n",
       "      <th>1</th>\n",
       "      <td>Feb</td>\n",
       "      <td>0.44</td>\n",
       "      <td>1.13</td>\n",
       "    </tr>\n",
       "    <tr>\n",
       "      <th>2</th>\n",
       "      <td>Mar</td>\n",
       "      <td>1.50</td>\n",
       "      <td>1.72</td>\n",
       "    </tr>\n",
       "    <tr>\n",
       "      <th>3</th>\n",
       "      <td>Apr</td>\n",
       "      <td>0.20</td>\n",
       "      <td>4.14</td>\n",
       "    </tr>\n",
       "    <tr>\n",
       "      <th>4</th>\n",
       "      <td>May</td>\n",
       "      <td>3.20</td>\n",
       "      <td>2.66</td>\n",
       "    </tr>\n",
       "    <tr>\n",
       "      <th>5</th>\n",
       "      <td>June</td>\n",
       "      <td>1.18</td>\n",
       "      <td>0.61</td>\n",
       "    </tr>\n",
       "    <tr>\n",
       "      <th>6</th>\n",
       "      <td>July</td>\n",
       "      <td>0.09</td>\n",
       "      <td>1.03</td>\n",
       "    </tr>\n",
       "    <tr>\n",
       "      <th>7</th>\n",
       "      <td>Aug</td>\n",
       "      <td>1.44</td>\n",
       "      <td>1.40</td>\n",
       "    </tr>\n",
       "    <tr>\n",
       "      <th>8</th>\n",
       "      <td>Sept</td>\n",
       "      <td>1.52</td>\n",
       "      <td>18.16</td>\n",
       "    </tr>\n",
       "    <tr>\n",
       "      <th>9</th>\n",
       "      <td>Oct</td>\n",
       "      <td>2.44</td>\n",
       "      <td>2.24</td>\n",
       "    </tr>\n",
       "    <tr>\n",
       "      <th>10</th>\n",
       "      <td>Nov</td>\n",
       "      <td>0.78</td>\n",
       "      <td>0.29</td>\n",
       "    </tr>\n",
       "    <tr>\n",
       "      <th>11</th>\n",
       "      <td>Dec</td>\n",
       "      <td>0.02</td>\n",
       "      <td>0.50</td>\n",
       "    </tr>\n",
       "  </tbody>\n",
       "</table>\n",
       "</div>"
      ],
      "text/plain": [
       "   month  precip_2002  precip_2013\n",
       "0    Jan         1.07         0.27\n",
       "1    Feb         0.44         1.13\n",
       "2    Mar         1.50         1.72\n",
       "3    Apr         0.20         4.14\n",
       "4    May         3.20         2.66\n",
       "5   June         1.18         0.61\n",
       "6   July         0.09         1.03\n",
       "7    Aug         1.44         1.40\n",
       "8   Sept         1.52        18.16\n",
       "9    Oct         2.44         2.24\n",
       "10   Nov         0.78         0.29\n",
       "11   Dec         0.02         0.50"
      ]
     },
     "execution_count": 12,
     "metadata": {},
     "output_type": "execute_result"
    }
   ],
   "source": [
    "# Import necessary packages\n",
    "import pandas as pd\n",
    "\n",
    "# Average monthly precip (inches) in 2002 and 2013 for Boulder, CO\n",
    "precip_2002_2013_df = pd.DataFrame(columns=[\"month\", \"precip_2002\", \"precip_2013\"],\n",
    "                                   data=[\n",
    "                                        [\"Jan\", 1.07, 0.27],   [\"Feb\", 0.44, 1.13],\n",
    "                                        [\"Mar\", 1.50, 1.72],   [\"Apr\", 0.20, 4.14],\n",
    "                                        [\"May\", 3.20, 2.66],   [\"June\", 1.18, 0.61],\n",
    "                                        [\"July\", 0.09, 1.03],  [\"Aug\", 1.44, 1.40],\n",
    "                                        [\"Sept\", 1.52, 18.16], [\"Oct\", 2.44, 2.24],\n",
    "                                        [\"Nov\", 0.78, 0.29],   [\"Dec\", 0.02, 0.50]\n",
    "                                   ])\n",
    "\n",
    "precip_2002_2013_df"
   ]
  },
  {
   "cell_type": "markdown",
   "metadata": {},
   "source": [
    "### Create List of Column Names\n",
    "\n",
    "Just like in the previous examples, begin by creating the list upon which your \n",
    "loop will iterate. As you want to iterate on multiple columns in a **pandas** \n",
    "dataframe, you can create a list that contains the column names that you want to \n",
    "work with in the loop. "
   ]
  },
  {
   "cell_type": "code",
   "execution_count": 13,
   "metadata": {},
   "outputs": [],
   "source": [
    "# Create a list of column names\n",
    "cols = [\"precip_2002\", \"precip_2013\"]"
   ]
  },
  {
   "cell_type": "markdown",
   "metadata": {},
   "source": [
    "### Write Loop\n",
    "\n",
    "Once again, think about what type of loop would work best for this data. \n",
    "You have two columns in one **pandas** dataframe upon which you want to iterate \n",
    "a calculation: 2002 and 2013. Recall from previous chapters that you can use assignment \n",
    "operators recalculate columns in **pandas** dataframe: \n",
    "\n",
    "`df[\"column_name\"] *= 25.4` \n",
    "\n",
    "What do you notice about the syntax below that is a little different?"
   ]
  },
  {
   "cell_type": "code",
   "execution_count": 14,
   "metadata": {},
   "outputs": [
    {
     "data": {
      "text/html": [
       "<div>\n",
       "<style scoped>\n",
       "    .dataframe tbody tr th:only-of-type {\n",
       "        vertical-align: middle;\n",
       "    }\n",
       "\n",
       "    .dataframe tbody tr th {\n",
       "        vertical-align: top;\n",
       "    }\n",
       "\n",
       "    .dataframe thead th {\n",
       "        text-align: right;\n",
       "    }\n",
       "</style>\n",
       "<table border=\"1\" class=\"dataframe\">\n",
       "  <thead>\n",
       "    <tr style=\"text-align: right;\">\n",
       "      <th></th>\n",
       "      <th>month</th>\n",
       "      <th>precip_2002</th>\n",
       "      <th>precip_2013</th>\n",
       "    </tr>\n",
       "  </thead>\n",
       "  <tbody>\n",
       "    <tr>\n",
       "      <th>0</th>\n",
       "      <td>Jan</td>\n",
       "      <td>27.178</td>\n",
       "      <td>6.858</td>\n",
       "    </tr>\n",
       "    <tr>\n",
       "      <th>1</th>\n",
       "      <td>Feb</td>\n",
       "      <td>11.176</td>\n",
       "      <td>28.702</td>\n",
       "    </tr>\n",
       "    <tr>\n",
       "      <th>2</th>\n",
       "      <td>Mar</td>\n",
       "      <td>38.100</td>\n",
       "      <td>43.688</td>\n",
       "    </tr>\n",
       "    <tr>\n",
       "      <th>3</th>\n",
       "      <td>Apr</td>\n",
       "      <td>5.080</td>\n",
       "      <td>105.156</td>\n",
       "    </tr>\n",
       "    <tr>\n",
       "      <th>4</th>\n",
       "      <td>May</td>\n",
       "      <td>81.280</td>\n",
       "      <td>67.564</td>\n",
       "    </tr>\n",
       "    <tr>\n",
       "      <th>5</th>\n",
       "      <td>June</td>\n",
       "      <td>29.972</td>\n",
       "      <td>15.494</td>\n",
       "    </tr>\n",
       "    <tr>\n",
       "      <th>6</th>\n",
       "      <td>July</td>\n",
       "      <td>2.286</td>\n",
       "      <td>26.162</td>\n",
       "    </tr>\n",
       "    <tr>\n",
       "      <th>7</th>\n",
       "      <td>Aug</td>\n",
       "      <td>36.576</td>\n",
       "      <td>35.560</td>\n",
       "    </tr>\n",
       "    <tr>\n",
       "      <th>8</th>\n",
       "      <td>Sept</td>\n",
       "      <td>38.608</td>\n",
       "      <td>461.264</td>\n",
       "    </tr>\n",
       "    <tr>\n",
       "      <th>9</th>\n",
       "      <td>Oct</td>\n",
       "      <td>61.976</td>\n",
       "      <td>56.896</td>\n",
       "    </tr>\n",
       "    <tr>\n",
       "      <th>10</th>\n",
       "      <td>Nov</td>\n",
       "      <td>19.812</td>\n",
       "      <td>7.366</td>\n",
       "    </tr>\n",
       "    <tr>\n",
       "      <th>11</th>\n",
       "      <td>Dec</td>\n",
       "      <td>0.508</td>\n",
       "      <td>12.700</td>\n",
       "    </tr>\n",
       "  </tbody>\n",
       "</table>\n",
       "</div>"
      ],
      "text/plain": [
       "   month  precip_2002  precip_2013\n",
       "0    Jan       27.178        6.858\n",
       "1    Feb       11.176       28.702\n",
       "2    Mar       38.100       43.688\n",
       "3    Apr        5.080      105.156\n",
       "4    May       81.280       67.564\n",
       "5   June       29.972       15.494\n",
       "6   July        2.286       26.162\n",
       "7    Aug       36.576       35.560\n",
       "8   Sept       38.608      461.264\n",
       "9    Oct       61.976       56.896\n",
       "10   Nov       19.812        7.366\n",
       "11   Dec        0.508       12.700"
      ]
     },
     "execution_count": 14,
     "metadata": {},
     "output_type": "execute_result"
    }
   ],
   "source": [
    "# Convert values for each column in cols list\n",
    "for column in cols:    \n",
    "    precip_2002_2013_df[column] *= 25.4\n",
    "\n",
    "# Print new values    \n",
    "precip_2002_2013_df"
   ]
  },
  {
   "cell_type": "markdown",
   "metadata": {},
   "source": [
    "### Review the List Being Iterated Upon and the Placeholder in Loop\n",
    "\n",
    "Note that because `column` is an implicit variable or placeholder for the \n",
    "columns in the list, you do not need to use quotations `\"\"` to indicate a \n",
    "specific column name in the loop such as `\"precip_2002\"`. \n",
    "\n",
    "In the first iteration, `column` would contain the values in the `precip_2002` \n",
    "column, while in the last iteration, `column` would contain the values in the \n",
    "`precip_2013` column. You know you are using an implicit variable because the \n",
    "column name will change with each iteration. Also, notice the placement of code \n",
    "`precip_2002_2013` to display the dataframe *after* the loop is completed. \n",
    "\n",
    "This code is not contained with the loop, so you do not see the dataframe each time that the loop iterates. You only see the dataframe when the loop is completed. "
   ]
  },
  {
   "cell_type": "markdown",
   "metadata": {},
   "source": [
    "## Automate Data Downloads Using EarthPy\n",
    "\n",
    "Imagine that you have multiple URLs from which you need to download data \n",
    "for a workflow. Rather than writing out the same code to download each \n",
    "file at time, you can use a loop to download all of these files using one set of code. \n",
    "\n",
    "Begin by importing the necessary package, **earthpy**, which is needed to access the \n",
    "`get_data()` function. You will also use **os** to print the contents of the default \n",
    "data directory."
   ]
  },
  {
   "cell_type": "code",
   "execution_count": 15,
   "metadata": {},
   "outputs": [],
   "source": [
    "# Import necessary packages\n",
    "import os\n",
    "import earthpy as et"
   ]
  },
  {
   "cell_type": "markdown",
   "metadata": {},
   "source": [
    "### Create List of URLs For Loop\n",
    "\n",
    "Just like in the previous examples, begin by creating the list upon \n",
    "which your loop will iterate. As you want to iterate on multiple URLs, \n",
    "you can create a list that contains the URLs for all of the files that \n",
    "you want to download.\n",
    "\n",
    "In this case, it is useful to create variables for the individual URLs first, \n",
    "so that you can easily manage them as well as make the code more readable.  "
   ]
  },
  {
   "cell_type": "code",
   "execution_count": 16,
   "metadata": {},
   "outputs": [],
   "source": [
    "# URL for avg monthly precip (inches) for Boulder, CO\n",
    "avg_month_precip_url = 'https://ndownloader.figshare.com/files/12565616'\n",
    "\n",
    "# URL for precip data for 2002 and 2013 (inches) for array\n",
    "precip_2002_2013_url = 'https://ndownloader.figshare.com/files/12707792'\n",
    "\n",
    "# Create list of URLs\n",
    "urls = [avg_month_precip_url, precip_2002_2013_url]"
   ]
  },
  {
   "cell_type": "markdown",
   "metadata": {},
   "source": [
    "### Write Loop\n",
    "\n",
    "Once again, think about what type of loop would work best for this task. \n",
    "You have a list of URLs upon which you want to iterate some code, which \n",
    "in this case is `et.data.get_data()` to download each file."
   ]
  },
  {
   "cell_type": "code",
   "execution_count": 17,
   "metadata": {
    "lines_to_next_cell": 0
   },
   "outputs": [
    {
     "name": "stdout",
     "output_type": "stream",
     "text": [
      "Downloading from https://ndownloader.figshare.com/files/12565616\n",
      "Downloading from https://ndownloader.figshare.com/files/12707792\n"
     ]
    }
   ],
   "source": [
    "# Download each url in list\n",
    "for file_url in urls:\n",
    "    et.data.get_data(url=file_url)"
   ]
  },
  {
   "cell_type": "markdown",
   "metadata": {},
   "source": [
    "### Review the List Being Iterated Upon and the Placeholder in Loop\n",
    "\n",
    "Note that in order for `et.data.get_data()` to execute successfully, \n",
    "you must specify that the parameter `url` for the function is equal \n",
    "to the placeholder, which in this example is `file_url`. \n",
    "\n",
    "This is a specific requirement of this function, as `et.data.get_data(url)` \n",
    "will result in an error that `url` is not a valid key for a dataset in \n",
    "**earthpy** (see more details in the\n",
    "<a href=\"https://earthpy.readthedocs.io/en/latest/gallery_vignettes/get_data.html#sphx-glr-gallery-vignettes-get-data-py\" target=\"_blank\">code examples for earthpy</a>).\n",
    "\n",
    "```\n",
    "KeyError: \"Key not found in earthpy.io.DATA_URLS\n",
    "```\n",
    "\n",
    "With the correct syntax shown in the example above, the loop will execute \n",
    "`et.data.get_data(url=file_url)` successfully on the URLs provided in the \n",
    "list. In the first iteration, `file_url` is set to `avg_month_precip_url`, \n",
    "and then in the last iteration, `file_url` is set to `precip_2002_2013_url`.\n",
    "\n",
    "\n",
    "### Check Files in Directory\n",
    "\n",
    "You can see that when using `et.data.get_data()` in a loop, you no longer \n",
    "get the path printed for each downloaded file. However, you can use another \n",
    "function from the **os** package to list the contents (i.e. files and \n",
    "subdirectories) of a directory: `os.listdir()`. Recall that by default, \n",
    "**earthpy** downloads files to a subdirectory called `earthpy-downloads` \n",
    "under the `data` directory in the `earth-analytics` directory (e.g. \n",
    "`earth-analytics/data/earthpy-downloads/`).\n",
    "\n",
    "With this knowledge, you can define a path to this directory and provide \n",
    "that path to the function `os.listdir()` to list out the contents of that \n",
    "directory. The files that you downloaded with the loop above will be listed \n",
    "in the contents of the directory."
   ]
  },
  {
   "cell_type": "code",
   "execution_count": 22,
   "metadata": {},
   "outputs": [
    {
     "data": {
      "text/plain": [
       "['avg-monthly-temp-fahr',\n",
       " 'My_Data2011-boulder.csv',\n",
       " 'Rocky_Mountain_National_Park_-_Boundary_Polygon.geojson',\n",
       " 'My_Data2004-boulder.csv',\n",
       " 'ne_50m_populated_places_simple',\n",
       " 'glacier-mass-balance_zip',\n",
       " '.DS_Store',\n",
       " 'ne_50m_coastline',\n",
       " '175425c25d8849b58feb89483ef02961_1.csv',\n",
       " 'My_Data2008-boulder.csv',\n",
       " 'ne_50m_admin_1_states_provinces',\n",
       " 'rmnp-data',\n",
       " 'output.zip',\n",
       " 'City_Limits.geojson',\n",
       " 'naip-before-after',\n",
       " 'data_urls.csv',\n",
       " 'City_Limits-shp',\n",
       " 'My_Data2007-boulder.csv',\n",
       " 'My_Data2012-boulder.csv',\n",
       " 'avg-precip-months-seasons.csv',\n",
       " 'avg-monthly-precip.txt',\n",
       " 'rmnp_landsat',\n",
       " 'My_Data2009-boulder.csv',\n",
       " 'landsat-coldsprings-hw',\n",
       " 'ne_10m_admin_0_countries',\n",
       " 'temperature_example.csv',\n",
       " 'monthly-precip-2002-2013.csv',\n",
       " 'Rocky_Mountain_National_Park_-_Trails-shp',\n",
       " 'My_Data2005-boulder.csv',\n",
       " 'My_Data2010-boulder.csv',\n",
       " 'ne_50m_admin_0_countries',\n",
       " 'OSMP_Climbing_Formations.csv',\n",
       " 'ne_50m_admin_0_boundary_lines_land',\n",
       " 'My_Data2013-boulder.csv',\n",
       " 'My_Data2006-boulder.csv',\n",
       " 'USGS_1_n41w106.tif',\n",
       " '14555681',\n",
       " 'NPS_-_Land_Resources_Division_Boundary_and_Tract_Data_Service-shp',\n",
       " 'My_Data2003-boulder.csv']"
      ]
     },
     "execution_count": 22,
     "metadata": {},
     "output_type": "execute_result"
    }
   ],
   "source": [
    "# Create path for data directory\n",
    "data_dir = os.path.join(et.io.HOME, \n",
    "                        \"earth-analytics\", \n",
    "                        \"data\", \n",
    "                        \"earthpy-downloads\")\n",
    "\n",
    "os.listdir(data_dir)"
   ]
  },
  {
   "cell_type": "markdown",
   "metadata": {},
   "source": [
    "Congratulations - you have automated your first tasks in this textbook using **Python**!\n"
   ]
  }
 ],
 "metadata": {
  "celltoolbar": "Tags",
  "kernelspec": {
   "display_name": "Python 3",
   "language": "python",
   "name": "python3"
  },
  "language_info": {
   "codemirror_mode": {
    "name": "ipython",
    "version": 3
   },
   "file_extension": ".py",
   "mimetype": "text/x-python",
   "name": "python",
   "nbconvert_exporter": "python",
   "pygments_lexer": "ipython3",
   "version": "3.7.6"
  },
  "toc": {
   "base_numbering": 1,
   "nav_menu": {},
   "number_sections": true,
   "sideBar": true,
   "skip_h1_title": false,
   "title_cell": "Table of Contents",
   "title_sidebar": "Contents",
   "toc_cell": false,
   "toc_position": {},
   "toc_section_display": true,
   "toc_window_display": false
  },
  "varInspector": {
   "cols": {
    "lenName": 16,
    "lenType": 16,
    "lenVar": 40
   },
   "kernels_config": {
    "python": {
     "delete_cmd_postfix": "",
     "delete_cmd_prefix": "del ",
     "library": "var_list.py",
     "varRefreshCmd": "print(var_dic_list())"
    },
    "r": {
     "delete_cmd_postfix": ") ",
     "delete_cmd_prefix": "rm(",
     "library": "var_list.r",
     "varRefreshCmd": "cat(var_dic_list()) "
    }
   },
   "types_to_exclude": [
    "module",
    "function",
    "builtin_function_or_method",
    "instance",
    "_Feature"
   ],
   "window_display": false
  }
 },
 "nbformat": 4,
 "nbformat_minor": 2
}
