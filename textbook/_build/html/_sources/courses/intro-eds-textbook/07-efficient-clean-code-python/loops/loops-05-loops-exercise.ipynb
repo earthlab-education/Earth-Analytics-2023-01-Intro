{
 "cells": [
  {
   "cell_type": "raw",
   "metadata": {},
   "source": [
    "---\n",
    "layout: single\n",
    "title: 'Loops in Python Exercise'\n",
    "excerpt: \"Loops can be used to automate data tasks in Python by iteratively executing the same code on multiple data structures. Practice using loops to automate certain functionality in Python.\"\n",
    "authors: ['Nathan Korinek', 'Leah Wasser']\n",
    "category: [courses]\n",
    "class-lesson: ['intro-loops-tb']\n",
    "permalink: /courses/intro-to-earth-data-science/write-efficient-python-code/loops/loops-exercise/\n",
    "nav-title: \"Loops Exercise\"\n",
    "dateCreated: 2020-07-08\n",
    "modified: '{:%Y-%m-%d}'.format(datetime.now())\n",
    "module-type: 'class'\n",
    "chapter: 18\n",
    "course: \"intro-to-earth-data-science-textbook\"\n",
    "week: 7\n",
    "sidebar:\n",
    "  nav:\n",
    "author_profile: false\n",
    "comments: true\n",
    "order: 5\n",
    "topics:\n",
    "  reproducible-science-and-programming: ['python']\n",
    "---"
   ]
  },
  {
   "cell_type": "markdown",
   "metadata": {},
   "source": [
    "{% include toc title=\"On This Page\" icon=\"file-text\" %}\n",
    "\n",
    "<div class='notice--success' markdown=\"1\">\n",
    "\n",
    "## <i class=\"fa fa-graduation-cap\" aria-hidden=\"true\"></i> Learning Objectives\n",
    "\n",
    "This page of exercises will test the skills that you learned in the previous lessons \n",
    "in this chapter. You will practice using loops to help with common coding tasks, using \n",
    "for and while loops, and looping over different types of data. \n",
    "\n",
    "</div>"
   ]
  },
  {
   "cell_type": "markdown",
   "metadata": {},
   "source": [
    "<div class=\"notice--warning\" markdown=\"1\">\n",
    "\n",
    "## <i class=\"fa fa-pencil-square-o\" aria-hidden=\"true\"></i> Challenge 1: Print Numbers in a list \n",
    "\n",
    "The list below contains temperature values for a location in Boulder, Colorado.\n",
    "Create a for loop that loops through each value in the list and prints the \n",
    "value like this: `\n",
    "\n",
    "`temp: 47`\n",
    "\n",
    "HINT: you can print a string and a variable together using the syntax:\n",
    "\n",
    "`print(\"temp:\", variable_name_here)`\n",
    "\n",
    "</div>"
   ]
  },
  {
   "cell_type": "code",
   "execution_count": 1,
   "metadata": {},
   "outputs": [
    {
     "data": {
      "text/plain": [
       "[47, 49, 57, 64, 72, 83, 89, 87, 79, 67, 55, 47]"
      ]
     },
     "execution_count": 1,
     "metadata": {},
     "output_type": "execute_result"
    }
   ],
   "source": [
    "# Data to convert to celsius\n",
    "\n",
    "boulder_avg_high_temp_f = [\n",
    "    47,\n",
    "    49,\n",
    "    57,\n",
    "    64,\n",
    "    72,\n",
    "    83,\n",
    "    89,\n",
    "    87,\n",
    "    79,\n",
    "    67,\n",
    "    55,\n",
    "    47\n",
    "]\n",
    "\n",
    "boulder_avg_high_temp_f"
   ]
  },
  {
   "cell_type": "code",
   "execution_count": 2,
   "metadata": {},
   "outputs": [],
   "source": [
    "# Add your code here \n"
   ]
  },
  {
   "cell_type": "code",
   "execution_count": 3,
   "metadata": {
    "tags": [
     "hide"
    ]
   },
   "outputs": [
    {
     "name": "stdout",
     "output_type": "stream",
     "text": [
      "temp: 47\n",
      "temp: 49\n",
      "temp: 57\n",
      "temp: 64\n",
      "temp: 72\n",
      "temp: 83\n",
      "temp: 89\n",
      "temp: 87\n",
      "temp: 79\n",
      "temp: 67\n",
      "temp: 55\n",
      "temp: 47\n"
     ]
    }
   ],
   "source": [
    "# Answer\n",
    "\n",
    "for val in boulder_avg_high_temp_f:\n",
    "    print(\"temp:\", val)"
   ]
  },
  {
   "cell_type": "markdown",
   "metadata": {},
   "source": [
    "<div class=\"notice--warning\" markdown=\"1\">\n",
    "\n",
    "## <i class=\"fa fa-pencil-square-o\" aria-hidden=\"true\"></i> Challenge 2: Modify Numeric Values in a List\n",
    "\n",
    "Below is a list of values that represents the average monthly high temperature \n",
    "in Boulder, CO., collected by NOAA. They are currently in Fahrenheit, but can be \n",
    "converted to Celsius by subtracting 32, and multiplying by 5/9. \n",
    "\n",
    "```\n",
    "celcius = (fahrenheit - 32) * 5/9\n",
    "```\n",
    "\n",
    "Create a **new list** with these same temperatures converted to Celsius using a for loop.\n",
    "Call your new list: `boulder_avg_high_temp_c`\n",
    "\n",
    "HINT: to complete this challenge you may want to create a new empty list first. \n",
    "Then you can use `list_name.append()` in each loop iteration to add a new \n",
    "value to your list. \n",
    "\n",
    "</div>"
   ]
  },
  {
   "cell_type": "code",
   "execution_count": 4,
   "metadata": {},
   "outputs": [],
   "source": [
    "# Add your code here \n"
   ]
  },
  {
   "cell_type": "code",
   "execution_count": 5,
   "metadata": {
    "tags": [
     "hide"
    ]
   },
   "outputs": [
    {
     "data": {
      "text/plain": [
       "[8.333333333333334,\n",
       " 9.444444444444445,\n",
       " 13.88888888888889,\n",
       " 17.77777777777778,\n",
       " 22.22222222222222,\n",
       " 28.333333333333336,\n",
       " 31.666666666666668,\n",
       " 30.555555555555557,\n",
       " 26.11111111111111,\n",
       " 19.444444444444446,\n",
       " 12.777777777777779,\n",
       " 8.333333333333334]"
      ]
     },
     "execution_count": 5,
     "metadata": {},
     "output_type": "execute_result"
    }
   ],
   "source": [
    "# Answer\n",
    "\n",
    "boulder_avg_high_temp_c = []\n",
    "\n",
    "for f in boulder_avg_high_temp_f:\n",
    "    c = (f - 32)*(5/9)\n",
    "    boulder_avg_high_temp_c.append(c)\n",
    "    \n",
    "boulder_avg_high_temp_c"
   ]
  },
  {
   "cell_type": "markdown",
   "metadata": {},
   "source": [
    "<div class=\"notice--warning\" markdown=\"1\">\n",
    "\n",
    "## <i class=\"fa fa-pencil-square-o\" aria-hidden=\"true\"></i> Challenge 3: Round Values In a List  \n",
    "\n",
    "Create a loop that rounds the values in the list that you created above: \n",
    "`boulder_avg_high_temp_c` to only two decimal places. \n",
    "\n",
    "To round your data, you can use the **Python** function `round()`. The \n",
    "first argument in the `round()` function is the number to round, and the \n",
    "second argument is the number of decimals you want after it's been rounded. \n",
    "See how this works below.\n",
    "\n",
    "```\n",
    "c = 7.3848234\n",
    "round(c, 2)\n",
    "\n",
    "# 7.38\n",
    "```\n",
    "\n",
    "Create a new list called `boulder_avg_high_temp_c_round` that contains temperature\n",
    "data that has been rounded. \n",
    "\n",
    "</div>"
   ]
  },
  {
   "cell_type": "code",
   "execution_count": 6,
   "metadata": {},
   "outputs": [],
   "source": [
    "# Add your code here \n"
   ]
  },
  {
   "cell_type": "code",
   "execution_count": 7,
   "metadata": {
    "tags": [
     "hide"
    ]
   },
   "outputs": [
    {
     "data": {
      "text/plain": [
       "[8.33,\n",
       " 9.44,\n",
       " 13.89,\n",
       " 17.78,\n",
       " 22.22,\n",
       " 28.33,\n",
       " 31.67,\n",
       " 30.56,\n",
       " 26.11,\n",
       " 19.44,\n",
       " 12.78,\n",
       " 8.33]"
      ]
     },
     "execution_count": 7,
     "metadata": {},
     "output_type": "execute_result"
    }
   ],
   "source": [
    "# Answer\n",
    "\n",
    "boulder_avg_high_temp_c_round = []\n",
    "\n",
    "for c in boulder_avg_high_temp_c:\n",
    "    boulder_avg_high_temp_c_round.append(round(c, 2))\n",
    "    \n",
    "boulder_avg_high_temp_c_round"
   ]
  },
  {
   "cell_type": "markdown",
   "metadata": {
    "tags": [
     "hide"
    ]
   },
   "source": [
    "I think we need some better, more applied examples for next year. i suggest\n",
    "we use the data i used in notebook 3 and have them look through a list of files and print"
   ]
  },
  {
   "cell_type": "markdown",
   "metadata": {},
   "source": [
    "<div class=\"notice--warning\" markdown=\"1\">\n",
    "\n",
    "## <i class=\"fa fa-pencil-square-o\" aria-hidden=\"true\"></i> Challenge 4: Print A List of Directories  \n",
    "\n",
    "The code below creates a list of directories called `all_dirs`.\n",
    "Create a **for loop** that prints each directory name.\n",
    "\n",
    "</div>"
   ]
  },
  {
   "cell_type": "code",
   "execution_count": 8,
   "metadata": {},
   "outputs": [],
   "source": [
    "import os \n",
    "from glob import glob\n",
    "import earthpy as et \n",
    "\n",
    "# Download data on average monthly temp for two California sites\n",
    "file_url = \"https://ndownloader.figshare.com/files/21894528\"\n",
    "out_path = et.data.get_data(url = file_url)\n",
    "\n",
    "\n",
    "# Set working directory to earth-analytics\n",
    "os.chdir(os.path.join(et.io.HOME, \n",
    "                      \"earth-analytics\", \n",
    "                      \"data\",\n",
    "                      \"earthpy-downloads\"))\n",
    "\n",
    "# Creating all_dirs list of directories to loop through\n",
    "\n",
    "data_dirs = os.path.join(out_path, \"*\")\n",
    "all_dirs = glob(data_dirs)\n"
   ]
  },
  {
   "cell_type": "code",
   "execution_count": 9,
   "metadata": {},
   "outputs": [],
   "source": [
    "# Add your code here \n"
   ]
  },
  {
   "cell_type": "code",
   "execution_count": 10,
   "metadata": {
    "tags": [
     "hide"
    ]
   },
   "outputs": [
    {
     "name": "stdout",
     "output_type": "stream",
     "text": [
      "C:\\Users\\Nathan\\earth-analytics\\data\\earthpy-downloads\\avg-monthly-temp-fahr\\San-Diego\n",
      "C:\\Users\\Nathan\\earth-analytics\\data\\earthpy-downloads\\avg-monthly-temp-fahr\\Sonoma\n"
     ]
    }
   ],
   "source": [
    "# Answer\n",
    "\n",
    "for a_dir in all_dirs:\n",
    "    print(a_dir)"
   ]
  },
  {
   "cell_type": "markdown",
   "metadata": {},
   "source": [
    "<div class=\"notice--warning\" markdown=\"1\">\n",
    "\n",
    "## <i class=\"fa fa-pencil-square-o\" aria-hidden=\"true\"></i> Challenge 5: Print A List of All Files Within Each Directory  \n",
    "\n",
    "Above, you printed the name of each directory stored in a list of directories. \n",
    "Use the same for loop that you created above to print a list of all files  in\n",
    "each directory. \n",
    "\n",
    "HINT: you will want to use the glob function to create a list of files within each directory. \n",
    "\n",
    "* <a href=\"https://www.earthdatascience.org/courses/intro-to-earth-data-science/python-code-fundamentals/work-with-files-directories-paths-in-python/os-glob-manipulate-file-paths/\">More on using the glob function here</a>\n",
    "</div>"
   ]
  },
  {
   "cell_type": "code",
   "execution_count": 11,
   "metadata": {},
   "outputs": [],
   "source": [
    "# Add your code here \n"
   ]
  },
  {
   "cell_type": "code",
   "execution_count": 12,
   "metadata": {
    "tags": [
     "hide"
    ]
   },
   "outputs": [
    {
     "name": "stdout",
     "output_type": "stream",
     "text": [
      "['C:\\\\Users\\\\Nathan\\\\earth-analytics\\\\data\\\\earthpy-downloads\\\\avg-monthly-temp-fahr\\\\San-Diego\\\\San-Diego-1999-temp.csv', 'C:\\\\Users\\\\Nathan\\\\earth-analytics\\\\data\\\\earthpy-downloads\\\\avg-monthly-temp-fahr\\\\San-Diego\\\\San-Diego-2000-temp.csv', 'C:\\\\Users\\\\Nathan\\\\earth-analytics\\\\data\\\\earthpy-downloads\\\\avg-monthly-temp-fahr\\\\San-Diego\\\\San-Diego-2001-temp.csv', 'C:\\\\Users\\\\Nathan\\\\earth-analytics\\\\data\\\\earthpy-downloads\\\\avg-monthly-temp-fahr\\\\San-Diego\\\\San-Diego-2002-temp.csv', 'C:\\\\Users\\\\Nathan\\\\earth-analytics\\\\data\\\\earthpy-downloads\\\\avg-monthly-temp-fahr\\\\San-Diego\\\\San-Diego-2003-temp.csv']\n",
      "['C:\\\\Users\\\\Nathan\\\\earth-analytics\\\\data\\\\earthpy-downloads\\\\avg-monthly-temp-fahr\\\\Sonoma\\\\Sonoma-1999-temp.csv', 'C:\\\\Users\\\\Nathan\\\\earth-analytics\\\\data\\\\earthpy-downloads\\\\avg-monthly-temp-fahr\\\\Sonoma\\\\Sonoma-2000-temp.csv', 'C:\\\\Users\\\\Nathan\\\\earth-analytics\\\\data\\\\earthpy-downloads\\\\avg-monthly-temp-fahr\\\\Sonoma\\\\Sonoma-2001-temp.csv', 'C:\\\\Users\\\\Nathan\\\\earth-analytics\\\\data\\\\earthpy-downloads\\\\avg-monthly-temp-fahr\\\\Sonoma\\\\Sonoma-2002-temp.csv', 'C:\\\\Users\\\\Nathan\\\\earth-analytics\\\\data\\\\earthpy-downloads\\\\avg-monthly-temp-fahr\\\\Sonoma\\\\Sonoma-2003-temp.csv']\n"
     ]
    }
   ],
   "source": [
    "# Answer\n",
    "\n",
    "for a_dir in all_dirs:\n",
    "    all_files = os.path.join(a_dir, \"*\")\n",
    "    print(glob(all_files))"
   ]
  },
  {
   "cell_type": "markdown",
   "metadata": {},
   "source": [
    "<div class=\"notice--warning\" markdown=\"1\">\n",
    "\n",
    "## <i class=\"fa fa-pencil-square-o\" aria-hidden=\"true\"></i> Bonus Challenge 1: Get Data from List of Files\n",
    "\n",
    "Above, you created a list inside of a `for` loop to view all of the files \n",
    "stored in two separate folders. These files are `csv` files that can be opened \n",
    "with **pandas** as a `DataFrame`. The files contain the average monthly temperature \n",
    "for two different study locations, Sonoma and San Diego. Their are `csv` files for \n",
    "each location for the years between 1999 and 2003. \n",
    "\n",
    "For this challenge, use nested `for` loops to get data from the files and find the \n",
    "average temperature in January over the years for the two sites. The end result\n",
    "should be two variables that represent the average January temperature for each site. \n",
    "Their are many ways to get this data, so don't be afraid to get creative!\n",
    "\n",
    "</div>"
   ]
  },
  {
   "cell_type": "code",
   "execution_count": 13,
   "metadata": {},
   "outputs": [],
   "source": [
    "# You will need pandas for this challenge\n",
    "import pandas as pd\n",
    "\n",
    "# Add your code here \n"
   ]
  },
  {
   "cell_type": "code",
   "execution_count": 14,
   "metadata": {
    "tags": [
     "hide"
    ]
   },
   "outputs": [
    {
     "name": "stdout",
     "output_type": "stream",
     "text": [
      "San Diego January Mean Temperature from 1999 to 2003: 65.52 ºF\n",
      "Sonoma January Mean Temperature from 1999 to 2003: 56.82 ºF\n"
     ]
    }
   ],
   "source": [
    "# Answer\n",
    "\n",
    "all_df = []\n",
    "for a_dir in all_dirs:\n",
    "    dir_path = os.path.join(a_dir, \"*\")\n",
    "    all_file_paths = (glob(dir_path))\n",
    "    for a_file_path in all_file_paths:\n",
    "        temp_data_df = pd.read_csv(a_file_path)\n",
    "        temp_data_df[\"location\"] = os.path.basename(a_dir)\n",
    "        all_df.append(temp_data_df)\n",
    "        \n",
    "all_data = pd.concat(all_df) \n",
    "\n",
    "san_diego_df_mean = all_data[all_data[\"location\"] == \"San-Diego\"].mean()\n",
    "sonoma_df_mean = all_data[all_data[\"location\"] == \"Sonoma\"].mean()\n",
    "\n",
    "san_diego_jan_mean = san_diego_df_mean[\"January\"]\n",
    "sonoma_jan_mean = sonoma_df_mean[\"January\"]\n",
    "\n",
    "print(\"San Diego January Mean Temperature from 1999 to 2003: \" + str(round(san_diego_jan_mean, 2)) + \" ºF\")\n",
    "print(\"Sonoma January Mean Temperature from 1999 to 2003: \" + str(round(sonoma_jan_mean, 2)) + \" ºF\")\n"
   ]
  },
  {
   "cell_type": "markdown",
   "metadata": {},
   "source": [
    "<div class=\"notice--warning\" markdown=\"1\">\n",
    "\n",
    "## <i class=\"fa fa-pencil-square-o\" aria-hidden=\"true\"></i> Bonus Challenge 2: Collatz Conjecture\n",
    "\n",
    "The Collatz Conjecture is a mathematic rule that says that if the following \n",
    "rules are performed on any positive interger, the number will eventually reach \n",
    "1. The rules are:\n",
    "\n",
    "1. If the integer is even, the next integer is one half of the current integer.\n",
    "2. If the integer is odd, the next term is 3 times the current integer plus 1. \n",
    "\n",
    "If these rules are followed, any integer will eventually reach one. Using a `while` \n",
    "loop, implement these rules so that a variable you enter into the while loop has these \n",
    "rules run on it until it equals one. Here are some helpful hints to help you implement \n",
    "these rules:\n",
    "\n",
    "1. To check if a number is odd or even in **Python**, it is common practice to see if the remainder of the number divided by 2 equals zero. If you remember, `%` will get the remainder of a number divided by another number. So, to see if a number is even, the code `n%2 == 0` will return `True` if `n` is even, and `False` if `n` is odd.\n",
    "2. The `while` loop will run until the input number equals one. But you also need to remember not to run the code on the number if it does equal one. So in the odd calculation, make sure that the number doesn't equal one before you run the calculation on it. \n",
    "\n",
    "Print out the number variable with each pass through of the while loop. Have your number \n",
    "variable equal `10000` before the `while` loop is run. Careful with this, it shouldn't \n",
    "take long to run. If it is taking a long time to run, there's probably a mistake in your \n",
    "code and your while loop will be running forever until you stop it! Once your code runs, \n",
    "change the number variable to see it run on any number you want!\n",
    "\n",
    "For further explanation on the Collatz Conjecture, and what it looks like to implement it, [this YouTube video explains the basics of the math behind it](https://www.youtube.com/watch?v=5mFpVDpKX70) and [the Wikipedia page on the number has more in depth explanations of the math](https://en.wikipedia.org/wiki/Collatz_conjecture).\n",
    "</div>"
   ]
  },
  {
   "cell_type": "code",
   "execution_count": 15,
   "metadata": {},
   "outputs": [],
   "source": [
    "# Add your code here \n"
   ]
  },
  {
   "cell_type": "code",
   "execution_count": 16,
   "metadata": {
    "scrolled": false,
    "tags": [
     "hide"
    ]
   },
   "outputs": [
    {
     "name": "stdout",
     "output_type": "stream",
     "text": [
      "10000\n",
      "5000.0\n",
      "2500.0\n",
      "1250.0\n",
      "625.0\n",
      "1876.0\n",
      "938.0\n",
      "469.0\n",
      "1408.0\n",
      "704.0\n",
      "352.0\n",
      "176.0\n",
      "88.0\n",
      "44.0\n",
      "22.0\n",
      "11.0\n",
      "34.0\n",
      "17.0\n",
      "52.0\n",
      "26.0\n",
      "13.0\n",
      "40.0\n",
      "20.0\n",
      "10.0\n",
      "5.0\n",
      "16.0\n",
      "8.0\n",
      "4.0\n",
      "2.0\n",
      "1.0\n"
     ]
    }
   ],
   "source": [
    "# Answer \n",
    "\n",
    "n = 10000\n",
    "\n",
    "while n != 1:\n",
    "    print(n)\n",
    "    if(n%2 == 0):\n",
    "        n /= 2\n",
    "    elif(n !=1):\n",
    "        n = (n*3)+1\n",
    "        \n",
    "print(n)"
   ]
  }
 ],
 "metadata": {
  "celltoolbar": "Tags",
  "kernelspec": {
   "display_name": "Python 3",
   "language": "python",
   "name": "python3"
  },
  "language_info": {
   "codemirror_mode": {
    "name": "ipython",
    "version": 3
   },
   "file_extension": ".py",
   "mimetype": "text/x-python",
   "name": "python",
   "nbconvert_exporter": "python",
   "pygments_lexer": "ipython3",
   "version": "3.7.6"
  },
  "toc": {
   "base_numbering": 1,
   "nav_menu": {},
   "number_sections": true,
   "sideBar": true,
   "skip_h1_title": false,
   "title_cell": "Table of Contents",
   "title_sidebar": "Contents",
   "toc_cell": false,
   "toc_position": {},
   "toc_section_display": true,
   "toc_window_display": false
  }
 },
 "nbformat": 4,
 "nbformat_minor": 4
}
