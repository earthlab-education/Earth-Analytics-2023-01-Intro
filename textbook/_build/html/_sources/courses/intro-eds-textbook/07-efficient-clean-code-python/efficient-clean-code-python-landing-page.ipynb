{
 "cells": [
  {
   "cell_type": "raw",
   "metadata": {},
   "source": [
    "---\n",
    "layout: single\n",
    "category: courses\n",
    "title: \"Write Efficient, Clean Code Using Open Source Python\"\n",
    "permalink: /courses/intro-to-earth-data-science/write-efficient-python-code/\n",
    "week-landing: 7\n",
    "modified: '{:%Y-%m-%d}'.format(datetime.now())\n",
    "week: 7\n",
    "sidebar:\n",
    "  nav:\n",
    "comments: false\n",
    "author_profile: false\n",
    "course: \"intro-to-earth-data-science-textbook\"\n",
    "module-type: 'session'\n",
    "redirect_from:\n",
    "  - \"/courses/intro-to-earth-data-science/dry-code-python/\"\n",
    "---"
   ]
  },
  {
   "cell_type": "markdown",
   "metadata": {},
   "source": [
    "{% include toc title=\"Section Seven\" icon=\"file-text\" %}\n",
    "\n",
    "<div class=\"notice--info\" markdown=\"1\">\n",
    "\n",
    "## <i class=\"fa fa-ship\" aria-hidden=\"true\"></i> Section Seven - Write Efficient and Clean Code Using Open Source Python\n",
    "\n",
    "In section seven of this textbook, you will learn about best practices and resources for writing clean, expressive code, including the PEP 8 Style Guide for **Python**, which provides useful standards for naming conventions and organization of code to support code readability. You will also learn how to implement DRY (i.e. Do Not Repeat Yourself) code in **Python** using conditional statements to control the flow of your code as well as loops and custom functions to automate tasks. \n",
    "\n",
    "\n",
    "## <i class=\"fa fa-graduation-cap\" aria-hidden=\"true\"></i> Learning Objectives\n",
    "\n",
    "After completing this section of the introduction to earth data science online textbook, you will be able to:\n",
    "\n",
    "* Explain best practices for writing clean, expressive code. \n",
    "* List key components of the **PEP 8** Style Guide and explain how to apply these standards to your **Python** code.\n",
    "* Explain how conditional statements, loops, and functions help you to write DRY code in **Python**.\n",
    "* Write conditional statements, loops, and functions in **Python** to control the flow of code and automate tasks. \n",
    "\n",
    "</div>\n",
    "\n",
    "\n",
    "{% include textbook-section-toc.html %}"
   ]
  },
  {
   "cell_type": "code",
   "execution_count": null,
   "metadata": {},
   "outputs": [],
   "source": []
  }
 ],
 "metadata": {
  "kernelspec": {
   "display_name": "Python 3",
   "language": "python",
   "name": "python3"
  },
  "language_info": {
   "codemirror_mode": {
    "name": "ipython",
    "version": 3
   },
   "file_extension": ".py",
   "mimetype": "text/x-python",
   "name": "python",
   "nbconvert_exporter": "python",
   "pygments_lexer": "ipython3",
   "version": "3.7.6"
  },
  "toc": {
   "base_numbering": 1,
   "nav_menu": {},
   "number_sections": true,
   "sideBar": true,
   "skip_h1_title": false,
   "title_cell": "Table of Contents",
   "title_sidebar": "Contents",
   "toc_cell": false,
   "toc_position": {},
   "toc_section_display": true,
   "toc_window_display": false
  },
  "varInspector": {
   "cols": {
    "lenName": 16,
    "lenType": 16,
    "lenVar": 40
   },
   "kernels_config": {
    "python": {
     "delete_cmd_postfix": "",
     "delete_cmd_prefix": "del ",
     "library": "var_list.py",
     "varRefreshCmd": "print(var_dic_list())"
    },
    "r": {
     "delete_cmd_postfix": ") ",
     "delete_cmd_prefix": "rm(",
     "library": "var_list.r",
     "varRefreshCmd": "cat(var_dic_list()) "
    }
   },
   "types_to_exclude": [
    "module",
    "function",
    "builtin_function_or_method",
    "instance",
    "_Feature"
   ],
   "window_display": false
  }
 },
 "nbformat": 4,
 "nbformat_minor": 2
}
