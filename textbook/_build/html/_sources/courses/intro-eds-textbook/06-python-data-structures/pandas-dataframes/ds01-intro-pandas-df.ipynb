{
 "cells": [
  {
   "cell_type": "raw",
   "metadata": {},
   "source": [
    "---\n",
    "layout: single\n",
    "title: 'Intro to Pandas Dataframes'\n",
    "excerpt: \"Pandas dataframes are a commonly used scientific data structure in Python that store tabular data using rows and columns with headers. Learn about the key characteristics of pandas dataframes that make them a useful data structure for storing and working with labeled scientific datasets.\"\n",
    "authors: ['Jenny Palomino', 'Leah Wasser']\n",
    "category: [courses]\n",
    "class-lesson: ['intro-pandas-dataframes']\n",
    "permalink: /courses/intro-to-earth-data-science/scientific-data-structures-python/pandas-dataframes/\n",
    "nav-title: \"Pandas Dataframes Intro\"\n",
    "dateCreated: 2019-09-06\n",
    "modified: '{:%Y-%m-%d}'.format(datetime.now())\n",
    "module-title: 'Work with Scientific Data Using Pandas Dataframes'\n",
    "module-nav-title: 'Pandas Dataframes'\n",
    "module-description: 'Pandas dataframes are a commonly used scientific data structure in Python that store tabular data using rows and columns with headers. Learn how to import data into pandas dataframes and how to run calculations, summarize, and select data from pandas dataframes.'\n",
    "module-type: 'class'\n",
    "chapter: 15\n",
    "class-order: 2\n",
    "course: \"intro-to-earth-data-science-textbook\"\n",
    "week: 6\n",
    "estimated-time: \"2-3 hours\"\n",
    "difficulty: \"beginner\"\n",
    "sidebar:\n",
    "  nav:\n",
    "author_profile: false\n",
    "comments: true\n",
    "order: 1\n",
    "topics:\n",
    "  reproducible-science-and-programming: ['python']\n",
    "redirect_from:\n",
    "  - \"/courses/earth-analytics-bootcamp/pandas-dataframes/intro-pandas-dataframes/\"\n",
    "---"
   ]
  },
  {
   "cell_type": "markdown",
   "metadata": {},
   "source": [
    "{% include toc title=\"In This Chapter\" icon=\"file-text\" %}\n",
    "\n",
    "<div class='notice--success' markdown=\"1\">\n",
    "\n",
    "## <i class=\"fa fa-ship\" aria-hidden=\"true\"></i> Chapter Fifteen - Pandas Dataframes\n",
    "\n",
    "In this chapter, you will learn about another commonly used data structure in Python for scientific data: **pandas** dataframes. You will write **Python** code to import text data (.csv) as **pandas** dataframes and to run calculations, summarize, and select data in **pandas** dataframes.\n",
    "\n",
    "After completing this chapter, you will be able to:\n",
    "\n",
    "* Describe the key characteristics of **pandas** dataframes.\n",
    "* Import tabular data from .csv files into **pandas** dataframes.\n",
    "* Run calculations and summarize data in **pandas** dataframes.\n",
    "* Select data in **pandas** dataframes.\n",
    "\n",
    "\n",
    "## <i class=\"fa fa-check-square-o fa-2\" aria-hidden=\"true\"></i> What You Need\n",
    "\n",
    "You should have Conda setup on your computer and the Earth Analytics Python Conda environment. Follow the <a href=\"{{ site.url }}/workshops/setup-earth-analytics-python/setup-git-bash-conda/\">Set up Git, Bash, and Conda on your computer</a> to install these tools.\n",
    "\n",
    "Be sure that you have completed the chapters on <a href=\"{{ site.url }}/courses/intro-to-earth-data-science/open-reproducible-science/jupyter-python/\">Jupyter Notebook</a>, <a href=\"{{ site.url }}/courses/intro-to-earth-data-science/python-code-fundamentals/use-python-packages/\">working with packages in Python</a>, <a href=\"{{ site.url }}/courses/intro-to-earth-data-science/python-code-fundamentals/work-with-files-directories-paths-in-python/\">working with paths and directories in Python</a>, and <a href=\"{{ site.url }}/courses/intro-to-earth-data-science/scientific-data-structures-python/numpy-arrays/\">working with numpy arrays</a>.\n",
    "\n",
    "</div>\n",
    "\n",
    "\n",
    "## What are Pandas Dataframes\n",
    "\n",
    "In the chapters introducing **Python** lists and **numpy** arrays, you learn that both of these data structures can store collections of values, instead of just single values. You also learned that while **Python** lists are flexible and can store data items of various types (e.g. integers, floats, text strings), **numpy** arrays require all data elements to be of the same type. Because of this requirement, **numpy** arrays can provide more functionality for running calculations such as element-by-element arithmetic operations (e.g. multiplication of each element in the `numpy array` by the same value) that **Python** lists do not support.  \n",
    "\n",
    "You may now be noticing that each data structure provides different functionality that can be useful in different workflows.\n",
    "\n",
    "In this chapter, you will learn about **Pandas** dataframes, a data structure in **Python** that provides the ability to work with tabular data. **Pandas** dataframes are composed of rows and columns that can have header names, and the columns in **pandas** dataframes can be different types (e.g. the first column containing integers and the second column containing text strings). Each value in **pandas** dataframe is referred to as a cell that has a specific row index and column index within the tabular structure. \n",
    "\n",
    "The dataset below of average monthly precipitation (inches) for Boulder, CO provided by the <a href=\"https://www.esrl.noaa.gov/psd/boulder/Boulder.mm.precip.html\" target=\"_blank\"> U.S. National Oceanic and Atmospheric Administration (NOAA)</a> is an example of the type of tabular dataset that can easily be imported into a **pandas** dataframe. \n",
    "\n",
    "month  | precip_in |\n",
    "--- | --- |\n",
    "Jan | 0.70 |\n",
    "Feb | 0.75 |\n",
    "Mar | 1.85 |\n",
    "Apr | 2.93 |\n",
    "May | 3.05 |\n",
    "June | 2.02 |\n",
    "July | 1.93 |\n",
    "Aug | 1.62 |\n",
    "Sept | 1.84 |\n",
    "Oct | 1.31 |\n",
    "Nov | 1.39 |\n",
    "Dec | 0.84 |\n",
    "\n",
    "\n",
    "## Distinguishing Characteristics of Pandas Dataframes\n",
    "\n",
    "These characteristics (i.e. tabular format with rows and columns that can have headers) make **pandas** dataframes very versatile for not only storing different types, but for maintaining the relationships between cells across the same row and/or column. \n",
    "\n",
    "Recall that in the chapter on **numpy** arrays, you could not easily connect the values across two numpy arrays, such as those for `precip` and `months`. Using a **pandas** dataframe, the relationship between the value `January` in the `months` column and the value `0.70` in the `precip` column is maintained. \n",
    "\n",
    "month  | precip_in |\n",
    "--- | --- |\n",
    "Jan | 0.70 |\n",
    "\n",
    "These two values (`January` and `0.70`) are considered part of the same record, representing the same observation in the **pandas** dataframe. In addition, **pandas** dataframes have other unique characteristics that differentiate them from other data structures: \n",
    "\n",
    "1. Each column in a **pandas** dataframe can have a label name (i.e. header name such as `months`) and can contain a different type of data from its neighboring columns (e.g. column_1 with numeric values and column_2 with text strings). \n",
    "2. By default, each row has an index within a range of values beginning at `[0]`. However, the row index in **pandas** dataframes can also be set as labels (e.g. a location name, date). \n",
    "3. All cells in a **pandas** dataframe have both a row index and a column index (i.e. two-dimensional table structure), even if there is only one cell (i.e. value) in the **pandas** dataframe. \n",
    "4. In addition to selecting cells through location-based indexing (e.g. cell at row 1, column 1), you can also query for data within **pandas** dataframes based on specific values (e.g. querying for specific text strings or numeric values). \n",
    "5. Because of the tabular structure, you can work with cells in **pandas** dataframes: \n",
    "    * across an entire row\n",
    "    * across an entire column (or <a href=\"https://pandas.pydata.org/pandas-docs/stable/reference/api/pandas.Series.html\" target=\"_blank\">series</a>, a one-dimensional array in **pandas**)\n",
    "    * by selecting cells based on location or specific values \n",
    "6. Due to its inherent tabular structure, **pandas** dataframes also allow for cells to have null values (i.e. no data value such as blank space, `NaN`, -999, etc).\n",
    "\n",
    "\n",
    "## Tabular Structure of Pandas Dataframes\n",
    "\n",
    "As described in the previous paragraphs, the structure of a **pandas** dataframe includes the column names and the rows that represent individual observations (i.e. records). \n",
    "\n",
    "In a typical **pandas** dataframe, the default row index is a range of values beginning at `[0]`, and the column headers are also organized into an index of the column names. \n",
    "\n",
    "The function `DataFrame` from **pandas** (e.g. `pd.DataFrame`) can be used to manually define a **pandas** dataframe. \n",
    "\n",
    "One way to use this function is to provide a list of column names (to the parameter `columns`) and a list of data values (to the parameter `data`), which is composed of individual lists of values for each row:\n",
    "\n",
    "```python\n",
    "# Dataframe with 2 columns and 2 rows\n",
    "dataframe = pd.DataFrame(columns=[\"column_1\", \"column_2\"],\n",
    "                         data=[\n",
    "                              [value_column_1, value_column_2],  \n",
    "                              [value_column_1, value_column_2]\n",
    "                         ])\n",
    "```\n",
    "\n",
    "In the example below, the **pandas** dataframe is created using the average monthly precipitation values in inches for Boulder, CO.  \n",
    "\n",
    "The **pandas** dataframe is created with a column called `month` containing abbreviated month names as text strings and another column called `precip_in` for the precipitation (inches) as numeric values.\n",
    "\n",
    "For example, the first row is created using `[\"Jan\", 0.70]`, with `Jan` as the value for `month` and `0.70` as the value for `precip_in`."
   ]
  },
  {
   "cell_type": "code",
   "execution_count": 1,
   "metadata": {},
   "outputs": [],
   "source": [
    "import matplotlib.pyplot as plt\n",
    "# Import pandas with alias pd\n",
    "import pandas as pd"
   ]
  },
  {
   "cell_type": "code",
   "execution_count": 2,
   "metadata": {},
   "outputs": [
    {
     "data": {
      "text/html": [
       "<div>\n",
       "<style scoped>\n",
       "    .dataframe tbody tr th:only-of-type {\n",
       "        vertical-align: middle;\n",
       "    }\n",
       "\n",
       "    .dataframe tbody tr th {\n",
       "        vertical-align: top;\n",
       "    }\n",
       "\n",
       "    .dataframe thead th {\n",
       "        text-align: right;\n",
       "    }\n",
       "</style>\n",
       "<table border=\"1\" class=\"dataframe\">\n",
       "  <thead>\n",
       "    <tr style=\"text-align: right;\">\n",
       "      <th></th>\n",
       "      <th>month</th>\n",
       "      <th>precip_in</th>\n",
       "    </tr>\n",
       "  </thead>\n",
       "  <tbody>\n",
       "    <tr>\n",
       "      <th>0</th>\n",
       "      <td>Jan</td>\n",
       "      <td>0.70</td>\n",
       "    </tr>\n",
       "    <tr>\n",
       "      <th>1</th>\n",
       "      <td>Feb</td>\n",
       "      <td>0.75</td>\n",
       "    </tr>\n",
       "    <tr>\n",
       "      <th>2</th>\n",
       "      <td>Mar</td>\n",
       "      <td>1.85</td>\n",
       "    </tr>\n",
       "    <tr>\n",
       "      <th>3</th>\n",
       "      <td>Apr</td>\n",
       "      <td>2.93</td>\n",
       "    </tr>\n",
       "    <tr>\n",
       "      <th>4</th>\n",
       "      <td>May</td>\n",
       "      <td>3.05</td>\n",
       "    </tr>\n",
       "    <tr>\n",
       "      <th>5</th>\n",
       "      <td>June</td>\n",
       "      <td>2.02</td>\n",
       "    </tr>\n",
       "    <tr>\n",
       "      <th>6</th>\n",
       "      <td>July</td>\n",
       "      <td>1.93</td>\n",
       "    </tr>\n",
       "    <tr>\n",
       "      <th>7</th>\n",
       "      <td>Aug</td>\n",
       "      <td>1.62</td>\n",
       "    </tr>\n",
       "    <tr>\n",
       "      <th>8</th>\n",
       "      <td>Sept</td>\n",
       "      <td>1.84</td>\n",
       "    </tr>\n",
       "    <tr>\n",
       "      <th>9</th>\n",
       "      <td>Oct</td>\n",
       "      <td>1.31</td>\n",
       "    </tr>\n",
       "    <tr>\n",
       "      <th>10</th>\n",
       "      <td>Nov</td>\n",
       "      <td>1.39</td>\n",
       "    </tr>\n",
       "    <tr>\n",
       "      <th>11</th>\n",
       "      <td>Dec</td>\n",
       "      <td>0.84</td>\n",
       "    </tr>\n",
       "  </tbody>\n",
       "</table>\n",
       "</div>"
      ],
      "text/plain": [
       "   month  precip_in\n",
       "0    Jan       0.70\n",
       "1    Feb       0.75\n",
       "2    Mar       1.85\n",
       "3    Apr       2.93\n",
       "4    May       3.05\n",
       "5   June       2.02\n",
       "6   July       1.93\n",
       "7    Aug       1.62\n",
       "8   Sept       1.84\n",
       "9    Oct       1.31\n",
       "10   Nov       1.39\n",
       "11   Dec       0.84"
      ]
     },
     "execution_count": 2,
     "metadata": {},
     "output_type": "execute_result"
    }
   ],
   "source": [
    "# Average monthly precip for Boulder, CO\n",
    "avg_monthly_precip = pd.DataFrame(columns=[\"month\", \"precip_in\"],\n",
    "                                  data=[\n",
    "                                       [\"Jan\", 0.70],  [\"Feb\", 0.75],\n",
    "                                       [\"Mar\", 1.85],  [\"Apr\", 2.93],\n",
    "                                       [\"May\", 3.05],  [\"June\", 2.02],\n",
    "                                       [\"July\", 1.93], [\"Aug\", 1.62],\n",
    "                                       [\"Sept\", 1.84], [\"Oct\", 1.31],\n",
    "                                       [\"Nov\", 1.39],  [\"Dec\", 0.84]\n",
    "])\n",
    "\n",
    "# Notice the nicely formatted output without use of print\n",
    "avg_monthly_precip"
   ]
  },
  {
   "cell_type": "markdown",
   "metadata": {},
   "source": [
    "You can see from the **pandas** dataframe that each row has an index value, and that the default indexing still begins with `[0]`, as it does for `Python` lists and `numpy arrays`. \n",
    "\n",
    "## A Quick Plot \n",
    "\n",
    "You can plot **pandas** dataframe using **matplotlib** or using the pandas\n",
    "`.plot()` method which wraps around **matplotlib**. "
   ]
  },
  {
   "cell_type": "code",
   "execution_count": 3,
   "metadata": {
    "caption": "Plot of monthly precipitation using pandas .plot()"
   },
   "outputs": [
    {
     "name": "stderr",
     "output_type": "stream",
     "text": [
      "/Users/leahwasser/opt/miniconda3/envs/earth-analytics-python/lib/python3.8/site-packages/pandas/plotting/_matplotlib/core.py:1235: UserWarning: FixedFormatter should only be used together with FixedLocator\n",
      "  ax.set_xticklabels(xticklabels)\n"
     ]
    },
    {
     "data": {
      "image/png": "[encoded data removed]",
      "text/plain": [
       "<Figure size 432x288 with 1 Axes>"
      ]
     },
     "metadata": {
      "needs_background": "light"
     },
     "output_type": "display_data"
    }
   ],
   "source": [
    "f, ax = plt.subplots()\n",
    "avg_monthly_precip.plot(x=\"month\",\n",
    "                        y=\"precip_in\",\n",
    "                        title=\"Plot of Pandas Data Frame using Pandas .plot\",\n",
    "                        ax=ax)\n",
    "plt.show()"
   ]
  },
  {
   "cell_type": "markdown",
   "metadata": {},
   "source": [
    "Or you can plot using the standard **matplotlib** approach. In this\n",
    "course we will encourage you to use the **matplotlib** approach which \n",
    "will be more flexible as you begin to create more complex plots. \n"
   ]
  },
  {
   "cell_type": "code",
   "execution_count": 4,
   "metadata": {
    "caption": "Plot of monthly precipitation using matplotlib ax.plot()"
   },
   "outputs": [
    {
     "data": {
      "image/png": "[encoded data removed]",
      "text/plain": [
       "<Figure size 432x288 with 1 Axes>"
      ]
     },
     "metadata": {
      "needs_background": "light"
     },
     "output_type": "display_data"
    }
   ],
   "source": [
    "f, ax = plt.subplots()\n",
    "ax.plot(avg_monthly_precip.month,\n",
    "        avg_monthly_precip.precip_in)\n",
    "\n",
    "ax.set(title=\"Plot of Pandas Data Frame using Pandas .plot\")\n",
    "plt.show()"
   ]
  },
  {
   "cell_type": "markdown",
   "metadata": {},
   "source": [
    "In the pages that follow, you will learn how to import data from .csv files into **pandas** dataframes, run calculations and summary statistics on **pandas** dataframes, and select data from **pandas** dataframes."
   ]
  }
 ],
 "metadata": {
  "celltoolbar": "Edit Metadata",
  "jupytext": {
   "formats": "ipynb,md"
  },
  "kernelspec": {
   "display_name": "Python 3",
   "language": "python",
   "name": "python3"
  },
  "language_info": {
   "codemirror_mode": {
    "name": "ipython",
    "version": 3
   },
   "file_extension": ".py",
   "mimetype": "text/x-python",
   "name": "python",
   "nbconvert_exporter": "python",
   "pygments_lexer": "ipython3",
   "version": "3.8.5"
  },
  "toc": {
   "base_numbering": 1,
   "nav_menu": {},
   "number_sections": true,
   "sideBar": true,
   "skip_h1_title": true,
   "title_cell": "Table of Contents",
   "title_sidebar": "Contents",
   "toc_cell": false,
   "toc_position": {},
   "toc_section_display": true,
   "toc_window_display": false
  },
  "varInspector": {
   "cols": {
    "lenName": 16,
    "lenType": 16,
    "lenVar": 40
   },
   "kernels_config": {
    "python": {
     "delete_cmd_postfix": "",
     "delete_cmd_prefix": "del ",
     "library": "var_list.py",
     "varRefreshCmd": "print(var_dic_list())"
    },
    "r": {
     "delete_cmd_postfix": ") ",
     "delete_cmd_prefix": "rm(",
     "library": "var_list.r",
     "varRefreshCmd": "cat(var_dic_list()) "
    }
   },
   "types_to_exclude": [
    "module",
    "function",
    "builtin_function_or_method",
    "instance",
    "_Feature"
   ],
   "window_display": false
  }
 },
 "nbformat": 4,
 "nbformat_minor": 2
}
