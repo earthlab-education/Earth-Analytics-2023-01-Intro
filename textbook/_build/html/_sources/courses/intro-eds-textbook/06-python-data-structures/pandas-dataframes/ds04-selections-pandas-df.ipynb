{
 "cells": [
  {
   "cell_type": "raw",
   "metadata": {},
   "source": [
    "---\n",
    "layout: single\n",
    "title: 'Select Data From Pandas Dataframes'\n",
    "excerpt: \"Pandas dataframes are a commonly used scientific data structure in Python that store tabular data using rows and columns with headers. Learn how to use indexing and filtering to select data from pandas dataframes.\"\n",
    "authors: ['Jenny Palomino', 'Leah Wasser']\n",
    "category: [courses]\n",
    "class-lesson: ['intro-pandas-dataframes']\n",
    "permalink: /courses/intro-to-earth-data-science/scientific-data-structures-python/pandas-dataframes/indexing-filtering-data-pandas-dataframes/\n",
    "nav-title: \"Select Data From Pandas Dataframes\"\n",
    "dateCreated: 2019-09-06\n",
    "modified: '{:%Y-%m-%d}'.format(datetime.now())\n",
    "module-type: 'class'\n",
    "course: \"intro-to-earth-data-science-textbook\"\n",
    "week: 6\n",
    "sidebar:\n",
    "  nav:\n",
    "author_profile: false\n",
    "comments: true\n",
    "order: 4\n",
    "topics:\n",
    "  reproducible-science-and-programming: ['python']\n",
    "redirect_from:\n",
    "  - \"/courses/earth-analytics-bootcamp/pandas-dataframes/selections-pandas-dataframes/\"\n",
    "---"
   ]
  },
  {
   "cell_type": "markdown",
   "metadata": {
    "lines_to_next_cell": 0
   },
   "source": [
    "{% include toc title=\"On This Page\" icon=\"file-text\" %}\n",
    "\n",
    "<div class='notice--success' markdown=\"1\">\n",
    "\n",
    "## <i class=\"fa fa-graduation-cap\" aria-hidden=\"true\"></i> Learning Objectives\n",
    "\n",
    "After completing this page, you will be able to:\n",
    "\n",
    "* Explain indexing for **pandas** dataframes.\n",
    "* Use indexing and filtering to select data from **pandas** dataframes.\n",
    "\n",
    "</div>\n",
    "\n",
    "\n",
    "## Indexing and Selections From Pandas Dataframes\n",
    "\n",
    "There are two kinds of indexing in **pandas** dataframes: \n",
    "\n",
    "* location-based and \n",
    "* label-based. \n",
    "\n",
    "In the lesson introducing **pandas** dataframes, you learned that these data structures have an inherent tabular structure (i.e. rows and columns with header names) that support selecting data with indexing, such as selecting individual cells identified by their location at the intersection of rows and columns. You can also select data from **pandas** dataframes without knowing the location of that data within the **pandas** dataframe, using specific labels such as a column name.\n",
    "\n",
    "\n",
    "### Location-based Indexing\n",
    "\n",
    "After working with indexing for **Python** lists and **numpy** arrays, you are familiar with location-based indexing. You already know that **Python** location-based indexing begins with `[0]`, and you have learned how to use location-based indexing to query data within **Python** lists or **numpy** arrays.\n",
    "\n",
    "You can use location-based indexing to query **pandas** dataframes using the attribute `.iloc` and providing the row and column selection as ranges (i.e. start and stop locations along the rows and columns). Just like with **numpy** arrays, the range provided is inclusive of the first value, but not the second value. \n",
    "\n",
    "This means that you need to use the range `[0:1]` to select the first index, so your selection begins at `[0]` but does not include `[1]` (the second index). For example, you can select the first row and the first column of a **pandas** dataframes providing the range `[0:1]` for the row selection and then providing the range `[0:1]` for the column selection.\n",
    "\n",
    "```python\n",
    "dataframe.iloc[0:1, 0:1]\n",
    "```\n",
    "\n",
    "### Label-based Indexing\n",
    "\n",
    "**Pandas** dataframes can also be queried using label-based indexing. \n",
    "\n",
    "This feature of **pandas** dataframes is very useful because you can create an index for **pandas** dataframes using a specific column (i.e. label) that you want to use for organizing and querying your data.\n",
    "\n",
    "For example, you can create an index from a specific column of values, and then use the attribute `.loc` to select data from the **pandas** dataframes using a value that is found in that index. \n",
    "\n",
    "```python\n",
    "\n",
    "dataframe.set_index(\"column\")\n",
    "dataframe.loc[[value]]\n",
    "```\n",
    "\n",
    "### Filtering Data Values\n",
    "\n",
    "In addition to using indexing, you can also select or filter data from **pandas** dataframes by querying for values that met a certain criteria. \n",
    "\n",
    "For example, you can select data in a **pandas** dataframe based on specific values within a column using:\n",
    "    \n",
    "```python\n",
    "dataframe[dataframe[\"column\"] == value]\n",
    "```\n",
    "\n",
    "This will return all rows containing that value within the specified column. \n",
    "\n",
    "On this page, you will review how indexing works for **pandas** dataframes and you will learn how to select data from **pandas** dataframes using both indexing and filtering of data values.\n",
    "\n",
    "\n",
    "### Import Python Packages and Get Data\n",
    "\n",
    "Begin by importing the necessary **Python** packages and then downloading and importing data into **pandas** dataframes.\n",
    "\n",
    "You can use the **earthpy** package to download the data files, **os** to set the working directory, and **pandas** to import data files into **pandas** dataframes."
   ]
  },
  {
   "cell_type": "code",
   "execution_count": 1,
   "metadata": {},
   "outputs": [],
   "source": [
    "# Import packages\n",
    "import os\n",
    "\n",
    "import pandas as pd\n",
    "import earthpy as et"
   ]
  },
  {
   "cell_type": "code",
   "execution_count": 2,
   "metadata": {},
   "outputs": [
    {
     "data": {
      "text/plain": [
       "'/home/jpalomino/earth-analytics/data/earthpy-downloads/avg-precip-months-seasons.csv'"
      ]
     },
     "execution_count": 2,
     "metadata": {},
     "output_type": "execute_result"
    }
   ],
   "source": [
    "# URL for .csv with avg monthly precip data\n",
    "avg_monthly_precip_url = \"https://ndownloader.figshare.com/files/12710618\"\n",
    "\n",
    "# Download file\n",
    "et.data.get_data(url=avg_monthly_precip_url)"
   ]
  },
  {
   "cell_type": "code",
   "execution_count": 3,
   "metadata": {},
   "outputs": [],
   "source": [
    "# Set working directory to earth-analytics\n",
    "os.chdir(os.path.join(et.io.HOME, \"earth-analytics\"))"
   ]
  },
  {
   "cell_type": "code",
   "execution_count": 4,
   "metadata": {},
   "outputs": [
    {
     "data": {
      "text/html": [
       "<div>\n",
       "<style scoped>\n",
       "    .dataframe tbody tr th:only-of-type {\n",
       "        vertical-align: middle;\n",
       "    }\n",
       "\n",
       "    .dataframe tbody tr th {\n",
       "        vertical-align: top;\n",
       "    }\n",
       "\n",
       "    .dataframe thead th {\n",
       "        text-align: right;\n",
       "    }\n",
       "</style>\n",
       "<table border=\"1\" class=\"dataframe\">\n",
       "  <thead>\n",
       "    <tr style=\"text-align: right;\">\n",
       "      <th></th>\n",
       "      <th>months</th>\n",
       "      <th>precip</th>\n",
       "      <th>seasons</th>\n",
       "    </tr>\n",
       "  </thead>\n",
       "  <tbody>\n",
       "    <tr>\n",
       "      <td>0</td>\n",
       "      <td>Jan</td>\n",
       "      <td>0.70</td>\n",
       "      <td>Winter</td>\n",
       "    </tr>\n",
       "    <tr>\n",
       "      <td>1</td>\n",
       "      <td>Feb</td>\n",
       "      <td>0.75</td>\n",
       "      <td>Winter</td>\n",
       "    </tr>\n",
       "    <tr>\n",
       "      <td>2</td>\n",
       "      <td>Mar</td>\n",
       "      <td>1.85</td>\n",
       "      <td>Spring</td>\n",
       "    </tr>\n",
       "    <tr>\n",
       "      <td>3</td>\n",
       "      <td>Apr</td>\n",
       "      <td>2.93</td>\n",
       "      <td>Spring</td>\n",
       "    </tr>\n",
       "    <tr>\n",
       "      <td>4</td>\n",
       "      <td>May</td>\n",
       "      <td>3.05</td>\n",
       "      <td>Spring</td>\n",
       "    </tr>\n",
       "    <tr>\n",
       "      <td>5</td>\n",
       "      <td>June</td>\n",
       "      <td>2.02</td>\n",
       "      <td>Summer</td>\n",
       "    </tr>\n",
       "    <tr>\n",
       "      <td>6</td>\n",
       "      <td>July</td>\n",
       "      <td>1.93</td>\n",
       "      <td>Summer</td>\n",
       "    </tr>\n",
       "    <tr>\n",
       "      <td>7</td>\n",
       "      <td>Aug</td>\n",
       "      <td>1.62</td>\n",
       "      <td>Summer</td>\n",
       "    </tr>\n",
       "    <tr>\n",
       "      <td>8</td>\n",
       "      <td>Sept</td>\n",
       "      <td>1.84</td>\n",
       "      <td>Fall</td>\n",
       "    </tr>\n",
       "    <tr>\n",
       "      <td>9</td>\n",
       "      <td>Oct</td>\n",
       "      <td>1.31</td>\n",
       "      <td>Fall</td>\n",
       "    </tr>\n",
       "    <tr>\n",
       "      <td>10</td>\n",
       "      <td>Nov</td>\n",
       "      <td>1.39</td>\n",
       "      <td>Fall</td>\n",
       "    </tr>\n",
       "    <tr>\n",
       "      <td>11</td>\n",
       "      <td>Dec</td>\n",
       "      <td>0.84</td>\n",
       "      <td>Winter</td>\n",
       "    </tr>\n",
       "  </tbody>\n",
       "</table>\n",
       "</div>"
      ],
      "text/plain": [
       "   months  precip seasons\n",
       "0     Jan    0.70  Winter\n",
       "1     Feb    0.75  Winter\n",
       "2     Mar    1.85  Spring\n",
       "3     Apr    2.93  Spring\n",
       "4     May    3.05  Spring\n",
       "5    June    2.02  Summer\n",
       "6    July    1.93  Summer\n",
       "7     Aug    1.62  Summer\n",
       "8    Sept    1.84    Fall\n",
       "9     Oct    1.31    Fall\n",
       "10    Nov    1.39    Fall\n",
       "11    Dec    0.84  Winter"
      ]
     },
     "execution_count": 4,
     "metadata": {},
     "output_type": "execute_result"
    }
   ],
   "source": [
    "# Import data from .csv file\n",
    "fname = os.path.join(\"data\", \"earthpy-downloads\", \n",
    "                     \"avg-precip-months-seasons.csv\")\n",
    "\n",
    "avg_monthly_precip = pd.read_csv(fname)\n",
    "\n",
    "avg_monthly_precip"
   ]
  },
  {
   "cell_type": "markdown",
   "metadata": {},
   "source": [
    "## Select Data Using Location Index (.iloc)\n",
    "\n",
    "You can use `.iloc` to select individual rows and columns or a series of rows and columns by providing the range (i.e. start and stop locations along the rows and columns) that you want to select.\n",
    "\n",
    "Recall that in `Python` indexing begins with `[0]` and that the range you provide is inclusive of the first value, but not the second value.\n",
    "\n",
    "This means that you can use `dataframe.iloc[0:1, 0:1]` to select the cell value at the intersection of the first row and first column of the dataframe."
   ]
  },
  {
   "cell_type": "code",
   "execution_count": 5,
   "metadata": {},
   "outputs": [
    {
     "data": {
      "text/html": [
       "<div>\n",
       "<style scoped>\n",
       "    .dataframe tbody tr th:only-of-type {\n",
       "        vertical-align: middle;\n",
       "    }\n",
       "\n",
       "    .dataframe tbody tr th {\n",
       "        vertical-align: top;\n",
       "    }\n",
       "\n",
       "    .dataframe thead th {\n",
       "        text-align: right;\n",
       "    }\n",
       "</style>\n",
       "<table border=\"1\" class=\"dataframe\">\n",
       "  <thead>\n",
       "    <tr style=\"text-align: right;\">\n",
       "      <th></th>\n",
       "      <th>months</th>\n",
       "    </tr>\n",
       "  </thead>\n",
       "  <tbody>\n",
       "    <tr>\n",
       "      <td>0</td>\n",
       "      <td>Jan</td>\n",
       "    </tr>\n",
       "  </tbody>\n",
       "</table>\n",
       "</div>"
      ],
      "text/plain": [
       "  months\n",
       "0    Jan"
      ]
     },
     "execution_count": 5,
     "metadata": {},
     "output_type": "execute_result"
    }
   ],
   "source": [
    "# Select first row and first column\n",
    "avg_monthly_precip.iloc[0:1, 0:1]"
   ]
  },
  {
   "cell_type": "markdown",
   "metadata": {},
   "source": [
    "You can expand the range for either the row index or column index to select more data.\n",
    "\n",
    "For example, you can select the first two rows of the first column using `dataframe.iloc[0:2, 0:1]` or the first columns of the first row using `dataframe.iloc[0:1, 0:2]`."
   ]
  },
  {
   "cell_type": "code",
   "execution_count": 6,
   "metadata": {},
   "outputs": [
    {
     "data": {
      "text/html": [
       "<div>\n",
       "<style scoped>\n",
       "    .dataframe tbody tr th:only-of-type {\n",
       "        vertical-align: middle;\n",
       "    }\n",
       "\n",
       "    .dataframe tbody tr th {\n",
       "        vertical-align: top;\n",
       "    }\n",
       "\n",
       "    .dataframe thead th {\n",
       "        text-align: right;\n",
       "    }\n",
       "</style>\n",
       "<table border=\"1\" class=\"dataframe\">\n",
       "  <thead>\n",
       "    <tr style=\"text-align: right;\">\n",
       "      <th></th>\n",
       "      <th>months</th>\n",
       "    </tr>\n",
       "  </thead>\n",
       "  <tbody>\n",
       "    <tr>\n",
       "      <td>0</td>\n",
       "      <td>Jan</td>\n",
       "    </tr>\n",
       "    <tr>\n",
       "      <td>1</td>\n",
       "      <td>Feb</td>\n",
       "    </tr>\n",
       "  </tbody>\n",
       "</table>\n",
       "</div>"
      ],
      "text/plain": [
       "  months\n",
       "0    Jan\n",
       "1    Feb"
      ]
     },
     "execution_count": 6,
     "metadata": {},
     "output_type": "execute_result"
    }
   ],
   "source": [
    "# Select first two rows and first column\n",
    "avg_monthly_precip.iloc[0:2, 0:1]"
   ]
  },
  {
   "cell_type": "code",
   "execution_count": 7,
   "metadata": {},
   "outputs": [
    {
     "data": {
      "text/html": [
       "<div>\n",
       "<style scoped>\n",
       "    .dataframe tbody tr th:only-of-type {\n",
       "        vertical-align: middle;\n",
       "    }\n",
       "\n",
       "    .dataframe tbody tr th {\n",
       "        vertical-align: top;\n",
       "    }\n",
       "\n",
       "    .dataframe thead th {\n",
       "        text-align: right;\n",
       "    }\n",
       "</style>\n",
       "<table border=\"1\" class=\"dataframe\">\n",
       "  <thead>\n",
       "    <tr style=\"text-align: right;\">\n",
       "      <th></th>\n",
       "      <th>months</th>\n",
       "      <th>precip</th>\n",
       "    </tr>\n",
       "  </thead>\n",
       "  <tbody>\n",
       "    <tr>\n",
       "      <td>0</td>\n",
       "      <td>Jan</td>\n",
       "      <td>0.7</td>\n",
       "    </tr>\n",
       "  </tbody>\n",
       "</table>\n",
       "</div>"
      ],
      "text/plain": [
       "  months  precip\n",
       "0    Jan     0.7"
      ]
     },
     "execution_count": 7,
     "metadata": {},
     "output_type": "execute_result"
    }
   ],
   "source": [
    "# Select first row and first two columns\n",
    "avg_monthly_precip.iloc[0:1, 0:2]"
   ]
  },
  {
   "cell_type": "markdown",
   "metadata": {},
   "source": [
    "You can also use `.iloc` to select an entire row or an entire column by leaving the other range without values.\n",
    "\n",
    "For example, you can use `dataframe.iloc[0:1, :]` to select the first row of a dataframe and all of the columns, or `dataframe.iloc[ :, 0:1]` to select the first column of a dataframe and all of the rows. "
   ]
  },
  {
   "cell_type": "code",
   "execution_count": 8,
   "metadata": {},
   "outputs": [
    {
     "data": {
      "text/html": [
       "<div>\n",
       "<style scoped>\n",
       "    .dataframe tbody tr th:only-of-type {\n",
       "        vertical-align: middle;\n",
       "    }\n",
       "\n",
       "    .dataframe tbody tr th {\n",
       "        vertical-align: top;\n",
       "    }\n",
       "\n",
       "    .dataframe thead th {\n",
       "        text-align: right;\n",
       "    }\n",
       "</style>\n",
       "<table border=\"1\" class=\"dataframe\">\n",
       "  <thead>\n",
       "    <tr style=\"text-align: right;\">\n",
       "      <th></th>\n",
       "      <th>months</th>\n",
       "      <th>precip</th>\n",
       "      <th>seasons</th>\n",
       "    </tr>\n",
       "  </thead>\n",
       "  <tbody>\n",
       "    <tr>\n",
       "      <td>0</td>\n",
       "      <td>Jan</td>\n",
       "      <td>0.7</td>\n",
       "      <td>Winter</td>\n",
       "    </tr>\n",
       "  </tbody>\n",
       "</table>\n",
       "</div>"
      ],
      "text/plain": [
       "  months  precip seasons\n",
       "0    Jan     0.7  Winter"
      ]
     },
     "execution_count": 8,
     "metadata": {},
     "output_type": "execute_result"
    }
   ],
   "source": [
    "# Select first row with all columns\n",
    "avg_monthly_precip.iloc[0:1, :]"
   ]
  },
  {
   "cell_type": "code",
   "execution_count": 9,
   "metadata": {},
   "outputs": [
    {
     "data": {
      "text/html": [
       "<div>\n",
       "<style scoped>\n",
       "    .dataframe tbody tr th:only-of-type {\n",
       "        vertical-align: middle;\n",
       "    }\n",
       "\n",
       "    .dataframe tbody tr th {\n",
       "        vertical-align: top;\n",
       "    }\n",
       "\n",
       "    .dataframe thead th {\n",
       "        text-align: right;\n",
       "    }\n",
       "</style>\n",
       "<table border=\"1\" class=\"dataframe\">\n",
       "  <thead>\n",
       "    <tr style=\"text-align: right;\">\n",
       "      <th></th>\n",
       "      <th>months</th>\n",
       "    </tr>\n",
       "  </thead>\n",
       "  <tbody>\n",
       "    <tr>\n",
       "      <td>0</td>\n",
       "      <td>Jan</td>\n",
       "    </tr>\n",
       "    <tr>\n",
       "      <td>1</td>\n",
       "      <td>Feb</td>\n",
       "    </tr>\n",
       "    <tr>\n",
       "      <td>2</td>\n",
       "      <td>Mar</td>\n",
       "    </tr>\n",
       "    <tr>\n",
       "      <td>3</td>\n",
       "      <td>Apr</td>\n",
       "    </tr>\n",
       "    <tr>\n",
       "      <td>4</td>\n",
       "      <td>May</td>\n",
       "    </tr>\n",
       "    <tr>\n",
       "      <td>5</td>\n",
       "      <td>June</td>\n",
       "    </tr>\n",
       "    <tr>\n",
       "      <td>6</td>\n",
       "      <td>July</td>\n",
       "    </tr>\n",
       "    <tr>\n",
       "      <td>7</td>\n",
       "      <td>Aug</td>\n",
       "    </tr>\n",
       "    <tr>\n",
       "      <td>8</td>\n",
       "      <td>Sept</td>\n",
       "    </tr>\n",
       "    <tr>\n",
       "      <td>9</td>\n",
       "      <td>Oct</td>\n",
       "    </tr>\n",
       "    <tr>\n",
       "      <td>10</td>\n",
       "      <td>Nov</td>\n",
       "    </tr>\n",
       "    <tr>\n",
       "      <td>11</td>\n",
       "      <td>Dec</td>\n",
       "    </tr>\n",
       "  </tbody>\n",
       "</table>\n",
       "</div>"
      ],
      "text/plain": [
       "   months\n",
       "0     Jan\n",
       "1     Feb\n",
       "2     Mar\n",
       "3     Apr\n",
       "4     May\n",
       "5    June\n",
       "6    July\n",
       "7     Aug\n",
       "8    Sept\n",
       "9     Oct\n",
       "10    Nov\n",
       "11    Dec"
      ]
     },
     "execution_count": 9,
     "metadata": {},
     "output_type": "execute_result"
    }
   ],
   "source": [
    "# Select first column with all rows\n",
    "avg_monthly_precip.iloc[:, 0:1]"
   ]
  },
  {
   "cell_type": "markdown",
   "metadata": {},
   "source": [
    "## Select Data Using Label Index (.loc)\n",
    "\n",
    "In addition to selecting data based on location, you can also select data based on labels. \n",
    "\n",
    "To do this, you first create a new index using a column of values that you want to use for organizing and querying your data. \n",
    "\n",
    "For example, you can create an index from a specific column of values using: \n",
    "\n",
    "`dataframe.set_index(\"column\")`\n",
    "\n",
    "<i class=\"fa fa-star\" aria-hidden=\"true\"></i> **Data Tip:** Creating a new index will restructure the data by replacing the default location indexing (i.e. `[0]`) with the new index.  This also means the column used to create the index is no longer a functional column, but rather an index of the dataframe.   \n",
    "{: .notice--success}"
   ]
  },
  {
   "cell_type": "code",
   "execution_count": 10,
   "metadata": {},
   "outputs": [
    {
     "data": {
      "text/html": [
       "<div>\n",
       "<style scoped>\n",
       "    .dataframe tbody tr th:only-of-type {\n",
       "        vertical-align: middle;\n",
       "    }\n",
       "\n",
       "    .dataframe tbody tr th {\n",
       "        vertical-align: top;\n",
       "    }\n",
       "\n",
       "    .dataframe thead th {\n",
       "        text-align: right;\n",
       "    }\n",
       "</style>\n",
       "<table border=\"1\" class=\"dataframe\">\n",
       "  <thead>\n",
       "    <tr style=\"text-align: right;\">\n",
       "      <th></th>\n",
       "      <th>precip</th>\n",
       "      <th>seasons</th>\n",
       "    </tr>\n",
       "    <tr>\n",
       "      <th>months</th>\n",
       "      <th></th>\n",
       "      <th></th>\n",
       "    </tr>\n",
       "  </thead>\n",
       "  <tbody>\n",
       "    <tr>\n",
       "      <td>Jan</td>\n",
       "      <td>0.70</td>\n",
       "      <td>Winter</td>\n",
       "    </tr>\n",
       "    <tr>\n",
       "      <td>Feb</td>\n",
       "      <td>0.75</td>\n",
       "      <td>Winter</td>\n",
       "    </tr>\n",
       "    <tr>\n",
       "      <td>Mar</td>\n",
       "      <td>1.85</td>\n",
       "      <td>Spring</td>\n",
       "    </tr>\n",
       "    <tr>\n",
       "      <td>Apr</td>\n",
       "      <td>2.93</td>\n",
       "      <td>Spring</td>\n",
       "    </tr>\n",
       "    <tr>\n",
       "      <td>May</td>\n",
       "      <td>3.05</td>\n",
       "      <td>Spring</td>\n",
       "    </tr>\n",
       "    <tr>\n",
       "      <td>June</td>\n",
       "      <td>2.02</td>\n",
       "      <td>Summer</td>\n",
       "    </tr>\n",
       "    <tr>\n",
       "      <td>July</td>\n",
       "      <td>1.93</td>\n",
       "      <td>Summer</td>\n",
       "    </tr>\n",
       "    <tr>\n",
       "      <td>Aug</td>\n",
       "      <td>1.62</td>\n",
       "      <td>Summer</td>\n",
       "    </tr>\n",
       "    <tr>\n",
       "      <td>Sept</td>\n",
       "      <td>1.84</td>\n",
       "      <td>Fall</td>\n",
       "    </tr>\n",
       "    <tr>\n",
       "      <td>Oct</td>\n",
       "      <td>1.31</td>\n",
       "      <td>Fall</td>\n",
       "    </tr>\n",
       "    <tr>\n",
       "      <td>Nov</td>\n",
       "      <td>1.39</td>\n",
       "      <td>Fall</td>\n",
       "    </tr>\n",
       "    <tr>\n",
       "      <td>Dec</td>\n",
       "      <td>0.84</td>\n",
       "      <td>Winter</td>\n",
       "    </tr>\n",
       "  </tbody>\n",
       "</table>\n",
       "</div>"
      ],
      "text/plain": [
       "        precip seasons\n",
       "months                \n",
       "Jan       0.70  Winter\n",
       "Feb       0.75  Winter\n",
       "Mar       1.85  Spring\n",
       "Apr       2.93  Spring\n",
       "May       3.05  Spring\n",
       "June      2.02  Summer\n",
       "July      1.93  Summer\n",
       "Aug       1.62  Summer\n",
       "Sept      1.84    Fall\n",
       "Oct       1.31    Fall\n",
       "Nov       1.39    Fall\n",
       "Dec       0.84  Winter"
      ]
     },
     "execution_count": 10,
     "metadata": {},
     "output_type": "execute_result"
    }
   ],
   "source": [
    "# Create new dataframe with `months` as index\n",
    "avg_monthly_precip_index = avg_monthly_precip.set_index(\"months\")\n",
    "\n",
    "avg_monthly_precip_index"
   ]
  },
  {
   "cell_type": "markdown",
   "metadata": {},
   "source": [
    "Test that `months` no longer functions as a column by attempting to select that column name:\n",
    "\n",
    "```python\n",
    "avg_monthly_precip_index[[\"months\"]]\n",
    "\n",
    "```\n",
    "\n",
    "The following error is returned:\n",
    "\n",
    "`KeyError: \"None of [Index(['months'], dtype='object')] are in the [columns]\"`\n",
    "\n",
    "Notice that the error message indicates that the value `months` is not in the index. This is because `months` is actually now the index!\n",
    "\n",
    "After setting an index, you can use `.loc` to select data from the **pandas** dataframe using a value that is found in that index. \n",
    "\n",
    "When selecting text string values, you need to specify the text string with quotations `\"\"`, as shown below for the text string `\"Aug\"`. "
   ]
  },
  {
   "cell_type": "code",
   "execution_count": 11,
   "metadata": {},
   "outputs": [
    {
     "data": {
      "text/html": [
       "<div>\n",
       "<style scoped>\n",
       "    .dataframe tbody tr th:only-of-type {\n",
       "        vertical-align: middle;\n",
       "    }\n",
       "\n",
       "    .dataframe tbody tr th {\n",
       "        vertical-align: top;\n",
       "    }\n",
       "\n",
       "    .dataframe thead th {\n",
       "        text-align: right;\n",
       "    }\n",
       "</style>\n",
       "<table border=\"1\" class=\"dataframe\">\n",
       "  <thead>\n",
       "    <tr style=\"text-align: right;\">\n",
       "      <th></th>\n",
       "      <th>precip</th>\n",
       "      <th>seasons</th>\n",
       "    </tr>\n",
       "    <tr>\n",
       "      <th>months</th>\n",
       "      <th></th>\n",
       "      <th></th>\n",
       "    </tr>\n",
       "  </thead>\n",
       "  <tbody>\n",
       "    <tr>\n",
       "      <td>Aug</td>\n",
       "      <td>1.62</td>\n",
       "      <td>Summer</td>\n",
       "    </tr>\n",
       "  </tbody>\n",
       "</table>\n",
       "</div>"
      ],
      "text/plain": [
       "        precip seasons\n",
       "months                \n",
       "Aug       1.62  Summer"
      ]
     },
     "execution_count": 11,
     "metadata": {},
     "output_type": "execute_result"
    }
   ],
   "source": [
    "# Select Aug using months index \n",
    "avg_monthly_precip_index.loc[[\"Aug\"]]"
   ]
  },
  {
   "cell_type": "markdown",
   "metadata": {},
   "source": [
    "## Select Data Using Columns\n",
    "\n",
    "In addition to location-based and label-based indexing, you can also select data from **pandas** dataframes by selecting entire columns using the column names. \n",
    "\n",
    "For example, you can select all data from a specific column in a **pandas** dataframe using: \n",
    "\n",
    "`dataframe[\"column\"]`\n",
    "\n",
    "which provides the data from the column as a **pandas** series, which is a one-dimensional array. A **pandas** series is useful for selecting columns for plotting using **matplotlib**. "
   ]
  },
  {
   "cell_type": "code",
   "execution_count": 12,
   "metadata": {},
   "outputs": [
    {
     "data": {
      "text/plain": [
       "0      Jan\n",
       "1      Feb\n",
       "2      Mar\n",
       "3      Apr\n",
       "4      May\n",
       "5     June\n",
       "6     July\n",
       "7      Aug\n",
       "8     Sept\n",
       "9      Oct\n",
       "10     Nov\n",
       "11     Dec\n",
       "Name: months, dtype: object"
      ]
     },
     "execution_count": 12,
     "metadata": {},
     "output_type": "execute_result"
    }
   ],
   "source": [
    "# Select the `months` column as series\n",
    "avg_monthly_precip[\"months\"]"
   ]
  },
  {
   "cell_type": "markdown",
   "metadata": {},
   "source": [
    "You can also specify that you want an output that is also a **pandas** dataframe using: \n",
    "    \n",
    "`dataframe[[\"column\"]]`    \n",
    "\n",
    "which includes a second set of brackets `[]` to indicate that the output should be a **pandas** dataframe. "
   ]
  },
  {
   "cell_type": "code",
   "execution_count": 13,
   "metadata": {},
   "outputs": [
    {
     "data": {
      "text/html": [
       "<div>\n",
       "<style scoped>\n",
       "    .dataframe tbody tr th:only-of-type {\n",
       "        vertical-align: middle;\n",
       "    }\n",
       "\n",
       "    .dataframe tbody tr th {\n",
       "        vertical-align: top;\n",
       "    }\n",
       "\n",
       "    .dataframe thead th {\n",
       "        text-align: right;\n",
       "    }\n",
       "</style>\n",
       "<table border=\"1\" class=\"dataframe\">\n",
       "  <thead>\n",
       "    <tr style=\"text-align: right;\">\n",
       "      <th></th>\n",
       "      <th>months</th>\n",
       "    </tr>\n",
       "  </thead>\n",
       "  <tbody>\n",
       "    <tr>\n",
       "      <td>0</td>\n",
       "      <td>Jan</td>\n",
       "    </tr>\n",
       "    <tr>\n",
       "      <td>1</td>\n",
       "      <td>Feb</td>\n",
       "    </tr>\n",
       "    <tr>\n",
       "      <td>2</td>\n",
       "      <td>Mar</td>\n",
       "    </tr>\n",
       "    <tr>\n",
       "      <td>3</td>\n",
       "      <td>Apr</td>\n",
       "    </tr>\n",
       "    <tr>\n",
       "      <td>4</td>\n",
       "      <td>May</td>\n",
       "    </tr>\n",
       "    <tr>\n",
       "      <td>5</td>\n",
       "      <td>June</td>\n",
       "    </tr>\n",
       "    <tr>\n",
       "      <td>6</td>\n",
       "      <td>July</td>\n",
       "    </tr>\n",
       "    <tr>\n",
       "      <td>7</td>\n",
       "      <td>Aug</td>\n",
       "    </tr>\n",
       "    <tr>\n",
       "      <td>8</td>\n",
       "      <td>Sept</td>\n",
       "    </tr>\n",
       "    <tr>\n",
       "      <td>9</td>\n",
       "      <td>Oct</td>\n",
       "    </tr>\n",
       "    <tr>\n",
       "      <td>10</td>\n",
       "      <td>Nov</td>\n",
       "    </tr>\n",
       "    <tr>\n",
       "      <td>11</td>\n",
       "      <td>Dec</td>\n",
       "    </tr>\n",
       "  </tbody>\n",
       "</table>\n",
       "</div>"
      ],
      "text/plain": [
       "   months\n",
       "0     Jan\n",
       "1     Feb\n",
       "2     Mar\n",
       "3     Apr\n",
       "4     May\n",
       "5    June\n",
       "6    July\n",
       "7     Aug\n",
       "8    Sept\n",
       "9     Oct\n",
       "10    Nov\n",
       "11    Dec"
      ]
     },
     "execution_count": 13,
     "metadata": {},
     "output_type": "execute_result"
    }
   ],
   "source": [
    "# Select the `months` column as dataframe\n",
    "avg_monthly_precip[[\"months\"]]"
   ]
  },
  {
   "cell_type": "markdown",
   "metadata": {},
   "source": [
    "Notice that your results are now a **pandas** dataframe.\n",
    "\n",
    "You can also select all data from multiple columns in a **pandas** dataframe using:\n",
    "\n",
    "`dataframe[[\"column\", \"column\"]]` \n",
    "\n",
    "Since the results of your selection are also a **pandas** dataframe, you can assign the results to a new **pandas** dataframe. \n",
    "\n",
    "For example, you can create a new **pandas** dataframe that only contains the `months` and `seasons` columns, effectively dropping the `precip` values. "
   ]
  },
  {
   "cell_type": "code",
   "execution_count": 14,
   "metadata": {},
   "outputs": [
    {
     "data": {
      "text/html": [
       "<div>\n",
       "<style scoped>\n",
       "    .dataframe tbody tr th:only-of-type {\n",
       "        vertical-align: middle;\n",
       "    }\n",
       "\n",
       "    .dataframe tbody tr th {\n",
       "        vertical-align: top;\n",
       "    }\n",
       "\n",
       "    .dataframe thead th {\n",
       "        text-align: right;\n",
       "    }\n",
       "</style>\n",
       "<table border=\"1\" class=\"dataframe\">\n",
       "  <thead>\n",
       "    <tr style=\"text-align: right;\">\n",
       "      <th></th>\n",
       "      <th>months</th>\n",
       "      <th>seasons</th>\n",
       "    </tr>\n",
       "  </thead>\n",
       "  <tbody>\n",
       "    <tr>\n",
       "      <td>0</td>\n",
       "      <td>Jan</td>\n",
       "      <td>Winter</td>\n",
       "    </tr>\n",
       "    <tr>\n",
       "      <td>1</td>\n",
       "      <td>Feb</td>\n",
       "      <td>Winter</td>\n",
       "    </tr>\n",
       "    <tr>\n",
       "      <td>2</td>\n",
       "      <td>Mar</td>\n",
       "      <td>Spring</td>\n",
       "    </tr>\n",
       "    <tr>\n",
       "      <td>3</td>\n",
       "      <td>Apr</td>\n",
       "      <td>Spring</td>\n",
       "    </tr>\n",
       "    <tr>\n",
       "      <td>4</td>\n",
       "      <td>May</td>\n",
       "      <td>Spring</td>\n",
       "    </tr>\n",
       "    <tr>\n",
       "      <td>5</td>\n",
       "      <td>June</td>\n",
       "      <td>Summer</td>\n",
       "    </tr>\n",
       "    <tr>\n",
       "      <td>6</td>\n",
       "      <td>July</td>\n",
       "      <td>Summer</td>\n",
       "    </tr>\n",
       "    <tr>\n",
       "      <td>7</td>\n",
       "      <td>Aug</td>\n",
       "      <td>Summer</td>\n",
       "    </tr>\n",
       "    <tr>\n",
       "      <td>8</td>\n",
       "      <td>Sept</td>\n",
       "      <td>Fall</td>\n",
       "    </tr>\n",
       "    <tr>\n",
       "      <td>9</td>\n",
       "      <td>Oct</td>\n",
       "      <td>Fall</td>\n",
       "    </tr>\n",
       "    <tr>\n",
       "      <td>10</td>\n",
       "      <td>Nov</td>\n",
       "      <td>Fall</td>\n",
       "    </tr>\n",
       "    <tr>\n",
       "      <td>11</td>\n",
       "      <td>Dec</td>\n",
       "      <td>Winter</td>\n",
       "    </tr>\n",
       "  </tbody>\n",
       "</table>\n",
       "</div>"
      ],
      "text/plain": [
       "   months seasons\n",
       "0     Jan  Winter\n",
       "1     Feb  Winter\n",
       "2     Mar  Spring\n",
       "3     Apr  Spring\n",
       "4     May  Spring\n",
       "5    June  Summer\n",
       "6    July  Summer\n",
       "7     Aug  Summer\n",
       "8    Sept    Fall\n",
       "9     Oct    Fall\n",
       "10    Nov    Fall\n",
       "11    Dec  Winter"
      ]
     },
     "execution_count": 14,
     "metadata": {},
     "output_type": "execute_result"
    }
   ],
   "source": [
    "# Save months and seasons to new dataframe\n",
    "avg_monthly_precip_text = avg_monthly_precip[['months', 'seasons']]\n",
    "\n",
    "avg_monthly_precip_text"
   ]
  },
  {
   "cell_type": "markdown",
   "metadata": {},
   "source": [
    "## Filter Data Using Specific Values\n",
    "\n",
    "In addition to location-based and label-based indexing, you can select or filter data based on specific values within a column using:\n",
    "    \n",
    "`dataframe[dataframe[\"column\"] == value]`\n",
    "\n",
    "This will return all rows containing that value within the specified column. \n",
    "\n",
    "If you are selecting data using a text string column, you need to provide the value within quotations (e.g. `\"text\"`). \n",
    "\n",
    "For example, you can select all rows that have a `seasons` value of `Summer`. "
   ]
  },
  {
   "cell_type": "code",
   "execution_count": 15,
   "metadata": {},
   "outputs": [
    {
     "data": {
      "text/html": [
       "<div>\n",
       "<style scoped>\n",
       "    .dataframe tbody tr th:only-of-type {\n",
       "        vertical-align: middle;\n",
       "    }\n",
       "\n",
       "    .dataframe tbody tr th {\n",
       "        vertical-align: top;\n",
       "    }\n",
       "\n",
       "    .dataframe thead th {\n",
       "        text-align: right;\n",
       "    }\n",
       "</style>\n",
       "<table border=\"1\" class=\"dataframe\">\n",
       "  <thead>\n",
       "    <tr style=\"text-align: right;\">\n",
       "      <th></th>\n",
       "      <th>months</th>\n",
       "      <th>precip</th>\n",
       "      <th>seasons</th>\n",
       "    </tr>\n",
       "  </thead>\n",
       "  <tbody>\n",
       "    <tr>\n",
       "      <td>5</td>\n",
       "      <td>June</td>\n",
       "      <td>2.02</td>\n",
       "      <td>Summer</td>\n",
       "    </tr>\n",
       "    <tr>\n",
       "      <td>6</td>\n",
       "      <td>July</td>\n",
       "      <td>1.93</td>\n",
       "      <td>Summer</td>\n",
       "    </tr>\n",
       "    <tr>\n",
       "      <td>7</td>\n",
       "      <td>Aug</td>\n",
       "      <td>1.62</td>\n",
       "      <td>Summer</td>\n",
       "    </tr>\n",
       "  </tbody>\n",
       "</table>\n",
       "</div>"
      ],
      "text/plain": [
       "  months  precip seasons\n",
       "5   June    2.02  Summer\n",
       "6   July    1.93  Summer\n",
       "7    Aug    1.62  Summer"
      ]
     },
     "execution_count": 15,
     "metadata": {},
     "output_type": "execute_result"
    }
   ],
   "source": [
    "# Select rows with Summer in seasons\n",
    "avg_monthly_precip[avg_monthly_precip[\"seasons\"] == \"Summer\"]"
   ]
  },
  {
   "cell_type": "markdown",
   "metadata": {},
   "source": [
    "Again, you can also save the output to a new dataframe by setting it equal to the output of the filter. \n",
    "\n",
    "For example, you can filter for the values in the `months` column that are equal to `Jan` and save the output to a new dataframe."
   ]
  },
  {
   "cell_type": "code",
   "execution_count": 16,
   "metadata": {},
   "outputs": [
    {
     "data": {
      "text/html": [
       "<div>\n",
       "<style scoped>\n",
       "    .dataframe tbody tr th:only-of-type {\n",
       "        vertical-align: middle;\n",
       "    }\n",
       "\n",
       "    .dataframe tbody tr th {\n",
       "        vertical-align: top;\n",
       "    }\n",
       "\n",
       "    .dataframe thead th {\n",
       "        text-align: right;\n",
       "    }\n",
       "</style>\n",
       "<table border=\"1\" class=\"dataframe\">\n",
       "  <thead>\n",
       "    <tr style=\"text-align: right;\">\n",
       "      <th></th>\n",
       "      <th>months</th>\n",
       "      <th>precip</th>\n",
       "      <th>seasons</th>\n",
       "    </tr>\n",
       "  </thead>\n",
       "  <tbody>\n",
       "    <tr>\n",
       "      <td>0</td>\n",
       "      <td>Jan</td>\n",
       "      <td>0.7</td>\n",
       "      <td>Winter</td>\n",
       "    </tr>\n",
       "  </tbody>\n",
       "</table>\n",
       "</div>"
      ],
      "text/plain": [
       "  months  precip seasons\n",
       "0    Jan     0.7  Winter"
      ]
     },
     "execution_count": 16,
     "metadata": {},
     "output_type": "execute_result"
    }
   ],
   "source": [
    "# Select rows with Jan in months\n",
    "jan_avg_precip = avg_monthly_precip[avg_monthly_precip[\"months\"] == \"Jan\"]\n",
    "\n",
    "jan_avg_precip"
   ]
  },
  {
   "cell_type": "markdown",
   "metadata": {},
   "source": [
    "You can also select data based on numeric values. Note that these selections on numeric values do not require the use of quotations `\"\"` because they are not text strings. \n",
    "\n",
    "For example, you can select all rows that have a specific value in `precip` such as `1.62`."
   ]
  },
  {
   "cell_type": "code",
   "execution_count": 17,
   "metadata": {},
   "outputs": [
    {
     "data": {
      "text/html": [
       "<div>\n",
       "<style scoped>\n",
       "    .dataframe tbody tr th:only-of-type {\n",
       "        vertical-align: middle;\n",
       "    }\n",
       "\n",
       "    .dataframe tbody tr th {\n",
       "        vertical-align: top;\n",
       "    }\n",
       "\n",
       "    .dataframe thead th {\n",
       "        text-align: right;\n",
       "    }\n",
       "</style>\n",
       "<table border=\"1\" class=\"dataframe\">\n",
       "  <thead>\n",
       "    <tr style=\"text-align: right;\">\n",
       "      <th></th>\n",
       "      <th>months</th>\n",
       "      <th>precip</th>\n",
       "      <th>seasons</th>\n",
       "    </tr>\n",
       "  </thead>\n",
       "  <tbody>\n",
       "    <tr>\n",
       "      <td>7</td>\n",
       "      <td>Aug</td>\n",
       "      <td>1.62</td>\n",
       "      <td>Summer</td>\n",
       "    </tr>\n",
       "  </tbody>\n",
       "</table>\n",
       "</div>"
      ],
      "text/plain": [
       "  months  precip seasons\n",
       "7    Aug    1.62  Summer"
      ]
     },
     "execution_count": 17,
     "metadata": {},
     "output_type": "execute_result"
    }
   ],
   "source": [
    "# Select rows equal to 1.62 in precip\n",
    "avg_monthly_precip[avg_monthly_precip[\"precip\"] == 1.62]"
   ]
  },
  {
   "cell_type": "markdown",
   "metadata": {},
   "source": [
    "You can also filter using a comparison operator on numeric values. \n",
    "\n",
    "For example, you can select all rows from the dataframe that have precipitation value greater than 2.0 inches by filtering on the `precip` column using the greater than `>` operator. "
   ]
  },
  {
   "cell_type": "code",
   "execution_count": 18,
   "metadata": {},
   "outputs": [
    {
     "data": {
      "text/html": [
       "<div>\n",
       "<style scoped>\n",
       "    .dataframe tbody tr th:only-of-type {\n",
       "        vertical-align: middle;\n",
       "    }\n",
       "\n",
       "    .dataframe tbody tr th {\n",
       "        vertical-align: top;\n",
       "    }\n",
       "\n",
       "    .dataframe thead th {\n",
       "        text-align: right;\n",
       "    }\n",
       "</style>\n",
       "<table border=\"1\" class=\"dataframe\">\n",
       "  <thead>\n",
       "    <tr style=\"text-align: right;\">\n",
       "      <th></th>\n",
       "      <th>months</th>\n",
       "      <th>precip</th>\n",
       "      <th>seasons</th>\n",
       "    </tr>\n",
       "  </thead>\n",
       "  <tbody>\n",
       "    <tr>\n",
       "      <td>3</td>\n",
       "      <td>Apr</td>\n",
       "      <td>2.93</td>\n",
       "      <td>Spring</td>\n",
       "    </tr>\n",
       "    <tr>\n",
       "      <td>4</td>\n",
       "      <td>May</td>\n",
       "      <td>3.05</td>\n",
       "      <td>Spring</td>\n",
       "    </tr>\n",
       "    <tr>\n",
       "      <td>5</td>\n",
       "      <td>June</td>\n",
       "      <td>2.02</td>\n",
       "      <td>Summer</td>\n",
       "    </tr>\n",
       "  </tbody>\n",
       "</table>\n",
       "</div>"
      ],
      "text/plain": [
       "  months  precip seasons\n",
       "3    Apr    2.93  Spring\n",
       "4    May    3.05  Spring\n",
       "5   June    2.02  Summer"
      ]
     },
     "execution_count": 18,
     "metadata": {},
     "output_type": "execute_result"
    }
   ],
   "source": [
    "# Save rows with values greater than 2.0 to new dataframe\n",
    "gt2_avg_monthly_precip = avg_monthly_precip[avg_monthly_precip[\"precip\"] > 2.0]\n",
    "\n",
    "gt2_avg_monthly_precip"
   ]
  },
  {
   "cell_type": "markdown",
   "metadata": {},
   "source": [
    "<div class=\"notice--warning\" markdown=\"1\">\n",
    "\n",
    "## <i class=\"fa fa-pencil-square-o\" aria-hidden=\"true\"></i> Practice Your Pandas Dataframes Skills \n",
    "\n",
    "Test your **Python** skills to:\n",
    "\n",
    "1. Review how to download and import data files into **pandas** dataframe, using `precip-2002-2013-months-seasons.csv` which is available for download at \"https://ndownloader.figshare.com/files/12710621\".\n",
    "    * This file contains two columns of average monthly precipitation values: one for 2002 and one for 2013.\n",
    "2. Use the `.describe()` method to summarize the precipitation values in the dataframe (e.g. `precip_2002_2013`). Note the maximum values in 2002 and 2013. \n",
    "2. Use indexing to create two new dataframes:\n",
    "    * one containing the month with the maximum value in 2002\n",
    "    * one containing the month with the maximum value in 2013\n",
    "3. Compare these new dataframes. \n",
    "    * Do they occur in the same season?\n",
    "    * What do you notice about the precipitation value for the maximum month in 2013, as compared to that same month in 2002? \n",
    "4. Using the columns for months and the precipitation for 2013, create plot of Average Monthly Precipitation in 2013 for Boulder, CO.  \n",
    "    * Recall that you can select a column as a **pandas** series using `dataframe[\"column\"]`. \n",
    "    * If needed, review how to <a href=\"{{ site.url }}/courses/scientists-guide-to-plotting-data-in-python/plot-with-matplotlib/customize-plot-colors-labels-matplotlib/\">create **matplotlib** plots with lists</a>, and then substitute the list names with series selected from the **pandas** dataframe.    \n",
    "\n",
    "</div>"
   ]
  },
  {
   "cell_type": "code",
   "execution_count": 19,
   "metadata": {
    "tags": [
     "hide"
    ]
   },
   "outputs": [],
   "source": [
    "# precip_2002_2013.describe()\n",
    "# precip_2002_2013[precip_2002_2013.precip_2002 == 3.2]\n",
    "# precip_2002_2013[precip_2002_2013.precip_2013 == 18.16]"
   ]
  },
  {
   "cell_type": "code",
   "execution_count": 20,
   "metadata": {
    "caption": "This is a line plot created from a numpy array for average monthly precipitation in 2013 for Boulder, CO. Notice the high average value for September, in which a flooding event occurred in Boulder, CO.",
    "label": "fig:lineplot_2013_precip_numpy",
    "tags": [
     "hide"
    ]
   },
   "outputs": [],
   "source": [
    "# import matplotlib.pyplot as plt \n",
    "\n",
    "# # Download data from URL\n",
    "# precip_url = 'https://ndownloader.figshare.com/files/12710621'\n",
    "# et.data.get_data(url=precip_url)\n",
    "\n",
    "# fname = os.path.join(\"data\", \"earthpy-downloads\", \"precip-2002-2013-months-seasons.csv\")\n",
    "\n",
    "# # Set working directory to earth-analytics\n",
    "# os.chdir(os.path.join(et.io.HOME, \"earth-analytics\"))\n",
    "\n",
    "# precip_2002_2013 = pd.read_csv(fname)\n",
    "\n",
    "# fig, ax = plt.subplots(figsize=(10,10))\n",
    "\n",
    "# ax.plot(precip_2002_2013[\"months\"], \n",
    "#         precip_2002_2013[\"precip_2013\"], \n",
    "#         color=\"blue\")\n",
    "\n",
    "# ax.set(title=\"Average Monthly Precipitation in 2013 for Boulder, CO\",\n",
    "#        xlabel=\"Month\", \n",
    "#         ylabel=\"Precipitation (mm)\")\n",
    "\n",
    "# plt.show()"
   ]
  }
 ],
 "metadata": {
  "jupytext": {
   "formats": "ipynb,md"
  },
  "kernelspec": {
   "display_name": "Python 3",
   "language": "python",
   "name": "python3"
  },
  "language_info": {
   "codemirror_mode": {
    "name": "ipython",
    "version": 3
   },
   "file_extension": ".py",
   "mimetype": "text/x-python",
   "name": "python",
   "nbconvert_exporter": "python",
   "pygments_lexer": "ipython3",
   "version": "3.7.8"
  },
  "toc": {
   "base_numbering": 1,
   "nav_menu": {},
   "number_sections": true,
   "sideBar": true,
   "skip_h1_title": true,
   "title_cell": "Table of Contents",
   "title_sidebar": "Contents",
   "toc_cell": false,
   "toc_position": {},
   "toc_section_display": true,
   "toc_window_display": false
  },
  "varInspector": {
   "cols": {
    "lenName": 16,
    "lenType": 16,
    "lenVar": 40
   },
   "kernels_config": {
    "python": {
     "delete_cmd_postfix": "",
     "delete_cmd_prefix": "del ",
     "library": "var_list.py",
     "varRefreshCmd": "print(var_dic_list())"
    },
    "r": {
     "delete_cmd_postfix": ") ",
     "delete_cmd_prefix": "rm(",
     "library": "var_list.r",
     "varRefreshCmd": "cat(var_dic_list()) "
    }
   },
   "types_to_exclude": [
    "module",
    "function",
    "builtin_function_or_method",
    "instance",
    "_Feature"
   ],
   "window_display": false
  }
 },
 "nbformat": 4,
 "nbformat_minor": 2
}
