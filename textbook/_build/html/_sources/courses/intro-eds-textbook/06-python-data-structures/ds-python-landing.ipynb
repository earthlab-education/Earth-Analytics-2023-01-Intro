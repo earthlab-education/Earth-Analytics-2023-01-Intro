{
 "cells": [
  {
   "cell_type": "raw",
   "metadata": {},
   "source": [
    "---\n",
    "layout: single\n",
    "category: courses\n",
    "title: \"Scientific Data Structures in Python\"\n",
    "permalink: /courses/intro-to-earth-data-science/scientific-data-structures-python/\n",
    "week-landing: 6\n",
    "modified: '{:%Y-%m-%d}'.format(datetime.now())\n",
    "week: 6\n",
    "sidebar:\n",
    "  nav:\n",
    "comments: false\n",
    "author_profile: false\n",
    "course: \"intro-to-earth-data-science-textbook\"\n",
    "module-type: 'session'\n",
    "---"
   ]
  },
  {
   "cell_type": "markdown",
   "metadata": {},
   "source": [
    "{% include toc title=\"Section Five\" icon=\"file-text\" %}\n",
    "\n",
    "<div class=\"notice--info\" markdown=\"1\">\n",
    "\n",
    "## <i class=\"fa fa-ship\" aria-hidden=\"true\"></i> Section Six - Scientific Data Structures in Python\n",
    "\n",
    "In section six of this textbook, you will learn about commonly used scientific data structures in **Python**, beginning with **numpy** arrays. Additional chapters will be added for **pandas** dataframes and dictionaries. \n",
    "\n",
    "\n",
    "## <i class=\"fa fa-graduation-cap\" aria-hidden=\"true\"></i> Learning Objectives\n",
    "\n",
    "After completing this section of the introduction to earth data science online textbook, you will be able to:\n",
    "\n",
    "* Describe the key characteristics of **numpy** arrays.\n",
    "* Import data from text files (.txt, .csv) into **numpy** arrays. \n",
    "* Run calculations and summarize data in **numpy** arrays.\n",
    "* Use indexing to slice (i.e. select) data from **numpy arrays**.\n",
    "\n",
    "</div>\n",
    "\n",
    "\n",
    "{% include textbook-section-toc.html %}"
   ]
  },
  {
   "cell_type": "code",
   "execution_count": null,
   "metadata": {},
   "outputs": [],
   "source": []
  }
 ],
 "metadata": {
  "jupytext": {
   "formats": "ipynb,md"
  },
  "kernelspec": {
   "display_name": "Python 3",
   "language": "python",
   "name": "python3"
  },
  "language_info": {
   "codemirror_mode": {
    "name": "ipython",
    "version": 3
   },
   "file_extension": ".py",
   "mimetype": "text/x-python",
   "name": "python",
   "nbconvert_exporter": "python",
   "pygments_lexer": "ipython3",
   "version": "3.7.3"
  },
  "varInspector": {
   "cols": {
    "lenName": 16,
    "lenType": 16,
    "lenVar": 40
   },
   "kernels_config": {
    "python": {
     "delete_cmd_postfix": "",
     "delete_cmd_prefix": "del ",
     "library": "var_list.py",
     "varRefreshCmd": "print(var_dic_list())"
    },
    "r": {
     "delete_cmd_postfix": ") ",
     "delete_cmd_prefix": "rm(",
     "library": "var_list.r",
     "varRefreshCmd": "cat(var_dic_list()) "
    }
   },
   "types_to_exclude": [
    "module",
    "function",
    "builtin_function_or_method",
    "instance",
    "_Feature"
   ],
   "window_display": false
  }
 },
 "nbformat": 4,
 "nbformat_minor": 2
}
