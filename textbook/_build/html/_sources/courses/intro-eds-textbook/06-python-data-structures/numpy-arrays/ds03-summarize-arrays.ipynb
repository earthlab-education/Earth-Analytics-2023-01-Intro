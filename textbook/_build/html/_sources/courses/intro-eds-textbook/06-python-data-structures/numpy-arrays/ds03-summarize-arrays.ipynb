{
 "cells": [
  {
   "cell_type": "raw",
   "metadata": {},
   "source": [
    "---\n",
    "layout: single\n",
    "title: 'Run Calculations and Summary Statistics on Numpy Arrays'\n",
    "excerpt: \"Numpy arrays are an efficient data structure for working with scientific data in Python. Learn how to run calculations and summary statistics (such as mean or maximum) on one-dimensional and two-dimensional numpy arrays.\"\n",
    "authors: ['Jenny Palomino', 'Leah Wasser']\n",
    "category: [courses]\n",
    "class-lesson: ['intro-numpy-arrays']\n",
    "permalink: /courses/intro-to-earth-data-science/scientific-data-structures-python/numpy-arrays/run-calculations-summary-statistics-numpy-arrays/\n",
    "nav-title: \"Recalculate and Summarize Numpy Arrays\"\n",
    "dateCreated: 2019-09-06\n",
    "modified: '{:%Y-%m-%d}'.format(datetime.now())\n",
    "module-type: 'class'\n",
    "course: \"intro-to-earth-data-science-textbook\"\n",
    "week: 6\n",
    "sidebar:\n",
    "  nav:\n",
    "author_profile: false\n",
    "comments: true\n",
    "order: 3\n",
    "topics:\n",
    "  reproducible-science-and-programming: ['python']\n",
    "redirect_from:\n",
    "  - \"/courses/earth-analytics-bootcamp/numpy-arrays/manipulate-summarize-plot-numpy-arrays/\"\n",
    "---"
   ]
  },
  {
   "cell_type": "markdown",
   "metadata": {
    "lines_to_next_cell": 0
   },
   "source": [
    "{% include toc title=\"On This Page\" icon=\"file-text\" %}\n",
    "\n",
    "<div class='notice--success' markdown=\"1\">\n",
    "\n",
    "## <i class=\"fa fa-graduation-cap\" aria-hidden=\"true\"></i> Learning Objectives\n",
    "\n",
    "After completing this page, you will be able to:\n",
    "\n",
    "* Check the dimensions and shape of **numpy** arrays.\n",
    "* Run calculations and summary statistics (e.g. mean, minimum, maximum) on one-dimensional and two-dimensional **numpy** arrays.\n",
    "\n",
    "</div>\n",
    "\n",
    "  \n",
    "### Import Python Packages and Get Data\n",
    "\n",
    "Begin by importing the necessary **Python** packages and downloading and importing the data into **numpy** arrays. \n",
    "\n",
    "As you learned previously in this chapter, you will use the **earthpy** package to download the data files, **os** to set the working directory, and **numpy** to import the data files into **numpy** arrays. "
   ]
  },
  {
   "cell_type": "code",
   "execution_count": 1,
   "metadata": {},
   "outputs": [],
   "source": [
    "# Import necessary packages\n",
    "import os\n",
    "import numpy as np\n",
    "import earthpy as et"
   ]
  },
  {
   "cell_type": "code",
   "execution_count": 2,
   "metadata": {},
   "outputs": [
    {
     "data": {
      "text/plain": [
       "'/home/jpalomino/earth-analytics/data/earthpy-downloads/monthly-precip-2002-2013.csv'"
      ]
     },
     "execution_count": 2,
     "metadata": {},
     "output_type": "execute_result"
    }
   ],
   "source": [
    "# Download .txt with avg monthly precip (inches)\n",
    "monthly_precip_url = 'https://ndownloader.figshare.com/files/12565616'\n",
    "et.data.get_data(url=monthly_precip_url)\n",
    "\n",
    "# Download .csv of precip data for 2002 and 2013 (inches)\n",
    "precip_2002_2013_url = 'https://ndownloader.figshare.com/files/12707792'\n",
    "et.data.get_data(url=precip_2002_2013_url)"
   ]
  },
  {
   "cell_type": "code",
   "execution_count": 3,
   "metadata": {},
   "outputs": [],
   "source": [
    "# Set working directory to earth-analytics\n",
    "os.chdir(os.path.join(et.io.HOME, 'earth-analytics'))"
   ]
  },
  {
   "cell_type": "code",
   "execution_count": 4,
   "metadata": {},
   "outputs": [
    {
     "name": "stdout",
     "output_type": "stream",
     "text": [
      "[0.7  0.75 1.85 2.93 3.05 2.02 1.93 1.62 1.84 1.31 1.39 0.84]\n"
     ]
    }
   ],
   "source": [
    "# Import average monthly precip to numpy array\n",
    "fname = os.path.join(\"data\", \"earthpy-downloads\",\n",
    "                     \"avg-monthly-precip.txt\")\n",
    "\n",
    "avg_monthly_precip = np.loadtxt(fname)\n",
    "\n",
    "print(avg_monthly_precip)"
   ]
  },
  {
   "cell_type": "code",
   "execution_count": 5,
   "metadata": {},
   "outputs": [
    {
     "name": "stdout",
     "output_type": "stream",
     "text": [
      "[[ 1.07  0.44  1.5   0.2   3.2   1.18  0.09  1.44  1.52  2.44  0.78  0.02]\n",
      " [ 0.27  1.13  1.72  4.14  2.66  0.61  1.03  1.4  18.16  2.24  0.29  0.5 ]]\n"
     ]
    }
   ],
   "source": [
    "# Import monthly precip for 2002 and 2013 to numpy array\n",
    "fname = os.path.join(\"data\", \"earthpy-downloads\",\n",
    "                     \"monthly-precip-2002-2013.csv\")\n",
    "\n",
    "precip_2002_2013 = np.loadtxt(fname, delimiter = \",\")\n",
    "\n",
    "print(precip_2002_2013)"
   ]
  },
  {
   "cell_type": "markdown",
   "metadata": {},
   "source": [
    "## Check Dimensions and Shape of Numpy Arrays\n",
    "\n",
    "Before you begin to use the data in **numpy** arrays, it can be helpful to check the dimensions and shape of **numpy** arrays (e.g. the number of rows and columns of a two-dimensional array). \n",
    "\n",
    "**Numpy** arrays have two attributes (i.e. built-in characteristics automatically assigned to objects) that provide useful information on their dimensions and shape: `ndim` and `.shape`.  \n",
    "\n",
    "You can use `.ndim` attribute of **numpy** arrays (e.g. `array.ndim`) to get the number dimensions of the **numpy** array. \n",
    "\n",
    "For example, you can check the dimensions of `avg_monthly_precip` and `precip_2002_2013` to check that they are one-dimensional and two-dimensional, respectively. "
   ]
  },
  {
   "cell_type": "code",
   "execution_count": 6,
   "metadata": {},
   "outputs": [
    {
     "data": {
      "text/plain": [
       "1"
      ]
     },
     "execution_count": 6,
     "metadata": {},
     "output_type": "execute_result"
    }
   ],
   "source": [
    "# Check dimensions of avg_monthly_precip\n",
    "avg_monthly_precip.ndim"
   ]
  },
  {
   "cell_type": "code",
   "execution_count": 7,
   "metadata": {},
   "outputs": [
    {
     "data": {
      "text/plain": [
       "2"
      ]
     },
     "execution_count": 7,
     "metadata": {},
     "output_type": "execute_result"
    }
   ],
   "source": [
    "# Check dimensions of precip_2002_2013\n",
    "precip_2002_2013.ndim"
   ]
  },
  {
   "cell_type": "markdown",
   "metadata": {},
   "source": [
    "Another useful attribute of **numpy** arrays is the `.shape` attribute, which provides specific information on how the data is stored within the **numpy** array. \n",
    "\n",
    "For an one-dimensional **numpy** array, the `.shape` attribute returns the number of elements, while for a two-dimensional **numpy** array, the `.shape` attribute returns the number of rows and columns.\n",
    "\n",
    "For example, the `.shape` attribute of `precip_2002_2013` tells us that it has two dimensions because there are two values returned. The first value is the number of rows, while the second value is the number of columns. "
   ]
  },
  {
   "cell_type": "code",
   "execution_count": 8,
   "metadata": {},
   "outputs": [
    {
     "data": {
      "text/plain": [
       "(2, 12)"
      ]
     },
     "execution_count": 8,
     "metadata": {},
     "output_type": "execute_result"
    }
   ],
   "source": [
    "# Check shape of precip_2002_2013\n",
    "precip_2002_2013.shape"
   ]
  },
  {
   "cell_type": "markdown",
   "metadata": {},
   "source": [
    "This result is expected given what you know about the data. Recall that `precip_2002_2013` contains 2 years of data (one in each row) with 12 values for average monthly precipitation in each year (one month in each column).  \n",
    "\n",
    "Next, check the `.shape` for `avg_monthly_precip`. "
   ]
  },
  {
   "cell_type": "code",
   "execution_count": 9,
   "metadata": {},
   "outputs": [
    {
     "data": {
      "text/plain": [
       "(12,)"
      ]
     },
     "execution_count": 9,
     "metadata": {},
     "output_type": "execute_result"
    }
   ],
   "source": [
    "# Check shape of avg_monthly_precip\n",
    "avg_monthly_precip.shape"
   ]
  },
  {
   "cell_type": "markdown",
   "metadata": {},
   "source": [
    "The `.shape` attribute of `avg_monthly_precip` tells us that it is an one-dimensional **numpy** array, as only one value was returned: the number of elements, or values.  \n",
    "\n",
    "In the case of `avg_monthly_precip`, there are only 12 elements, one value of average monthly precipitation for each month (an average value across all years of data)."
   ]
  },
  {
   "cell_type": "markdown",
   "metadata": {},
   "source": [
    "## Run Calculations on Numpy Arrays\n",
    "\n",
    "A key benefit of **numpy** arrays is that they support mathematical operations on an element-by-element basis, meaning that you can actually run one operation (e.g. `array *= 25.4`) on the entire array with a single line of code. \n",
    "\n",
    "For example, you can run a calculation to convert the values `avg_monthly_precip` from inches to millimeters (1 inch = 25.4 millimeters) and save it to a new **numpy** array as follows:\n",
    "\n",
    "`avg_monthly_precip_mm = avg_monthly_precip * 25.4`\n",
    "\n",
    "Or, if you do not need to retain the original **numpy** array, you can use an assignment operator as shown below to assign the new values to the original variable. "
   ]
  },
  {
   "cell_type": "code",
   "execution_count": 10,
   "metadata": {},
   "outputs": [
    {
     "name": "stdout",
     "output_type": "stream",
     "text": [
      "[0.7  0.75 1.85 2.93 3.05 2.02 1.93 1.62 1.84 1.31 1.39 0.84]\n"
     ]
    }
   ],
   "source": [
    "# Check the original values\n",
    "print(avg_monthly_precip)"
   ]
  },
  {
   "cell_type": "code",
   "execution_count": 11,
   "metadata": {},
   "outputs": [
    {
     "name": "stdout",
     "output_type": "stream",
     "text": [
      "[17.78  19.05  46.99  74.422 77.47  51.308 49.022 41.148 46.736 33.274\n",
      " 35.306 21.336]\n"
     ]
    }
   ],
   "source": [
    "# Use assignment operator to convert values from in to mm\n",
    "avg_monthly_precip *= 25.4\n",
    "\n",
    "# Print new values\n",
    "print(avg_monthly_precip)"
   ]
  },
  {
   "cell_type": "markdown",
   "metadata": {},
   "source": [
    "These arithmetic calculations will work on any **numpy** array, including two-dimensional and multi-dimensional **numpy** arrays. "
   ]
  },
  {
   "cell_type": "code",
   "execution_count": 12,
   "metadata": {},
   "outputs": [
    {
     "name": "stdout",
     "output_type": "stream",
     "text": [
      "[[ 1.07  0.44  1.5   0.2   3.2   1.18  0.09  1.44  1.52  2.44  0.78  0.02]\n",
      " [ 0.27  1.13  1.72  4.14  2.66  0.61  1.03  1.4  18.16  2.24  0.29  0.5 ]]\n"
     ]
    }
   ],
   "source": [
    "# Check the original values\n",
    "print(precip_2002_2013)"
   ]
  },
  {
   "cell_type": "code",
   "execution_count": 13,
   "metadata": {},
   "outputs": [
    {
     "name": "stdout",
     "output_type": "stream",
     "text": [
      "[[ 27.178  11.176  38.1     5.08   81.28   29.972   2.286  36.576  38.608\n",
      "   61.976  19.812   0.508]\n",
      " [  6.858  28.702  43.688 105.156  67.564  15.494  26.162  35.56  461.264\n",
      "   56.896   7.366  12.7  ]]\n"
     ]
    }
   ],
   "source": [
    "# Use assignment operator to convert values from in to mm\n",
    "precip_2002_2013 *= 25.4\n",
    "\n",
    "# Print new values\n",
    "print(precip_2002_2013)"
   ]
  },
  {
   "cell_type": "markdown",
   "metadata": {},
   "source": [
    "### Revisit Python Lists Versus Numpy Arrays \n",
    "\n",
    "Running these types of calculations on **numpy** arrays highlight one key difference between **Python** lists and **numpy** arrays.\n",
    "\n",
    "Recall that when working with variables and lists, you created separate variables for each monthly average precipitation value to convert values (e.g. `jan *= 25.4`), and then you created a new list containing all of these converted monthly values. \n",
    "\n",
    "You had to complete that longer workflow because you cannot complete the same mathematical operations on **Python** lists. \n",
    "\n",
    "For example, try to run the code below:\n",
    "\n",
    "```python\n",
    "precip_list = [0.70, 0.75, 1.85, 2.93, 3.05, 2.02, \n",
    "              1.93, 1.62, 1.84, 1.31, 1.39, 0.84]\n",
    "\n",
    "precip_list *=  25.4\n",
    "```\n",
    "\n",
    "You will receive an error that this type of operation is not allowed on lists:\n",
    "\n",
    "```python\n",
    "TypeError: can't multiply sequence by non-int of type 'float'\n",
    "```\n",
    "\n",
    "As you can see, using **numpy** arrays makes it very easy to run calculations on scientific data.  Next, you will learn how **numpy** arrays can be used to calculate summary statistics of data such as identifying mean, maximum, and minimum values. "
   ]
  },
  {
   "cell_type": "markdown",
   "metadata": {},
   "source": [
    "## Run Summary Statistics on One-dimensional Numpy Arrays\n",
    "\n",
    "### Calculate Mean and Median \n",
    "\n",
    "Another useful feature of **numpy** arrays is the ability to run summary statistics (e.g. calculating averages, finding minimum or maximum values) across the entire array of values. \n",
    "\n",
    "For example, you can use the `np.mean()` function to calculate the average value across an array (e.g. `np.mean(array)`) or `np.median()` to identify the median value across an array (e.g. `np.median(array)`). "
   ]
  },
  {
   "cell_type": "code",
   "execution_count": 14,
   "metadata": {},
   "outputs": [
    {
     "name": "stdout",
     "output_type": "stream",
     "text": [
      "mean average monthly precipitation: 42.820166666666665\n"
     ]
    }
   ],
   "source": [
    "# Create variable with mean value\n",
    "mean_avg_precip = np.mean(avg_monthly_precip)\n",
    "\n",
    "print(\"mean average monthly precipitation:\", mean_avg_precip)"
   ]
  },
  {
   "cell_type": "code",
   "execution_count": 15,
   "metadata": {},
   "outputs": [
    {
     "name": "stdout",
     "output_type": "stream",
     "text": [
      "median average monthly precipitation: 43.942\n"
     ]
    }
   ],
   "source": [
    "# Create variable with median value\n",
    "median_avg_precip = np.median(avg_monthly_precip)\n",
    "\n",
    "print(\"median average monthly precipitation:\", median_avg_precip)"
   ]
  },
  {
   "cell_type": "markdown",
   "metadata": {},
   "source": [
    "It can be useful to calculate both the mean and median of data, as sometimes the mean can be noticeably different from the median value (i.e. the middle value of the data at which exactly half of the values are lower or higher). This difference between the mean and median can occur when the data are skewed in one direction (e.g. skewed toward lower or higher values) or contain a few significant outliers (e.g. a few really low or really high values). \n",
    "\n",
    "### Find Other Summary Statistics Functions Including Minimum and Maximum Values\n",
    "\n",
    "Recall that you can use tab complete to get a list of all available functions in any package.  \n",
    "\n",
    "This means you can get a list of the functions available in **numpy** (which you imported with the alias `np`) by typing `np.`, and hitting the tab key. A list of callable functions will appear. \n",
    "\n",
    "For example: `np.std` for identifying the standard deviation or `np.sum` for calculating the sum of elements.\n",
    "\n",
    "If you provide letter such as `.np.m` and hit the tab key, you will see options for other summary functions that begin with the letter `m`, such as `np.min()` and `np.max()` to find the minimum and maximum values in an array. "
   ]
  },
  {
   "cell_type": "code",
   "execution_count": 16,
   "metadata": {},
   "outputs": [
    {
     "name": "stdout",
     "output_type": "stream",
     "text": [
      "minimum average monthly precipitation: 17.779999999999998\n",
      "maximum average monthly precipitation: 77.46999999999998\n"
     ]
    }
   ],
   "source": [
    "# Calculate and print minimum and maximum values\n",
    "print(\"minimum average monthly precipitation:\", np.min(avg_monthly_precip))\n",
    "print(\"maximum average monthly precipitation:\", np.max(avg_monthly_precip))"
   ]
  },
  {
   "cell_type": "markdown",
   "metadata": {},
   "source": [
    "## Run Summary Statistics Across Axes of Two-dimensional Numpy Arrays\n",
    "\n",
    "In the examples above, you calculated summary statistics (e.g. mean, min, max) of one-dimensional **numpy** arrays, and you received one summary value for the whole array. \n",
    "\n",
    "To calculate statistics on two-dimensional arrays, you can use the `axis` argument in the same functions (e.g. `np.max`) to specify which axis you would like to summarize: \n",
    "* vertical axis downwards, summarizing across rows (`axis=0`)\n",
    "* hortizontal axis, summarizing across columns (`axis=1`)\n",
    "\n",
    "When using `axis=0` to calculate summary statistics, you are requesting the summary of each column across all rows of data.  For example, running `axis=0` on an array with 2 rows and 12 columns will result in an output with 12 values: one value summarized across 2 rows for each column in the array. There are 12 columns, and thus, 12 summary values. \n",
    "\n",
    "When using `axis=1`, you are requesting the summary of each row across all columns of data. For example, running `axis=1` on an array with 2 rows and 12 columns will result in an output with 2 values: one value summarized across 12 columns for each row in the array. There are 2 rows, and thus, 2 summary values.\n",
    "\n",
    "To better understand the `axis` argument and the resulting output, it can help to see it in action such as in the examples below with real data. "
   ]
  },
  {
   "cell_type": "markdown",
   "metadata": {},
   "source": [
    "### Calculate Summary Statistics Across Rows\n",
    "\n",
    "Recall that `precip_2002_2013` contained two rows of data: one for 2002 and one for 2013. It also contained twelve columns, one value for each month of the year.\n",
    "\n",
    "By using `np.max(array, axis=0)`, you are requesting the maximum value from each column across all rows (or years) of data. This means that you will receive twelve maximum values: one for each column (or month) of data. \n",
    "\n",
    "Compare the output of `np.max(precip_2002_2013, axis=0)` to your visual inspection of the maximum value in each column.  In the first column, the two values are 27.178 for 2002 and 6.858 for 2013. "
   ]
  },
  {
   "cell_type": "code",
   "execution_count": 17,
   "metadata": {},
   "outputs": [
    {
     "name": "stdout",
     "output_type": "stream",
     "text": [
      "[[ 27.178  11.176  38.1     5.08   81.28   29.972   2.286  36.576  38.608\n",
      "   61.976  19.812   0.508]\n",
      " [  6.858  28.702  43.688 105.156  67.564  15.494  26.162  35.56  461.264\n",
      "   56.896   7.366  12.7  ]]\n"
     ]
    }
   ],
   "source": [
    "# Visually identify max value across the rows of precip_2002_2013\n",
    "print(precip_2002_2013)"
   ]
  },
  {
   "cell_type": "markdown",
   "metadata": {},
   "source": [
    "The maximum value across the two rows is 27.178, which is the first value in the output of the function. "
   ]
  },
  {
   "cell_type": "code",
   "execution_count": 18,
   "metadata": {},
   "outputs": [
    {
     "name": "stdout",
     "output_type": "stream",
     "text": [
      "[ 27.178  28.702  43.688 105.156  81.28   29.972  26.162  36.576 461.264\n",
      "  61.976  19.812  12.7  ]\n"
     ]
    }
   ],
   "source": [
    "# Maximum value for each month across years 2002 and 2013\n",
    "print(np.max(precip_2002_2013, axis=0))"
   ]
  },
  {
   "cell_type": "markdown",
   "metadata": {},
   "source": [
    "Note that you can then save the output to a new **numpy** arrays for additional use. "
   ]
  },
  {
   "cell_type": "code",
   "execution_count": 19,
   "metadata": {},
   "outputs": [
    {
     "data": {
      "text/plain": [
       "numpy.ndarray"
      ]
     },
     "execution_count": 19,
     "metadata": {},
     "output_type": "execute_result"
    }
   ],
   "source": [
    "# Create new array of the maximum value for each month\n",
    "precip_2002_2013_monthly_max = np.max(precip_2002_2013, axis=0)\n",
    "\n",
    "type(precip_2002_2013_monthly_max)"
   ]
  },
  {
   "cell_type": "markdown",
   "metadata": {},
   "source": [
    "### Calculate Summary Statistics Across Columns\n",
    "\n",
    "You can use `np.max(array, axis=1)` to identify the maximum value from each row across all columns. In the case of `precip_2002_2013`, this identifies the maximum value for each row (or year) of data. \n",
    "\n",
    "Again, compare the output of `np.max(precip_2002_2013, axis=1)` to your visual inspection of the maximum value in each row.  In the first row, the maximum value is 81.28, while in the second row, the maximum value is 461.264. "
   ]
  },
  {
   "cell_type": "code",
   "execution_count": 20,
   "metadata": {},
   "outputs": [
    {
     "name": "stdout",
     "output_type": "stream",
     "text": [
      "[[ 27.178  11.176  38.1     5.08   81.28   29.972   2.286  36.576  38.608\n",
      "   61.976  19.812   0.508]\n",
      " [  6.858  28.702  43.688 105.156  67.564  15.494  26.162  35.56  461.264\n",
      "   56.896   7.366  12.7  ]]\n"
     ]
    }
   ],
   "source": [
    "# Visually identify max value across the rows of precip_2002_2013\n",
    "print(precip_2002_2013)"
   ]
  },
  {
   "cell_type": "markdown",
   "metadata": {},
   "source": [
    "Since you requested the maximum value of each row across all the columns, your output returns the maximum value for each row (or year) of data."
   ]
  },
  {
   "cell_type": "code",
   "execution_count": 21,
   "metadata": {},
   "outputs": [
    {
     "name": "stdout",
     "output_type": "stream",
     "text": [
      "[ 81.28  461.264]\n"
     ]
    }
   ],
   "source": [
    "# Maximum value for each year 2002 and 2013\n",
    "print(np.max(precip_2002_2013, axis=1))"
   ]
  },
  {
   "cell_type": "markdown",
   "metadata": {},
   "source": [
    "These summary statistics make it easy to quickly summarize large amounts of data using **numpy** arrays. On the next page of this chapter, you will learn how to select (i.e. slice) data from **numpy** arrays. "
   ]
  }
 ],
 "metadata": {
  "jupytext": {
   "formats": "ipynb,md"
  },
  "kernelspec": {
   "display_name": "Python 3",
   "language": "python",
   "name": "python3"
  },
  "language_info": {
   "codemirror_mode": {
    "name": "ipython",
    "version": 3
   },
   "file_extension": ".py",
   "mimetype": "text/x-python",
   "name": "python",
   "nbconvert_exporter": "python",
   "pygments_lexer": "ipython3",
   "version": "3.7.3"
  },
  "varInspector": {
   "cols": {
    "lenName": 16,
    "lenType": 16,
    "lenVar": 40
   },
   "kernels_config": {
    "python": {
     "delete_cmd_postfix": "",
     "delete_cmd_prefix": "del ",
     "library": "var_list.py",
     "varRefreshCmd": "print(var_dic_list())"
    },
    "r": {
     "delete_cmd_postfix": ") ",
     "delete_cmd_prefix": "rm(",
     "library": "var_list.r",
     "varRefreshCmd": "cat(var_dic_list()) "
    }
   },
   "types_to_exclude": [
    "module",
    "function",
    "builtin_function_or_method",
    "instance",
    "_Feature"
   ],
   "window_display": false
  }
 },
 "nbformat": 4,
 "nbformat_minor": 2
}
