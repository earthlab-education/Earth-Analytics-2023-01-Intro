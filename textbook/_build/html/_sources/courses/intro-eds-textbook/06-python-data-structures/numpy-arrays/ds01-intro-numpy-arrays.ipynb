{
 "cells": [
  {
   "cell_type": "raw",
   "metadata": {},
   "source": [
    "---\n",
    "layout: single\n",
    "title: 'Intro to Numpy Arrays'\n",
    "excerpt: \"Numpy arrays are a commonly used scientific data structure in Python that store data as a grid, or a matrix. Learn about the key characteristics of numpy arrays that make them an efficient data structure for storing and working with large scientific datasets.\"\n",
    "authors: ['Jenny Palomino', 'Leah Wasser']\n",
    "category: [courses]\n",
    "class-lesson: ['intro-numpy-arrays']\n",
    "permalink: /courses/intro-to-earth-data-science/scientific-data-structures-python/numpy-arrays/\n",
    "nav-title: \"Intro to Numpy Arrays\"\n",
    "dateCreated: 2019-09-06\n",
    "modified: '{:%Y-%m-%d}'.format(datetime.now())\n",
    "module-title: 'Work with Scientific Data Using Numpy Arrays'\n",
    "module-nav-title: 'Numpy Arrays'\n",
    "module-description: 'Numpy arrays are a commonly used scientific data structure in Python that store data as a grid, or a matrix. Learn how to import data into numpy arrays and how to run calculations, summarize, and select data from numpy arrays.'\n",
    "module-type: 'class'\n",
    "chapter: 14\n",
    "class-order: 1\n",
    "course: \"intro-to-earth-data-science-textbook\"\n",
    "week: 6\n",
    "estimated-time: \"2-3 hours\"\n",
    "difficulty: \"beginner\"\n",
    "sidebar:\n",
    "  nav:\n",
    "author_profile: false\n",
    "comments: true\n",
    "order: 1\n",
    "topics:\n",
    "  reproducible-science-and-programming: ['python']\n",
    "redirect_from:\n",
    "  - \"/courses/earth-analytics-bootcamp/numpy-arrays/intro-numpy-arrays/\"\n",
    "---"
   ]
  },
  {
   "cell_type": "markdown",
   "metadata": {},
   "source": [
    "{% include toc title=\"In This Chapter\" icon=\"file-text\" %}\n",
    "\n",
    "<div class='notice--success' markdown=\"1\">\n",
    "\n",
    "## <i class=\"fa fa-ship\" aria-hidden=\"true\"></i> Chapter Fourteen - Numpy Arrays\n",
    "\n",
    "In this chapter, you will learn about a commonly used data structure in Python for scientific data: **numpy** arrays. You will write **Python** code to import text data (.txt and .csv) as **numpy** arrays and to run calculations and summarize data in **numpy** arrays.\n",
    "\n",
    "After completing this chapter, you will be able to:\n",
    "\n",
    "* Describe the key characteristics of **numpy** arrays.\n",
    "* Import data from text files (.txt, .csv) into **numpy** arrays. \n",
    "* Run calculations and summarize data in **numpy** arrays.\n",
    "* Use indexing to slice (i.e. select) data from **numpy arrays**.\n",
    "\n",
    "\n",
    "## <i class=\"fa fa-check-square-o fa-2\" aria-hidden=\"true\"></i> What You Need\n",
    "\n",
    "You should have Conda setup on your computer and the Earth Analytics Python Conda environment. Follow the <a href=\"{{ site.url }}/workshops/setup-earth-analytics-python/setup-git-bash-conda/\">Set up Git, Bash, and Conda on your computer</a> to install these tools.\n",
    "\n",
    "Be sure that you have completed the chapters on <a href=\"{{ site.url }}/courses/intro-to-earth-data-science/open-reproducible-science/jupyter-python/\">Jupyter Notebook</a>, <a href=\"{{ site.url }}/courses/intro-to-earth-data-science/python-code-fundamentals/use-python-packages/\">working with packages in Python</a>, and <a href=\"{{ site.url }}/courses/intro-to-earth-data-science/python-code-fundamentals/work-with-files-directories-paths-in-python/\">working with paths and directories in Python</a>.\n",
    "\n",
    "</div>\n",
    "\n",
    "\n",
    "## What are Numpy Arrays\n",
    "\n",
    "**Numpy** arrays are a commonly used scientific data structure in **Python** that store data as a grid, or a matrix.\n",
    "\n",
    "In **Python**, data structures are objects that provide the ability to organize and manipulate data by defining the relationships between data values stored within the data structure and by providing a set of functionality that can be executed on the data structure. \n",
    "\n",
    "Recall that in the previous chapters, you used lists (another data structure in **Python**) to store values of monthly precipitation for Boulder, CO. \n",
    "\n",
    "Like **Python** lists, **numpy** arrays are also composed of ordered values (called elements) and also use indexing to organize and manipulate the elements in the **numpy** arrays. \n",
    "\n",
    "A key characteristic of **numpy** arrays is that all elements in the array must be the same type of data (i.e. all integers, floats, text strings, etc).\n",
    "\n",
    "Unlike lists which do not require a specific **Python** package to be defined (or worked with), **numpy** arrays are defined using the `array()` function from the **numpy** package.  \n",
    "\n",
    "To this function, you can provide a list of values (i.e. the elements) as the input parameter:\n",
    "\n",
    "`array = numpy.array([0.7 , 0.75, 1.85])`\n",
    "\n",
    "The example above creates a **numpy** array with a simple grid structure along one dimension. However, the grid structure of **numpy** arrays allow them to store data along multiple dimensions (e.g. rows, columns) that are relative to each other. This dimensionality makes **numpy** arrays very efficient for storing large amounts of data of the same type and characteristic.\n",
    "\n",
    "\n",
    "## Key Differences Between Python Lists and Numpy Arrays\n",
    "\n",
    "While **Python** lists and **numpy** arrays have similarities in that they are both collections of values that use indexing to help you store and access data, there are a few key differences between these two data structures:\n",
    "\n",
    "1. Unlike a **Python** list, all elements in a **numpy** arrays must be the same data type (i.e. all integers, decimals, text strings, etc).\n",
    "\n",
    "2. Because of this requirement, **numpy** arrays support arithmetic and other mathematical operations that run on each element of the array (e.g. element-by-element multiplication). Recall that lists cannot have these numeric calculations applied directly to them.\n",
    "\n",
    "3. Unlike a **Python** list, a **numpy** array is not edited by adding/removing/replacing elements in the array. Instead, each time that the **numpy** array is manipulated in some way, it is actually deleted and recreated each time.\n",
    "\n",
    "4. **Numpy** arrays can store data along multiple dimensions (e.g. rows, columns) that are relative to each other. This makes **numpy** arrays a very efficient data structure for large datasets. \n",
    "\n",
    "\n",
    "## Dimensionality of Numpy Arrays \n",
    "\n",
    "**Numpy** arrays can be:\n",
    "* one-dimensional composed of values along one dimension (resembling a **Python** list).\n",
    "* two-dimensional composed of rows of individual arrays with one or more columns.\n",
    "* multi-dimensional composed of nested arrays with one or more dimensions. \n",
    "\n",
    "In this chapter, you will work with one-dimensional and two-dimensional **numpy** arrays.\n",
    "\n",
    "For **numpy** arrays, brackets `[]` are used to assign and identify the dimensions of the **numpy** arrays. \n",
    "\n",
    "This first example below shows how a single set of brackets `[]` are used to define a one-dimensional array. "
   ]
  },
  {
   "cell_type": "code",
   "execution_count": 1,
   "metadata": {},
   "outputs": [],
   "source": [
    "# Import numpy with alias np\n",
    "import numpy as np"
   ]
  },
  {
   "cell_type": "code",
   "execution_count": 2,
   "metadata": {},
   "outputs": [
    {
     "name": "stdout",
     "output_type": "stream",
     "text": [
      "[0.7  0.75 1.85]\n"
     ]
    }
   ],
   "source": [
    "# Monthly avg precip for Jan through Mar in Boulder, CO\n",
    "avg_monthly_precip = np.array([0.70, 0.75, 1.85])\n",
    "\n",
    "print(avg_monthly_precip)"
   ]
  },
  {
   "cell_type": "markdown",
   "metadata": {},
   "source": [
    "Notice that the output of the one-dimensional **numpy** array is also contained within a single set of brackets `[]`.\n",
    "\n",
    "To create a two-dimensional array, you need to specify two sets of brackets `[]`, the outer set that defines the entire array structure and inner sets that define the rows of the individual arrays."
   ]
  },
  {
   "cell_type": "code",
   "execution_count": 3,
   "metadata": {},
   "outputs": [
    {
     "name": "stdout",
     "output_type": "stream",
     "text": [
      "[[1.07 0.44 1.5 ]\n",
      " [0.27 1.13 1.72]]\n"
     ]
    }
   ],
   "source": [
    "# Monthly precip for Jan through Mar in 2002 and 2013\n",
    "precip_2002_2013 = np.array([\n",
    "    [1.07, 0.44, 1.50],\n",
    "    [0.27, 1.13, 1.72]\n",
    "])\n",
    "\n",
    "print(precip_2002_2013)"
   ]
  },
  {
   "cell_type": "markdown",
   "metadata": {},
   "source": [
    "Notice again that the output of the two-dimensional **numpy** array is contained with two sets of brackets `[]`, which is an easy, visual way to identify whether the **numpy** array is two-dimensional. \n",
    "\n",
    "Dimensionality will remain a key concept for working with **numpy** arrays, as you learn more throughout this chapter including how to use attributes of the **numpy** arrays to identify the number of dimensions and how to use indexing to slice (i.e. select) data from **numpy** arrays."
   ]
  }
 ],
 "metadata": {
  "celltoolbar": "Edit Metadata",
  "jupytext": {
   "formats": "ipynb,md"
  },
  "kernelspec": {
   "display_name": "Python 3",
   "language": "python",
   "name": "python3"
  },
  "language_info": {
   "codemirror_mode": {
    "name": "ipython",
    "version": 3
   },
   "file_extension": ".py",
   "mimetype": "text/x-python",
   "name": "python",
   "nbconvert_exporter": "python",
   "pygments_lexer": "ipython3",
   "version": "3.7.3"
  },
  "varInspector": {
   "cols": {
    "lenName": 16,
    "lenType": 16,
    "lenVar": 40
   },
   "kernels_config": {
    "python": {
     "delete_cmd_postfix": "",
     "delete_cmd_prefix": "del ",
     "library": "var_list.py",
     "varRefreshCmd": "print(var_dic_list())"
    },
    "r": {
     "delete_cmd_postfix": ") ",
     "delete_cmd_prefix": "rm(",
     "library": "var_list.r",
     "varRefreshCmd": "cat(var_dic_list()) "
    }
   },
   "types_to_exclude": [
    "module",
    "function",
    "builtin_function_or_method",
    "instance",
    "_Feature"
   ],
   "window_display": false
  }
 },
 "nbformat": 4,
 "nbformat_minor": 2
}
