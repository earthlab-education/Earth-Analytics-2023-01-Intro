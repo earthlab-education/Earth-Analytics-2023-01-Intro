{
 "cells": [
  {
   "cell_type": "raw",
   "metadata": {},
   "source": [
    "---\n",
    "layout: single\n",
    "title: 'Slice (or Select) Data From Numpy Arrays'\n",
    "excerpt: \"Numpy arrays are an efficient data structure for working with scientific data in Python. Learn how to use indexing to slice (or select) data from one-dimensional and two-dimensional numpy arrays.\"\n",
    "authors: ['Jenny Palomino', 'Leah Wasser']\n",
    "category: [courses]\n",
    "class-lesson: ['intro-numpy-arrays']\n",
    "permalink: /courses/intro-to-earth-data-science/scientific-data-structures-python/numpy-arrays/indexing-slicing-numpy-arrays/\n",
    "nav-title: \"Slice Data From Numpy Arrays\"\n",
    "dateCreated: 2019-09-06\n",
    "modified: '{:%Y-%m-%d}'.format(datetime.now())\n",
    "module-type: 'class'\n",
    "course: \"intro-to-earth-data-science-textbook\"\n",
    "week: 6\n",
    "sidebar:\n",
    "  nav:\n",
    "author_profile: false\n",
    "comments: true\n",
    "order: 4\n",
    "topics:\n",
    "  reproducible-science-and-programming: ['python']\n",
    "---"
   ]
  },
  {
   "cell_type": "markdown",
   "metadata": {
    "lines_to_next_cell": 0
   },
   "source": [
    "{% include toc title=\"On This Page\" icon=\"file-text\" %}\n",
    "\n",
    "<div class='notice--success' markdown=\"1\">\n",
    "\n",
    "## <i class=\"fa fa-graduation-cap\" aria-hidden=\"true\"></i> Learning Objectives\n",
    "\n",
    "After completing this page, you will be able to:\n",
    "\n",
    "* Explain the difference in indexing between one-dimensional and two-dimensional **numpy arrays**.\n",
    "* Use indexing to slice (i.e. select) data from one-dimensional and two-dimensional **numpy arrays**.\n",
    "\n",
    "</div>\n",
    "\n",
    "\n",
    "##  Indexing on Numpy Arrays\n",
    "\n",
    "In a previous chapter that introduced **Python** lists, you learned that **Python** indexing begins with `[0]`, and that you can use indexing to query the value of items within **Python** lists.\n",
    "\n",
    "You can also access elements (i.e. values) in **numpy** arrays using indexing. \n",
    "\n",
    "### Indexing on One-dimensional Numpy Arrays\n",
    "\n",
    "For one-dimensional **numpy** arrays, you only need to specify one index value, which is the position of the element in the **numpy** array (e.g.  `arrayname[index]`). \n",
    "\n",
    "As an example, take a look at the one-dimensional array below which has 3 elements. \n",
    "\n",
    "```python\n",
    "avg_monthly_precip = numpy.array([0.70, 0.75, 1.85])\n",
    "```\n",
    "\n",
    "You can use `avg_monthly_precip[2]` to select the third element in (`1.85`) from this one-dimensional **numpy** array. \n",
    "\n",
    "Recall that you are using use the index `[2]` for the third place because **Python** indexing begins with `[0]`, not with `[1]`.\n",
    "\n",
    "\n",
    "### Indexing on Two-dimensional Numpy Arrays\n",
    "\n",
    "For two-dimensional **numpy** arrays, you need to specify both a row index and a column index for the element (or range of elements) that you want to access. \n",
    "\n",
    "For example, review the two-dimensional array below with 2 rows and 3 columns. \n",
    "\n",
    "```python\n",
    "precip_2002_2013 = numpy.array([[1.07, 0.44, 1.5],\n",
    "                              [0.27, 1.13, 1.72]])\n",
    "```\n",
    "\n",
    "To select the element in the second row, third column (`1.72`), you can use:\n",
    "\n",
    "`precip_2002_2013[1, 2]`\n",
    "\n",
    "which specifies that you want the element at index `[1]` for the row and index `[2]` for the column. \n",
    "\n",
    "Just like for the one-dimensional **numpy** array, you use the index `[1,2]` for the second row, third column because **Python** indexing begins with `[0]`, not with `[1]`\n",
    "\n",
    "On this page, you will use indexing to select elements within one-dimensional and two-dimensional **numpy** arrays, a selection process referred to as slicing.\n",
    "\n",
    "  \n",
    "### Import Python Packages and Get Data\n",
    "\n",
    "Begin by importing the necessary **Python** packages and downloading and importing the data into **numpy** arrays. \n",
    "\n",
    "As you learned previously in this chapter, you will use the **earthpy** package to download the data files, **os** to set the working directory, and **numpy** to import the data files into **numpy** arrays. "
   ]
  },
  {
   "cell_type": "code",
   "execution_count": 1,
   "metadata": {},
   "outputs": [],
   "source": [
    "# Import necessary packages\n",
    "import os\n",
    "\n",
    "import numpy as np\n",
    "import earthpy as et"
   ]
  },
  {
   "cell_type": "code",
   "execution_count": 2,
   "metadata": {},
   "outputs": [
    {
     "data": {
      "text/plain": [
       "'/home/jpalomino/earth-analytics/data/earthpy-downloads/monthly-precip-2002-2013.csv'"
      ]
     },
     "execution_count": 2,
     "metadata": {},
     "output_type": "execute_result"
    }
   ],
   "source": [
    "# Download .txt with avg monthly precip (inches)\n",
    "monthly_precip_url = 'https://ndownloader.figshare.com/files/12565616'\n",
    "et.data.get_data(url=monthly_precip_url)\n",
    "\n",
    "# Download .csv of precip data for 2002 and 2013 (inches)\n",
    "precip_2002_2013_url = 'https://ndownloader.figshare.com/files/12707792'\n",
    "et.data.get_data(url=precip_2002_2013_url)"
   ]
  },
  {
   "cell_type": "code",
   "execution_count": 3,
   "metadata": {},
   "outputs": [],
   "source": [
    "# Set working directory to earth-analytics\n",
    "os.chdir(os.path.join(et.io.HOME, 'earth-analytics'))"
   ]
  },
  {
   "cell_type": "code",
   "execution_count": 4,
   "metadata": {},
   "outputs": [
    {
     "name": "stdout",
     "output_type": "stream",
     "text": [
      "[0.7  0.75 1.85 2.93 3.05 2.02 1.93 1.62 1.84 1.31 1.39 0.84]\n"
     ]
    }
   ],
   "source": [
    "# Import average monthly precip\n",
    "fname = os.path.join(\"data\", \"earthpy-downloads\",\n",
    "                     \"avg-monthly-precip.txt\")\n",
    "\n",
    "avg_monthly_precip = np.loadtxt(fname)\n",
    "\n",
    "print(avg_monthly_precip)"
   ]
  },
  {
   "cell_type": "code",
   "execution_count": 5,
   "metadata": {},
   "outputs": [
    {
     "name": "stdout",
     "output_type": "stream",
     "text": [
      "[[ 1.07  0.44  1.5   0.2   3.2   1.18  0.09  1.44  1.52  2.44  0.78  0.02]\n",
      " [ 0.27  1.13  1.72  4.14  2.66  0.61  1.03  1.4  18.16  2.24  0.29  0.5 ]]\n"
     ]
    }
   ],
   "source": [
    "# Import monthly precip for 2002 and 2013\n",
    "fname = os.path.join(\"data\", \"earthpy-downloads\",\n",
    "                     \"monthly-precip-2002-2013.csv\")\n",
    "\n",
    "precip_2002_2013 = np.loadtxt(fname, delimiter=\",\")\n",
    "\n",
    "print(precip_2002_2013)"
   ]
  },
  {
   "cell_type": "markdown",
   "metadata": {},
   "source": [
    "## Slice One-dimensional Numpy Arrays\n",
    "\n",
    "By checking the shape of `avg_monthly_precip` using `.shape`, you know that it contains 12 elements along one dimension (e.g. `[12,]`). "
   ]
  },
  {
   "cell_type": "code",
   "execution_count": 6,
   "metadata": {},
   "outputs": [
    {
     "data": {
      "text/plain": [
       "(12,)"
      ]
     },
     "execution_count": 6,
     "metadata": {},
     "output_type": "execute_result"
    }
   ],
   "source": [
    "# Check shape\n",
    "avg_monthly_precip.shape"
   ]
  },
  {
   "cell_type": "markdown",
   "metadata": {},
   "source": [
    "If you to select the last element of the array, you can use index `[11]`, as you know that indexing in **Python** begins with `[0]`."
   ]
  },
  {
   "cell_type": "code",
   "execution_count": 7,
   "metadata": {},
   "outputs": [
    {
     "data": {
      "text/plain": [
       "0.84"
      ]
     },
     "execution_count": 7,
     "metadata": {},
     "output_type": "execute_result"
    }
   ],
   "source": [
    "# Select the last element of 12 elements\n",
    "avg_monthly_precip[11]"
   ]
  },
  {
   "cell_type": "markdown",
   "metadata": {},
   "source": [
    "Check out what happens when you query for an index location that does not exist in the array, say the index `[12,]`.\n",
    "\n",
    "```python\n",
    "# This code results in the error below\n",
    "avg_monthly_precip[12]\n",
    "\n",
    "```\n",
    "\n",
    "`IndexError: index 12 is out of bounds for axis 0 with size 12`\n",
    "\n",
    "You are told explicitly that there are 12 elements but that the index `[12]` is not within the bounds of the data.\n",
    "\n",
    "One way to get around having to explicit know the number of elements is to use shortcuts such as `-1` which identifies the last index for you:"
   ]
  },
  {
   "cell_type": "code",
   "execution_count": 8,
   "metadata": {},
   "outputs": [
    {
     "data": {
      "text/plain": [
       "0.84"
      ]
     },
     "execution_count": 8,
     "metadata": {},
     "output_type": "execute_result"
    }
   ],
   "source": [
    "# Select the last element of the array\n",
    "avg_monthly_precip[-1]"
   ]
  },
  {
   "cell_type": "markdown",
   "metadata": {},
   "source": [
    "### Slice a Range of Values from One-dimensional Numpy Arrays\n",
    "\n",
    "You can slice a range of elements from one-dimensional **numpy** arrays such as the third, fourth and fifth elements, by specifying an index range: `[starting_value, ending_value]`. \n",
    "\n",
    "Note that the index structure is inclusive of the first index value, but not the second index value. So you provide a starting index value for the selection and an ending index value that is not included in the selection. \n",
    "\n",
    "Thus, to select the third, fourth and fifth elements, you need to specify the index value for the third element `[2]` as the starting value and then index value for the sixth element `[5]` as the ending value (but it will not be including in the output). "
   ]
  },
  {
   "cell_type": "code",
   "execution_count": 9,
   "metadata": {},
   "outputs": [
    {
     "name": "stdout",
     "output_type": "stream",
     "text": [
      "[1.85 2.93 3.05]\n"
     ]
    }
   ],
   "source": [
    "# Slice range from 3rd to 5th elements\n",
    "print(avg_monthly_precip[2:5])"
   ]
  },
  {
   "cell_type": "markdown",
   "metadata": {},
   "source": [
    "## Slice Two-dimensional Numpy Arrays\n",
    "\n",
    "Using `.shape`, you can confirm that `precip_2002_2013` is a two-dimensional array with a row count of 2 with a column count of 12. "
   ]
  },
  {
   "cell_type": "code",
   "execution_count": 10,
   "metadata": {},
   "outputs": [
    {
     "data": {
      "text/plain": [
       "(2, 12)"
      ]
     },
     "execution_count": 10,
     "metadata": {},
     "output_type": "execute_result"
    }
   ],
   "source": [
    "# Check shape\n",
    "precip_2002_2013.shape"
   ]
  },
  {
   "cell_type": "markdown",
   "metadata": {},
   "source": [
    "To slice elements from two-dimensional arrays, you need to specify both a row index and a column index as `[row_index, column_index]`.\n",
    "\n",
    "For example, you can use the index `[1,2]` to query the element at the second row, third column in `precip_2002_2013`."
   ]
  },
  {
   "cell_type": "code",
   "execution_count": 11,
   "metadata": {},
   "outputs": [
    {
     "data": {
      "text/plain": [
       "1.72"
      ]
     },
     "execution_count": 11,
     "metadata": {},
     "output_type": "execute_result"
    }
   ],
   "source": [
    "# Select element in 2nd row, 3rd column\n",
    "precip_2002_2013[1, 2]"
   ]
  },
  {
   "cell_type": "markdown",
   "metadata": {},
   "source": [
    "If you want to select the last element in the array, you need to select the element at the last row, last column.\n",
    "\n",
    "For `precip_2002_2013` which has 2 rows and 12 columns, the last row index is `[1]`, while the last column index is `[11]`. "
   ]
  },
  {
   "cell_type": "code",
   "execution_count": 12,
   "metadata": {},
   "outputs": [
    {
     "data": {
      "text/plain": [
       "0.5"
      ]
     },
     "execution_count": 12,
     "metadata": {},
     "output_type": "execute_result"
    }
   ],
   "source": [
    "# Select element in 2nd row, 12th column\n",
    "precip_2002_2013[1, 11]"
   ]
  },
  {
   "cell_type": "markdown",
   "metadata": {},
   "source": [
    "As you become more familiar with slicing, you can start to apply shortcuts, such as `-1` introduced earlier, which can be used to identify the last index for the row and/or column:"
   ]
  },
  {
   "cell_type": "code",
   "execution_count": 13,
   "metadata": {},
   "outputs": [
    {
     "data": {
      "text/plain": [
       "0.5"
      ]
     },
     "execution_count": 13,
     "metadata": {},
     "output_type": "execute_result"
    }
   ],
   "source": [
    "# Select element in last row, last column\n",
    "precip_2002_2013[-1, -1]"
   ]
  },
  {
   "cell_type": "markdown",
   "metadata": {},
   "source": [
    "### Slice a Range of Values from Two-dimensional Numpy Arrays\n",
    "\n",
    "You can also use a range for the row index and/or column index to slice multiple elements using:\n",
    "\n",
    "`[start_row_index:end_row_index, start_column_index:end_column_index]`\n",
    "\n",
    "Recall that the index structure for both the row and column range is inclusive of the first index, but not the second index. \n",
    "\n",
    "For example, you can use the index `[0:1, 0:2]` to select the elements in first row, first two columns."
   ]
  },
  {
   "cell_type": "code",
   "execution_count": 14,
   "metadata": {},
   "outputs": [
    {
     "name": "stdout",
     "output_type": "stream",
     "text": [
      "[[1.07 0.44]]\n"
     ]
    }
   ],
   "source": [
    "# Slice first row, first two columns\n",
    "print(precip_2002_2013[0:1, 0:2])"
   ]
  },
  {
   "cell_type": "markdown",
   "metadata": {},
   "source": [
    "You can flip these index values to select elements in the first two rows, first column."
   ]
  },
  {
   "cell_type": "code",
   "execution_count": 15,
   "metadata": {},
   "outputs": [
    {
     "name": "stdout",
     "output_type": "stream",
     "text": [
      "[[1.07]\n",
      " [0.27]]\n"
     ]
    }
   ],
   "source": [
    "# Slice first two rows, first column\n",
    "print(precip_2002_2013[0:2, 0:1])"
   ]
  },
  {
   "cell_type": "markdown",
   "metadata": {},
   "source": [
    "If you wanted to slice the second row, second to third columns, you would need to use the index`[1:2, 1:3]`, which again identifies the ending index range but does not include it in the output."
   ]
  },
  {
   "cell_type": "code",
   "execution_count": 16,
   "metadata": {},
   "outputs": [
    {
     "name": "stdout",
     "output_type": "stream",
     "text": [
      "[[1.13 1.72]]\n"
     ]
    }
   ],
   "source": [
    "# Slice 2nd row, 2nd and 3rd columns\n",
    "print(precip_2002_2013[1:2, 1:3])"
   ]
  },
  {
   "cell_type": "markdown",
   "metadata": {},
   "source": [
    "As you become more familiar with slicing, you can start to use shortcuts, such as omitting the first index value `0` to start a slice at the beginning of an index range: "
   ]
  },
  {
   "cell_type": "code",
   "execution_count": 17,
   "metadata": {},
   "outputs": [
    {
     "name": "stdout",
     "output_type": "stream",
     "text": [
      "[[1.07 0.44]\n",
      " [0.27 1.13]]\n"
     ]
    }
   ],
   "source": [
    "# Slice first two rows, first two columns\n",
    "print(precip_2002_2013[:2, :2])"
   ]
  },
  {
   "cell_type": "markdown",
   "metadata": {},
   "source": [
    "Notice that the slices in the examples above provide output as two-dimensional arrays, as the original array that is being sliced is also two-dimensional. "
   ]
  },
  {
   "cell_type": "code",
   "execution_count": 18,
   "metadata": {},
   "outputs": [
    {
     "data": {
      "text/plain": [
       "(2, 2)"
      ]
     },
     "execution_count": 18,
     "metadata": {},
     "output_type": "execute_result"
    }
   ],
   "source": [
    "precip_2002_2013[:2, :2].shape"
   ]
  },
  {
   "cell_type": "markdown",
   "metadata": {},
   "source": [
    "### Use Shortcuts to Create New One-dimensional Array From Row or Column Slice\n",
    "\n",
    "Recall that `precip_2002_2013` contains two rows (or years) of data for average monthly precipitation (one row for 2002 and one row for 2013) and twelve columns (one for each month). \n",
    "\n",
    "You can use shortcuts to easily select an entire row or column by simply specifying the index of the row or column (e.g. `0` for the first, `1` for the second, etc) and providing `:` for the other index (meaning all of the row or column). \n",
    "\n",
    "The output of these shortcuts will be one-dimensional arrays, which is very useful if you want to easily plot the data.  \n",
    "\n",
    "For example, you can use `[:, 0]` to select the entire first column of `precip_2002_2013`, which are all of the values for January (in this case, for 2002 and 2013). "
   ]
  },
  {
   "cell_type": "code",
   "execution_count": 19,
   "metadata": {},
   "outputs": [
    {
     "name": "stdout",
     "output_type": "stream",
     "text": [
      "[1.07 0.27]\n"
     ]
    }
   ],
   "source": [
    "# Select 1st column\n",
    "print(precip_2002_2013[:, 0])"
   ]
  },
  {
   "cell_type": "markdown",
   "metadata": {},
   "source": [
    "Or conversely, you can use `[0, :]` to select the entire first row of `precip_2002_2013`, which are all of the monthly values for 2002. "
   ]
  },
  {
   "cell_type": "code",
   "execution_count": 20,
   "metadata": {},
   "outputs": [
    {
     "name": "stdout",
     "output_type": "stream",
     "text": [
      "[1.07 0.44 1.5  0.2  3.2  1.18 0.09 1.44 1.52 2.44 0.78 0.02]\n"
     ]
    }
   ],
   "source": [
    "# Select 1st row\n",
    "print(precip_2002_2013[0, :])"
   ]
  },
  {
   "cell_type": "markdown",
   "metadata": {},
   "source": [
    "This means that you can create a new **numpy** array of the average monthly precipitation data in 2002 by slicing the first row of values from `precip_2002_2013`. \n",
    "\n",
    "Note that the result is an one-dimensional array, which you can use to plot the average monthly precipitation data for 2002. "
   ]
  },
  {
   "cell_type": "code",
   "execution_count": 21,
   "metadata": {},
   "outputs": [
    {
     "name": "stdout",
     "output_type": "stream",
     "text": [
      "(12,)\n",
      "[1.07 0.44 1.5  0.2  3.2  1.18 0.09 1.44 1.52 2.44 0.78 0.02]\n"
     ]
    }
   ],
   "source": [
    "# Select 1st row of data for 2002\n",
    "precip_2002 = precip_2002_2013[0, :]\n",
    "\n",
    "print(precip_2002.shape)\n",
    "print(precip_2002)"
   ]
  },
  {
   "cell_type": "markdown",
   "metadata": {},
   "source": [
    "To select rows, there is an even shorter shortcut - you can provide an index for the desired row by itself!"
   ]
  },
  {
   "cell_type": "code",
   "execution_count": 22,
   "metadata": {},
   "outputs": [
    {
     "name": "stdout",
     "output_type": "stream",
     "text": [
      "(12,)\n",
      "[ 0.27  1.13  1.72  4.14  2.66  0.61  1.03  1.4  18.16  2.24  0.29  0.5 ]\n"
     ]
    }
   ],
   "source": [
    "# Select 2nd row of data for 2013\n",
    "precip_2013 = precip_2002_2013[1]\n",
    "\n",
    "print(precip_2013.shape)\n",
    "print(precip_2013)"
   ]
  },
  {
   "cell_type": "markdown",
   "metadata": {},
   "source": [
    "<div class=\"notice--warning\" markdown=\"1\">\n",
    "\n",
    "## <i class=\"fa fa-pencil-square-o\" aria-hidden=\"true\"></i> Practice Your Numpy Array Skills \n",
    "\n",
    "Test your `Python` skills to:\n",
    "\n",
    "1. Review how to download and import data files into **numpy** arrays to create an array of month names from `months.txt` which is available for download at \"https://ndownloader.figshare.com/files/12565619\".\n",
    "\n",
    "2. Create a new **numpy** array for the average monthly precipitation in 2013 by selecting all data values in the last row in `precip_2002_2013` (i.e. data for the year 2013).\n",
    "\n",
    "3. Convert the values in the **numpy** array from inches to millimeters (1 inch = 25.4 millimeters). \n",
    "\n",
    "4. Use the converted **numpy** array for 2013 and the **numpy** array of month names to create plot of Average Monthly Precipitation in 2013 for Boulder, CO.  \n",
    "    * If needed, review how to <a href=\"{{ site.url }}/courses/scientists-guide-to-plotting-data-in-python/plot-with-matplotlib/customize-plot-colors-labels-matplotlib/\">create **matplotlib** plots with lists</a>, and then substitute the list names for the appropriate numpy array name.  \n",
    "\n",
    "</div>"
   ]
  },
  {
   "cell_type": "code",
   "execution_count": 23,
   "metadata": {
    "caption": "This is a line plot created from a numpy array for average monthly precipitation in 2013 for Boulder, CO. Notice the high average value for September, in which a flooding event occurred in Boulder, CO.",
    "label": "fig:lineplot_2013_precip_numpy",
    "tags": [
     "hide"
    ]
   },
   "outputs": [],
   "source": [
    "# import matplotlib.pyplot as plt \n",
    "\n",
    "# # Download data from URL to .txt with month names\n",
    "# month_names_url = 'https://ndownloader.figshare.com/files/12565619'\n",
    "# et.data.get_data(url=month_names_url)\n",
    "\n",
    "# # Import month names\n",
    "# fname = os.path.join(\"data\", \"earthpy-downloads\", \"months.txt\")\n",
    "# months = np.genfromtxt(fname, dtype='str')\n",
    "\n",
    "# # create a new array for 2013 from the last row in `precip_2002_2013`\n",
    "# precip_2013 = precip_2002_2013[1, :]\n",
    "\n",
    "# precip_2013 *= 25.4\n",
    "\n",
    "# fig, ax = plt.subplots(figsize=(10,10))\n",
    "\n",
    "# # add the x-axis and the y-axis to the plot\n",
    "# ax.plot(months, \n",
    "#        precip_2013, \n",
    "#        color=\"blue\")\n",
    "\n",
    "# # set plot title\n",
    "# ax.set(title=\"Average Monthly Precipitation in 2013 for Boulder, CO\",\n",
    "#       xlabel=\"Month\", \n",
    "#        ylabel=\"Precipitation (mm)\")\n",
    "\n",
    "# plt.show()"
   ]
  }
 ],
 "metadata": {
  "celltoolbar": "Edit Metadata",
  "jupytext": {
   "formats": "ipynb,md"
  },
  "kernelspec": {
   "display_name": "Python 3",
   "language": "python",
   "name": "python3"
  },
  "language_info": {
   "codemirror_mode": {
    "name": "ipython",
    "version": 3
   },
   "file_extension": ".py",
   "mimetype": "text/x-python",
   "name": "python",
   "nbconvert_exporter": "python",
   "pygments_lexer": "ipython3",
   "version": "3.7.8"
  },
  "varInspector": {
   "cols": {
    "lenName": 16,
    "lenType": 16,
    "lenVar": 40
   },
   "kernels_config": {
    "python": {
     "delete_cmd_postfix": "",
     "delete_cmd_prefix": "del ",
     "library": "var_list.py",
     "varRefreshCmd": "print(var_dic_list())"
    },
    "r": {
     "delete_cmd_postfix": ") ",
     "delete_cmd_prefix": "rm(",
     "library": "var_list.r",
     "varRefreshCmd": "cat(var_dic_list()) "
    }
   },
   "types_to_exclude": [
    "module",
    "function",
    "builtin_function_or_method",
    "instance",
    "_Feature"
   ],
   "window_display": false
  }
 },
 "nbformat": 4,
 "nbformat_minor": 2
}
