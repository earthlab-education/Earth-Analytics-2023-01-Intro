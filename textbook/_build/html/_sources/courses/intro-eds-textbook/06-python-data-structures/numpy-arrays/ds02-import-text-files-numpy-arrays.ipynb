{
 "cells": [
  {
   "cell_type": "raw",
   "metadata": {},
   "source": [
    "---\n",
    "layout: single\n",
    "title: 'Import Text Files Into Numpy Arrays'\n",
    "excerpt: \"Numpy arrays are an efficient data structure for working with scientific data in Python. Learn how to import text data from .txt and .csv files into numpy arrays.\"\n",
    "authors: ['Jenny Palomino', 'Leah Wasser']\n",
    "category: [courses]\n",
    "class-lesson: ['intro-numpy-arrays']\n",
    "permalink: /courses/intro-to-earth-data-science/scientific-data-structures-python/numpy-arrays/import-txt-csv-files-numpy-arrays/\n",
    "nav-title: \"Import Data Into Numpy Arrays\"\n",
    "dateCreated: 2019-09-06\n",
    "modified: '{:%Y-%m-%d}'.format(datetime.now())\n",
    "module-type: 'class'\n",
    "course: \"intro-to-earth-data-science-textbook\"\n",
    "week: 6\n",
    "sidebar:\n",
    "  nav:\n",
    "author_profile: false\n",
    "comments: true\n",
    "order: 2\n",
    "topics:\n",
    "  reproducible-science-and-programming: ['python']\n",
    "redirect_from:\n",
    "  - \"/courses/earth-analytics-bootcamp/numpy-arrays/import-text-files-numpy-arrays/\"\n",
    "---"
   ]
  },
  {
   "cell_type": "markdown",
   "metadata": {
    "lines_to_next_cell": 0
   },
   "source": [
    "{% include toc title=\"On This Page\" icon=\"file-text\" %}\n",
    "\n",
    "<div class='notice--success' markdown=\"1\">\n",
    "\n",
    "## <i class=\"fa fa-graduation-cap\" aria-hidden=\"true\"></i> Learning Objectives\n",
    "\n",
    "* List two common text file formats for importing data into **numpy** arrays. \n",
    "* Import data from text files (.txt, .csv) into **numpy** arrays. \n",
    "\n",
    "</div>\n",
    "\n",
    "\n",
    "## Common Text File Formats For Importing Data into Numpy Arrays\n",
    "\n",
    "Scientific data can come in a variety of file formats and types. In this textbook, you will import data into **numpy** arrays from two commonly used text file formats for scientific data: \n",
    "* Plain text files (.txt)\n",
    "* Comma-separated values files (.csv)\n",
    "\n",
    "### Plain Text Files\n",
    "\n",
    "Plain text files simply list out the values on separate lines without any symbols or delimiters to indicate separate values. \n",
    "\n",
    "For example, average monthly precipitation (inches) for Boulder, CO, collected by the <a href=\"https://www.esrl.noaa.gov/psd/boulder/Boulder.mm.precip.html\" target=\"_blank\"> U.S. National Oceanic and Atmospheric Administration (NOAA)</a>, can be stored as a plain text file (.txt), with a separate line for each month's value. \n",
    "\n",
    "```python\n",
    "0.70\n",
    "0.75\n",
    "1.85\n",
    "2.93\n",
    "3.05\n",
    "2.02\n",
    "1.93\n",
    "1.62\n",
    "1.84\n",
    "1.31\n",
    "1.39\n",
    "0.84\n",
    "```\n",
    "\n",
    "Due to their simplicity, text files (.txt) can be very useful for collecting very large datasets that are all the same type of observation or data type. \n",
    "\n",
    "\n",
    "### CSV Files\n",
    "\n",
    "Unlike plain-text files which simply list out the values on separate lines without any symbols or delimiters, files containing comma-separated values (.csv) use commas (or some other delimiter like tab spaces or semi-colons) to indicate separate values.\n",
    "\n",
    "This means that .csv files can easily support multiple rows and columns of related data. \n",
    "\n",
    "For example, the monthly precipitation values for Boulder, CO for the years 2002 and 2013 can be stored together in a comma-separated values (.csv) file, with each year of data on a separate line and each month of data within a specific year separated by commas: \n",
    "\n",
    "```python\n",
    "1.07, 0.44, 1.50, 0.20, 3.20, 1.18, 0.09, 1.44, 1.52, 2.44, 0.78, 0.02\n",
    "0.27, 1.13, 1.72, 4.14, 2.66, 0.61, 1.03, 1.40, 18.16, 2.24, 0.29, 0.5\n",
    "```\n",
    "\n",
    "As you learned previously in this chapter, you can manually define **numpy** arrays as needed using the `numpy.array()` function. However, when working with larger datasets, you will want to import data directly into **numpy** arrays from data files (such as .txt and .csv). \n",
    "\n",
    "\n",
    "## Get Data To Import Into Numpy Arrays\n",
    "  \n",
    "### Import Python Packages and Set Working Directory\n",
    "\n",
    "In previous chapters, you learned how to import **Python** packages.\n",
    "\n",
    "To import data into **numpy** arrays, you will need to import the **numpy** package, and you will use the **earthpy** package to download the data files from the Earth Lab data repository on **Figshare.com**. "
   ]
  },
  {
   "cell_type": "code",
   "execution_count": 1,
   "metadata": {},
   "outputs": [],
   "source": [
    "# Import necessary packages\n",
    "import os\n",
    "\n",
    "import numpy as np\n",
    "import earthpy as et"
   ]
  },
  {
   "cell_type": "markdown",
   "metadata": {},
   "source": [
    "### Download Data from URL Using EarthPy\n",
    "\n",
    "You can use the function `data.get_data()` from the **earthpy** package (which you imported with the alias `et`) to download data from online sources such as the **Figshare.com** data repository. \n",
    "\n",
    "To use the function `et.data.get_data()`, you need to provide a parameter value for the `url`, which you define by providing a text string of the URL to the dataset.\n",
    "\n",
    "Begin by downloading a .txt file for average monthly precipitation (inches) for Boulder, CO collected by the <a href=\"https://www.esrl.noaa.gov/psd/boulder/Boulder.mm.precip.html\" target=\"_blank\"> U.S. National Oceanic and Atmospheric Administration (NOAA)</a> from the following URL: \n",
    "\n",
    "`https://ndownloader.figshare.com/files/12565616`"
   ]
  },
  {
   "cell_type": "code",
   "execution_count": 2,
   "metadata": {},
   "outputs": [
    {
     "data": {
      "text/plain": [
       "'/home/jpalomino/earth-analytics/data/earthpy-downloads/avg-monthly-precip.txt'"
      ]
     },
     "execution_count": 2,
     "metadata": {},
     "output_type": "execute_result"
    }
   ],
   "source": [
    "# Define variable for URL to .txt with avg monthly precip data\n",
    "monthly_precip_url = 'https://ndownloader.figshare.com/files/12565616'\n",
    "\n",
    "# Provide variable as parameter value for `url`\n",
    "et.data.get_data(url=monthly_precip_url)"
   ]
  },
  {
   "cell_type": "markdown",
   "metadata": {},
   "source": [
    "Take a close look at the path to this file. By default, the `data.get_data()` function downloads data from URLs to the following directory:\n",
    "\n",
    "```bash\n",
    "/home/your-username/earth-analytics/data/earthpy-downloads/\n",
    "```\n",
    "\n",
    "If the directory does not already exist, the function will create it for you.  \n",
    "\n",
    "The month names are stored in a different .txt file, which you can download from the following URL:\n",
    "\n",
    "`https://ndownloader.figshare.com/files/12565619`"
   ]
  },
  {
   "cell_type": "code",
   "execution_count": 3,
   "metadata": {},
   "outputs": [
    {
     "data": {
      "text/plain": [
       "'/home/jpalomino/earth-analytics/data/earthpy-downloads/months.txt'"
      ]
     },
     "execution_count": 3,
     "metadata": {},
     "output_type": "execute_result"
    }
   ],
   "source": [
    "# Download data from URL to .txt with month names\n",
    "month_names_url = 'https://ndownloader.figshare.com/files/12565619'\n",
    "et.data.get_data(url=month_names_url)"
   ]
  },
  {
   "cell_type": "markdown",
   "metadata": {},
   "source": [
    "Next, download a .csv file that contains the monthly precipitation (inches) for Boulder, CO for the years 2002 and 2013, collected by the <a href=\"https://www.esrl.noaa.gov/psd/boulder/Boulder.mm.precip.html\" target=\"_blank\"> U.S. National Oceanic and Atmospheric Administration (NOAA)</a>."
   ]
  },
  {
   "cell_type": "code",
   "execution_count": 4,
   "metadata": {},
   "outputs": [
    {
     "data": {
      "text/plain": [
       "'/home/jpalomino/earth-analytics/data/earthpy-downloads/monthly-precip-2002-2013.csv'"
      ]
     },
     "execution_count": 4,
     "metadata": {},
     "output_type": "execute_result"
    }
   ],
   "source": [
    "# Download data from URL to .csv of precip data for 2002 and 2013\n",
    "precip_2002_2013_url = 'https://ndownloader.figshare.com/files/12707792'\n",
    "et.data.get_data(url=precip_2002_2013_url)"
   ]
  },
  {
   "cell_type": "markdown",
   "metadata": {},
   "source": [
    "Now that you have downloaded these files, you can take a look at them by opening the files from your file explorer. Recall that these files have been downloaded to: \n",
    "\n",
    "`/home/your-username/earth-analytics/data/earthpy-downloads/`\n",
    "\n",
    "Notice the structure of each file. While `avg-monthly-precip.txt` contains numeric values and `months.txt` contains text string values, both files are plain text files with a separate line for each month's value.\n",
    "\n",
    "On the other hand, `monthly-precip-2002-2013.csv` contains rows and columns of data, with each year of data on a separate line and each month of data within a specific year separated by commas.\n",
    "\n",
    "\n",
    "## Import Numeric Data from Text Files Into Numpy Arrays\n",
    "\n",
    "You can easily create new **numpy** arrays by importing numeric data from text files (.txt and .csv) using the `loadtxt()` function from **numpy** (which you imported with the alias `np`) .\n",
    "\n",
    "Begin by setting the working directory to your `earth-analytics` directory using the **os** package and the **HOME** attribute of the **earthpy** package. \n",
    "\n",
    "As you learned in the chapter on <a href=\"{{ site.url }}/courses/intro-to-earth-data-science/python-code-fundamentals/work-with-files-directories-paths-in-python/\">working with paths and directories</a>, this will provide you with the flexibility to specify files to import from various subdirectories that you might have within the `earth-analytics` directory. "
   ]
  },
  {
   "cell_type": "code",
   "execution_count": 5,
   "metadata": {},
   "outputs": [],
   "source": [
    "# Set working directory to earth-analytics\n",
    "os.chdir(os.path.join(et.io.HOME, 'earth-analytics'))"
   ]
  },
  {
   "cell_type": "markdown",
   "metadata": {},
   "source": [
    "### Import Data From TXT File\n",
    "\n",
    "To import data from a .txt file, you simply need to specify a value for the parameter called `fname` for the file name:\n",
    "\n",
    "`np.loadtxt(fname)`\n",
    "\n",
    "Recall from the chapter on <a href=\"{{ site.url }}/courses/intro-to-earth-data-science/python-code-fundamentals/work-with-files-directories-paths-in-python/\">working with paths and directories</a> that you can use `os.path.join()` to create paths that will work on any operating system. \n",
    "\n",
    "In the example below, the `fname` is defined using `os.path.join()` with a relative path to the `avg-monthly-precip.txt` file because you previously set the working directory to `earth-analytics`. "
   ]
  },
  {
   "cell_type": "code",
   "execution_count": 6,
   "metadata": {},
   "outputs": [
    {
     "name": "stdout",
     "output_type": "stream",
     "text": [
      "[0.7  0.75 1.85 2.93 3.05 2.02 1.93 1.62 1.84 1.31 1.39 0.84]\n"
     ]
    }
   ],
   "source": [
    "# Define path to file using os.path.join\n",
    "fname = os.path.join(\"data\", \"earthpy-downloads\",\n",
    "                     \"avg-monthly-precip.txt\")\n",
    "\n",
    "# Import average monthly precip to numpy array\n",
    "avg_monthly_precip = np.loadtxt(fname)\n",
    "\n",
    "print(avg_monthly_precip)"
   ]
  },
  {
   "cell_type": "markdown",
   "metadata": {},
   "source": [
    "Notice that the data from the .txt file has been imported as a one-dimensional array (`avg_monthly_precip`), contained within a single set of brackets `[]`. \n",
    "\n",
    "Recall that you can use the `type()` function to check the type for variable.  In this case, you can check that `avg_monthly_precip` is indeed a `numpy array`. "
   ]
  },
  {
   "cell_type": "code",
   "execution_count": 7,
   "metadata": {},
   "outputs": [
    {
     "data": {
      "text/plain": [
       "numpy.ndarray"
      ]
     },
     "execution_count": 7,
     "metadata": {},
     "output_type": "execute_result"
    }
   ],
   "source": [
    "# Check type\n",
    "type(avg_monthly_precip)"
   ]
  },
  {
   "cell_type": "markdown",
   "metadata": {},
   "source": [
    "### Import Data From CSV File\n",
    "\n",
    "You can also use `np.loadtxt(fname)` to import data from .csv files that contain rows and columns of data. \n",
    "\n",
    "You will need to specify both the `fname` parameter as well as the `delimiter` parameter to indicate the character that is being used to separate values in the file (e.g. commas, semi-colons):\n",
    "\n",
    "`np.loadtxt(fname, delimiter = \",\")`"
   ]
  },
  {
   "cell_type": "code",
   "execution_count": 8,
   "metadata": {},
   "outputs": [],
   "source": [
    "# Import monthly precip for 2002 and 2013 to numpy array\n",
    "fname = os.path.join(\"data\", \"earthpy-downloads\",\n",
    "                     \"monthly-precip-2002-2013.csv\")\n",
    "precip_2002_2013 = np.loadtxt(fname, delimiter=\",\")"
   ]
  },
  {
   "cell_type": "code",
   "execution_count": 9,
   "metadata": {},
   "outputs": [
    {
     "data": {
      "text/plain": [
       "numpy.ndarray"
      ]
     },
     "execution_count": 9,
     "metadata": {},
     "output_type": "execute_result"
    }
   ],
   "source": [
    "# Check type\n",
    "type(precip_2002_2013)"
   ]
  },
  {
   "cell_type": "code",
   "execution_count": 10,
   "metadata": {},
   "outputs": [
    {
     "name": "stdout",
     "output_type": "stream",
     "text": [
      "[[ 1.07  0.44  1.5   0.2   3.2   1.18  0.09  1.44  1.52  2.44  0.78  0.02]\n",
      " [ 0.27  1.13  1.72  4.14  2.66  0.61  1.03  1.4  18.16  2.24  0.29  0.5 ]]\n"
     ]
    }
   ],
   "source": [
    "print(precip_2002_2013)"
   ]
  },
  {
   "cell_type": "markdown",
   "metadata": {},
   "source": [
    "Notice that the data from the .csv file has been imported as a two-dimensional array (`precip_2002_2013`), contained within two set of brackets `[]`.  "
   ]
  },
  {
   "cell_type": "markdown",
   "metadata": {},
   "source": [
    "## Import Text String Data from Text Files Into Numpy Arrays\n",
    "\n",
    "As needed, you can also import text files with text string values (such as month names) to **numpy** arrays using the `genfromtxt()` function from **numpy**. \n",
    "\n",
    "You need to specify a parameter value for `fname` as well as a parameter value for the data type as `dtype='str'`:\n",
    "\n",
    "`np.genfromtxt(fname, dtype='str')`"
   ]
  },
  {
   "cell_type": "code",
   "execution_count": 11,
   "metadata": {},
   "outputs": [
    {
     "data": {
      "text/plain": [
       "numpy.ndarray"
      ]
     },
     "execution_count": 11,
     "metadata": {},
     "output_type": "execute_result"
    }
   ],
   "source": [
    "# Import month names\n",
    "fname = os.path.join(\"data\", \"earthpy-downloads\", \"months.txt\")\n",
    "months = np.genfromtxt(fname, dtype='str')\n",
    "\n",
    "type(months)"
   ]
  },
  {
   "cell_type": "code",
   "execution_count": 12,
   "metadata": {},
   "outputs": [
    {
     "name": "stdout",
     "output_type": "stream",
     "text": [
      "['Jan' 'Feb' 'Mar' 'Apr' 'May' 'June' 'July' 'Aug' 'Sept' 'Oct' 'Nov'\n",
      " 'Dec']\n"
     ]
    }
   ],
   "source": [
    "print(months)"
   ]
  },
  {
   "cell_type": "markdown",
   "metadata": {},
   "source": [
    "You now know how to import data from text files into **numpy** arrays, which will come in very handy as you begin to work with scientific data. \n",
    "\n",
    "On the next pages of this chapter, you will learn how to work with **numpy** arrays to run calculations, summarize data, and more. "
   ]
  }
 ],
 "metadata": {
  "jupytext": {
   "formats": "ipynb,md"
  },
  "kernelspec": {
   "display_name": "Python 3",
   "language": "python",
   "name": "python3"
  },
  "language_info": {
   "codemirror_mode": {
    "name": "ipython",
    "version": 3
   },
   "file_extension": ".py",
   "mimetype": "text/x-python",
   "name": "python",
   "nbconvert_exporter": "python",
   "pygments_lexer": "ipython3",
   "version": "3.7.8"
  },
  "varInspector": {
   "cols": {
    "lenName": 16,
    "lenType": 16,
    "lenVar": 40
   },
   "kernels_config": {
    "python": {
     "delete_cmd_postfix": "",
     "delete_cmd_prefix": "del ",
     "library": "var_list.py",
     "varRefreshCmd": "print(var_dic_list())"
    },
    "r": {
     "delete_cmd_postfix": ") ",
     "delete_cmd_prefix": "rm(",
     "library": "var_list.r",
     "varRefreshCmd": "cat(var_dic_list()) "
    }
   },
   "types_to_exclude": [
    "module",
    "function",
    "builtin_function_or_method",
    "instance",
    "_Feature"
   ],
   "window_display": false
  }
 },
 "nbformat": 4,
 "nbformat_minor": 2
}
