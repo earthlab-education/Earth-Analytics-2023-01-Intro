{
 "cells": [
  {
   "cell_type": "raw",
   "metadata": {},
   "source": [
    "---\n",
    "layout: single\n",
    "title: 'Python Fundamentals Exercise'\n",
    "excerpt: \"Complete these exercises to practice the skills you learned in the Python fundamentals chapters.\"\n",
    "authors: ['Leah Wasser', 'Nathan Korinek']\n",
    "category: [courses]\n",
    "class-lesson: ['get-started-python']\n",
    "permalink: /courses/intro-to-earth-data-science/python-code-fundamentals/get-started-using-python/python-fundamentals-exercises/\n",
    "nav-title: \"Python Fundamentals Exercises\"\n",
    "dateCreated: 2019-07-01\n",
    "modified: '{:%Y-%m-%d}'.format(datetime.now())\n",
    "module-type: 'class'\n",
    "course: \"intro-to-earth-data-science-textbook\"\n",
    "week: 4\n",
    "sidebar:\n",
    "  nav:\n",
    "author_profile: false\n",
    "comments: true\n",
    "order: 5\n",
    "topics:\n",
    "  reproducible-science-and-programming: ['python']\n",
    "---"
   ]
  },
  {
   "cell_type": "markdown",
   "metadata": {},
   "source": [
    "{% include toc title=\"On This Page\" icon=\"file-text\" %}\n",
    "\n",
    "<div class='notice--success' markdown=\"1\">\n",
    "\n",
    "## <i class=\"fa fa-graduation-cap\" aria-hidden=\"true\"></i> Learning Objectives\n",
    "\n",
    "This page of exercises will test the skills that you learned in the previous lessons in this chapter.\n",
    "\n",
    "</div>"
   ]
  },
  {
   "cell_type": "markdown",
   "metadata": {},
   "source": [
    "<div class=\"notice--warning\" markdown=\"1\">\n",
    "\n",
    "## <i class=\"fa fa-pencil-square-o\" aria-hidden=\"true\"></i> Challenge 1: Create Lists from Data \n",
    "\n",
    "The data below represent average monthly precipitation for <a href=\"https://www.esrl.noaa.gov/psd/boulder/Boulder.mm.precip.html\" target=\"_blank\">Boulder, Colorado provided by the U.S. National Oceanic and Atmospheric Administration (NOAA).</a> \n",
    "\n",
    "Month  | Precipitation (inches) |\n",
    "--- | --- |\n",
    "jan | 0.70 |\n",
    "feb | 0.75 |\n",
    "mar | 1.85 |\n",
    "apr | 2.93 |\n",
    "may | 3.05 |\n",
    "june | 2.02 |\n",
    "july | 1.93 |\n",
    "aug | 1.62 |\n",
    "sept | 1.84 |\n",
    "oct | 1.31 |\n",
    "nov | 1.39 |\n",
    "dec | 0.84 |\n",
    "\n",
    "Create two **Python** lists as follows:\n",
    "1. the first list should contain the month abbreviations and should be called `boulder_precip_months`.\n",
    "2. the second list should be a list of precipitation values and should be called `boulder_precip_inches`.\n",
    "\n",
    "Both lists should contain the data in the table above, in the order they appear in the \n",
    "table above! Here are all of the data formatted to make it easier for you to create your \n",
    "list! \n",
    "\n",
    "`0.70, 0.75,  1.85 , 2.93, 3.05 , 2.02, 1.93, 1.62, 1.84, 1.31, 1.39, 0.84`\n",
    "\n",
    "And here are the months:\n",
    "\n",
    "`jan, feb, mar, apr, may, june, july, aug, sept, oct, nov, dec`\n",
    "\n",
    "**HINT: the month values should be strings and the precipitation values should be floating point numbers!**\n",
    "\n",
    "</div>"
   ]
  },
  {
   "cell_type": "code",
   "execution_count": 1,
   "metadata": {
    "tags": [
     "hide"
    ]
   },
   "outputs": [],
   "source": [
    "# Creating lists needed for activity\n",
    "\n",
    "boulder_precip_months = [\n",
    "    \"jan\",\n",
    "    \"feb\",\n",
    "    \"mar\",\n",
    "    \"apr\",\n",
    "    \"may\",\n",
    "    \"june\",\n",
    "    \"july\",\n",
    "    \"aug\",\n",
    "    \"sept\",\n",
    "    \"oct\",\n",
    "    \"nov\",\n",
    "    \"dec\",\n",
    "]\n",
    "\n",
    "boulder_precip_inches = [\n",
    "    0.70,\n",
    "    0.75,\n",
    "    1.85,\n",
    "    2.93,\n",
    "    3.05,\n",
    "    2.02,\n",
    "    1.93,\n",
    "    1.62,\n",
    "    1.84,\n",
    "    1.31,\n",
    "    1.39,\n",
    "    0.84,\n",
    "]"
   ]
  },
  {
   "cell_type": "markdown",
   "metadata": {},
   "source": [
    "<div class=\"notice--warning\" markdown=\"1\">\n",
    "\n",
    "## <i class=\"fa fa-pencil-square-o\" aria-hidden=\"true\"></i> Challenge 2: Modify Values in Existing List\n",
    "\n",
    "Next, convert each floating point value in the `boulder_precip_inches` to \n",
    "millimeters by creating a new list variable called `boulder_precip_mm`. \n",
    "One way to do this is to create a copy of the old list and assign it to a \n",
    "new variable name - like this:\n",
    "\n",
    "`new_list = old_list.copy()`\n",
    "\n",
    "HINT: There are several efficient ways of converting your data to mm including list comprehensions. \n",
    "\n",
    "For this exercise, you can begin by making a copy of the `boulder_precip_inches` object using:\n",
    "\n",
    "`boulder_precip_inches.copy()` \n",
    "\n",
    "Reassign that copy to the new variable called `boulder_precip_mm`. Then, \n",
    "you can replace each value in your new list using indexing. Refer back \n",
    "to the lesson on lists if you do not remember how to replace a value in \n",
    "a list. To convert inches to millimeters, you need to multiply the inches \n",
    "by `25.4` (1 inch = 25.4 mm). To make your code more legible, you can create \n",
    "a variable at the top of your notebook that stores the conversion value of \n",
    "`25.4`. A well named conversion variable will make your code easier to manage \n",
    "and easier to read.\n",
    "\n",
    "</div>"
   ]
  },
  {
   "cell_type": "code",
   "execution_count": 2,
   "metadata": {
    "tags": [
     "hide"
    ]
   },
   "outputs": [],
   "source": [
    "# Modifying the list as needed\n",
    "\n",
    "boulder_precip_mm = boulder_precip_inches.copy()\n",
    "\n",
    "boulder_precip_mm[0] *= 25.4\n",
    "boulder_precip_mm[1] *= 25.4\n",
    "boulder_precip_mm[2] *= 25.4\n",
    "boulder_precip_mm[3] *= 25.4\n",
    "boulder_precip_mm[4] *= 25.4\n",
    "boulder_precip_mm[5] *= 25.4\n",
    "boulder_precip_mm[6] *= 25.4\n",
    "boulder_precip_mm[7] *= 25.4\n",
    "boulder_precip_mm[8] *= 25.4\n",
    "boulder_precip_mm[9] *= 25.4\n",
    "boulder_precip_mm[10] *= 25.4\n",
    "boulder_precip_mm[11] *= 25.4"
   ]
  },
  {
   "cell_type": "markdown",
   "metadata": {},
   "source": [
    "<div class=\"notice--warning\" markdown=\"1\">\n",
    "\n",
    "## <i class=\"fa fa-pencil-square-o\" aria-hidden=\"true\"></i> Challenge 3: Create a List of Lists\n",
    "\n",
    "You can make a list of lists (a list which contains multiple sublists) using the following syntax:\n",
    "\n",
    "`list_of_lists = [list_one, list_two]`\n",
    "\n",
    "In the cell below, create a list called `all_boulder_data` that contains the \n",
    "`boulder_precip_months` and `boulder_precip_mm` objects as sublists.\n",
    "\n",
    "</div>"
   ]
  },
  {
   "cell_type": "code",
   "execution_count": 3,
   "metadata": {},
   "outputs": [],
   "source": [
    "# Creating the list of lists\n",
    "\n",
    "all_boulder_data = [boulder_precip_months, boulder_precip_mm]"
   ]
  },
  {
   "cell_type": "markdown",
   "metadata": {},
   "source": [
    "<div class=\"notice--warning\" markdown=\"1\">\n",
    "\n",
    "## <i class=\"fa fa-pencil-square-o\" aria-hidden=\"true\"></i> Challenge 4: Plot the Data in the List of Lists\n",
    "\n",
    "Modify the following code to create a plot of your data. Be sure to use the \n",
    "`all_boulder_data` object for your plot:\n",
    "\n",
    "HINT: you will need to properly index the all_boulder_data object to access each \n",
    "sublist within it. \n",
    "\n",
    "```python\n",
    "# Import necessary plot package\n",
    "import matplotlib.pyplot as plt\n",
    "\n",
    "# Plot monthly precipitation values\n",
    "fig, ax = plt.subplots(figsize=(6, 6))\n",
    "ax.bar(listname_x_axis, \n",
    "       listname_y_axis, \n",
    "       color=\"red\")\n",
    "ax.set(title=\"Add plot title here\",\n",
    "       xlabel=\"Add x axis label here\", \n",
    "       ylabel=\"Add y axis label here\")\n",
    "plt.show()\n",
    "```\n",
    "\n",
    "Customize this plot by completing the following tasks:\n",
    "1. Replace `listname_x_axis` and `listname_y_axis` with the appropriate sublist within the `all_boulder_data` list.\n",
    "2. Change the <a href=\"https://matplotlib.org/mpl_examples/color/named_colors.hires.png\" target=\"_blank\">color of the plot</a> to a blue color such as aqua.\n",
    "3. Update the text for the titles and axes labels. \n",
    "4. Modify the values in `figsize=(6, 6)` to change the size of your plot. \n",
    "\n",
    "For your titles and labels, be sure to think about the following pieces of information that could help someone easily interpret the plot:\n",
    "\n",
    "* geographic coverage or extent of data.\n",
    "* duration or temporal extent of the data.\n",
    "* what was actually measured and/or represented by the data.\n",
    "* units of measurement.\n",
    "\n",
    "</div>"
   ]
  },
  {
   "cell_type": "code",
   "execution_count": 4,
   "metadata": {
    "caption": "Bar graph showing the average precipitation per month in Boulder, CO in millimeters.",
    "tags": [
     "hide"
    ]
   },
   "outputs": [
    {
     "data": {
      "image/png": "[encoded data removed]",
      "text/plain": [
       "<Figure size 1000x1000 with 1 Axes>"
      ]
     },
     "metadata": {},
     "output_type": "display_data"
    }
   ],
   "source": [
    "# Import necessary plot package\n",
    "import matplotlib.pyplot as plt\n",
    "\n",
    "# Plot monthly precipitation values\n",
    "fig, ax = plt.subplots(figsize=(10, 10))\n",
    "ax.bar(all_boulder_data[0],\n",
    "       all_boulder_data[1],\n",
    "       color=\"aqua\")\n",
    "\n",
    "fig.suptitle(\"Average Monthly Precipitation for Boulder, Colorado\", fontsize=20)\n",
    "ax.set_xlabel(\"Month\", fontsize=15)\n",
    "ax.set_ylabel(\"Precipitation (mm)\", fontsize=15)\n",
    "\n",
    "plt.show()"
   ]
  },
  {
   "cell_type": "markdown",
   "metadata": {},
   "source": [
    "<div class=\"notice--warning\" markdown=\"1\">\n",
    "\n",
    "## <i class=\"fa fa-pencil-square-o\" aria-hidden=\"true\"></i> BONUS Challenge: List Comprehensions in Python\n",
    "\n",
    "Above you performed many tasks manually. Included in those manual steps was one \n",
    "where you converted each individual value in your list from inches to mm.\n",
    "In **Python**, list comprehensions are a great way to perform operations on a sequence \n",
    "of values stored within a list. \n",
    "\n",
    "The syntax for a list comprehension is below. Essentially what is happening is that \n",
    "Python is iterating through each value in the old list (`for i in my_old_list`) and \n",
    "multiplying it by 2 (`i*2`). In each iteration of the loop, the value `i` represents \n",
    "the next value in the list. In the example below, `i` will first be the value 1, \n",
    "and then 2, and finally 3.\n",
    "\n",
    "\n",
    "```python\n",
    "my_old_list = [1, 2, 3]\n",
    "my_new_list = [i *2 for i in my_old_list] \n",
    "```\n",
    "\n",
    "`my_new_list` will equal each value in `my_old_list` multiplied by 2, so `my_new_list` \n",
    "will be equivalent to `[2, 4, 6]`. You can run this code and see the output for yourself!\n",
    "Try to experiment with writing more efficient code. Convert your `boulder_precip_inches` \n",
    "list of values to a new list called `boulder_precip_mm` using a list comprehension. Use \n",
    "the syntax above to help you create this list comprehension.\n",
    "\n",
    "For more information on loops and changing values within a list, you can check out <a href=\"https://www.earthdatascience.org/courses/intro-to-earth-data-science/write-efficient-python-code/loops/\" target=\"_blank\">Earth Lab's lesson introducing loops in Python,</a> and you can go to <a href=\"https://www.pythonforbeginners.com/basics/list-comprehensions-in-python\" target=\"_blank\">this more in depth explanation on list comprehensions in Python.</a>\n",
    "\n",
    "</div>"
   ]
  },
  {
   "cell_type": "code",
   "execution_count": 5,
   "metadata": {
    "tags": [
     "hide"
    ]
   },
   "outputs": [],
   "source": [
    "boulder_precip_mm = [i * 25.4 for i in boulder_precip_inches]"
   ]
  }
 ],
 "metadata": {
  "celltoolbar": "Edit Metadata",
  "kernelspec": {
   "display_name": "Python 3",
   "language": "python",
   "name": "python3"
  },
  "language_info": {
   "codemirror_mode": {
    "name": "ipython",
    "version": 3
   },
   "file_extension": ".py",
   "mimetype": "text/x-python",
   "name": "python",
   "nbconvert_exporter": "python",
   "pygments_lexer": "ipython3",
   "version": "3.10.12"
  },
  "toc": {
   "base_numbering": 1,
   "nav_menu": {},
   "number_sections": true,
   "sideBar": true,
   "skip_h1_title": false,
   "title_cell": "Table of Contents",
   "title_sidebar": "Contents",
   "toc_cell": false,
   "toc_position": {},
   "toc_section_display": true,
   "toc_window_display": true
  },
  "varInspector": {
   "cols": {
    "lenName": 16,
    "lenType": 16,
    "lenVar": 40
   },
   "kernels_config": {
    "python": {
     "delete_cmd_postfix": "",
     "delete_cmd_prefix": "del ",
     "library": "var_list.py",
     "varRefreshCmd": "print(var_dic_list())"
    },
    "r": {
     "delete_cmd_postfix": ") ",
     "delete_cmd_prefix": "rm(",
     "library": "var_list.r",
     "varRefreshCmd": "cat(var_dic_list()) "
    }
   },
   "types_to_exclude": [
    "module",
    "function",
    "builtin_function_or_method",
    "instance",
    "_Feature"
   ],
   "window_display": false
  }
 },
 "nbformat": 4,
 "nbformat_minor": 4
}