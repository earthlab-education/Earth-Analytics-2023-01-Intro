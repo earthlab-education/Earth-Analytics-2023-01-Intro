{
 "cells": [
  {
   "cell_type": "raw",
   "id": "b48e84fe",
   "metadata": {},
   "source": [
    "---\n",
    "layout: single\n",
    "category: courses\n",
    "title: \"Python Code Fundamentals\"\n",
    "permalink: /courses/intro-to-earth-data-science/python-code-fundamentals/\n",
    "week-landing: 4\n",
    "modified: '{:%Y-%m-%d}'.format(datetime.now())\n",
    "week: 4\n",
    "sidebar:\n",
    "  nav:\n",
    "comments: false\n",
    "author_profile: false\n",
    "course: \"intro-to-earth-data-science-textbook\"\n",
    "module-type: 'session'\n",
    "---"
   ]
  },
  {
   "cell_type": "markdown",
   "id": "1303b2c6",
   "metadata": {},
   "source": [
    "{% include toc title=\"Section Four\" icon=\"file-text\" %}\n",
    "\n",
    "<div class=\"notice--info\" markdown=\"1\">\n",
    "\n",
    "## <i class=\"fa fa-ship\" aria-hidden=\"true\"></i> Section Four - Python Code Fundamentals\n",
    "\n",
    "In section four of this textbook, you will learn fundamental concepts for getting started with **Python**, including what makes **Python** a useful language for scientific workflows, and you will learn how to start working with data in **Python**, including creating and working with variables and lists. \n",
    "\n",
    "\n",
    "## <i class=\"fa fa-graduation-cap\" aria-hidden=\"true\"></i> Learning Objectives\n",
    "\n",
    "After completing this section of the introduction to earth data science online textbook, you will be able to:\n",
    "\n",
    "* List key characteristics and benefits of using the **Python** language for scientific workflows.\n",
    "* Write code to create and start working with data in **Python**, including running basic operations (e.g. updates, comparisons) on variables and lists.\n",
    "\n",
    "</div>\n",
    "\n",
    "{% include textbook-section-toc.html %}"
   ]
  },
  {
   "cell_type": "code",
   "execution_count": null,
   "id": "46533a68",
   "metadata": {},
   "outputs": [],
   "source": []
  }
 ],
 "metadata": {
  "jupytext": {
   "formats": "ipynb,md:myst",
   "text_representation": {
    "extension": ".md",
    "format_name": "myst",
    "format_version": 0.13,
    "jupytext_version": "1.14.7"
   }
  },
  "kernelspec": {
   "display_name": "Python 3",
   "language": "python",
   "name": "python3"
  },
  "language_info": {
   "codemirror_mode": {
    "name": "ipython",
    "version": 3
   },
   "file_extension": ".py",
   "mimetype": "text/x-python",
   "name": "python",
   "nbconvert_exporter": "python",
   "pygments_lexer": "ipython3",
   "version": "3.10.12"
  },
  "source_map": [
   15,
   32,
   54
  ]
 },
 "nbformat": 4,
 "nbformat_minor": 5
}