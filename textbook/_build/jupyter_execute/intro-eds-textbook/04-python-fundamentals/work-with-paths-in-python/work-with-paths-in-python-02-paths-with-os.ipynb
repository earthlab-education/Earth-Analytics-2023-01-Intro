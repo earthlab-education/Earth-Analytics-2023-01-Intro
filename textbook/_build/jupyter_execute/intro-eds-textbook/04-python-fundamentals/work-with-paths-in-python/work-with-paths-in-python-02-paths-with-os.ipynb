{
 "cells": [
  {
   "cell_type": "raw",
   "id": "55ae72be",
   "metadata": {},
   "source": [
    "---\n",
    "layout: single\n",
    "title: 'Write Code That Will Work On Any Computer: Introduction to Using the OS Python Package to Set Up Working Directories and Construct File Paths'\n",
    "excerpt: \"Manually constructed files paths will often not run on computers with different operating systems. Learn how to construct file paths in Python that will work on Mac, Linux and Windows, in support of open reproducible science.\"\n",
    "authors: ['Leah Wasser', 'Jenny Palomino']\n",
    "category: [courses]\n",
    "class-lesson: ['work-with-files-directories-in-python']\n",
    "permalink: /courses/intro-to-earth-data-science/python-code-fundamentals/work-with-files-directories-paths-in-python/set-working-directory-os-package/\n",
    "nav-title: \"Set Working Directory\"\n",
    "dateCreated: 2019-09-18\n",
    "modified: '{:%Y-%m-%d}'.format(datetime.now())\n",
    "module-type: 'class'\n",
    "course: \"intro-to-earth-data-science-textbook\"\n",
    "week: 4\n",
    "sidebar:\n",
    "  nav:\n",
    "author_profile: false\n",
    "comments: true\n",
    "order: 2\n",
    "topics:\n",
    "  reproducible-science-and-programming: ['python']\n",
    "redirect_from:\n",
    "  - \"/courses/intro-to-earth-data-science/python-code-fundamentals/work-with-files-directories-in-python/set-working-directory-os-package/\"  \n",
    "  - \"/courses/earth-analytics-python/python-open-science-toolbox/setup-earth-analytics-working-directory/\"  \n",
    "---"
   ]
  },
  {
   "cell_type": "markdown",
   "id": "de5bc46c",
   "metadata": {},
   "source": [
    "{% include toc title=\"On This Page\" icon=\"file-text\" %}\n",
    "\n",
    "<div class='notice--success' markdown=\"1\">\n",
    "\n",
    "## <i class=\"fa fa-graduation-cap\" aria-hidden=\"true\"></i> Learning Objectives\n",
    "\n",
    "* Use the earthpy attribute `et.io.HOME` to find the home directory on any computer.\n",
    "* Use `os.path.join()` to create paths that will work on Windows, Mac and Linux.\n",
    "* Use `os.path.exists()` to ensure a file path exists.\n",
    "* Set your working directory in **Python** using `os.chdir()`.\n",
    "\n",
    "</div>\n",
    "\n",
    "You will need the **os** and the **earthpy** packages to run the code on this page.\n",
    "\n",
    "On this page, your goal is to create and set the **earth-analytics** directory\n",
    "as your working directory, using code that will work on any computer.\n",
    "\n",
    "This **earth-analytics** directory should exist in your home directory. The path will look\n",
    "something like this: `/home/user-name/earth-analytics` following the example on the previous page of this chapter.\n",
    "\n",
    "To create and construct this working directory, you will use several functions\n",
    "located in the **os** **Python** package. You will also use **earthpy** package."
   ]
  },
  {
   "cell_type": "code",
   "execution_count": 1,
   "id": "90b9db9b",
   "metadata": {},
   "outputs": [],
   "source": [
    "# Import necessary packages\n",
    "import os\n",
    "\n",
    "import earthpy as et"
   ]
  },
  {
   "cell_type": "markdown",
   "id": "6e27a692",
   "metadata": {},
   "source": [
    "## Paths in Python\n",
    "\n",
    "It is important to consider paths and working directories when setting up\n",
    "projects in python. The ideal scenario is that your code can run on any machine.\n",
    "\n",
    "Ensuring that your code can run on multiple machines makes it easier to:\n",
    "\n",
    "1. set things up in the rare case that your machine dies.\n",
    "2. move your workflow to a cloud environment or high performance computing infrastructure.\n",
    "2. share your project and collaborate with others.\n",
    "\n",
    "There are a few things to consider when creating paths that can make reproducibility\n",
    "challenging.\n",
    "\n",
    "Paths are constructed differently on different operating systems. For example, the\n",
    "path to **earth-analytics/data** in the home directory that you examined in the previous lesson looks like this in **Python**:\n",
    "\n",
    "* **/home/username/earth-analytics/data** on Mac and Linux and\n",
    "* **C:\\\\\\Users\\\\\\username\\\\\\earth-analytics\\\\\\data** on Windows\n",
    "\n",
    "The noticeable differences are the identification of the home directory (e.g. `/home/username` or `C:\\\\Users\\\\username`) and the direction and number of slashes. \n",
    "\n",
    "This path `/home/username/earth-analytics/data` will NOT work on Windows. \n",
    "\n",
    "And this path `C:\\\\Users\\\\username\\\\earth-analytics\\\\data` will not work on Mac or Linux. \n",
    "\n",
    "Lucky for you, there are a suite of functions that you can use to construct paths that will ensure that your code works across platforms. On this page, you will learn how these functions help you to handle differences in the identification of the home directory and the differences in slashes between operating systems. \n",
    "\n",
    "Using these functions will make it easier for you to collaborate and share your code with others (and even yourself!) regardless of the operating system that is used to run the code.  \n",
    "\n",
    "\n",
    "## Build Directory Paths that Work Across Operating Systems Using os.path.join\n",
    "\n",
    "The **path** module within the **os** package contains a `join()` function that\n",
    "will create a path from a list of strings. When this function is run, it will\n",
    "adapt to the operating system that is calling **Python**.\n",
    "\n",
    "`os.path.join` takes as many strings as you provide it. It reads each string as a\n",
    "directory name (or file name) and then creates an output path by concatenating the input strings.\n",
    "\n",
    "`os.path.join(\"dir1\", \"dir2\", \"dir3\", \"file-name\")`\n",
    "\n",
    "The example below creates a relative path to the `data` subdirectory within the `earth-analytics` directory."
   ]
  },
  {
   "cell_type": "code",
   "execution_count": 2,
   "id": "4723971c",
   "metadata": {},
   "outputs": [
    {
     "data": {
      "text/plain": [
       "'earth-analytics/data'"
      ]
     },
     "execution_count": 2,
     "metadata": {},
     "output_type": "execute_result"
    }
   ],
   "source": [
    "# Direction and number of slashes are handled by the function\n",
    "os.path.join(\"earth-analytics\", \"data\")"
   ]
  },
  {
   "cell_type": "markdown",
   "id": "66e68ca7",
   "metadata": {},
   "source": [
    "The `join()` function from the **os.path** module creates a path in the format required by the operating system upon which the code is being run (i.e. whatever operating system your\n",
    "computer is running). \n",
    "\n",
    "Constructing a path using the `join()` function\n",
    "will save you time when you (or others!) move your code to another computer, as you will not\n",
    "have to manually create or fix paths.\n",
    "\n",
    "<i class=\"fa fa-exclamation-circle\"></i> **IMPORTANT** You can create paths that do not exist on\n",
    "your computer using this approach. So be careful about ensuring that you have\n",
    "created the necessary directories, spelled them correctly, and that they are in the correct order in the path (i.e. correct parent directories). `os.path.join` \n",
    "does does not actually test to ensure that the path exists!\n",
    "{: .notice--success}\n",
    "\n",
    "Because you can potentially create a path that doesn't exist on your computer,\n",
    "you can check that a path exists using the `os.path.exists()` function. It\n",
    "returns a **boolean** value of True or False, depending on whether the path does in fact exist\n",
    "on your computer."
   ]
  },
  {
   "cell_type": "code",
   "execution_count": 3,
   "id": "ea6a28e2",
   "metadata": {},
   "outputs": [
    {
     "data": {
      "text/plain": [
       "False"
      ]
     },
     "execution_count": 3,
     "metadata": {},
     "output_type": "execute_result"
    }
   ],
   "source": [
    "# Check that a directory exists on your computer\n",
    "my_path = os.path.join(\"earth-analytics\", \"data\")\n",
    "\n",
    "# Boolean output (True or False)\n",
    "os.path.exists(my_path)"
   ]
  },
  {
   "cell_type": "markdown",
   "id": "9442c132",
   "metadata": {},
   "source": [
    "In the example above, you have created a path. However, that path may or may not already exist on your computer. \n",
    "\n",
    "If **Python** cannot find the directory, there are several issues to consider:  \n",
    "\n",
    "1. Your working directory may not be set properly, so that it can find the relative path.\n",
    "2. You have a misspelling in you path. Or, the case (e.g. upper, lower) is incorrect.\n",
    "3. The directory has not been created on your computer.\n",
    "\n",
    "Note that relative paths will only return True if a working directory has been set correctly. This is because relative paths are (as named) relative to some directory. Thus, you want to set the working directory to be the starting point for relative paths that you want to build in your code.  \n",
    "\n",
    "In the example above, the relative path returns a False because the working directory has not yet been set. \n",
    "\n",
    "### Check and Set Your Working Directory Using OS\n",
    "\n",
    "You can use the **os** package to check and set your working directory. This is another good check to implement when you get \"a file not found error\" in your code.\n",
    "\n",
    "There are two functions in the **os** package that help you accomplish these tasks:\n",
    "\n",
    "* `getcwd()`: CWD stands for Current Working Directory. This function allows you to see what your current working directory is.\n",
    "* `chdir(\"path-to-dir\")`: Short for *CH*ange *DIR*ectory, this function allows you to set the current working directory to a path of your choice.  \n",
    "\n",
    "\n",
    "## Check Your Current Working Directory\n",
    "\n",
    "Check your current working directory using `os.getcwd()`. What does the output look like?\n",
    "\n",
    "In the example below, you can see some example output from the computer that is being used to write this lesson that you are reading (which is in a **Jupyter Notebook** file!). \n",
    "\n",
    "Do you notice any characteristics of this path that might make it difficult to run on another computer?\n",
    "\n",
    "`os.getcwd()`\n",
    "\n",
    "Output\n",
    "`/home/username/Documents/github/earth-analytics-lessons`\n",
    "\n",
    "1. The path above has a specific username in it.\n",
    "2. It also has subdirectories including **Documents** and **github** that may or may not be on another computer.\n",
    "3. Finally there are slashes that create that path. Notice that these slashes could work on a Mac but they might not work on Windows.\n",
    "\n",
    "This working directory could be problematic for both your future self and others, as it\n",
    "may not run on other machines.\n",
    "\n",
    "\n",
    "## Use earthpy HOME Attribute to Locate Your Home Directory\n",
    "\n",
    "You could set the working directory using `os.chdir()` to your home directory. \n",
    "\n",
    "This could solve some of your problems, if the `earth-analytics` directory that you want to use exists within your\n",
    "home directory (remember that all computers have a home directory). \n",
    "\n",
    "So what about just using `os.chdir(\"~/\")`?\n",
    "\n",
    "The above syntax mimics what you might use in **Bash** to navigate to your home\n",
    "directory; however, this syntax unfortunately does not work in **Python**.\n",
    "\n",
    "Instead, you can use **io** module of the **earthpy** package, which contains a **HOME** attribute that will locate your home directory."
   ]
  },
  {
   "cell_type": "code",
   "execution_count": 4,
   "id": "8cfc2339",
   "metadata": {},
   "outputs": [
    {
     "data": {
      "text/plain": [
       "'/Users/elsa'"
      ]
     },
     "execution_count": 4,
     "metadata": {},
     "output_type": "execute_result"
    }
   ],
   "source": [
    "# Find your home directory\n",
    "et.io.HOME"
   ]
  },
  {
   "cell_type": "markdown",
   "id": "3809af95",
   "metadata": {},
   "source": [
    "When you call `et.io.HOME`, it provides you with a path that is the home\n",
    "directory path on your computer. \n",
    "\n",
    "This path will account for whatever operating system it is run on, so it will work on any computer."
   ]
  },
  {
   "cell_type": "markdown",
   "id": "ee202e70",
   "metadata": {},
   "source": [
    "You can check to ensure that the directory returned by `et.io.HOME` exists using `os.path.exists()`.\n",
    "\n",
    "In the example below, the **HOME** attribute is provided as an input to the function `os.path.exists`. It\n",
    "returns a **boolean** value of True which means that the path does in fact exist on your computer."
   ]
  },
  {
   "cell_type": "code",
   "execution_count": 5,
   "id": "98f4a9c7",
   "metadata": {},
   "outputs": [
    {
     "data": {
      "text/plain": [
       "True"
      ]
     },
     "execution_count": 5,
     "metadata": {},
     "output_type": "execute_result"
    }
   ],
   "source": [
    "# Check if the home directory exists (of course it does!)\n",
    "os.path.exists(et.io.HOME)"
   ]
  },
  {
   "cell_type": "markdown",
   "id": "c3100522",
   "metadata": {},
   "source": [
    "For the rest of this textbook, you will use the **HOME** attribute of **earthpy** to set the working directory to your home directory. \n",
    "\n",
    "Then, you will be able to access files and subdirectories within the **earth-analytics** directory,\n",
    "which should be located in your home directory on your computer.\n",
    "\n",
    "\n",
    "## Construct a Path to the earth-analytics Directory in Your Home Directory\n",
    "\n",
    "Now you will implement some useful tricks to construct the path to the\n",
    "**earth-analytics** directory within your home directory using `et.io.HOME` and `os.path.join`.\n",
    "\n",
    "This path should work on any machine regardless of the operating system, given it is\n",
    "constructed on-the-fly by **Python**."
   ]
  },
  {
   "cell_type": "code",
   "execution_count": 6,
   "id": "151c6871",
   "metadata": {},
   "outputs": [
    {
     "data": {
      "text/plain": [
       "'/Users/elsa/earth-analytics'"
      ]
     },
     "execution_count": 6,
     "metadata": {},
     "output_type": "execute_result"
    }
   ],
   "source": [
    "# Create a path to the home/earth-analytics directory on your computer\n",
    "os.path.join(et.io.HOME, \"earth-analytics\")"
   ]
  },
  {
   "cell_type": "markdown",
   "id": "c2fcebf1",
   "metadata": {},
   "source": [
    "You can check that the path does in fact exist. If the path does not exist, you will get a return of `False`. \n",
    "\n",
    "For example, if you did not already have an `earth-analytics` directory in your home directory, then the output would be `False`, as shown below. \n",
    "\n",
    "```python\n",
    "my_ea_path = os.path.join(et.io.HOME, \"earth-analytics\")\n",
    "\n",
    "# Does the path exist?\n",
    "os.path.exists(my_ea_path)\n",
    "```\n",
    "Returns:\n",
    "\n",
    "`False`\n",
    "\n",
    "In this example, an `earth-analytics` directory does not exist in your home directory, but you can create the this directory using the **os** module! \n",
    "\n",
    "## Create a Directory Using the os Package in Python\n",
    "\n",
    "You can use the `os.mkdir(\"path/to/dir/here\")` function to create a directory in\n",
    "**Python**. This function is helpful if you need to create a new directory that\n",
    "doesn't already exist. \n",
    "\n",
    "However, as you have learned above, this function will\n",
    "only work across operating systems, if you construct\n",
    "the path with `os.path.join()`.\n",
    "\n",
    "```python\n",
    "my_ea_path = os.path.join(et.io.HOME, \"earth-analytics\")\n",
    "os.mkdir(my_ea_path)\n",
    "```\n",
    "Note that the code above to create a directory will *fail* if that directory\n",
    "already exists. \n",
    "\n",
    "In a later chapter of this textbook, you will learn how to use \n",
    "conditional statements (referred to as `if` statements) to write code that accounts for this issue, so that your code does not attempt to make directories that already exist."
   ]
  },
  {
   "cell_type": "markdown",
   "id": "d7e5290c",
   "metadata": {},
   "source": [
    "## Set Your Working Directory to home/earth-analytics\n",
    "\n",
    "Now that you have the basics of good project structure out of the way, you can get your project directory set up. \n",
    "\n",
    "By now, you have already created the `earth-analytics` directory (in your home directory) where you will store data and files used in the textbook. \n",
    "\n",
    "You will now set that **project directory** as your **working directory** in **Python** using\n",
    "the following syntax, which provides the output of `os.path.join` as input into the the `os.chdir` function: \n",
    "\n",
    "`os.chdir(os.path.join(et.io.HOME, 'earth-analytics'))`\n",
    "\n",
    "Breaking the above commands down, you are doing the following.\n",
    "\n",
    "1. `os.chdir()`: remember from above that this function changes the working directory. However, you need to tell **Python** the path of the working directory that you want to use.\n",
    "2. `os.path.join()`: this function combines strings or path variables into a full path that will work on any operating system.\n",
    "3. `et.io.HOME`: this attribute provides the path for the home directory on your (or any) computer.\n",
    "\n",
    "Combing the three commands above in a nested structure will:\n",
    "1. create the path for the `home/earth-analytics` directory and\n",
    "2. change the working directory to that path.\n",
    "\n",
    "If the nested nature of the above command seems confusing, you can break it\n",
    "down by running each step individually."
   ]
  },
  {
   "cell_type": "code",
   "execution_count": 7,
   "id": "023595aa",
   "metadata": {
    "tags": [
     "hide"
    ]
   },
   "outputs": [],
   "source": [
    "# Hidden code to ensure below runs. We haven't introduced conditional statements yet.\n",
    "my_ea_path = os.path.join(et.io.HOME, \"earth-analytics\")\n",
    "if not os.path.exists(my_ea_path):\n",
    "    os.mkdir(my_ea_path)"
   ]
  },
  {
   "cell_type": "code",
   "execution_count": 8,
   "id": "e9eb674f",
   "metadata": {},
   "outputs": [
    {
     "data": {
      "text/plain": [
       "'/Users/elsa/05-certificate/earth-analytics/curriculum/earth-analytics-lessons/jupyter-books/intro-eds-textbook/04-python-fundamentals/work-with-paths-in-python'"
      ]
     },
     "execution_count": 8,
     "metadata": {},
     "output_type": "execute_result"
    }
   ],
   "source": [
    "# Check the current working directory\n",
    "os.getcwd()"
   ]
  },
  {
   "cell_type": "code",
   "execution_count": 9,
   "id": "5bf50062",
   "metadata": {},
   "outputs": [
    {
     "data": {
      "text/plain": [
       "'/Users/elsa'"
      ]
     },
     "execution_count": 9,
     "metadata": {},
     "output_type": "execute_result"
    }
   ],
   "source": [
    "# Find the path to your home directory\n",
    "et.io.HOME"
   ]
  },
  {
   "cell_type": "code",
   "execution_count": 10,
   "id": "aaeeab75",
   "metadata": {},
   "outputs": [
    {
     "data": {
      "text/plain": [
       "'/Users/elsa/earth-analytics'"
      ]
     },
     "execution_count": 10,
     "metadata": {},
     "output_type": "execute_result"
    }
   ],
   "source": [
    "# Create a path to earth-analytics that will work on any computer\n",
    "os.path.join(et.io.HOME, 'earth-analytics')"
   ]
  },
  {
   "cell_type": "code",
   "execution_count": 11,
   "id": "ae839c14",
   "metadata": {},
   "outputs": [],
   "source": [
    "# Change the directory to that path\n",
    "os.chdir(os.path.join(et.io.HOME, 'earth-analytics'))"
   ]
  },
  {
   "cell_type": "code",
   "execution_count": 12,
   "id": "1db5ad20",
   "metadata": {},
   "outputs": [
    {
     "data": {
      "text/plain": [
       "'/Users/elsa/earth-analytics'"
      ]
     },
     "execution_count": 12,
     "metadata": {},
     "output_type": "execute_result"
    }
   ],
   "source": [
    "# Check the current working directory again\n",
    "os.getcwd()"
   ]
  },
  {
   "cell_type": "markdown",
   "id": "56834a19",
   "metadata": {},
   "source": [
    "Recall that if the directory does not already exist (e.g. `earth-analytics` in your home directory), then `os.chdir()` will fail when you try to change to that directory. \n",
    "\n",
    "If needed, you can review the section above on creating a directory using `os.mkdir()` to create an `earth-analytics` directory in your home directory."
   ]
  }
 ],
 "metadata": {
  "jupytext": {
   "formats": "ipynb,md:myst",
   "text_representation": {
    "extension": ".md",
    "format_name": "myst",
    "format_version": 0.13,
    "jupytext_version": "1.14.7"
   }
  },
  "kernelspec": {
   "display_name": "Python 3",
   "language": "python",
   "name": "python3"
  },
  "language_info": {
   "codemirror_mode": {
    "name": "ipython",
    "version": 3
   },
   "file_extension": ".py",
   "mimetype": "text/x-python",
   "name": "python",
   "nbconvert_exporter": "python",
   "pygments_lexer": "ipython3",
   "version": "3.10.12"
  },
  "source_map": [
   15,
   42,
   68,
   73,
   119,
   122,
   142,
   148,
   207,
   210,
   217,
   224,
   227,
   243,
   246,
   284,
   310,
   319,
   324,
   329,
   334,
   339,
   342
  ]
 },
 "nbformat": 4,
 "nbformat_minor": 5
}