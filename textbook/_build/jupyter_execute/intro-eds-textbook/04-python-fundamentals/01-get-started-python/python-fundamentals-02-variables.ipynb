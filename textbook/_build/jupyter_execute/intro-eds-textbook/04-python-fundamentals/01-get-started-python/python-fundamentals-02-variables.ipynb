{
 "cells": [
  {
   "cell_type": "markdown",
   "id": "6c608ec9",
   "metadata": {},
   "source": [
    ":::{include} ../../../textbook-header.md\n",
    ":::\n",
    "\n",
    "## Use **names** to save data in Python\n",
    "\n",
    ":::{admonition} Why names and not variables?\n",
    ":class: note margin\n",
    "\n",
    "You may also see named values referred to as **variables** in programming. We think this can be confusing, because most people are used to the word **variable** in the context of algebra. In algebra, a **variable** is a value that you don't know the value of. In programming, the value of a variable **is** known, and doesn't change unless you write over it.\n",
    ":::\n",
    "\n",
    "A **name** in programming is used to save information that you want to re-use in your code. You can think of it like the contacts in a cellphone -- instead of remembering phone numbers, you save them under someone's name so that you can use them again. Examples of things that you may wish to save in your code include:\n",
    "\n",
    "* numeric values\n",
    "* file names, paths, web addresses\n",
    "* or even larger objects such as a remote sensing image or a terrain model\n",
    "\n",
    "\n",
    "```{exercise-start}\n",
    ":label: name-a-variable\n",
    "```\n",
    "\n",
    "In `Python`, names can be created without explicitly defining the type of data that it will hold (e.g. integer, text string). You can create a name in `Python` using the following syntax, replacing `name` and `value` with the information you wish to store:\n",
    "\n",
    "```{code-block} python\n",
    "name = value\n",
    "```"
   ]
  },
  {
   "cell_type": "code",
   "execution_count": 1,
   "id": "e428294b",
   "metadata": {},
   "outputs": [],
   "source": [
    "# Try it out"
   ]
  },
  {
   "cell_type": "markdown",
   "id": "3fbc2c1f",
   "metadata": {},
   "source": [
    "```{exercise-end}\n",
    "```\n",
    "\n",
    "\n",
    "```{solution-start} name-a-variable\n",
    ":class: dropdown\n",
    "```"
   ]
  },
  {
   "cell_type": "code",
   "execution_count": 2,
   "id": "ea2942aa",
   "metadata": {},
   "outputs": [
    {
     "data": {
      "text/plain": [
       "5"
      ]
     },
     "execution_count": 2,
     "metadata": {},
     "output_type": "execute_result"
    }
   ],
   "source": [
    "a_number = 5\n",
    "\n",
    "a_number"
   ]
  },
  {
   "cell_type": "markdown",
   "id": "fb29ee00",
   "metadata": {},
   "source": [
    "```{solution-end}\n",
    "```\n",
    "\n",
    "This syntax for creating names is the same whether you are assigning a numeric or text value to a name. For example, below you assign the name name `a` the value of 3 which is a number:  \n",
    "\n",
    "`a = 3`\n",
    "\n",
    "Here is an example of assigning a text string value to the same name named `a`. \n",
    "\n",
    "`a = \"a word\"`\n",
    "\n",
    "Notice that strings (character values) use double quotes `\"\"` to indicate a text \n",
    "string value. \n",
    "\n",
    "\n",
    ":::{admonition} **Data Tip:**\n",
    ":class: data-tip margin\n",
    "\n",
    "Some programming languages require a \n",
    "name to be explicitly assigned a data type when it is created. You do not \n",
    "need to worry about this when using ``Python``, however! \n",
    ":::\n",
    "\n",
    "\n",
    "### Easy to Understand Names Make Your Code Easier to Read\n",
    "\n",
    "Just like you want to use \n",
    "<a href=\"https://www.earthdatascience.org/courses/intro-to-earth-data-science/open-reproducible-science/get-started-open-reproducible-science/best-practices-for-organizing-open-reproducible-science/\"> \n",
    "expressive naming conventions (names that represent what is stored within \n",
    "the directory)</a> for directories on your computer, you also want to use \n",
    "short, clear names for your names to make your code easier to read. To \n",
    "follow best practices for name names, avoid the following:\n",
    "\n",
    "* spaces in your name names\n",
    "* complicated wording\n",
    "* long name names\n",
    "* words that do not represent what the name contains (example: `my_name` vs `precip_data`)\n",
    "\n",
    "When naming a name, you want to keep the name short but specific enough \n",
    "that someone reading your code can understand what it contains. It is good \n",
    "practice to use underscores (e.g. `boulder_precip_in`) to create multi-word \n",
    "name names that provide specifics regarding the name's content. The \n",
    "underscore makes the name name easier to read and follows `Python` \n",
    "<a href=\"https://www.`Python`.org/dev/peps/pep-0008/#naming-conventions\" target=\"_blank\">PEP 8 best practices for code readability</a>. \n",
    "\n",
    "\n",
    ":::{admonition} **Data Tip:**\n",
    ":class: data-tip margin\n",
    "\n",
    "Read more about expressive name \n",
    "names and clean code <a href=\"https://www.earthdatascience.org/courses/intro-to-earth-data-science/write-efficient-`Python`-code/intro-to-clean-code/expressive-name-names-make-code-easier-to-read/\">\n",
    "in this earth data science lesson.</a> \n",
    ":::\n",
    "\n",
    "\n",
    "### names Are Available In Your Coding Environment Once Defined \n",
    "\n",
    "A key characteristic of names is that once you create a name in your \n",
    "coding environment (that is to say you run the actual line of code that defines \n",
    "the name), it is available throughout your code. So for example, if you \n",
    "create a name at the top of a Jupyter Notebook, the value associated with \n",
    "that name will remain the same and can be reused in cells lower down in the \n",
    "notebook.\n",
    "\n",
    ":::{admonition} **Data Tip:**\n",
    ":class: data-tip margin\n",
    "\n",
    "You can overwrite an existing name \n",
    "if you create a new name with the same name. For example, if you assign \n",
    "`a = 5` in one cell and then assign `a = \"dog\"` in the next cell, the final value \n",
    "of `a` will be `\"dog\"`.\n",
    ":::\n",
    "\n",
    "While there are occasions in which you might want to overwrite an existing name \n",
    "to assign a new value to it, you want to make sure that you give names both \n",
    "clear and distinct names to avoid *accidentally* overwriting name values."
   ]
  },
  {
   "cell_type": "code",
   "execution_count": 3,
   "id": "6df835d2",
   "metadata": {},
   "outputs": [
    {
     "data": {
      "text/plain": [
       "55"
      ]
     },
     "execution_count": 3,
     "metadata": {},
     "output_type": "execute_result"
    }
   ],
   "source": [
    "# Here you assign the name name temperature the value 55 (a number)\n",
    "temperature = 55\n",
    "\n",
    "temperature"
   ]
  },
  {
   "cell_type": "code",
   "execution_count": 4,
   "id": "6dbdc05b",
   "metadata": {},
   "outputs": [
    {
     "data": {
      "text/plain": [
       "'doctor'"
      ]
     },
     "execution_count": 4,
     "metadata": {},
     "output_type": "execute_result"
    }
   ],
   "source": [
    "# Note that you can easily reassign a name name \n",
    "# to contain a new value (a string / word in this case)\n",
    "temperature = \"doctor\"\n",
    "\n",
    "temperature"
   ]
  },
  {
   "cell_type": "markdown",
   "id": "e7a1e290",
   "metadata": {},
   "source": [
    "## About Data Types in `Python`\n",
    "\n",
    "`Python` data types are important to understand when coding. Below you will learn \n",
    "more about the different types of names that you can store including:\n",
    "\n",
    "* Numbers (integers and floats)\n",
    "* Strings (letters / characters and words)\n",
    "\n",
    "## Numeric names in `Python`\n",
    "\n",
    "In `Python`, you can create names to store numeric values such as integers \n",
    "(`int`) which represent whole numbers and floating point numbers which represent \n",
    "decimal values (`float`).  \n",
    "\n",
    "<i class=\"fa fa-star\"></i> **Data Tip:** For more advanced math applications, you can also \n",
    "use names to work with <a href=\"https://docs.`Python`.org/3/library/stdtypes.html#numeric-types-int-float-complex\" target=\"_blank\">complex numbers (see `Python` documentation for more details)</a>.\n",
    "{: .notice--success}\n",
    "\n",
    "As described previously, you do not need to define which numeric type you want to \n",
    "use to create a name. For example, you can create a `int` name called \n",
    "`boulder_precip_in`, which contains the value for the \n",
    "[average annual precipitation in inches (in) in Boulder, Colorado](https://psl.noaa.gov/boulder/Boulder.mm.precip.html), rounded to the nearest integer."
   ]
  },
  {
   "cell_type": "code",
   "execution_count": 5,
   "id": "0c5f16be",
   "metadata": {},
   "outputs": [
    {
     "data": {
      "text/plain": [
       "20"
      ]
     },
     "execution_count": 5,
     "metadata": {},
     "output_type": "execute_result"
    }
   ],
   "source": [
    "# This is a comment line in `Python`\n",
    "boulder_precip_integer = 20\n",
    "\n",
    "# You can see the value of any name by calling the name name\n",
    "boulder_precip_integer"
   ]
  },
  {
   "cell_type": "markdown",
   "id": "edd7b038",
   "metadata": {},
   "source": [
    "You can use the `type()` function to figure out the type of data stored in a \n",
    "name."
   ]
  },
  {
   "cell_type": "code",
   "execution_count": 6,
   "id": "9d9c3c13",
   "metadata": {},
   "outputs": [
    {
     "data": {
      "text/plain": [
       "int"
      ]
     },
     "execution_count": 6,
     "metadata": {},
     "output_type": "execute_result"
    }
   ],
   "source": [
    "# What is the type of data stored in boulder_precip_in\n",
    "type(boulder_precip_integer)"
   ]
  },
  {
   "cell_type": "markdown",
   "id": "a544e8c1",
   "metadata": {},
   "source": [
    "If your data has decimal places associated with it, it will be stored in `Python` \n",
    "as a type: `float`."
   ]
  },
  {
   "cell_type": "code",
   "execution_count": 7,
   "id": "24e4f92e",
   "metadata": {},
   "outputs": [
    {
     "data": {
      "text/plain": [
       "20.23"
      ]
     },
     "execution_count": 7,
     "metadata": {},
     "output_type": "execute_result"
    }
   ],
   "source": [
    "boulder_precip_float = 20.23\n",
    "\n",
    "boulder_precip_float"
   ]
  },
  {
   "cell_type": "code",
   "execution_count": 8,
   "id": "96b50728",
   "metadata": {},
   "outputs": [
    {
     "data": {
      "text/plain": [
       "float"
      ]
     },
     "execution_count": 8,
     "metadata": {},
     "output_type": "execute_result"
    }
   ],
   "source": [
    "type(boulder_precip_float)"
   ]
  },
  {
   "cell_type": "markdown",
   "id": "192ac98f",
   "metadata": {},
   "source": [
    "## How to Store Text names: Strings in `Python`\n",
    "\n",
    "To create a name containing a text string (`str`), you use quotation marks \n",
    "(`\"\"`) around the value. For example: \n",
    "\n",
    "`name_name = \"text\"`\n",
    "\n",
    "While in `Python` the single quote (`''`) and the double quote (`\"\"`) are \n",
    "used interchangeably (see the official <a href=\"https://docs.`Python`.org/3/library/stdtypes.html#text-sequence-type-str\" target=\"_blank\">`Python` Docs</a> for more examples), we suggest \n",
    "that you use double quotes `\"\"` to define strings (type == `str`) following \n",
    "`PEP8` code style for `Python` best practices. Using quotes, you can create `str` \n",
    "names that contain a single word or many words, including punctuation. \n",
    "Below are some examples of creating a string."
   ]
  },
  {
   "cell_type": "code",
   "execution_count": 9,
   "id": "ce464e39",
   "metadata": {},
   "outputs": [
    {
     "data": {
      "text/plain": [
       "'Boulder'"
      ]
     },
     "execution_count": 9,
     "metadata": {},
     "output_type": "execute_result"
    }
   ],
   "source": [
    "city = \"Boulder\"\n",
    "\n",
    "city"
   ]
  },
  {
   "cell_type": "code",
   "execution_count": 10,
   "id": "0bdfe80a",
   "metadata": {},
   "outputs": [
    {
     "data": {
      "text/plain": [
       "'Boulder, CO'"
      ]
     },
     "execution_count": 10,
     "metadata": {},
     "output_type": "execute_result"
    }
   ],
   "source": [
    "city_state = \"Boulder, CO\"\n",
    "\n",
    "city_state"
   ]
  },
  {
   "cell_type": "code",
   "execution_count": 11,
   "id": "9fe77b1e",
   "metadata": {},
   "outputs": [
    {
     "data": {
      "text/plain": [
       "'Boulder, CO is the home of the University of Colorado, Boulder campus.'"
      ]
     },
     "execution_count": 11,
     "metadata": {},
     "output_type": "execute_result"
    }
   ],
   "source": [
    "city_description = \"Boulder, CO is the home of the University of Colorado, Boulder campus.\"\n",
    "\n",
    "city_description"
   ]
  },
  {
   "cell_type": "markdown",
   "id": "65b45c44",
   "metadata": {},
   "source": [
    "```{admonition} What Does Float() Do?\n",
    ":class: data-tip margin\n",
    "\n",
    "Run the code in the cell below. What does the `float()` function do to the value stored in the name named `a`?\n",
    "```"
   ]
  },
  {
   "cell_type": "code",
   "execution_count": 12,
   "id": "bac3ef0a",
   "metadata": {},
   "outputs": [
    {
     "name": "stdout",
     "output_type": "stream",
     "text": [
      "75 75.0\n"
     ]
    }
   ],
   "source": [
    "# Run the code below - what does the float() function do? \n",
    "a = 75\n",
    "b = float(a)\n",
    "print(a, b)\n",
    "\n",
    "\n",
    "# What data type is name b? (hint: use the type() function to find out)"
   ]
  },
  {
   "cell_type": "code",
   "execution_count": 13,
   "id": "942187be",
   "metadata": {
    "tags": [
     "hide"
    ]
   },
   "outputs": [],
   "source": [
    "# Answer to the above activity\n",
    "\n",
    "b_type = type(b)\n",
    "\n",
    "# Float turned the integer a into a float name and assigned it to b"
   ]
  },
  {
   "cell_type": "markdown",
   "id": "070d0753",
   "metadata": {},
   "source": [
    "::::{admonition} Interactive Activity  - Create Some names\n",
    "\n",
    "It's time for you to create some names of your own! Create the following: \n",
    "\n",
    "1. a name called `precip_float` that stores a float value. \n",
    "2. a name called `precip_int` that stores an integer value.\n",
    "3. a name called `location` that stores the string for the location: `New York City`.\n",
    "\n",
    "For these names, use the [average annual precipitation in New York City](https://www.usclimatedata.com/climate/new-york/new-york/united-states/usny0996), which is 46.23 inches. \n",
    "\n",
    "HINT: you can coerce a floating point value to an integer using the `int()` function. Use int() to convert your floating point value to an integer. The name name should be precip_int. \n",
    "\n",
    "Try the code below to see how this works:\n",
    "\n",
    ":::{code-block} python\n",
    "a = 75.643\n",
    "b = int(a)\n",
    "print(a, b)\n",
    ":::\n",
    "\n",
    "::::"
   ]
  },
  {
   "cell_type": "code",
   "execution_count": 14,
   "id": "9a485c7f",
   "metadata": {},
   "outputs": [],
   "source": [
    "# Assigning the names from above\n",
    "\n",
    "precip_float = 46.23\n",
    "precip_int = int(precip_float)\n",
    "location = \"New York City\""
   ]
  },
  {
   "cell_type": "markdown",
   "id": "138171df",
   "metadata": {},
   "source": [
    "## Check the type\n",
    "\n",
    "In the activities above, you used the `type()` function to determine what type of data are stored in a name. \n",
    "\n",
    "`type(name_name)`\n",
    "\n",
    "For example, you can check the type of `boulder_precip_in` after each time \n",
    "that a name is created with that same name to see that the type changes \n",
    "from `int` to `float`."
   ]
  },
  {
   "cell_type": "code",
   "execution_count": 15,
   "id": "75397743",
   "metadata": {},
   "outputs": [
    {
     "data": {
      "text/plain": [
       "int"
      ]
     },
     "execution_count": 15,
     "metadata": {},
     "output_type": "execute_result"
    }
   ],
   "source": [
    "boulder_precip_in = 21\n",
    "\n",
    "type(boulder_precip_in)"
   ]
  },
  {
   "cell_type": "code",
   "execution_count": 16,
   "id": "f138d978",
   "metadata": {},
   "outputs": [
    {
     "data": {
      "text/plain": [
       "float"
      ]
     },
     "execution_count": 16,
     "metadata": {},
     "output_type": "execute_result"
    }
   ],
   "source": [
    "boulder_precip_in = 20.68\n",
    "\n",
    "type(boulder_precip_in)"
   ]
  },
  {
   "cell_type": "markdown",
   "id": "782441f7",
   "metadata": {},
   "source": [
    "You can also check the type of the name named `city`, which is a string (`str`) regardless of how many words (or punctuation) it contains."
   ]
  },
  {
   "cell_type": "code",
   "execution_count": 17,
   "id": "8fdc0d08",
   "metadata": {},
   "outputs": [
    {
     "data": {
      "text/plain": [
       "str"
      ]
     },
     "execution_count": 17,
     "metadata": {},
     "output_type": "execute_result"
    }
   ],
   "source": [
    "city = \"Boulder\"\n",
    "\n",
    "type(city)"
   ]
  },
  {
   "cell_type": "code",
   "execution_count": 18,
   "id": "3c05f7f4",
   "metadata": {},
   "outputs": [
    {
     "data": {
      "text/plain": [
       "str"
      ]
     },
     "execution_count": 18,
     "metadata": {},
     "output_type": "execute_result"
    }
   ],
   "source": [
    "city = \"Boulder, CO is the home of the University of Colorado, Boulder campus.\"\n",
    "\n",
    "type(city)"
   ]
  },
  {
   "cell_type": "markdown",
   "id": "170a3be2",
   "metadata": {},
   "source": [
    "Checking the type for a name can help you make sure that you understand what a name contains and how it can be used. For example, you can actually create a `str` name that contain numbers if you use the syntax for creating a `str` name (e.g. `name_name = \"value\"`). Notice below that `city_precip` is still a `str`, even though it contains a number."
   ]
  },
  {
   "cell_type": "code",
   "execution_count": 19,
   "id": "02217753",
   "metadata": {},
   "outputs": [
    {
     "data": {
      "text/plain": [
       "str"
      ]
     },
     "execution_count": 19,
     "metadata": {},
     "output_type": "execute_result"
    }
   ],
   "source": [
    "city_precip = \"20.68\"\n",
    "\n",
    "type(city_precip)"
   ]
  },
  {
   "cell_type": "markdown",
   "id": "9bb13d87",
   "metadata": {},
   "source": [
    "If you wanted to perform math on that name, it would not work the way you think it should."
   ]
  },
  {
   "cell_type": "code",
   "execution_count": 20,
   "id": "6c348377",
   "metadata": {},
   "outputs": [
    {
     "data": {
      "text/plain": [
       "'20.6820.68'"
      ]
     },
     "execution_count": 20,
     "metadata": {},
     "output_type": "execute_result"
    }
   ],
   "source": [
    "# Multiply city_precip by 2\n",
    "city_precip * 2"
   ]
  },
  {
   "cell_type": "markdown",
   "id": "fa4b8f8c",
   "metadata": {},
   "source": [
    "Thus, the value itself is not important for determining whether the name is a numeric or string type - the syntax does this. \n",
    "\n",
    "A good reminder that it is important to make sure that you are defining names with the appropriate syntax to distinguish between numeric and string types. \n",
    "\n",
    "## Challenge - Data Types & Math\n",
    "\n",
    "Run the following code which divides name `a` by name `b` (`a/b`)."
   ]
  },
  {
   "cell_type": "code",
   "execution_count": 21,
   "id": "7c9d6ace",
   "metadata": {},
   "outputs": [],
   "source": [
    "a = 5\n",
    "b = 3\n",
    "c = a/b"
   ]
  },
  {
   "cell_type": "markdown",
   "id": "04d3909d",
   "metadata": {},
   "source": [
    "Use the `type()` function to determine what type of value is stored in each name defined (`a`, `b`, and `c`)."
   ]
  },
  {
   "cell_type": "code",
   "execution_count": 22,
   "id": "776b30cc",
   "metadata": {},
   "outputs": [],
   "source": [
    "a = 5\n",
    "b = 3\n",
    "c = a/b\n",
    "\n",
    "type_a = type(a)\n",
    "type_b = type(b)\n",
    "type_c = type(c)"
   ]
  }
 ],
 "metadata": {
  "file_format": "mystnb",
  "jupytext": {
   "text_representation": {
    "extension": ".md",
    "format_name": "mystnb",
    "format_version": 0.13,
    "jupytext_version": "1.14.7"
   }
  },
  "kernelspec": {
   "display_name": "Python 3",
   "language": "Python",
   "name": "Python3"
  },
  "language_info": {
   "codemirror_mode": {
    "name": "ipython",
    "version": 3
   },
   "file_extension": ".py",
   "mimetype": "text/x-python",
   "name": "python",
   "nbconvert_exporter": "python",
   "pygments_lexer": "ipython3",
   "version": "3.10.12"
  },
  "myst": {
   "substitutions": {
    "authors": "Jenny Palomino, Leah Wasser, Nathan Korinek, Elsa Culler",
    "excerpt": "Names store data (i.e. information) that you want to re-use in your code (e.g. single numeric value, path to a directory or file). Learn how to to create and work with names in `Python`.",
    "objective": "* Explain how names are used in `Python` to store information.\n* Use `Python` code to create names that store single data values including numbers and text strings. \n* Check the data type of a name using `Python`",
    "title": "Give it a name, find it later"
   }
  },
  "source_map": [
   22,
   52,
   54,
   64,
   68,
   147,
   154,
   160,
   185,
   191,
   196,
   199,
   204,
   210,
   212,
   228,
   234,
   240,
   244,
   252,
   262,
   270,
   294,
   301,
   313,
   319,
   323,
   327,
   333,
   337,
   341,
   345,
   349,
   352,
   362,
   366,
   370
  ]
 },
 "nbformat": 4,
 "nbformat_minor": 5
}