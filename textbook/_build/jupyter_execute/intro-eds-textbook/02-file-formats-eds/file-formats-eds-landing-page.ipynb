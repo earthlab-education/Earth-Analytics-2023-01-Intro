{
 "cells": [
  {
   "cell_type": "raw",
   "id": "e614fb24",
   "metadata": {},
   "source": [
    "---\n",
    "layout: single\n",
    "category: courses\n",
    "title: \"File Formats for Earth Data Science\"\n",
    "permalink: /courses/intro-to-earth-data-science/file-formats/\n",
    "week-landing: 2\n",
    "modified: '{:%Y-%m-%d}'.format(datetime.now())\n",
    "week: 2\n",
    "sidebar:\n",
    "  nav:\n",
    "comments: false\n",
    "author_profile: false\n",
    "course: \"intro-to-earth-data-science-textbook\"\n",
    "module-type: 'session'\n",
    "---"
   ]
  },
  {
   "cell_type": "markdown",
   "id": "d654768a",
   "metadata": {},
   "source": [
    "{% include toc title=\"Section One\" icon=\"file-text\" %}\n",
    "\n",
    "<div class=\"notice--info\" markdown=\"1\">\n",
    "\n",
    "## <i class=\"fa fa-ship\" aria-hidden=\"true\"></i> Section Two - File Formats for Earth Data Science\n",
    "\n",
    "In section two of this textbook, you will learn about common text file formats for earth data science workflows including Markdown, text (.txt, .csv) files, YAML (Yet Another Markup Language). You will also learn about open tools that you can use to edit and work with these files.\n",
    "\n",
    "\n",
    "## <i class=\"fa fa-graduation-cap\" aria-hidden=\"true\"></i> Learning Objectives\n",
    "\n",
    "After completing this section of the introduction to earth analytics online textbook, you will be able to:\n",
    "\n",
    "* Explain what the `Markdown` format is and describe its role in the documentation of earth data science workflows.\n",
    "* Use basic `Markdown` syntax to format text in `Jupyter Notebook` files.\n",
    "* Describe how text (.txt) and CSV files can be used for scientific data.\n",
    "* Explain how YAML is used to support earth data science workflows.\n",
    "* List open tools that you can use to edit and work with these file formats.\n",
    "\n",
    "</div>\n",
    "\n",
    "\n",
    "{% include textbook-section-toc.html %}"
   ]
  },
  {
   "cell_type": "code",
   "execution_count": null,
   "id": "b7565d49",
   "metadata": {},
   "outputs": [],
   "source": []
  }
 ],
 "metadata": {
  "jupytext": {
   "text_representation": {
    "extension": ".md",
    "format_name": "myst",
    "format_version": 0.13,
    "jupytext_version": "1.14.7"
   }
  },
  "kernelspec": {
   "display_name": "Python 3",
   "language": "python",
   "name": "python3"
  },
  "language_info": {
   "codemirror_mode": {
    "name": "ipython",
    "version": 3
   },
   "file_extension": ".py",
   "mimetype": "text/x-python",
   "name": "python",
   "nbconvert_exporter": "python",
   "pygments_lexer": "ipython3",
   "version": "3.10.12"
  },
  "source_map": [
   14,
   31,
   57
  ]
 },
 "nbformat": 4,
 "nbformat_minor": 5
}