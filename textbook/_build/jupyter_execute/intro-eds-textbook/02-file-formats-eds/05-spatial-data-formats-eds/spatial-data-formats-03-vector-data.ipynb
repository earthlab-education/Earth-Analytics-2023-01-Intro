{
 "cells": [
  {
   "cell_type": "raw",
   "id": "914aaf39",
   "metadata": {},
   "source": [
    "---\n",
    "layout: single\n",
    "title: 'Introduction to Spatial Vector Data File Formats in Open Source Python'\n",
    "excerpt: \"Vector data is one of the two most common spatial data types. Learn to work with vector data for earth data science.\"\n",
    "authors: ['Leah Wasser', 'Nathan Korinek']\n",
    "category: [courses]\n",
    "class-lesson: ['spatial-data-formats']\n",
    "permalink: /courses/intro-to-earth-data-science/file-formats/use-spatial-data/use-vector-data/\n",
    "nav-title: \"Use Vector Data\"\n",
    "dateCreated: 2020-06-20\n",
    "modified: '{:%Y-%m-%d}'.format(datetime.now())\n",
    "module-type: 'class'\n",
    "course: \"intro-to-earth-data-science-textbook\"\n",
    "week: 2\n",
    "sidebar:\n",
    "  nav:\n",
    "author_profile: false\n",
    "comments: true\n",
    "order: 3\n",
    "topics:\n",
    "    spatial-data-and-gis: ['vector-data']\n",
    "---"
   ]
  },
  {
   "cell_type": "markdown",
   "id": "0687de78",
   "metadata": {},
   "source": [
    "{% include toc title=\"In This Chapter\" icon=\"file-text\" %}\n",
    "\n",
    "<div class='notice--success alert alert-info' markdown=\"1\">\n",
    "\n",
    "## <i class=\"fa fa-ship\" aria-hidden=\"true\"></i> Fundamentals of Vector Data in Python \n",
    "\n",
    "In this lesson, you will be introduced to the spatial vector data structure\n",
    "and the shapefile file format (`.shp`). You will also learn how to open, explore and plot\n",
    "vector data using the **Geopandas** package in **Python**.\n",
    "\n",
    "\n",
    "## <i class=\"fa fa-graduation-cap\" aria-hidden=\"true\"></i> Learning Objectives\n",
    "\n",
    "After completing this lesson, you will be able to:\n",
    "\n",
    "* Describe the characteristics of 3 key vector data structures: points, lines and polygons.\n",
    "* Open a shapefile in **Python** using **Geopandas** - `gpd.read_file()`.\n",
    "* Plot a shapfile in **Python** using **Geopandas** - `gpd.plot()`.\n",
    "\n",
    "\n",
    "## Recommended Readings\n",
    "\n",
    "This lesson is an introduction to working with spatial data. If you wish to dive more deeply\n",
    "into working with spatial data, check out the intermediate earth data science textbook\n",
    "<a href=\"https://www.earthdatascience.org/courses/use-data-open-source-python/intro-vector-data-python/spatial-data-vector-shapefiles/\" target=\"_blank\">chapter on \n",
    "spatial vector data.</a>\n",
    "</div>"
   ]
  },
  {
   "cell_type": "markdown",
   "id": "24c878f3",
   "metadata": {},
   "source": [
    "## About Spatial Vector Data\n",
    "\n",
    "Vector data are composed of discrete geometric locations (x, y values) known as **vertices** that define the \"shape\" of the spatial object. The organization of the vertices determines the type of vector that you are working \n",
    "with. There are three types of vector data: \n",
    "\n",
    "* **Points:** Each individual point is defined by a single x, y coordinate. Examples of point data include: sampling locations, the location of individual trees or the location of plots.\n",
    "\n",
    "* **Lines:** Lines are composed of many (at least 2) vertices, or points, that are connected. For instance, a road or a stream may be represented by a line. This line is composed of a series of segments, each \"bend\" in the road or stream represents a vertex that has defined `x, y` location.\n",
    "\n",
    "* **Polygons:** A polygon consists of 3 or more vertices that are connected and \"closed\". Thus, the outlines of plot boundaries, lakes, oceans, and states or countries are often represented by polygons. \n",
    "<figure>\n",
    "    <a href=\"https://www.earthdatascience.org/images/earth-analytics/spatial-data/points-lines-polygons-vector-data-types.png\">\n",
    "    <img src=\"https://www.earthdatascience.org/images/earth-analytics/spatial-data/points-lines-polygons-vector-data-types.png\" alt=\"There are 3 types of vector objects: points, lines or polygons. Each object type has a different structure. Image Source: Colin Williams (NEON).\"></a>\n",
    "    <figcaption> There are 3 types of vector objects: points, lines or polygons. Each object type has a different structure. Image Source: Colin Williams (NEON)\n",
    "    </figcaption>\n",
    "</figure>\n",
    "\n",
    "\n",
    "## Introduction to the Shapefile File Format Which Stores Points, Lines, and Polygons\n",
    "\n",
    "Geospatial data in vector format are often stored in a `shapefile` \n",
    "format (`.shp`). Because the structure of points, lines, and polygons are \n",
    "different, each individual shapefile can only contain one vector \n",
    "type (all points, all lines or all polygons). You will not find \n",
    "a mixture of point, line and polygon objects in a single shapefile.\n",
    "\n",
    "Objects stored in a shapefile often have a set of associated \n",
    "`attributes` that describe the data. For example, a line \n",
    "shapefile that contains the locations of streams might also\n",
    "contain the associated stream name, stream \"order\" and other \n",
    "information about each stream line object.\n",
    "\n",
    "<i class=\"fa fa-star\"></i> **Data Tip:** More about shapefiles can found on \n",
    "<a href=\"https://en.wikipedia.org/wiki/Shapefile\" target=\"_blank\">Wikipedia</a>.\n",
    "{: .notice--success }\n",
    "\n",
    "## GeoJSON Files and Other Vector Formats\n",
    "The shapefile is not the only way that vector data are stored. Geospatial data \n",
    "can also be delivered in a \n",
    "<a href=\"https://en.wikipedia.org/wiki/GeoJSON\" target=\"_blank\">GeoJSON format</a>, \n",
    "or even a tabular format where the spatial information is contained in columns. \n",
    "\n",
    "## What Data Are Stored In Spatial Vector Formats?  \n",
    "\n",
    "Some examples of data that often are provided in a vector format include:\n",
    "\n",
    "- census data including municipal boundaries\n",
    "- roads, powerlines and other infrastructure boundaries\n",
    "- political boundaries\n",
    "- building outlines\n",
    "- water bodies and river systems\n",
    "- ecological boundaries\n",
    "- city locations\n",
    "- object locations including plots, stream gages, and building locations"
   ]
  },
  {
   "cell_type": "markdown",
   "id": "edee85f6",
   "metadata": {},
   "source": [
    "## Import Shapefile Data Into Python Using Geopandas\n",
    "\n",
    "You will use the **geopandas** library to work with vector data in \n",
    "**Python**. **Geopandas** is built on top of the **Python** **Pandas** library.\n",
    "It stores spatial data in a tabular, `dataframe` format."
   ]
  },
  {
   "cell_type": "code",
   "execution_count": 1,
   "id": "56fb53d9",
   "metadata": {},
   "outputs": [],
   "source": [
    "# Import packages\n",
    "import os\n",
    "\n",
    "import matplotlib.pyplot as plt\n",
    "import geopandas as gpd\n",
    "import earthpy as et"
   ]
  },
  {
   "cell_type": "markdown",
   "id": "c8d48380",
   "metadata": {},
   "source": [
    "To begin, set your working directory to `earth-analytics` and then download a \n",
    "single shapefile. You will start with working with the Natural Earth \n",
    "country boundary lines layer.\n",
    "\n",
    "<i class=\"fa fa-star\"></i> **Data Tip:**  Note that below you are using **EarthPy** \n",
    "to download a dataset from naturalearthdata.com. **EarthPy** creates the earth-analytics\n",
    "directory for you when you use it. You set the working directory\n",
    "after you download the data as a precaution to ensure that the earth-analytics\n",
    "directory already exists on your computer. This is not a standard order of \n",
    "operations but we are demonstrating it here to ensure the notebook runs on \n",
    "all computers! \n",
    "{: .notice--success }"
   ]
  },
  {
   "cell_type": "code",
   "execution_count": 2,
   "id": "52963116",
   "metadata": {},
   "outputs": [
    {
     "name": "stdout",
     "output_type": "stream",
     "text": [
      "Downloading from https://www.naturalearthdata.com/http//www.naturalearthdata.com/download/50m/cultural/ne_50m_admin_0_boundary_lines_land.zip\n"
     ]
    },
    {
     "ename": "BadZipFile",
     "evalue": "File is not a zip file",
     "output_type": "error",
     "traceback": [
      "\u001b[0;31m---------------------------------------------------------------------------\u001b[0m",
      "\u001b[0;31mBadZipFile\u001b[0m                                Traceback (most recent call last)",
      "Cell \u001b[0;32mIn[2], line 2\u001b[0m\n\u001b[1;32m      1\u001b[0m \u001b[38;5;66;03m# Download the data and set working directory\u001b[39;00m\n\u001b[0;32m----> 2\u001b[0m \u001b[43met\u001b[49m\u001b[38;5;241;43m.\u001b[39;49m\u001b[43mdata\u001b[49m\u001b[38;5;241;43m.\u001b[39;49m\u001b[43mget_data\u001b[49m\u001b[43m(\u001b[49m\n\u001b[1;32m      3\u001b[0m \u001b[43m    \u001b[49m\u001b[43murl\u001b[49m\u001b[38;5;241;43m=\u001b[39;49m\u001b[38;5;124;43m'\u001b[39;49m\u001b[38;5;124;43mhttps://www.naturalearthdata.com/http//www.naturalearthdata.com/download/50m/cultural/ne_50m_admin_0_boundary_lines_land.zip\u001b[39;49m\u001b[38;5;124;43m'\u001b[39;49m\u001b[43m)\u001b[49m\n\u001b[1;32m      5\u001b[0m \u001b[38;5;66;03m# Set working directory - earthpy creates earth-analytics for you in your home dir\u001b[39;00m\n\u001b[1;32m      6\u001b[0m os\u001b[38;5;241m.\u001b[39mchdir(os\u001b[38;5;241m.\u001b[39mpath\u001b[38;5;241m.\u001b[39mjoin(et\u001b[38;5;241m.\u001b[39mio\u001b[38;5;241m.\u001b[39mHOME, \u001b[38;5;124m'\u001b[39m\u001b[38;5;124mearth-analytics\u001b[39m\u001b[38;5;124m'\u001b[39m))\n",
      "File \u001b[0;32m~/opt/miniconda3/envs/ea-jb/lib/python3.10/site-packages/earthpy/io.py:247\u001b[0m, in \u001b[0;36mData.get_data\u001b[0;34m(self, key, url, replace, verbose)\u001b[0m\n\u001b[1;32m    240\u001b[0m     \u001b[38;5;28;01mif\u001b[39;00m kind \u001b[38;5;129;01mnot\u001b[39;00m \u001b[38;5;129;01min\u001b[39;00m ALLOWED_FILE_TYPES:\n\u001b[1;32m    241\u001b[0m         \u001b[38;5;28;01mraise\u001b[39;00m \u001b[38;5;167;01mValueError\u001b[39;00m(\n\u001b[1;32m    242\u001b[0m             \u001b[38;5;124m\"\u001b[39m\u001b[38;5;124mkind must be one of \u001b[39m\u001b[38;5;132;01m{}\u001b[39;00m\u001b[38;5;124m, got \u001b[39m\u001b[38;5;132;01m{}\u001b[39;00m\u001b[38;5;124m\"\u001b[39m\u001b[38;5;241m.\u001b[39mformat(\n\u001b[1;32m    243\u001b[0m                 ALLOWED_FILE_TYPES, kind\n\u001b[1;32m    244\u001b[0m             )\n\u001b[1;32m    245\u001b[0m         )\n\u001b[0;32m--> 247\u001b[0m     this_path \u001b[38;5;241m=\u001b[39m \u001b[38;5;28;43mself\u001b[39;49m\u001b[38;5;241;43m.\u001b[39;49m\u001b[43m_download\u001b[49m\u001b[43m(\u001b[49m\n\u001b[1;32m    248\u001b[0m \u001b[43m        \u001b[49m\u001b[43murl\u001b[49m\u001b[38;5;241;43m=\u001b[39;49m\u001b[43murl\u001b[49m\u001b[43m,\u001b[49m\n\u001b[1;32m    249\u001b[0m \u001b[43m        \u001b[49m\u001b[43mpath\u001b[49m\u001b[38;5;241;43m=\u001b[39;49m\u001b[43mos\u001b[49m\u001b[38;5;241;43m.\u001b[39;49m\u001b[43mpath\u001b[49m\u001b[38;5;241;43m.\u001b[39;49m\u001b[43mjoin\u001b[49m\u001b[43m(\u001b[49m\u001b[43mthis_root\u001b[49m\u001b[43m,\u001b[49m\u001b[43m \u001b[49m\u001b[43mname\u001b[49m\u001b[43m)\u001b[49m\u001b[43m,\u001b[49m\n\u001b[1;32m    250\u001b[0m \u001b[43m        \u001b[49m\u001b[43mkind\u001b[49m\u001b[38;5;241;43m=\u001b[39;49m\u001b[43mkind\u001b[49m\u001b[43m,\u001b[49m\n\u001b[1;32m    251\u001b[0m \u001b[43m        \u001b[49m\u001b[43mreplace\u001b[49m\u001b[38;5;241;43m=\u001b[39;49m\u001b[43mreplace\u001b[49m\u001b[43m,\u001b[49m\n\u001b[1;32m    252\u001b[0m \u001b[43m        \u001b[49m\u001b[43mverbose\u001b[49m\u001b[38;5;241;43m=\u001b[39;49m\u001b[43mverbose\u001b[49m\u001b[43m,\u001b[49m\n\u001b[1;32m    253\u001b[0m \u001b[43m    \u001b[49m\u001b[43m)\u001b[49m\n\u001b[1;32m    254\u001b[0m     data_paths\u001b[38;5;241m.\u001b[39mappend(this_path)\n\u001b[1;32m    255\u001b[0m \u001b[38;5;28;01mif\u001b[39;00m \u001b[38;5;28mlen\u001b[39m(data_paths) \u001b[38;5;241m==\u001b[39m \u001b[38;5;241m1\u001b[39m:\n",
      "File \u001b[0;32m~/opt/miniconda3/envs/ea-jb/lib/python3.10/site-packages/earthpy/io.py:300\u001b[0m, in \u001b[0;36mData._download\u001b[0;34m(self, url, path, kind, replace, verbose)\u001b[0m\n\u001b[1;32m    298\u001b[0m         f\u001b[38;5;241m.\u001b[39mwrite(r\u001b[38;5;241m.\u001b[39mcontent)\n\u001b[1;32m    299\u001b[0m \u001b[38;5;28;01melse\u001b[39;00m:\n\u001b[0;32m--> 300\u001b[0m     \u001b[38;5;28;43mself\u001b[39;49m\u001b[38;5;241;43m.\u001b[39;49m\u001b[43m_download_and_extract\u001b[49m\u001b[43m(\u001b[49m\u001b[43mpath\u001b[49m\u001b[43m,\u001b[49m\u001b[43m \u001b[49m\u001b[43mr\u001b[49m\u001b[43m,\u001b[49m\u001b[43m \u001b[49m\u001b[43mkind\u001b[49m\u001b[43m,\u001b[49m\u001b[43m \u001b[49m\u001b[43mverbose\u001b[49m\u001b[43m)\u001b[49m\n\u001b[1;32m    301\u001b[0m \u001b[38;5;28;01mreturn\u001b[39;00m path\n",
      "File \u001b[0;32m~/opt/miniconda3/envs/ea-jb/lib/python3.10/site-packages/earthpy/io.py:328\u001b[0m, in \u001b[0;36mData._download_and_extract\u001b[0;34m(self, path, r, kind, verbose)\u001b[0m\n\u001b[1;32m    326\u001b[0m file_like_object \u001b[38;5;241m=\u001b[39m io\u001b[38;5;241m.\u001b[39mBytesIO(r\u001b[38;5;241m.\u001b[39mcontent)\n\u001b[1;32m    327\u001b[0m \u001b[38;5;28;01mif\u001b[39;00m kind \u001b[38;5;241m==\u001b[39m \u001b[38;5;124m\"\u001b[39m\u001b[38;5;124mzip\u001b[39m\u001b[38;5;124m\"\u001b[39m:\n\u001b[0;32m--> 328\u001b[0m     archive \u001b[38;5;241m=\u001b[39m \u001b[43mzipfile\u001b[49m\u001b[38;5;241;43m.\u001b[39;49m\u001b[43mZipFile\u001b[49m\u001b[43m(\u001b[49m\u001b[43mfile_like_object\u001b[49m\u001b[43m)\u001b[49m\n\u001b[1;32m    329\u001b[0m \u001b[38;5;28;01mif\u001b[39;00m kind \u001b[38;5;241m==\u001b[39m \u001b[38;5;124m\"\u001b[39m\u001b[38;5;124mtar\u001b[39m\u001b[38;5;124m\"\u001b[39m:\n\u001b[1;32m    330\u001b[0m     archive \u001b[38;5;241m=\u001b[39m tarfile\u001b[38;5;241m.\u001b[39mopen(fileobj\u001b[38;5;241m=\u001b[39mfile_like_object)\n",
      "File \u001b[0;32m~/opt/miniconda3/envs/ea-jb/lib/python3.10/zipfile.py:1269\u001b[0m, in \u001b[0;36mZipFile.__init__\u001b[0;34m(self, file, mode, compression, allowZip64, compresslevel, strict_timestamps)\u001b[0m\n\u001b[1;32m   1267\u001b[0m \u001b[38;5;28;01mtry\u001b[39;00m:\n\u001b[1;32m   1268\u001b[0m     \u001b[38;5;28;01mif\u001b[39;00m mode \u001b[38;5;241m==\u001b[39m \u001b[38;5;124m'\u001b[39m\u001b[38;5;124mr\u001b[39m\u001b[38;5;124m'\u001b[39m:\n\u001b[0;32m-> 1269\u001b[0m         \u001b[38;5;28;43mself\u001b[39;49m\u001b[38;5;241;43m.\u001b[39;49m\u001b[43m_RealGetContents\u001b[49m\u001b[43m(\u001b[49m\u001b[43m)\u001b[49m\n\u001b[1;32m   1270\u001b[0m     \u001b[38;5;28;01melif\u001b[39;00m mode \u001b[38;5;129;01min\u001b[39;00m (\u001b[38;5;124m'\u001b[39m\u001b[38;5;124mw\u001b[39m\u001b[38;5;124m'\u001b[39m, \u001b[38;5;124m'\u001b[39m\u001b[38;5;124mx\u001b[39m\u001b[38;5;124m'\u001b[39m):\n\u001b[1;32m   1271\u001b[0m         \u001b[38;5;66;03m# set the modified flag so central directory gets written\u001b[39;00m\n\u001b[1;32m   1272\u001b[0m         \u001b[38;5;66;03m# even if no files are added to the archive\u001b[39;00m\n\u001b[1;32m   1273\u001b[0m         \u001b[38;5;28mself\u001b[39m\u001b[38;5;241m.\u001b[39m_didModify \u001b[38;5;241m=\u001b[39m \u001b[38;5;28;01mTrue\u001b[39;00m\n",
      "File \u001b[0;32m~/opt/miniconda3/envs/ea-jb/lib/python3.10/zipfile.py:1336\u001b[0m, in \u001b[0;36mZipFile._RealGetContents\u001b[0;34m(self)\u001b[0m\n\u001b[1;32m   1334\u001b[0m     \u001b[38;5;28;01mraise\u001b[39;00m BadZipFile(\u001b[38;5;124m\"\u001b[39m\u001b[38;5;124mFile is not a zip file\u001b[39m\u001b[38;5;124m\"\u001b[39m)\n\u001b[1;32m   1335\u001b[0m \u001b[38;5;28;01mif\u001b[39;00m \u001b[38;5;129;01mnot\u001b[39;00m endrec:\n\u001b[0;32m-> 1336\u001b[0m     \u001b[38;5;28;01mraise\u001b[39;00m BadZipFile(\u001b[38;5;124m\"\u001b[39m\u001b[38;5;124mFile is not a zip file\u001b[39m\u001b[38;5;124m\"\u001b[39m)\n\u001b[1;32m   1337\u001b[0m \u001b[38;5;28;01mif\u001b[39;00m \u001b[38;5;28mself\u001b[39m\u001b[38;5;241m.\u001b[39mdebug \u001b[38;5;241m>\u001b[39m \u001b[38;5;241m1\u001b[39m:\n\u001b[1;32m   1338\u001b[0m     \u001b[38;5;28mprint\u001b[39m(endrec)\n",
      "\u001b[0;31mBadZipFile\u001b[0m: File is not a zip file"
     ]
    }
   ],
   "source": [
    "# Download the data and set working directory\n",
    "et.data.get_data(\n",
    "    url='https://www.naturalearthdata.com/http//www.naturalearthdata.com/download/50m/cultural/ne_50m_admin_0_boundary_lines_land.zip')\n",
    "\n",
    "# Set working directory - earthpy creates earth-analytics for you in your home dir\n",
    "os.chdir(os.path.join(et.io.HOME, 'earth-analytics'))"
   ]
  },
  {
   "cell_type": "markdown",
   "id": "7aa59146",
   "metadata": {},
   "source": [
    "Next, you open the data using **Geopandas**. You can view the first 5 rows of the \n",
    "data using `.head()` in the same way you used `.head()` for **Pandas** dataframes."
   ]
  },
  {
   "cell_type": "code",
   "execution_count": null,
   "id": "fa55954a",
   "metadata": {},
   "outputs": [],
   "source": [
    "coastlines_url = \"https://www.naturalearthdata.com/http//www.naturalearthdata.com/download/50m/physical/ne_50m_coastline.zip\"\n",
    "\n",
    "et.data.get_data(url=coastlines_url)\n",
    "\n",
    "coastlines_path = os.path.join(\"data\", \"earthpy-downloads\",\n",
    "                               \"ne_50m_coastline\",\n",
    "                               \"ne_50m_coastline.shp\")\n",
    "\n",
    "coastlines = gpd.read_file(coastlines_path)\n",
    "coastlines.head()"
   ]
  },
  {
   "cell_type": "markdown",
   "id": "398cd5a7",
   "metadata": {},
   "source": [
    "### GeoPandas Creates GeoDataFrames Which Have the Same Structure As Pandas DataFrames\n",
    "\n",
    "The structure of a **Geopandas** `GeoDataFrame` is very similar to a \n",
    "**Pandas** dataframe. A few differences include:\n",
    "\n",
    "* the `GeoDataFrame` contains a geometry column which stores spatial information. The geometry column in your `GeoDataFrame` stores the boundary information (the lines that make up each \n",
    "shape in your data). This allows you to plot points, lines or polygons. \n",
    "* the`GeoDataFrame` stores spatial attributes such as coordinate reference systems and spatial extents.\n",
    "\n",
    "Similar to **Pandas**, you can plot the data using `.plot()`"
   ]
  },
  {
   "cell_type": "code",
   "execution_count": null,
   "id": "5d98140d",
   "metadata": {
    "caption": "Global coastline boundaries."
   },
   "outputs": [],
   "source": [
    "# Plot the data\n",
    "f, ax1 = plt.subplots(figsize=(12, 6))\n",
    "coastlines.plot(ax=ax1)\n",
    "\n",
    "# Add a title to your plot\n",
    "ax1.set(title=\"Global Coastline Boundaries\")\n",
    "plt.show()"
   ]
  },
  {
   "cell_type": "markdown",
   "id": "1f41f6ef",
   "metadata": {},
   "source": [
    "### Check the Spatial Vector Data Type\n",
    "You can look at the data to figure out what type of data are stored in the \n",
    "shapefile (points, line or polygons). However, you can also get that information \n",
    "by calling `.geom_type`"
   ]
  },
  {
   "cell_type": "code",
   "execution_count": null,
   "id": "1349d390",
   "metadata": {},
   "outputs": [],
   "source": [
    "# Is the geometry type point, line or polygon?\n",
    "coastlines.geom_type"
   ]
  },
  {
   "cell_type": "markdown",
   "id": "f6c7cd0d",
   "metadata": {},
   "source": [
    "Also similar to **Pandas**, you can view descriptive information about the \n",
    "`GeoDataFrame` using `.info()`. This includes the number of columns, rows \n",
    "and the header name and type of each column."
   ]
  },
  {
   "cell_type": "code",
   "execution_count": null,
   "id": "5a7c930f",
   "metadata": {},
   "outputs": [],
   "source": [
    "coastlines.info()"
   ]
  },
  {
   "cell_type": "markdown",
   "id": "8ef4843b",
   "metadata": {},
   "source": [
    "## Open Vector Point Data\n",
    "\n",
    "Next, you will open up another shapefile using **Geopandas**."
   ]
  },
  {
   "cell_type": "code",
   "execution_count": null,
   "id": "87b74f4d",
   "metadata": {},
   "outputs": [],
   "source": [
    "# Open a second layer\n",
    "et.data.get_data(\n",
    "    url='https://www.naturalearthdata.com/http//www.naturalearthdata.com/download/50m/cultural/ne_50m_populated_places_simple.zip')\n",
    "\n",
    "# Create a path to the populated places shapefile\n",
    "populated_places_path = os.path.join(\"data\", \"earthpy-downloads\",\n",
    "                                     \"ne_50m_populated_places_simple\",\n",
    "                                     \"ne_50m_populated_places_simple.shp\")\n",
    "\n",
    "cities = gpd.read_file(populated_places_path)\n",
    "cities.head()"
   ]
  },
  {
   "cell_type": "markdown",
   "id": "786c402d",
   "metadata": {},
   "source": [
    "<div class=\"notice--warning alert alert-info\" markdown=\"1\">\n",
    "\n",
    "## <i class=\"fa fa-pencil-square-o\" aria-hidden=\"true\"></i> Challenge 1:  What Geometry Type Are Your Data\n",
    "\n",
    "Check the geometry type of the `cities` object that you opened above in your code. \n",
    "\n",
    "</div>"
   ]
  },
  {
   "cell_type": "code",
   "execution_count": null,
   "id": "ce5cd038",
   "metadata": {
    "tags": [
     "hide"
    ]
   },
   "outputs": [],
   "source": [
    "# Add the code here to check the geometry type of the cities object\n",
    "cities.geom_type"
   ]
  },
  {
   "cell_type": "markdown",
   "id": "ba611856",
   "metadata": {},
   "source": [
    "## Creating Maps Using Multiple Shapefiles\n",
    "\n",
    "You can create maps using multiple shapefiles with **Geopandas** in a similar way\n",
    "that you may do so using a graphical user interface (GUI) tool like ArcGIS \n",
    "or QGIS (open source alternative to ArcGIS). To do this you will need to open \n",
    "a second spatial file. Below you will use the Natural Earth populated places \n",
    "shapefile to add additional layers to your map."
   ]
  },
  {
   "cell_type": "markdown",
   "id": "f201e3cc",
   "metadata": {},
   "source": [
    "To plot two datasets together, you will first create a **Matplotlib** figure object. \n",
    "Notice in the example below that you define the figure `ax1` in the first line. \n",
    "You then tell **GeoPandas** to plot the data on that particular figure using the \n",
    "parameter `ax=`\n",
    "\n",
    "The code looks like this:\n",
    "\n",
    "`boundary_lines.plot(ax=ax1)`"
   ]
  },
  {
   "cell_type": "code",
   "execution_count": null,
   "id": "6893c8d5",
   "metadata": {
    "caption": "Global coastline boundaries."
   },
   "outputs": [],
   "source": [
    "f, ax1 = plt.subplots(figsize=(10, 6))\n",
    "coastlines.plot(ax=ax1)\n",
    "plt.show()"
   ]
  },
  {
   "cell_type": "markdown",
   "id": "71a6c17c",
   "metadata": {},
   "source": [
    "To add another layer to your map, you can add a second `.plot()` call and \n",
    "specify the `ax=` to be `ax1` again. This tells **Python** to layer the two \n",
    "datasets in the same figure."
   ]
  },
  {
   "cell_type": "code",
   "execution_count": null,
   "id": "59804200",
   "metadata": {
    "caption": "Global coastline boundaries and major cities plotted together."
   },
   "outputs": [],
   "source": [
    "# Create a map or plot with two data layers\n",
    "f, ax1 = plt.subplots(figsize=(10, 6))\n",
    "coastlines.plot(ax=ax1,\n",
    "                color=\"black\")\n",
    "cities.plot(ax=ax1)\n",
    "\n",
    "# Add a title\n",
    "ax1.set(title=\"Map of Cities and Global Lines\")\n",
    "plt.show()"
   ]
  },
  {
   "cell_type": "markdown",
   "id": "44d91817",
   "metadata": {},
   "source": [
    "If you don't specify the axis when you plot using `ax=`, each layer will be plotted on a \n",
    "separate figure! See the example below."
   ]
  },
  {
   "cell_type": "code",
   "execution_count": null,
   "id": "2a7e5a88",
   "metadata": {
    "caption": "Global coastline boundaries plotted in one plot, and another plot with global cities."
   },
   "outputs": [],
   "source": [
    "f, ax1 = plt.subplots(figsize=(10, 6))\n",
    "coastlines.plot(ax=ax1)\n",
    "cities.plot()\n",
    "plt.show()"
   ]
  },
  {
   "cell_type": "markdown",
   "id": "a372dd58",
   "metadata": {},
   "source": [
    "<div class=\"notice--warning alert alert-info\" markdown=\"1\">\n",
    "\n",
    "## <i class=\"fa fa-pencil-square-o\" aria-hidden=\"true\"></i> Challenge 2: Create a Global Map\n",
    "\n",
    "The code below will download one additional file for you that contains global country \n",
    "boundaries. Your goal is to create a map that contains 3 layers:\n",
    "\n",
    "1. the cities or populated places layer that you opened above\n",
    "2. the coastlines layer that you opened above and\n",
    "3. the countries layer that you will open using the code below\n",
    "\n",
    "To create a map with the three layers, you can:\n",
    "1. Copy the code below that downloads the countries layer. \n",
    "2. Next, use **Geopandas** `read_file()` to open the countries layer as a `GeoDataFrame`.\n",
    "3. Create a map of all three layers - in the same figure using the same `ax=`. The countries should be the bottom layer, and the cities and lines should be on top of that layer.  \n",
    "\n",
    "```python\n",
    "country_data_url = \"https://www.naturalearthdata.com/http//www.naturalearthdata.com/download/50m/cultural/ne_50m_admin_0_countries.zip\"\n",
    "et.data.get_data(url=country_data_url)\n",
    "\n",
    "# Create a path to the countries shapefile\n",
    "countries_path = os.path.join(\"data\", \"earthpy-downloads\",\n",
    "                              \"ne_50m_admin_0_countries\", \n",
    "                              \"ne_50m_admin_0_countries.shp\")\n",
    "```\n",
    "\n",
    "### Challenge BONUS: Customize your Map\n",
    "\n",
    "If you have time, customize your map as follows:\n",
    "    \n",
    "* Adjust the linewidth of lines with `linewidth=4`\n",
    "* Adjust the edge color of polygons using: `edgecolor=\"grey\"`\n",
    "* Adjust the color of your objects (the line color, or point color) using: `color='springgreen'`. \n",
    "    \n",
    "Finally, add a title to your map using\n",
    "`ax1.set(title=\"my title here\")`\n",
    "\n",
    "</div>"
   ]
  },
  {
   "cell_type": "code",
   "execution_count": null,
   "id": "40118e65",
   "metadata": {
    "caption": "Global political boundaries with major cities.",
    "tags": [
     "hide"
    ]
   },
   "outputs": [],
   "source": [
    "# Write the code for your map in this cell\n",
    "country_data_url = \"https://www.naturalearthdata.com/http//www.naturalearthdata.com/download/50m/cultural/ne_50m_admin_0_countries.zip\"\n",
    "et.data.get_data(url=country_data_url)\n",
    "\n",
    "# Create a path to the countries shapefile\n",
    "countries_path = os.path.join(\"data\", \"earthpy-downloads\",\n",
    "                              \"ne_50m_admin_0_countries\",\n",
    "                              \"ne_50m_admin_0_countries.shp\")\n",
    "\n",
    "\n",
    "countries = gpd.read_file(countries_path)\n",
    "countries.head()\n",
    "\n",
    "# Create a map or plot with two data layers\n",
    "f, ax1 = plt.subplots(figsize=(18, 12))\n",
    "coastlines.plot(ax=ax1, color=\"grey\", edgecolor=\"grey\", linewidth=1)\n",
    "countries.plot(ax=ax1, color=\"white\", edgecolor=\"grey\", linewidth=1)\n",
    "cities.plot(ax=ax1, color=\"springgreen\")\n",
    "\n",
    "# Add a title\n",
    "ax1.set(title=\"Map of Cities, Countries, and Coastlines\")\n",
    "plt.show()"
   ]
  },
  {
   "cell_type": "markdown",
   "id": "852f4814",
   "metadata": {},
   "source": [
    "<div class=\"notice--success alert alert-info\" markdown=\"1\">\n",
    "<i class=\"fa fa-star\"></i> **Data Tip:** There are many options to customize plots in Python. Below are \n",
    "a few lessons that cover some of this information!\n",
    "\n",
    "* <a href=\"https://www.earthdatascience.org/courses/scientists-guide-to-plotting-data-in-python/plot-spatial-data/customize-vector-plots/python-customize-map-legends-geopandas/\" target=\"_blank\">Earth data science plotting textbook.</a>\n",
    "\n",
    "* <a href=\"https://geopandas.org/gallery/plotting_with_geoplot.html\" target=\"_blank\">Geopandas plotting tutorial</a>\n",
    "</div>"
   ]
  },
  {
   "cell_type": "markdown",
   "id": "d0d5379a",
   "metadata": {},
   "source": [
    "## Spatial Data Attributes\n",
    "\n",
    "Each object in a shapefile has one or more attributes associated with it.\n",
    "Shapefile attributes are similar to fields or columns in a spreadsheet. Each row\n",
    "in the spreadsheet has a set of columns associated with it that describe the row\n",
    "element. In the case of a shapefile, each row represents a spatial object - for\n",
    "example, a road, represented as a line in a line shapefile, will have one \"row\"\n",
    "of attributes associated with it.\n",
    "\n",
    "<figure>\n",
    "    <a href=\"https://www.earthdatascience.org/images/earth-analytics/spatial-data/spatial-attribute-tables.png\">\n",
    "    <img src=\"https://www.earthdatascience.org/images/earth-analytics/spatial-data/spatial-attribute-tables.png\" alt=\"A shapefile has an associated attribute table. Each spatial feature in a spatial object has the same set of\n",
    "    associated attributes that describe or characterize the feature.\n",
    "    Attribute data are stored in a separate .dbf file. Attribute data can be\n",
    "    compared to a spreadsheet. Each row in a spreadsheet represents one feature\n",
    "    in the spatial object. Image Source: National Ecological Observatory Network (NEON)\"></a>\n",
    "    <figcaption>Each spatial feature in a spatial object has the same set of\n",
    "    associated attributes that describe or characterize the feature.\n",
    "    Attribute data are stored in a separate *.dbf file. Attribute data can be\n",
    "    compared to a spreadsheet. Each row in a spreadsheet represents one feature\n",
    "    in the spatial object.\n",
    "    Image Source: National Ecological Observatory Network (NEON)\n",
    "    </figcaption>\n",
    "</figure>\n",
    "\n",
    "\n",
    "The attributes for a shapefile imported into a GeoDataFrame can be viewed in the GeoDataFrame\n",
    "itself."
   ]
  },
  {
   "cell_type": "code",
   "execution_count": null,
   "id": "8977cfb7",
   "metadata": {},
   "outputs": [],
   "source": [
    "# View first 5 rows of GeoDataFrame\n",
    "cities.head()"
   ]
  },
  {
   "cell_type": "code",
   "execution_count": null,
   "id": "1b184fb8",
   "metadata": {},
   "outputs": [],
   "source": [
    "# View data just in the pop_max column of the cities object\n",
    "cities.pop_max"
   ]
  },
  {
   "cell_type": "markdown",
   "id": "24987f36",
   "metadata": {},
   "source": [
    "<div class='notice--success alert alert-info' markdown=\"1\">\n",
    "\n",
    "<i class=\"fa fa-star\"></i> **Data Tip:** Vector Metadata\n",
    "\n",
    "The spatial and attribute data are not the only important aspects of a shapefile. \n",
    "The metadata of a shapefile are also very important. The metadata includes data \n",
    "on the Coordinate Reference System (CRS), the extent, and much more. For more \n",
    "information on what the metadata is, and how to access it, see the full lesson \n",
    "on vector data on the Earth Lab website, [here](https://www.earthdatascience.org/courses/use-data-open-source-python/intro-vector-data-python/spatial-data-vector-shapefiles/).</div>"
   ]
  },
  {
   "cell_type": "code",
   "execution_count": null,
   "id": "5d712496",
   "metadata": {
    "caption": "Countries symbolized on a color gradient by how large their population is."
   },
   "outputs": [],
   "source": [
    "from mpl_toolkits.axes_grid1 import make_axes_locatable\n",
    "\n",
    "f, ax1 = plt.subplots(figsize=(10, 6))\n",
    "\n",
    "divider = make_axes_locatable(ax1)\n",
    "cax = divider.append_axes(\"right\",\n",
    "                          size=\"5%\",\n",
    "                          pad=0.1)\n",
    "\n",
    "countries.plot(column='POP_EST',\n",
    "               legend=True,\n",
    "               ax=ax1,\n",
    "               cax=cax)\n",
    "plt.show()"
   ]
  },
  {
   "cell_type": "markdown",
   "id": "2de41a08",
   "metadata": {},
   "source": [
    "<div class=\"notice--warning alert alert-info\" markdown=\"1\">\n",
    "\n",
    "## <i class=\"fa fa-pencil-square-o\" aria-hidden=\"true\"></i> Challenge: Plot Cities Data\n",
    "\n",
    "Plot the cities object so each point is colored according to the max population\n",
    "value. \n",
    "\n",
    "HINT: checkout <a href=\"https://geopandas.org/mapping.html\" target=\"_blank\">this page on creating maps with Geopandas </a> for more information on customizing maps in **Geopandas**:\n",
    "\n",
    "</div>"
   ]
  },
  {
   "cell_type": "code",
   "execution_count": null,
   "id": "8502d2dd",
   "metadata": {
    "caption": "Global cities plotted without boundaries.",
    "tags": [
     "hide"
    ]
   },
   "outputs": [],
   "source": [
    "# Open your dataset below this line. Make sure to view the geom_type and the first few rows of the dataset\n",
    "et.data.get_data(\n",
    "    url='https://www.naturalearthdata.com/http//www.naturalearthdata.com/download/50m/cultural/ne_50m_populated_places_simple.zip')\n",
    "\n",
    "# Create a path to the populated places shapefile\n",
    "populated_places_path = os.path.join(\"data\", \"earthpy-downloads\",\n",
    "                                     \"ne_50m_populated_places_simple\",\n",
    "                                     \"ne_50m_populated_places_simple.shp\")\n",
    "\n",
    "cities = gpd.read_file(populated_places_path)\n",
    "\n",
    "cities.geom_type\n",
    "\n",
    "cities.head()\n",
    "\n",
    "f, ax1 = plt.subplots(figsize=(18, 12))\n",
    "cities.plot(ax=ax1, color=\"purple\")"
   ]
  },
  {
   "cell_type": "markdown",
   "id": "e672a6ed",
   "metadata": {},
   "source": [
    "<div class=\"notice--warning alert alert-info\" markdown=\"1\">\n",
    "\n",
    "## <i class=\"fa fa-pencil-square-o\" aria-hidden=\"true\"></i> Challenge: Plot Cities Data Using Quantiles -- Categorical Plot\n",
    "\n",
    "You can plot your data according to categorical groups similar to what you might do in a tool\n",
    "like ArcGIS or QGIS. See what happens when you customize your plot code above.\n",
    "\n",
    "Set the following parameters:\n",
    "* `legend=True` and\n",
    "* `scheme=\"quantiles`\n",
    "\n",
    "</div>"
   ]
  },
  {
   "cell_type": "code",
   "execution_count": null,
   "id": "1945784c",
   "metadata": {
    "caption": "Global cities symoblized on a color gradient by population.",
    "tags": [
     "hide"
    ]
   },
   "outputs": [],
   "source": [
    "# Add your plot code here\n",
    "# Open the data\n",
    "et.data.get_data(\n",
    "    url='https://www.naturalearthdata.com/http//www.naturalearthdata.com/download/50m/cultural/ne_50m_populated_places_simple.zip')\n",
    "\n",
    "# Create a path to the populated places shapefile\n",
    "populated_places_path = os.path.join(\"data\", \"earthpy-downloads\",\n",
    "                                     \"ne_50m_populated_places_simple\",\n",
    "                                     \"ne_50m_populated_places_simple.shp\")\n",
    "\n",
    "cities = gpd.read_file(populated_places_path)\n",
    "cities.head()\n",
    "\n",
    "\n",
    "# Add your plot code here\n",
    "f, ax1 = plt.subplots(figsize=(10, 6))\n",
    "cities.plot(ax=ax1, markersize=15, legend=True,\n",
    "            column=\"pop_max\", scheme='quantiles')\n",
    "\n",
    "plt.show()"
   ]
  },
  {
   "cell_type": "markdown",
   "id": "cd51320f",
   "metadata": {},
   "source": [
    "## Optional: Geoprocessing Vector Data Geoprocessing in Python: Clip Data\n",
    "\n",
    "Sometimes you have spatial data for a larger area than you need to process.\n",
    "For example you may be working on a project for your state or country. But \n",
    "perhaps you have data for the entire globe. \n",
    "\n",
    "You can clip the data spatially to another boundary to make it smaller. Once\n",
    "the data are clipped, your processing operations will be faster. It will also\n",
    "make creating maps of your study area easier and cleaner.\n",
    "\n",
    "<figure>\n",
    "    <a href=\"https://www.earthdatascience.org/images/earth-analytics/spatial-data/vector-clip.png\">\n",
    "    <img src=\"https://www.earthdatascience.org/images/earth-analytics/spatial-data/vector-clip.png\" alt=\"When you clip a vector data set with another layer, you remove points, lines or polygons that are outside of the spatial extent of the area that you use to clip the data. This images shows a circular clip region - you will be using a rectangular region in this example. Image Source: ESRI\"></a>\n",
    "    <figcaption>When you clip a vector data set with another layer, you remove points, lines or polygons that are outside of the spatial extent of the area that you use to clip the data. This images shows a circular clip region - you will be using a rectangular region in this example. Image Source: ESRI\n",
    "    </figcaption>\n",
    "</figure>\n",
    "\n",
    "In the bonus challenge below, you will clip the cities point data to the boundary of a single \n",
    "country. This will make the data smaller and easier to use.\n",
    "\n",
    "<div class='notice--success alert alert-info' markdown=\"1\">\n",
    "\n",
    "<i class=\"fa fa-star\"></i> **Data Tip:** Vector Metadata\n",
    "Check out the <a href=\"https://www.earthdatascience.org/courses/use-data-open-source-python/intro-vector-data-python/vector-data-processing/clip-vector-data-in-python-geopandas-shapely/\">spatial data lessons in the intermediate earth-analytics textbook for a more in depth\n",
    "look at clipping data.</a> \n",
    "</div>\n",
    "\n",
    "Below you do the following:\n",
    "\n",
    "1. you subset the countries layer to just the boundary of the United State of America\n",
    "2. you then plot the data to look at the newly subsetted data! \n",
    "3. Finally you clip the cities data to only include cities that fall within the boundary of the United States"
   ]
  },
  {
   "cell_type": "code",
   "execution_count": null,
   "id": "6158af42",
   "metadata": {
    "caption": "Plot of the United States using Geopandas."
   },
   "outputs": [],
   "source": [
    "# Subset the countries data to just a single\n",
    "united_states_boundary = countries.loc[countries['SOVEREIGNT']\n",
    "                                       == 'United States of America']\n",
    "\n",
    "# Notice in the plot below, that only the boundary for the USA is in the new variable\n",
    "f, ax = plt.subplots(figsize=(10, 6))\n",
    "united_states_boundary.plot(ax=ax)\n",
    "plt.show()"
   ]
  },
  {
   "cell_type": "code",
   "execution_count": null,
   "id": "71825a0f",
   "metadata": {
    "caption": "Plot of cities in the United States using Geopandas."
   },
   "outputs": [],
   "source": [
    "# Clip the cities data to the USA boundary\n",
    "# Note -- this operation may take some time to run - be patient\n",
    "cities_in_usa = gpd.clip(cities, united_states_boundary)\n",
    "\n",
    "# Plot your final clipped data\n",
    "f, ax = plt.subplots()\n",
    "cities_in_usa.plot(ax=ax)\n",
    "ax.set(title=\"Cities clipped to the USA Boundary\")\n",
    "plt.show()"
   ]
  },
  {
   "cell_type": "markdown",
   "id": "9f06ea1c",
   "metadata": {},
   "source": [
    "<div class=\"notice--warning alert alert-info\" markdown=\"1\">\n",
    "\n",
    "## <i class=\"fa fa-pencil-square-o\" aria-hidden=\"true\"></i> BONUS Challenge: Clip Vector Data in Python\n",
    "\n",
    "For this bonus challenge, you will clip the cities data that you opened above \n",
    "to the extent of a single country - Canada.  \n",
    "\n",
    "`gpd.clip(data_to_clip, boundary_to_clip_to)`. \n",
    "\n",
    "Follow the example above to perform your clip operation. \n",
    "\n",
    "To perform the clip you need the following:\n",
    "\n",
    "1. Create the boundary for Canada by subsetting the countries object\n",
    "2. Clip the cities layer to the Canada boundary layer\n",
    "3. Plot your final cities clipped layer!\n",
    "\n",
    "When you clip, all of the spatial data outside of the spatial clip boundary (Canada) will not be \n",
    "included in the output dataset.\n",
    "\n",
    "</div>"
   ]
  },
  {
   "cell_type": "code",
   "execution_count": null,
   "id": "eed3c142",
   "metadata": {
    "tags": [
     "hide"
    ]
   },
   "outputs": [],
   "source": [
    "# Subset the countries data to just a single\n",
    "canada_boundary = countries.loc[countries['SOVEREIGNT'] == 'Canada']\n",
    "\n",
    "# Below this line clip the cities data to the Canada boundary that you created above.\n",
    "cities_in_canada = gpd.clip(cities, canada_boundary)"
   ]
  },
  {
   "cell_type": "code",
   "execution_count": null,
   "id": "30579349",
   "metadata": {
    "caption": "Plot of cities clipped to the Canadian border.",
    "tags": [
     "hide"
    ]
   },
   "outputs": [],
   "source": [
    "# Plot your final clipped data here\n",
    "f, ax = plt.subplots()\n",
    "cities_in_canada.plot(ax=ax)\n",
    "ax.set(title=\"Cities clipped to the Canada Boundary\")\n",
    "plt.show()"
   ]
  }
 ],
 "metadata": {
  "jupytext": {
   "text_representation": {
    "extension": ".md",
    "format_name": "myst",
    "format_version": 0.13,
    "jupytext_version": "1.14.7"
   }
  },
  "kernelspec": {
   "display_name": "Python 3",
   "language": "python",
   "name": "python3"
  },
  "language_info": {
   "codemirror_mode": {
    "name": "ipython",
    "version": 3
   },
   "file_extension": ".py",
   "mimetype": "text/x-python",
   "name": "python",
   "nbconvert_exporter": "python",
   "pygments_lexer": "ipython3",
   "version": "3.10.12"
  },
  "source_map": [
   14,
   38,
   68,
   125,
   133,
   140,
   155,
   162,
   167,
   178,
   191,
   201,
   208,
   211,
   217,
   219,
   225,
   237,
   247,
   252,
   262,
   273,
   279,
   285,
   297,
   302,
   311,
   352,
   378,
   390,
   422,
   427,
   430,
   442,
   459,
   472,
   493,
   508,
   532,
   567,
   580,
   592,
   616,
   626
  ]
 },
 "nbformat": 4,
 "nbformat_minor": 5
}