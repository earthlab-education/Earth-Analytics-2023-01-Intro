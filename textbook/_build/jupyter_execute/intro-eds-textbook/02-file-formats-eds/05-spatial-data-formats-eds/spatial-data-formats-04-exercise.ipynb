{
 "cells": [
  {
   "cell_type": "raw",
   "id": "817f11f7",
   "metadata": {},
   "source": [
    "---\n",
    "layout: single\n",
    "title: 'File Formats Exercise'\n",
    "excerpt: \"Complete these exercises to practice the skills you learned in the file formats chapters.\"\n",
    "authors: ['Leah Wasser', 'Nathan Korinek']\n",
    "category: [courses]\n",
    "class-lesson: ['spatial-data-formats']\n",
    "permalink: /courses/intro-to-earth-data-science/file-formats/use-spatial-data/file-formats-exercise/\n",
    "nav-title: \"File Formats Exercise\"\n",
    "dateCreated: 2020-06-20\n",
    "modified: '{:%Y-%m-%d}'.format(datetime.now())\n",
    "module-type: 'class'\n",
    "course: \"intro-to-earth-data-science-textbook\"\n",
    "week: 2\n",
    "sidebar:\n",
    "  nav:\n",
    "author_profile: false\n",
    "comments: true\n",
    "order: 4\n",
    "topics:\n",
    "    spatial-data-and-gis: ['vector-data', 'raster-data']\n",
    "---"
   ]
  },
  {
   "cell_type": "markdown",
   "id": "221db8c8",
   "metadata": {},
   "source": [
    "{% include toc title=\"In This Chapter\" icon=\"file-text\" %}"
   ]
  },
  {
   "cell_type": "code",
   "execution_count": 1,
   "id": "1f7bed23",
   "metadata": {},
   "outputs": [],
   "source": [
    "# Importing packages needed to complete this lesson\n",
    "import os\n",
    "\n",
    "import pandas as pd\n",
    "import geopandas as gpd\n",
    "import matplotlib.pyplot as plt\n",
    "import earthpy as et"
   ]
  },
  {
   "cell_type": "code",
   "execution_count": 2,
   "id": "d7f575b8",
   "metadata": {},
   "outputs": [],
   "source": [
    "# Creating a home directory\n",
    "home_dir = os.path.join(et.io.HOME, 'earth-analytics',\n",
    "                        'data', 'earthpy-downloads')\n",
    "if not os.path.isdir(home_dir):\n",
    "    os.makedirs(home_dir)\n",
    "\n",
    "# Set your working directory\n",
    "os.chdir(os.path.join(et.io.HOME,\n",
    "                      'earth-analytics',\n",
    "                      'data',\n",
    "                      'earthpy-downloads'))"
   ]
  },
  {
   "cell_type": "markdown",
   "id": "6a8fe4f7",
   "metadata": {},
   "source": [
    "<div class=\"notice--warning alert alert-info\" markdown=\"1\">\n",
    "\n",
    "## <i class=\"fa fa-pencil-square-o\" aria-hidden=\"true\"></i> Challenge 1: Open a Text File\n",
    "\n",
    "Use the code below to download a `.csv` file containing data for the \n",
    "climbing formations in the Boulder, Colorado: \n",
    "\n",
    "`et.data.get_data(url=\"https://opendata.arcgis.com/datasets/175425c25d8849b58feb89483ef02961_1.csv\")`\n",
    "\n",
    "Once you have downloaded the data:\n",
    "\n",
    "1. Read the data into **Python** as a **pandas** `DataFrame`. IMPORTANT: Name your dataframe object **boulder_climbing**.\n",
    "2. View the pandas `DataFrame`. Look at the columns in the data. Find the `FormationType` column. Notice how it's categorically split between two different types of formations.  \n",
    "</div>"
   ]
  },
  {
   "cell_type": "code",
   "execution_count": 3,
   "id": "6bc624f4",
   "metadata": {},
   "outputs": [
    {
     "data": {
      "text/plain": [
       "'/Users/elsa/earth-analytics/data/earthpy-downloads/175425c25d8849b58feb89483ef02961_1.csv'"
      ]
     },
     "execution_count": 3,
     "metadata": {},
     "output_type": "execute_result"
    }
   ],
   "source": [
    "# Download the data that you will use in this lesson\n",
    "et.data.get_data(\n",
    "    url=\"https://opendata.arcgis.com/datasets/175425c25d8849b58feb89483ef02961_1.csv\")"
   ]
  },
  {
   "cell_type": "code",
   "execution_count": 4,
   "id": "0cc24fdd",
   "metadata": {},
   "outputs": [],
   "source": [
    "# This code will clean up your file name\n",
    "# This is a temporary fix for a bug in our earthpy package!\n",
    "old_name_climb = '\"OSMP_Climbing_Formations.csv\"'\n",
    "new_name_climb = 'OSMP_Climbing_Formations.csv'\n",
    "if not os.path.exists(new_name_climb):\n",
    "    os.rename(old_name_climb, new_name_climb)"
   ]
  },
  {
   "cell_type": "markdown",
   "id": "45922685",
   "metadata": {},
   "source": [
    "IMPORTANT. When you download the data, you may notice that there are quotes \n",
    "around the file name like this: `\"OSMP_Climbing_Formations.csv\"`. You \n",
    "will need to call"
   ]
  },
  {
   "cell_type": "code",
   "execution_count": 5,
   "id": "d5d321ef",
   "metadata": {
    "tags": [
     "hide"
    ]
   },
   "outputs": [
    {
     "data": {
      "text/html": [
       "<div>\n",
       "<style scoped>\n",
       "    .dataframe tbody tr th:only-of-type {\n",
       "        vertical-align: middle;\n",
       "    }\n",
       "\n",
       "    .dataframe tbody tr th {\n",
       "        vertical-align: top;\n",
       "    }\n",
       "\n",
       "    .dataframe thead th {\n",
       "        text-align: right;\n",
       "    }\n",
       "</style>\n",
       "<table border=\"1\" class=\"dataframe\">\n",
       "  <thead>\n",
       "    <tr style=\"text-align: right;\">\n",
       "      <th></th>\n",
       "      <th>X</th>\n",
       "      <th>Y</th>\n",
       "      <th>OBJECTID</th>\n",
       "      <th>ID</th>\n",
       "      <th>FEATURE</th>\n",
       "      <th>ROUTES</th>\n",
       "      <th>HCA</th>\n",
       "      <th>OWNER</th>\n",
       "      <th>SeasonalClosure</th>\n",
       "      <th>AreaAccess</th>\n",
       "      <th>UseRating</th>\n",
       "      <th>AKA</th>\n",
       "      <th>ClosureActive</th>\n",
       "      <th>PERMITREQ</th>\n",
       "      <th>FormationType</th>\n",
       "      <th>Display</th>\n",
       "      <th>FixedHardwarePermit</th>\n",
       "    </tr>\n",
       "  </thead>\n",
       "  <tbody>\n",
       "    <tr>\n",
       "      <th>0</th>\n",
       "      <td>-105.294224</td>\n",
       "      <td>40.005020</td>\n",
       "      <td>1</td>\n",
       "      <td>1.0</td>\n",
       "      <td>Pumpkin Rock</td>\n",
       "      <td>4.0</td>\n",
       "      <td>No</td>\n",
       "      <td>OSMP</td>\n",
       "      <td>N</td>\n",
       "      <td>Flagstaff</td>\n",
       "      <td>2.50</td>\n",
       "      <td>First Areas</td>\n",
       "      <td>N</td>\n",
       "      <td>No</td>\n",
       "      <td>Boulder</td>\n",
       "      <td>Yes</td>\n",
       "      <td>NaN</td>\n",
       "    </tr>\n",
       "    <tr>\n",
       "      <th>1</th>\n",
       "      <td>-105.287861</td>\n",
       "      <td>39.975276</td>\n",
       "      <td>2</td>\n",
       "      <td>2.0</td>\n",
       "      <td>Veranda</td>\n",
       "      <td>2.0</td>\n",
       "      <td>No</td>\n",
       "      <td>OSMP</td>\n",
       "      <td>N</td>\n",
       "      <td>NCAR</td>\n",
       "      <td>0.00</td>\n",
       "      <td>NaN</td>\n",
       "      <td>N</td>\n",
       "      <td>No</td>\n",
       "      <td>Wall</td>\n",
       "      <td>Yes</td>\n",
       "      <td>NaN</td>\n",
       "    </tr>\n",
       "    <tr>\n",
       "      <th>2</th>\n",
       "      <td>-105.293598</td>\n",
       "      <td>39.995411</td>\n",
       "      <td>3</td>\n",
       "      <td>3.0</td>\n",
       "      <td>Third Pinnacle</td>\n",
       "      <td>7.0</td>\n",
       "      <td>No</td>\n",
       "      <td>OSMP</td>\n",
       "      <td>N</td>\n",
       "      <td>Gregory Canyon</td>\n",
       "      <td>1.25</td>\n",
       "      <td>NaN</td>\n",
       "      <td>N</td>\n",
       "      <td>No</td>\n",
       "      <td>Wall</td>\n",
       "      <td>Yes</td>\n",
       "      <td>NaN</td>\n",
       "    </tr>\n",
       "    <tr>\n",
       "      <th>3</th>\n",
       "      <td>-105.294391</td>\n",
       "      <td>39.986358</td>\n",
       "      <td>4</td>\n",
       "      <td>4.0</td>\n",
       "      <td>The Fin</td>\n",
       "      <td>1.0</td>\n",
       "      <td>No</td>\n",
       "      <td>OSMP</td>\n",
       "      <td>Y</td>\n",
       "      <td>Chautauqua</td>\n",
       "      <td>1.17</td>\n",
       "      <td>NaN</td>\n",
       "      <td>Y</td>\n",
       "      <td>No</td>\n",
       "      <td>Wall</td>\n",
       "      <td>Yes</td>\n",
       "      <td>NaN</td>\n",
       "    </tr>\n",
       "    <tr>\n",
       "      <th>4</th>\n",
       "      <td>-105.292811</td>\n",
       "      <td>39.995952</td>\n",
       "      <td>5</td>\n",
       "      <td>6.0</td>\n",
       "      <td>First Pinnacle</td>\n",
       "      <td>23.0</td>\n",
       "      <td>No</td>\n",
       "      <td>OSMP</td>\n",
       "      <td>N</td>\n",
       "      <td>Gregory Canyon</td>\n",
       "      <td>2.20</td>\n",
       "      <td>NaN</td>\n",
       "      <td>N</td>\n",
       "      <td>No</td>\n",
       "      <td>Wall</td>\n",
       "      <td>Yes</td>\n",
       "      <td>NaN</td>\n",
       "    </tr>\n",
       "    <tr>\n",
       "      <th>...</th>\n",
       "      <td>...</td>\n",
       "      <td>...</td>\n",
       "      <td>...</td>\n",
       "      <td>...</td>\n",
       "      <td>...</td>\n",
       "      <td>...</td>\n",
       "      <td>...</td>\n",
       "      <td>...</td>\n",
       "      <td>...</td>\n",
       "      <td>...</td>\n",
       "      <td>...</td>\n",
       "      <td>...</td>\n",
       "      <td>...</td>\n",
       "      <td>...</td>\n",
       "      <td>...</td>\n",
       "      <td>...</td>\n",
       "      <td>...</td>\n",
       "    </tr>\n",
       "    <tr>\n",
       "      <th>450</th>\n",
       "      <td>-105.289838</td>\n",
       "      <td>39.978304</td>\n",
       "      <td>1179</td>\n",
       "      <td>NaN</td>\n",
       "      <td>Ridge 2</td>\n",
       "      <td>NaN</td>\n",
       "      <td>No</td>\n",
       "      <td>OSMP</td>\n",
       "      <td>Y</td>\n",
       "      <td>NCAR</td>\n",
       "      <td>2.00</td>\n",
       "      <td>Satans Slab</td>\n",
       "      <td>Y</td>\n",
       "      <td>No</td>\n",
       "      <td>Boulder</td>\n",
       "      <td>Yes</td>\n",
       "      <td>NaN</td>\n",
       "    </tr>\n",
       "    <tr>\n",
       "      <th>451</th>\n",
       "      <td>-105.291101</td>\n",
       "      <td>39.978087</td>\n",
       "      <td>1180</td>\n",
       "      <td>NaN</td>\n",
       "      <td>Ridge 3</td>\n",
       "      <td>NaN</td>\n",
       "      <td>No</td>\n",
       "      <td>OSMP</td>\n",
       "      <td>Y</td>\n",
       "      <td>NCAR</td>\n",
       "      <td>1.50</td>\n",
       "      <td>NaN</td>\n",
       "      <td>Y</td>\n",
       "      <td>No</td>\n",
       "      <td>Boulder</td>\n",
       "      <td>Yes</td>\n",
       "      <td>Yes</td>\n",
       "    </tr>\n",
       "    <tr>\n",
       "      <th>452</th>\n",
       "      <td>-105.288788</td>\n",
       "      <td>39.965708</td>\n",
       "      <td>1181</td>\n",
       "      <td>NaN</td>\n",
       "      <td>Fiddlehead</td>\n",
       "      <td>NaN</td>\n",
       "      <td>No</td>\n",
       "      <td>OSMP</td>\n",
       "      <td>Y</td>\n",
       "      <td>Cragmoor Rd</td>\n",
       "      <td>0.00</td>\n",
       "      <td>NaN</td>\n",
       "      <td>Y</td>\n",
       "      <td>No</td>\n",
       "      <td>Wall</td>\n",
       "      <td>Yes</td>\n",
       "      <td>NaN</td>\n",
       "    </tr>\n",
       "    <tr>\n",
       "      <th>453</th>\n",
       "      <td>-105.288176</td>\n",
       "      <td>39.973912</td>\n",
       "      <td>1189</td>\n",
       "      <td>NaN</td>\n",
       "      <td>Sunnny Side One</td>\n",
       "      <td>NaN</td>\n",
       "      <td>No</td>\n",
       "      <td>OSMP</td>\n",
       "      <td>N</td>\n",
       "      <td>NCAR</td>\n",
       "      <td>5.50</td>\n",
       "      <td>NaN</td>\n",
       "      <td>N</td>\n",
       "      <td>No</td>\n",
       "      <td>Boulder</td>\n",
       "      <td>Yes</td>\n",
       "      <td>NaN</td>\n",
       "    </tr>\n",
       "    <tr>\n",
       "      <th>454</th>\n",
       "      <td>-105.288568</td>\n",
       "      <td>39.973947</td>\n",
       "      <td>1191</td>\n",
       "      <td>NaN</td>\n",
       "      <td>Sunny Side Two</td>\n",
       "      <td>NaN</td>\n",
       "      <td>NaN</td>\n",
       "      <td>OSMP</td>\n",
       "      <td>N</td>\n",
       "      <td>NCAR</td>\n",
       "      <td>4.00</td>\n",
       "      <td>NaN</td>\n",
       "      <td>N</td>\n",
       "      <td>No</td>\n",
       "      <td>Boulder</td>\n",
       "      <td>Yes</td>\n",
       "      <td>NaN</td>\n",
       "    </tr>\n",
       "  </tbody>\n",
       "</table>\n",
       "<p>455 rows × 17 columns</p>\n",
       "</div>"
      ],
      "text/plain": [
       "              X          Y  OBJECTID   ID          FEATURE  ROUTES  HCA OWNER  \\\n",
       "0   -105.294224  40.005020         1  1.0     Pumpkin Rock     4.0   No  OSMP   \n",
       "1   -105.287861  39.975276         2  2.0          Veranda     2.0   No  OSMP   \n",
       "2   -105.293598  39.995411         3  3.0   Third Pinnacle     7.0   No  OSMP   \n",
       "3   -105.294391  39.986358         4  4.0          The Fin     1.0   No  OSMP   \n",
       "4   -105.292811  39.995952         5  6.0   First Pinnacle    23.0   No  OSMP   \n",
       "..          ...        ...       ...  ...              ...     ...  ...   ...   \n",
       "450 -105.289838  39.978304      1179  NaN          Ridge 2     NaN   No  OSMP   \n",
       "451 -105.291101  39.978087      1180  NaN          Ridge 3     NaN   No  OSMP   \n",
       "452 -105.288788  39.965708      1181  NaN       Fiddlehead     NaN   No  OSMP   \n",
       "453 -105.288176  39.973912      1189  NaN  Sunnny Side One     NaN   No  OSMP   \n",
       "454 -105.288568  39.973947      1191  NaN   Sunny Side Two     NaN  NaN  OSMP   \n",
       "\n",
       "    SeasonalClosure      AreaAccess  UseRating          AKA ClosureActive  \\\n",
       "0                 N       Flagstaff       2.50  First Areas             N   \n",
       "1                 N            NCAR       0.00          NaN             N   \n",
       "2                 N  Gregory Canyon       1.25          NaN             N   \n",
       "3                 Y      Chautauqua       1.17          NaN             Y   \n",
       "4                 N  Gregory Canyon       2.20          NaN             N   \n",
       "..              ...             ...        ...          ...           ...   \n",
       "450               Y            NCAR       2.00  Satans Slab             Y   \n",
       "451               Y            NCAR       1.50          NaN             Y   \n",
       "452               Y     Cragmoor Rd       0.00          NaN             Y   \n",
       "453               N            NCAR       5.50          NaN             N   \n",
       "454               N            NCAR       4.00          NaN             N   \n",
       "\n",
       "    PERMITREQ FormationType Display FixedHardwarePermit  \n",
       "0          No       Boulder     Yes                 NaN  \n",
       "1          No          Wall     Yes                 NaN  \n",
       "2          No          Wall     Yes                 NaN  \n",
       "3          No          Wall     Yes                 NaN  \n",
       "4          No          Wall     Yes                 NaN  \n",
       "..        ...           ...     ...                 ...  \n",
       "450        No       Boulder     Yes                 NaN  \n",
       "451        No       Boulder     Yes                 Yes  \n",
       "452        No          Wall     Yes                 NaN  \n",
       "453        No       Boulder     Yes                 NaN  \n",
       "454        No       Boulder     Yes                 NaN  \n",
       "\n",
       "[455 rows x 17 columns]"
      ]
     },
     "execution_count": 5,
     "metadata": {},
     "output_type": "execute_result"
    }
   ],
   "source": [
    "# Read in the data and view the first few rows of data\n",
    "boulder_climbing = pd.read_csv(new_name_climb)\n",
    "boulder_climbing"
   ]
  },
  {
   "cell_type": "markdown",
   "id": "1aeadb29",
   "metadata": {},
   "source": [
    "## How to Convert x,y Coordinate Data To A GeoDataFrame (or shapefile) - Spatial Data in Tabular Formats\n",
    "\n",
    "Often you will find that tabular data, stored in a text or\n",
    "spreadsheet format, contains spatial coordinate information\n",
    "that you wish to plot or convert to a shapefile for use \n",
    "in a GIS application. In the challenge below, you will learn \n",
    "how to convert tabular data containing coordinate information\n",
    "into a spatial file."
   ]
  },
  {
   "cell_type": "markdown",
   "id": "a5383444",
   "metadata": {},
   "source": [
    "<div class=\"notice--warning alert alert-info\" markdown=\"1\">\n",
    "\n",
    "## <i class=\"fa fa-pencil-square-o\" aria-hidden=\"true\"></i> Challenge 2: Create a Spatial GeoDataframe From a DataFrame \n",
    "\n",
    "You can create a Geopandas `GeoDataFrame` from a Pandas `DataFrame` if there is coordinate data in the DataFrame. \n",
    "In the data that you opened above, there are columns for the `X` and `Y` coordinates of each rock formation - with headers named `X` and `Y`. \n",
    "\n",
    "You can convert columns containing **x,y** coordinate data using the **GeoPandas**  `points_from_xy()` function as follows:\n",
    "\n",
    "`coordinates = gpd.points_from_xy(column-with-x-data, column-with-y-data.Y)`\n",
    "\n",
    "You can then set the geometry column for the new GeoDataFrame \n",
    "to the **x,y** data that you extracted from the data frame. \n",
    "\n",
    "```python\n",
    "gpd.GeoDataFrame(data=boulder_climbing, \n",
    "                 geometry=coordinates)\n",
    "```\n",
    "\n",
    "`GeoDataFrame`. Copy the code below to create a new GeoDataFrame containing the boulder climbing area data in a spatial format that you can plot. \n",
    "\n",
    "IMPORTANT: be sure to assign the output of the code below to a new variable\n",
    "name called `boulder_climbing_gdf`.\n",
    "\n",
    "```python\n",
    "\n",
    "coordinates = gpd.points_from_xy(boulder_climbing.X, boulder_climbing.Y)\n",
    "gpd.GeoDataFrame(data=boulder_climbing, \n",
    "                 geometry=coordinates)\n",
    "```\n",
    "\n",
    "In your code:\n",
    "\n",
    "1. Copy the code above to create a `GeoDataFrame` from the `DataFrame` that you created above. \n",
    "2. Next, plot your data using `.plot()`\n",
    "\n",
    "</div>"
   ]
  },
  {
   "cell_type": "code",
   "execution_count": 6,
   "id": "07ee92eb",
   "metadata": {
    "caption": "Plot of climbing formations in the Boulder, Colorado.",
    "tags": [
     "hide"
    ]
   },
   "outputs": [
    {
     "data": {
      "image/png": "[encoded data removed]",
      "text/plain": [
       "<Figure size 1000x1000 with 1 Axes>"
      ]
     },
     "metadata": {},
     "output_type": "display_data"
    }
   ],
   "source": [
    "# Create your geodataframe\n",
    "coordinates = gpd.points_from_xy(boulder_climbing.X, boulder_climbing.Y)\n",
    "\n",
    "boulder_climbing_gdf = gpd.GeoDataFrame(data=boulder_climbing,\n",
    "                                        geometry=coordinates)\n",
    "\n",
    "# Create a plot\n",
    "f, ax1 = plt.subplots(figsize=(10, 10))\n",
    "boulder_climbing_gdf.plot(ax=ax1,\n",
    "                          color=\"black\")\n",
    "\n",
    "# Add a title\n",
    "ax1.set(title=\"Climbing Coordinates - Boulder, CO\")\n",
    "plt.show()"
   ]
  },
  {
   "cell_type": "markdown",
   "id": "159faf61",
   "metadata": {},
   "source": [
    "<div class='notice--success alert alert-info' markdown=\"1\">\n",
    "\n",
    "<i class=\"fa fa-star\"></i> **Data Tip:** You can easily export data\n",
    "in a GeoPandas format to a shapefile using `object_name_here.to_file(\"file-name-here.shp\")`. Following the example above, if you want to export a shapefile called boulder-climbing.shp, your code would look like\n",
    "this: `boulder_climbing_gdf.to_file(\"boulder-climbing.shp\")`. \n",
    "</div>"
   ]
  },
  {
   "cell_type": "code",
   "execution_count": 7,
   "id": "e7ca9012",
   "metadata": {
    "tags": [
     "hide"
    ]
   },
   "outputs": [
    {
     "name": "stderr",
     "output_type": "stream",
     "text": [
      "/var/folders/dn/99vk45cd5n56wsnl3hxc1bw40000gp/T/ipykernel_6423/751944266.py:2: UserWarning: Column names longer than 10 characters will be truncated when saved to ESRI Shapefile.\n",
      "  boulder_climbing_gdf.to_file(\"boulder-climbing.shp\")\n"
     ]
    }
   ],
   "source": [
    "# Export GeoPandas GeoDataFrame to ShapeFile\n",
    "boulder_climbing_gdf.to_file(\"boulder-climbing.shp\")"
   ]
  },
  {
   "cell_type": "markdown",
   "id": "2f065f62",
   "metadata": {},
   "source": [
    "<div class=\"notice--warning alert alert-info\" markdown=\"1\">\n",
    "\n",
    "## <i class=\"fa fa-pencil-square-o\" aria-hidden=\"true\"></i> Challenge 3: Create a Base Map\n",
    "\n",
    "Next, you will create a basemap. Run code below to download another file for boulder. Notice that the data this time are in `geojson` format\n",
    "rather than a shapefile. Even though the format is different, the data can be worked with using Geopandas in the same way that you would work with \n",
    "a shapefile using `read_file()`. \n",
    "\n",
    "The data file is:  \n",
    "\n",
    "`et.data.get_data(url=\"https://opendata.arcgis.com/datasets/955e7a0f52474b60a9866950daf10acb_0.geojson\")`\n",
    "\n",
    "The code below downloads and cleans up the file name.\n",
    "</div>"
   ]
  },
  {
   "cell_type": "code",
   "execution_count": 8,
   "id": "0501c2c1",
   "metadata": {},
   "outputs": [
    {
     "ename": "FileNotFoundError",
     "evalue": "[Errno 2] No such file or directory: '\"City_Limits.geojson\"' -> 'City_Limits.geojson'",
     "output_type": "error",
     "traceback": [
      "\u001b[0;31m---------------------------------------------------------------------------\u001b[0m",
      "\u001b[0;31mFileNotFoundError\u001b[0m                         Traceback (most recent call last)",
      "Cell \u001b[0;32mIn[8], line 10\u001b[0m\n\u001b[1;32m      8\u001b[0m new_name_city \u001b[38;5;241m=\u001b[39m \u001b[38;5;124m'\u001b[39m\u001b[38;5;124mCity_Limits.geojson\u001b[39m\u001b[38;5;124m'\u001b[39m\n\u001b[1;32m      9\u001b[0m \u001b[38;5;28;01mif\u001b[39;00m \u001b[38;5;129;01mnot\u001b[39;00m os\u001b[38;5;241m.\u001b[39mpath\u001b[38;5;241m.\u001b[39mexists(new_name_city):\n\u001b[0;32m---> 10\u001b[0m     \u001b[43mos\u001b[49m\u001b[38;5;241;43m.\u001b[39;49m\u001b[43mrename\u001b[49m\u001b[43m(\u001b[49m\u001b[43mold_name_city\u001b[49m\u001b[43m,\u001b[49m\u001b[43m \u001b[49m\u001b[43mnew_name_city\u001b[49m\u001b[43m)\u001b[49m\n",
      "\u001b[0;31mFileNotFoundError\u001b[0m: [Errno 2] No such file or directory: '\"City_Limits.geojson\"' -> 'City_Limits.geojson'"
     ]
    }
   ],
   "source": [
    "# Get the data\n",
    "et.data.get_data(\n",
    "    url=\"https://opendata.arcgis.com/datasets/955e7a0f52474b60a9866950daf10acb_0.geojson\")\n",
    "\n",
    "# This code will clean up your file name\n",
    "# This is a temporary fix for a bug in our earthpy package!\n",
    "old_name_city = '\"City_Limits.geojson\"'\n",
    "new_name_city = 'City_Limits.geojson'\n",
    "if not os.path.exists(new_name_city):\n",
    "    os.rename(old_name_city, new_name_city)"
   ]
  },
  {
   "cell_type": "code",
   "execution_count": null,
   "id": "f9840a1a",
   "metadata": {
    "caption": "City limit boundaries of Boulder, Colorado.",
    "tags": [
     "hide"
    ]
   },
   "outputs": [],
   "source": [
    "# In this cell, open up and plot the `City_Limits.geojson` geojson file\n",
    "city_limits = gpd.read_file(new_name_city)\n",
    "city_limits.head()\n",
    "\n",
    "\n",
    "# Create a plot\n",
    "f, ax1 = plt.subplots(figsize=(10, 10))\n",
    "city_limits.plot(ax=ax1,\n",
    "                 edgecolor=\"black\",\n",
    "                 color=\"white\")\n",
    "\n",
    "# Add a title\n",
    "ax1.set(title=\"City Limits - Boulder, CO\")\n",
    "plt.show()"
   ]
  },
  {
   "cell_type": "markdown",
   "id": "aa3f0d21",
   "metadata": {},
   "source": [
    "<div class=\"notice--warning alert alert-info\" markdown=\"1\">\n",
    "\n",
    "## <i class=\"fa fa-pencil-square-o\" aria-hidden=\"true\"></i> Challenge 4: Plot Two GeoDataFrames Together in the Same Figure\n",
    "\n",
    "Previously, you learned how to plot multiple shapefiles or spatial\n",
    "layers on the same map using **matplotlib**.\n",
    "\n",
    "1. Use what you learned in the spatial vector lesson in this chapter to plot the climbing formations points layer on top of the cities boundary that you opened above. \n",
    "2. Use the `edgecolor=` and the `color=` parameters to change the colors of the city object. (example: color=\"white\", edgecolor=\"grey\")\n",
    "3. Use `legend=True` to add a legend to your map.\n",
    "4. Set `column='FormationType'` to plot your points according tot he type of climbing formation it is (Boulder vs Wall).\n",
    "\n",
    "HINT: Refer back to the vector lesson if you forget how to create your plot!\n",
    "</div>"
   ]
  },
  {
   "cell_type": "code",
   "execution_count": null,
   "id": "6bfd4112",
   "metadata": {
    "caption": "Plot of climbing formations in the Boulder, Colorado plotted by type (Boulder or Wall) with the city boundary.",
    "tags": [
     "hide"
    ]
   },
   "outputs": [],
   "source": [
    "# Add your code to plot the data here\n",
    "f, ax1 = plt.subplots(figsize=(10, 10))\n",
    "city_limits.plot(ax=ax1,\n",
    "                 edgecolor=\"grey\", color=\"white\")\n",
    "boulder_climbing_gdf.plot(ax=ax1, edgecolor=\"black\",\n",
    "                          column='FormationType', legend=True)\n",
    "\n",
    "\n",
    "# Add a title\n",
    "ax1.set(title=\"Climbing Locations - Boulder, CO\")\n",
    "plt.show()\n",
    "\n",
    "# Turn of x and y data ticks\n",
    "ax1.set_axis_off()"
   ]
  },
  {
   "cell_type": "markdown",
   "id": "20f3e1dd",
   "metadata": {},
   "source": [
    "<div class=\"notice--warning alert alert-info\" markdown=\"1\">\n",
    "\n",
    "## <i class=\"fa fa-pencil-square-o\" aria-hidden=\"true\"></i> Challenge 5: Customize Your Map\n",
    "\n",
    "Next, you will customize the map that you created above. \n",
    "Here's what you need to do to spruce up your map:\n",
    "\n",
    "\n",
    "1. Add a title to your map using `ax.set_title()`. \n",
    "2. Set the `figsize` of the map to be larger so the data is more clearly shown. The `figsize` is one of the arguments in `plt.subplots` and needs to be set to a **tuple** of numbers. For example: `plt.subplots(figsize=(10, 10)`. \n",
    "3. Turn off the x and y axis data ticks to make the plot look more like a map using: `ax.set_axis_off()`.\n",
    "4. Customize the colors of the city boundary using the parameters: `color=\"color-name-here\"` to change the color of the fill of the polygon. Use `edgecolor=\"color-name-here\"` to change the outline color of the polygon. HINT: you may want to set `color=\"white\"` for the polygon and make the edgecolor a darker color so you have a clean outline. \n",
    "5. Play around with modifying the markers for the points. The marker is the symbol used to represent the x,y location. The default marker is a circle. Modify the `marker=` and `markersize=` parameters in the `plot()` function for the climbing formations in order to make it more legible. Here is a list of marker options in matplotlib: https://matplotlib.org/3.2.1/api/markers_api.html. \n",
    "\n",
    "Examples of modifying the marker and marker size: \n",
    "\n",
    "`object.plot(marker=\"*\", markersize=5)`\n",
    "\n",
    "---------\n",
    "\n",
    "OPTIONAL: See what happens when you use the `cmap=\"Greens\"` argument.\n",
    "\n",
    "HINT: see this documentation to learn more about color maps in python: https://matplotlib.org/3.2.1/tutorials/colors/colormaps.html\n",
    "\n",
    "--------\n",
    "Have fun customizing your map!\n",
    "\n",
    "</div>"
   ]
  },
  {
   "cell_type": "code",
   "execution_count": null,
   "id": "e58a5dbe",
   "metadata": {
    "caption": "Plot of climbing formations in the Boulder, Colorado plotted by type (Boulder or Wall) with the city boundary.",
    "tags": [
     "hide"
    ]
   },
   "outputs": [],
   "source": [
    "# Add your code here to plot the data\n",
    "f, ax1 = plt.subplots(figsize=(10, 10))\n",
    "city_limits.plot(ax=ax1,\n",
    "                 edgecolor=\"grey\", color=\"white\")\n",
    "boulder_climbing_gdf.plot(ax=ax1, edgecolor=\"black\",\n",
    "                          column='FormationType', legend=True, markersize=15)\n",
    "\n",
    "\n",
    "# Add a title\n",
    "ax1.set(title=\"Climbing Locations - Boulder, CO\")\n",
    "plt.show()"
   ]
  },
  {
   "cell_type": "markdown",
   "id": "7f74d31c",
   "metadata": {},
   "source": [
    "## OPTIONAL: Interactive Spatial Maps Using Folium\n",
    "\n",
    "Above you created maps that were static that you could not interact with.\n",
    "You can make interactive maps with Python in Jupyter Notebooks too\n",
    "using the **Folium** package. \n",
    "\n",
    "Set your GeoDataFrame name for your climbing formations to the variable specified in the code below, `climbing_locations`. \n",
    "\n",
    "```\n",
    "import folium\n",
    "\n",
    "#Define coordinates of where we want to center our map\n",
    "map_center_coords = [40.015, -105.2705]\n",
    "\n",
    "#Create the map\n",
    "my_map = folium.Map(location = map_center_coords, zoom_start = 13)\n",
    "\n",
    "for lat,long in zip(climbing_locations.geometry.y, climbing_locations.geometry.x):\n",
    "    folium.Marker(\n",
    "        location=[lat, long],\n",
    "    ).add_to(my_map)\n",
    "\n",
    "my_map\n",
    "\n",
    "```\n",
    "and run it in your code to see what happens! \n",
    "\n",
    "More reading on how to use **Folium** [here](https://www.earthdatascience.org/tutorials/introduction-to-leaflet-animated-maps/)"
   ]
  },
  {
   "cell_type": "code",
   "execution_count": null,
   "id": "cbd2d981",
   "metadata": {},
   "outputs": [],
   "source": [
    "# In this cell, uncomment the line below.\n",
    "# This should set your GeoDataFrame to our\n",
    "# variable name to make the code with folium run\n",
    "\n",
    "# climbing_locations = boulder_climbing_gdf"
   ]
  },
  {
   "cell_type": "code",
   "execution_count": null,
   "id": "8dc32ce8",
   "metadata": {
    "tags": [
     "hide"
    ]
   },
   "outputs": [],
   "source": [
    "climbing_locations = boulder_climbing_gdf"
   ]
  },
  {
   "cell_type": "code",
   "execution_count": null,
   "id": "5d543fdf",
   "metadata": {
    "caption": "Interactive map of climbing formations in the Boulder, Colorado.",
    "tags": [
     "hide"
    ]
   },
   "outputs": [],
   "source": [
    "# Copy the code above and paste is in this cell below\n",
    "import folium\n",
    "\n",
    "# Define coordinates of where we want to center our map\n",
    "map_center_coords = [40.015, -105.2705]\n",
    "\n",
    "# Create the map\n",
    "my_map = folium.Map(location=map_center_coords, zoom_start=13)\n",
    "\n",
    "for lat, long in zip(climbing_locations.geometry.y, climbing_locations.geometry.x):\n",
    "    folium.Marker(\n",
    "        location=[lat, long],\n",
    "    ).add_to(my_map)\n",
    "\n",
    "my_map"
   ]
  },
  {
   "cell_type": "markdown",
   "id": "63ac2a2a",
   "metadata": {},
   "source": [
    "<div class=\"notice--warning alert alert-info\" markdown=\"1\">\n",
    "\n",
    "## <i class=\"fa fa-pencil-square-o\" aria-hidden=\"true\"></i> BONUS Challenge: Clip Climbing Formations to the City of Boulder\n",
    "\n",
    "In the vector notebook, you learned how to clip spatial data. In your code, do the following:\n",
    "\n",
    "1. Clip the climbing formations to the boundary of the city of Boulder. \n",
    "2. Plot the clipped points on top of the city boundary. \n",
    "</div>\n",
    "\n",
    "If you want, you could create another folium map of the clipped data!"
   ]
  },
  {
   "cell_type": "code",
   "execution_count": null,
   "id": "dbe68c25",
   "metadata": {
    "caption": "Plot of climbing formations in the Boulder, Colorado clipped to the Boulder city boundary.",
    "tags": [
     "hide"
    ]
   },
   "outputs": [],
   "source": [
    "# Place your code to clip and plot your data here\n",
    "# It's fine to make new cells below if you wish!\n",
    "\n",
    "# Below this line clip the cities data to the Canada boundary that you created above.\n",
    "climbing_in_boulder = gpd.clip(boulder_climbing_gdf, city_limits)\n",
    "\n",
    "# Make a plot\n",
    "f, ax = plt.subplots(figsize=(10, 10))\n",
    "city_limits.plot(ax=ax,\n",
    "                 edgecolor=\"grey\", color=\"white\")\n",
    "climbing_in_boulder.plot(ax=ax, edgecolor=\"black\", color=\"red\", markersize=15)\n",
    "ax.set(title=\"Climbing Locations Within Boulder City Limits\")\n",
    "plt.show()"
   ]
  }
 ],
 "metadata": {
  "jupytext": {
   "text_representation": {
    "extension": ".md",
    "format_name": "myst",
    "format_version": 0.13,
    "jupytext_version": "1.14.7"
   }
  },
  "kernelspec": {
   "display_name": "Python 3",
   "language": "python",
   "name": "python3"
  },
  "language_info": {
   "codemirror_mode": {
    "name": "ipython",
    "version": 3
   },
   "file_extension": ".py",
   "mimetype": "text/x-python",
   "name": "python",
   "nbconvert_exporter": "python",
   "pygments_lexer": "ipython3",
   "version": "3.10.12"
  },
  "source_map": [
   14,
   38,
   43,
   53,
   65,
   82,
   88,
   95,
   101,
   107,
   118,
   158,
   176,
   186,
   191,
   208,
   221,
   239,
   256,
   276,
   307,
   324,
   355,
   363,
   369,
   388,
   402
  ]
 },
 "nbformat": 4,
 "nbformat_minor": 5
}