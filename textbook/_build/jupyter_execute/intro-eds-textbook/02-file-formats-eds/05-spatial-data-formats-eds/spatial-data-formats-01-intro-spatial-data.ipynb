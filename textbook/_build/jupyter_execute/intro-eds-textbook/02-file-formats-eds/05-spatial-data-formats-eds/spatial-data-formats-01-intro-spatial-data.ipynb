{
 "cells": [
  {
   "cell_type": "raw",
   "id": "7b27af0d",
   "metadata": {},
   "source": [
    "---\n",
    "layout: single\n",
    "title: 'Spatial Data Formats for Earth Data Science'\n",
    "excerpt: \"Two of the major spatial data formats used in earth data science are vector and raster data. Learn about these two common spatial data formats for earth data science workflows in this chapter.\"\n",
    "authors: ['Leah Wasser', 'Nathan Korinek']\n",
    "category: [courses]\n",
    "class-lesson: ['spatial-data-formats']\n",
    "permalink: /courses/intro-to-earth-data-science/file-formats/use-spatial-data/\n",
    "nav-title: \"Intro to Spatial Data Formats\"\n",
    "dateCreated: 2019-08-29\n",
    "modified: '{:%Y-%m-%d}'.format(datetime.now())\n",
    "module-title: 'Spatial Data Formats for Earth Data Science'\n",
    "module-nav-title: 'Spatial Data Formats'\n",
    "module-description: 'There are two primary spatial data formats that are useful for earth data science, vector and raster. Learn about these two common spatial data formats for earth data science workflows.'\n",
    "module-type: 'class'\n",
    "chapter: 5\n",
    "class-order: 2\n",
    "course: \"intro-to-earth-data-science-textbook\"\n",
    "week: 2\n",
    "sidebar:\n",
    "  nav:\n",
    "author_profile: false\n",
    "comments: true\n",
    "order: 1\n",
    "topics:\n",
    "  spatial-data-and-gis: ['raster-data', 'vector-data']\n",
    "---"
   ]
  },
  {
   "cell_type": "markdown",
   "id": "46d60bc9",
   "metadata": {},
   "source": [
    "{% include toc title=\"In This Chapter\" icon=\"file-text\" %}\n",
    "\n",
    "<div class='notice--success' markdown=\"1\">\n",
    "\n",
    "## <i class=\"fa fa-ship\" aria-hidden=\"true\"></i> Chapter Five - Spatial Data Formats for Earth Data Science\n",
    "\n",
    "In this chapter, you will learn about the two primary spatial data formats that are useful for earth data science, vector and raster. \n",
    "\n",
    "After completing this chapter, you will be able to:\n",
    "\n",
    "* Open spatial data in **Python**, including shapefiles using **Geopandas** - `gpd.read_file()` and raster data using **Rasterio** in **Python**.\n",
    "* Plot spatial data in **Python**, including shapfiles using **Geopandas** - `gpd.plot()`and raster data using **EarthPy**.\n",
    "* Describe the characteristics of 3 key vector data structures: points, lines and polygons.\n",
    "\n",
    "\n",
    "## <i class=\"fa fa-check-square-o fa-2\" aria-hidden=\"true\"></i> What You Need\n",
    "\n",
    "Be sure that you have completed the previous chapter on <a href=\"{{ site.url }}/courses/intro-to-earth-data-science/file-formats/use-text-files/\">text file formats</a>.\n",
    "\n",
    "</div>"
   ]
  },
  {
   "cell_type": "code",
   "execution_count": null,
   "id": "91715cfd",
   "metadata": {},
   "outputs": [],
   "source": []
  }
 ],
 "metadata": {
  "jupytext": {
   "text_representation": {
    "extension": ".md",
    "format_name": "myst",
    "format_version": 0.13,
    "jupytext_version": "1.14.7"
   }
  },
  "kernelspec": {
   "display_name": "Python 3",
   "language": "python",
   "name": "python3"
  },
  "language_info": {
   "codemirror_mode": {
    "name": "ipython",
    "version": 3
   },
   "file_extension": ".py",
   "mimetype": "text/x-python",
   "name": "python",
   "nbconvert_exporter": "python",
   "pygments_lexer": "ipython3",
   "version": "3.10.12"
  },
  "source_map": [
   14,
   43,
   66
  ]
 },
 "nbformat": 4,
 "nbformat_minor": 5
}