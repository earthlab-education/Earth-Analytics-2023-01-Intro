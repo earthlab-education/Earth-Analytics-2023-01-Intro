{
 "cells": [
  {
   "cell_type": "markdown",
   "id": "8d584441",
   "metadata": {},
   "source": [
    ":::{include} ../textbook-header.md\n",
    ":::\n",
    "\n",
    "## About this book\n",
    "\n",
    "*Introduction to Earth Data Science* is an online textbook for anyone new to open reproducible science and the `Python` programming language. There are no prerequisites for this material, and no prior programming knowledge is assumed.\n",
    "\n",
    "## A look ahead\n",
    "\n",
    "In this textbook, you will learn how to analyze and visualize earth and environmental science data using the `Python` programming language. You will also get familiar with a suite of open source tools that are often used in open reproducible science workflows including `bash`, `git` and `Github.com`, and `Jupyter Notebook`.\n",
    "\n",
    ":::{tableofcontents}\n",
    ":::"
   ]
  }
 ],
 "metadata": {
  "file_format": "mystnb",
  "jupytext": {
   "text_representation": {
    "extension": ".md",
    "format_name": "myst",
    "format_version": 0.13,
    "jupytext_version": "1.14.7"
   }
  },
  "kernelspec": {
   "display_name": "Python 3",
   "language": "python",
   "name": "python3"
  },
  "myst": {
   "substitutions": {
    "authors": "Leah Wasser, Jenny Palomino",
    "excerpt": "Welcome to the Introduction to Earth Data Science textbook!",
    "objective": "* Define and implement best practices for open, reproducible science\n* Earth Data Science in Python",
    "title": "Introduction to Earth Data Science | Earth Lab CU Boulder"
   }
  },
  "source_map": [
   21
  ]
 },
 "nbformat": 4,
 "nbformat_minor": 5
}