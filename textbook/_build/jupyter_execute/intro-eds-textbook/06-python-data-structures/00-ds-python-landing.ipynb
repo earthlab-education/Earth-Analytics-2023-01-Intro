{
 "cells": [
  {
   "cell_type": "raw",
   "id": "1d918196",
   "metadata": {},
   "source": [
    "---\n",
    "layout: single\n",
    "category: courses\n",
    "title: \"Scientific Data Structures in Python\"\n",
    "permalink: /courses/intro-to-earth-data-science/scientific-data-structures-python/\n",
    "week-landing: 6\n",
    "modified: '{:%Y-%m-%d}'.format(datetime.now())\n",
    "week: 6\n",
    "sidebar:\n",
    "  nav:\n",
    "comments: false\n",
    "author_profile: false\n",
    "course: \"intro-to-earth-data-science-textbook\"\n",
    "module-type: 'session'\n",
    "---"
   ]
  },
  {
   "cell_type": "markdown",
   "id": "457f1e2d",
   "metadata": {},
   "source": [
    "{% include toc title=\"Section Five\" icon=\"file-text\" %}\n",
    "\n",
    "<div class=\"notice--info\" markdown=\"1\">\n",
    "\n",
    "## <i class=\"fa fa-ship\" aria-hidden=\"true\"></i> Section Six - Scientific Data Structures in Python\n",
    "\n",
    "In section six of this textbook, you will learn about commonly used scientific data structures in **Python**, beginning with **numpy** arrays. Additional chapters will be added for **pandas** dataframes and dictionaries. \n",
    "\n",
    "\n",
    "## <i class=\"fa fa-graduation-cap\" aria-hidden=\"true\"></i> Learning Objectives\n",
    "\n",
    "After completing this section of the introduction to earth data science online textbook, you will be able to:\n",
    "\n",
    "* Describe the key characteristics of **numpy** arrays.\n",
    "* Import data from text files (.txt, .csv) into **numpy** arrays. \n",
    "* Run calculations and summarize data in **numpy** arrays.\n",
    "* Use indexing to slice (i.e. select) data from **numpy arrays**.\n",
    "\n",
    "</div>\n",
    "\n",
    "\n",
    "{% include textbook-section-toc.html %}"
   ]
  },
  {
   "cell_type": "code",
   "execution_count": null,
   "id": "39314097",
   "metadata": {},
   "outputs": [],
   "source": []
  }
 ],
 "metadata": {
  "jupytext": {
   "formats": "ipynb,md:myst",
   "text_representation": {
    "extension": ".md",
    "format_name": "myst",
    "format_version": 0.13,
    "jupytext_version": "1.14.7"
   }
  },
  "kernelspec": {
   "display_name": "Python 3",
   "language": "python",
   "name": "python3"
  },
  "language_info": {
   "codemirror_mode": {
    "name": "ipython",
    "version": 3
   },
   "file_extension": ".py",
   "mimetype": "text/x-python",
   "name": "python",
   "nbconvert_exporter": "python",
   "pygments_lexer": "ipython3",
   "version": "3.10.12"
  },
  "source_map": [
   15,
   32,
   57
  ]
 },
 "nbformat": 4,
 "nbformat_minor": 5
}