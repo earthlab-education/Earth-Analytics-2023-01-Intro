{
 "cells": [
  {
   "cell_type": "raw",
   "id": "d68fd1ac",
   "metadata": {},
   "source": [
    "---\n",
    "layout: single\n",
    "title: 'Conditional Statements with Alternative or Combined Conditions'\n",
    "excerpt: \"Conditional statements in Python can be written to check for alternative conditions or combinations of multiple conditions. Learn how to write conditional statements in Python that choose betweeen alternative conditions or check for combinations of conditions before executing code.\"\n",
    "authors: ['Jenny Palomino', 'Leah Wasser']\n",
    "category: [courses]\n",
    "class-lesson: ['intro-conditional-statements-tb']\n",
    "permalink: /courses/intro-to-earth-data-science/write-efficient-python-code/conditional-statements/alternative-multiple-conditions/\n",
    "nav-title: \"Alternative and Multiple Conditions\"\n",
    "dateCreated: 2019-10-22\n",
    "modified: '{:%Y-%m-%d}'.format(datetime.now())\n",
    "module-type: 'class'\n",
    "course: \"intro-to-earth-data-science-textbook\"\n",
    "week: 7\n",
    "sidebar:\n",
    "  nav:\n",
    "author_profile: false\n",
    "comments: true\n",
    "order: 2\n",
    "topics:\n",
    "  reproducible-science-and-programming: ['python']\n",
    "redirect_from:\n",
    "  - \"/courses/earth-analytics-bootcamp/conditional-statements/control-flow/\"\n",
    "  - \"/courses/intro-to-earth-data-science/dry-code-python/conditional-statements/alternative-multiple-conditions/\"\n",
    "  - \"/courses/intro-to-earth-data-science/write-efficient-python-code/alternative-multiple-conditions/\" \n",
    "---"
   ]
  },
  {
   "cell_type": "markdown",
   "id": "c2cc3ac1",
   "metadata": {},
   "source": [
    "{% include toc title=\"On This Page\" icon=\"file-text\" %}\n",
    "\n",
    "<div class='notice--success' markdown=\"1\">\n",
    "\n",
    "## <i class=\"fa fa-graduation-cap\" aria-hidden=\"true\"></i> Learning Objectives\n",
    "\n",
    "* Describe the syntax for conditional statements with alternative conditions or combinations of conditions in **Python**.\n",
    "* Write conditional statements with alternative conditions or combinations of conditions in **Python**.\n",
    "\n",
    "</div>\n",
    "\n",
    "\n",
    "## Conditional Statements With Alternative Conditions\n",
    "\n",
    "On the previous page, you learned how to write conditional statements that check for one condition before executing some code: \n",
    "\n",
    "```python\n",
    "if condition:\n",
    "    print(\"Condition is true.\")\n",
    "else:\n",
    "    print(\"Condition is false (i.e. not true).\")\n",
    "```\n",
    "\n",
    "You can expand on this syntax to check for an alternative condition with an `elif` statement: \n",
    "\n",
    "```python\n",
    "if condition:\n",
    "    some code here\n",
    "elif alternative_condition:\n",
    "    some other code here\n",
    "else:\n",
    "    some final code here\n",
    "```\n",
    "\n",
    "If the first condition provided with the `if` statement is not satisfied (i.e. results in value of `False`) , then **Python** will check the condition provided with the `elif` statement.\n",
    "\n",
    "If the condition for `elif` is satisfied, then the code provided with it will execute.\n",
    "\n",
    "However, if neither the `if` nor `elif` conditions are satisfied, then the code provided with `else` will execute.\n",
    "\n",
    "\n",
    "```python\n",
    "if condition:\n",
    "    print(\"First condition is true.\")\n",
    "elif alternative_condition:\n",
    "    print(\"First condition is not true but alternative condition is true.\")\n",
    "else:\n",
    "    print(\"Neither of these conditions is true, so this statement is printed.\")\n",
    "```\n",
    "\n",
    "### Spacing and Execution of Code Lines \n",
    "\n",
    "Recall that the `print` code in the examples above can be replaced by any code that will execute in **Python**.\n",
    "\n",
    "As the code provided with the `if`, `elif`, and `else` statements gets longer, it is common to add blank lines to make it easier to see which code will be executed with whitch statement. However, the indentation remains an important part of the syntax of the conditional statement.\n",
    "\n",
    "Check out the examples below to see `elif` in action and see how `print` statements can be replaced with other code.\n",
    "\n",
    "In the first example, `x` is compared to `y`. The first condition checks whether `x` is less than `y`, while the alternative condition checks whether `x` is greater than `y`.  \n",
    "\n",
    "As `x` is equal to a value less than `y`, the first condition is satisfied, which results in a value of 5 being added to `x`."
   ]
  },
  {
   "cell_type": "code",
   "execution_count": 1,
   "id": "9f8c61f6",
   "metadata": {},
   "outputs": [
    {
     "name": "stdout",
     "output_type": "stream",
     "text": [
      "x started with value of 5\n",
      "It now has a value of 10 which is equal to y.\n"
     ]
    }
   ],
   "source": [
    "# Set x equal to 5 and y equal to 10\n",
    "x = 5\n",
    "y = 10\n",
    "\n",
    "# Execute code based on comparison of x to y\n",
    "if x < y:\n",
    "    print(\"x started with value of\", x)\n",
    "    x += 5\n",
    "    print(\"It now has a value of\", x, \"which is equal to y.\")\n",
    "\n",
    "elif x > y:\n",
    "    print(\"x started with value of\", x)\n",
    "    x -= 5\n",
    "    print(\"It now has a value of\", x, \"which is equal to y.\")\n",
    "\n",
    "else:\n",
    "    print(\"x started with a value of\", x, \"which is already equal to y.\")"
   ]
  },
  {
   "cell_type": "markdown",
   "id": "e299ad1a",
   "metadata": {},
   "source": [
    "In this second example below, `x` is equal to a value greater than `y`, so the first condition is no longer satisfied. However, the second condition is satisfied, which results in a value of 5 being subtracted from `x`."
   ]
  },
  {
   "cell_type": "code",
   "execution_count": 2,
   "id": "502edf35",
   "metadata": {},
   "outputs": [
    {
     "name": "stdout",
     "output_type": "stream",
     "text": [
      "x started with value of 15\n",
      "It now has a value of 10 which is equal to y.\n"
     ]
    }
   ],
   "source": [
    "# Set x equal to 15 \n",
    "x = 15\n",
    "\n",
    "# Execute code based on comparison of x to y\n",
    "if x < y:\n",
    "    print(\"x started with value of\", x)\n",
    "    x += 5\n",
    "    print(\"It now has a value of\", x, \"which is equal to y.\")\n",
    "\n",
    "elif x > y:\n",
    "    print(\"x started with value of\", x)\n",
    "    x -= 5\n",
    "    print(\"It now has a value of\", x, \"which is equal to y.\")\n",
    "\n",
    "else:\n",
    "    print(\"x started with a value of\", x, \"which is already equal to y.\")"
   ]
  },
  {
   "cell_type": "markdown",
   "id": "13c86487",
   "metadata": {},
   "source": [
    "However, if `x` is set to same value as `y`, neither the first nor second conditions are met, and the code provided with `else` is executed."
   ]
  },
  {
   "cell_type": "code",
   "execution_count": 3,
   "id": "44124cbf",
   "metadata": {},
   "outputs": [
    {
     "name": "stdout",
     "output_type": "stream",
     "text": [
      "x started with a value of 10 which is already equal to y.\n"
     ]
    }
   ],
   "source": [
    "# Set x equal to 10 \n",
    "x = 10\n",
    "\n",
    "# Execute code based on comparison of x to y\n",
    "if x < y:\n",
    "    print(\"x started with value of\", x)\n",
    "    x += 5\n",
    "    print(\"It now has a value of\", x, \"which is equal to y.\")\n",
    "\n",
    "elif x > y:\n",
    "    print(\"x started with value of\", x)\n",
    "    x -= 5\n",
    "    print(\"It now has a value of\", x, \"which is equal to y.\")\n",
    "\n",
    "else:\n",
    "    print(\"x started with a value of\", x, \"which is already equal to y.\")"
   ]
  },
  {
   "cell_type": "markdown",
   "id": "d354ce31",
   "metadata": {},
   "source": [
    "You can also apply the `elif` syntax to structure conditional statements that use other operators or check values for text strings or objects.  \n",
    "\n",
    "For example, you can check if a text string is contained within another text string and define a filename based on which condition is satisfied."
   ]
  },
  {
   "cell_type": "code",
   "execution_count": 4,
   "id": "99f3f4e5",
   "metadata": {},
   "outputs": [
    {
     "name": "stdout",
     "output_type": "stream",
     "text": [
      "avg_monthly_precip\n"
     ]
    }
   ],
   "source": [
    "# Set fname based on which text string contains \"precip\"\n",
    "if \"precip\" in \"avg_monthly_temp\":\n",
    "    fname = \"avg_monthly_temp\"\n",
    "    print(fname)\n",
    "\n",
    "elif \"precip\" in \"avg_monthly_precip\":\n",
    "    fname = \"avg_monthly_precip\"\n",
    "    print(fname)  \n",
    "\n",
    "else:\n",
    "    print(\"Neither textstring contains the word precip.\")"
   ]
  },
  {
   "cell_type": "markdown",
   "id": "60e5f2cc",
   "metadata": {},
   "source": [
    "As another example, you can add values to a list depending on which condition is satisfied.\n",
    "\n",
    "In the example below, the first condition checks whether the last value of the list (using index `[-1]`) is equal to 0.84, the average precipitation value for December. \n",
    "\n",
    "As the last value in the list is actually 1.39 (November precipitation), the first condition is not satisfied. \n",
    "\n",
    "Thus, the second condition is initiated to check whether the last value is 1.39. Since it is indeed the last value in the list, the second condition results in value of `True`. \n",
    "\n",
    "The code provided for `elif` is then executed, adding the value of December to the list."
   ]
  },
  {
   "cell_type": "code",
   "execution_count": 5,
   "id": "f5369434",
   "metadata": {},
   "outputs": [
    {
     "name": "stdout",
     "output_type": "stream",
     "text": [
      "[0.7, 0.75, 1.85, 2.93, 3.05, 2.02, 1.93, 1.62, 1.84, 1.31, 1.39, 0.84]\n"
     ]
    }
   ],
   "source": [
    "# List of average monthly precip (inches) in Boulder, CO without Dec value\n",
    "avg_monthly_precip = [0.70,  0.75, 1.85, 2.93, 3.05, 2.02, \n",
    "                      1.93, 1.62, 1.84, 1.31, 1.39]\n",
    "\n",
    "# Add value to list depending on existing last value\n",
    "if avg_monthly_precip[-1] == 0.84:   \n",
    "    print(avg_monthly_precip[-1]) # Print last value in the list\n",
    "\n",
    "elif avg_monthly_precip[-1] == 1.39:   \n",
    "    avg_monthly_precip += [0.84] # Add Dec value\n",
    "    print(avg_monthly_precip)    \n",
    "\n",
    "else:     \n",
    "    print(\"The last item in the list is neither 0.84 nor 1.39.\")"
   ]
  },
  {
   "cell_type": "markdown",
   "id": "36a8cf70",
   "metadata": {},
   "source": [
    "## Conditional Statements With Combinations of Conditions\n",
    "\n",
    "Logical operators (e.g. `and`, `or`, `not`) allow you to create conditional statements that can check for combinations of conditions.  You can use:\n",
    "\n",
    "* `and` to execute code if all specified conditions have been met\n",
    "* `or` to execute code if at least one specified condition has been met \n",
    "* `not` to execute code only if the specified condition has not been met (note that you can use `not` in combination with `and` or `or` to check whether multiple conditions are not met)\n",
    "\n",
    "### Check For Two Conditions Using `and`\n",
    "\n",
    "You can check for multiple conditions by including `and` between two conditions. \n",
    "\n",
    "Both conditions have to be satisfied in order for the code provided with the `if` statement to be executed. \n",
    "\n",
    "This means that if one condition is not satisfied, then the conditional statement executes the code provided with `else`. \n",
    "\n",
    "```python\n",
    "# Check that both conditions are true\n",
    "if condition1 and condition2:\n",
    "    print(\"Conditions 1 and 2 are both true.\")\n",
    "else:\n",
    "    print(\"One condition (either 1 or 2) is not true.\")\n",
    "```\n",
    "\n",
    "For example, you can check whether two variables are both integers, and if so, then add them together."
   ]
  },
  {
   "cell_type": "code",
   "execution_count": 6,
   "id": "6594e415",
   "metadata": {},
   "outputs": [
    {
     "name": "stdout",
     "output_type": "stream",
     "text": [
      "15\n"
     ]
    }
   ],
   "source": [
    "# Set x equal to 5 and y equal to 10\n",
    "x = 5\n",
    "y = 10\n",
    "\n",
    "# Add x and y if they are both integers\n",
    "if type(x) is int and type(y) is int:\n",
    "    print(x + y)\n",
    "else:\n",
    "    print(\"Either x or y is not an integer.\")"
   ]
  },
  {
   "cell_type": "code",
   "execution_count": 7,
   "id": "605d51d4",
   "metadata": {},
   "outputs": [
    {
     "name": "stdout",
     "output_type": "stream",
     "text": [
      "Either x or y is not an integer, so they cannot be added.\n"
     ]
    }
   ],
   "source": [
    "# Set x equal to 5 and y equal to text string\n",
    "x = 5\n",
    "y = \"Some text\"\n",
    "\n",
    "# Add x and y if they are both integers\n",
    "if type(x) is int and type(y) is int:\n",
    "    print(x + y)\n",
    "else:\n",
    "    print(\"Either x or y is not an integer, so they cannot be added.\")"
   ]
  },
  {
   "cell_type": "markdown",
   "id": "4584b92f",
   "metadata": {},
   "source": [
    "You can also check whether two objects are of the same type and length, such as two lists."
   ]
  },
  {
   "cell_type": "code",
   "execution_count": 8,
   "id": "c1ce59be",
   "metadata": {},
   "outputs": [
    {
     "name": "stdout",
     "output_type": "stream",
     "text": [
      "12\n",
      "11\n"
     ]
    }
   ],
   "source": [
    "# Create list of abbreviated month names without Dec\n",
    "months = [\"Jan\", \"Feb\", \"Mar\", \"Apr\", \"May\", \"June\",\n",
    "          \"July\", \"Aug\", \"Sept\", \"Oct\", \"Nov\"]\n",
    "\n",
    "# Length of avg_monthly_precip\n",
    "precip_len = len(avg_monthly_precip) \n",
    "print(precip_len)\n",
    "\n",
    "# Length of months\n",
    "months_len = len(months)\n",
    "print(months_len)"
   ]
  },
  {
   "cell_type": "code",
   "execution_count": 9,
   "id": "7b53eae6",
   "metadata": {},
   "outputs": [
    {
     "name": "stdout",
     "output_type": "stream",
     "text": [
      "Objects are not of the same type or do not have same length.\n"
     ]
    }
   ],
   "source": [
    "# Check whether both type and length of avg_monthly_precip and months match\n",
    "if type(avg_monthly_precip) is type(months) and precip_len == months_len:\n",
    "    print(\"Objects are of the same type and have the same length.\")\n",
    "else:\n",
    "    print(\"Objects are not of the same type or do not have same length.\")"
   ]
  },
  {
   "cell_type": "markdown",
   "id": "d475823e",
   "metadata": {},
   "source": [
    "In the example above, the first condition is satisfied because both objects are lists. \n",
    "\n",
    "However, the second condition is not satistifed because the `months` list is missing `Dec` (leaving it with only 11 values). \n",
    "\n",
    "Because one of the conditions is not satisfied, the conditional statement executes the code provided with `else`.  \n",
    "\n",
    "### Check For At Least One Condition Using `or`\n",
    "\n",
    "You can also write conditional statements that check whether at least one condition is true by including `or` between two conditions. \n",
    "\n",
    "Only one condition has to pass in order for the conditional statement to execute code provided with `if`. \n",
    "\n",
    "```python\n",
    "# Check that at least one condition is true\n",
    "if condition1 or condition2:\n",
    "    print(\"Either condition 1 or 2 is true.\")\n",
    "else:\n",
    "    print(\"Neither of these conditions is true.\")\n",
    "```\n",
    "\n",
    "For example:"
   ]
  },
  {
   "cell_type": "code",
   "execution_count": 10,
   "id": "d1b38395",
   "metadata": {},
   "outputs": [
    {
     "name": "stdout",
     "output_type": "stream",
     "text": [
      "Either x or y is equal to 0.\n",
      "x is now 1 and y is now 11\n"
     ]
    }
   ],
   "source": [
    "# Set x equal to 0 and y equal to 10\n",
    "x = 0\n",
    "y = 10\n",
    "\n",
    "# Check whether either is equal to zero\n",
    "if x == 0 or y == 0:\n",
    "    print(\"Either x or y is equal to 0.\")\n",
    "    x += 1\n",
    "    y += 1\n",
    "    print(\"x is now\", x, \"and y is now\", y)\n",
    "\n",
    "else:\n",
    "    print(\"Neither x nor y is equal to 0.\")"
   ]
  },
  {
   "cell_type": "markdown",
   "id": "1b968240",
   "metadata": {},
   "source": [
    "For another example, recall the conditional statement comparing the types and lengths of two lists. \n",
    "\n",
    "The first condition is true, as both objects are lists, but the second condition is not true because the `months` list is missing `Dec` (leaving it with only 11 values). \n",
    "\n",
    "By using the `or` statement, only one condition has to be true, in order for the `if` statement to be satisfied and for the code provided with `if` to execute."
   ]
  },
  {
   "cell_type": "code",
   "execution_count": 11,
   "id": "28c6b45e",
   "metadata": {},
   "outputs": [
    {
     "name": "stdout",
     "output_type": "stream",
     "text": [
      "Objects have either the same type or length.\n"
     ]
    }
   ],
   "source": [
    "# Check match for either type and length of avg_monthly_precip and months\n",
    "if type(avg_monthly_precip) is type(months) or precip_len == months_len:\n",
    "    print(\"Objects have either the same type or length.\")\n",
    "else:\n",
    "    print(\"Objects either do not have the same type or same length.\")"
   ]
  },
  {
   "cell_type": "markdown",
   "id": "0fcdff83",
   "metadata": {},
   "source": [
    "You have now learned how to control the flow of your code using conditional statements. In the next chapter, you will learn how to write loops, in order to execute a task multiple times without having to repeat the code."
   ]
  }
 ],
 "metadata": {
  "jupytext": {
   "formats": "ipynb,md:myst",
   "text_representation": {
    "extension": ".md",
    "format_name": "myst",
    "format_version": 0.13,
    "jupytext_version": "1.14.7"
   }
  },
  "kernelspec": {
   "display_name": "Python 3",
   "language": "python",
   "name": "python3"
  },
  "language_info": {
   "codemirror_mode": {
    "name": "ipython",
    "version": 3
   },
   "file_extension": ".py",
   "mimetype": "text/x-python",
   "name": "python",
   "nbconvert_exporter": "python",
   "pygments_lexer": "ipython3",
   "version": "3.10.12"
  },
  "source_map": [
   15,
   43,
   107,
   125,
   129,
   146,
   150,
   167,
   173,
   185,
   197,
   212,
   240,
   252,
   262,
   266,
   280,
   286,
   310,
   324,
   332,
   338
  ]
 },
 "nbformat": 4,
 "nbformat_minor": 5
}