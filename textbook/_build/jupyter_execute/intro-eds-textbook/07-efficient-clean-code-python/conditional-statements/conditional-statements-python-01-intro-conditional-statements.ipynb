{
 "cells": [
  {
   "cell_type": "raw",
   "id": "068f9a38",
   "metadata": {},
   "source": [
    "---\n",
    "layout: single\n",
    "title: \"Intro to Conditional Statements in Python\"\n",
    "excerpt: \"Conditional statements help you to control the flow of code by executing code only when certain conditions are met. Learn about the structure of conditional statements in Python and how they can be used to write Do Not Repeat Yourself, or DRY, code in Python.\"\n",
    "authors: ['Jenny Palomino', 'Leah Wasser']\n",
    "category: [courses]\n",
    "class-lesson: ['intro-conditional-statements-tb']\n",
    "permalink: /courses/intro-to-earth-data-science/write-efficient-python-code/conditional-statements/\n",
    "nav-title: \"Intro to Conditional Statements\"\n",
    "dateCreated: 2019-10-22\n",
    "modified: '{:%Y-%m-%d}'.format(datetime.now())\n",
    "module-title: 'Introduction to Conditional Statements in Python'\n",
    "module-nav-title: 'Conditional Statements in Python'\n",
    "module-description: 'Conditional statements help you to control the flow of code by executing code only when certain conditions are met. Learn how to use conditional statements to write Do Not Repeat Yourself, or DRY, code in Python.'\n",
    "module-type: 'class'\n",
    "class-order: 2\n",
    "chapter: 17\n",
    "course: \"intro-to-earth-data-science-textbook\"\n",
    "week: 7\n",
    "estimated-time: \"2-3 hours\"\n",
    "difficulty: \"beginner\"\n",
    "sidebar:\n",
    "  nav:\n",
    "author_profile: false\n",
    "comments: true\n",
    "order: 1\n",
    "topics:\n",
    "  reproducible-science-and-programming: ['python']\n",
    "redirect_from:\n",
    "  - \"/courses/earth-analytics-bootcamp/conditional-statements/intro-conditional-statements/\"\n",
    "  - \"/courses/intro-to-earth-data-science/dry-code-python/conditional-statements/\"\n",
    "---"
   ]
  },
  {
   "cell_type": "markdown",
   "id": "f3b5f99c",
   "metadata": {},
   "source": [
    "{% include toc title=\"In This Chapter\" icon=\"file-text\" %}\n",
    "\n",
    "<div class='notice--success' markdown=\"1\">\n",
    "\n",
    "## <i class=\"fa fa-ship\" aria-hidden=\"true\"></i> Chapter Seventeen - Conditional Statements\n",
    "\n",
    "In this chapter, you will learn about the structure of conditional statements in **Python** and how you can use them to write DRY (Don't Repeat Yourself) code in **Python**.  \n",
    "\n",
    "## <i class=\"fa fa-graduation-cap\" aria-hidden=\"true\"></i> Learning Objectives\n",
    "\n",
    "After completing this chapter, you will be able to:\n",
    "\n",
    "* Explain how conditional statements can be used to write DRY code in **Python**.\n",
    "* Describe the syntax for conditional statements in **Python**.\n",
    "* Write conditional statements in **Python** to control the flow of code. \n",
    "\n",
    "\n",
    "## <i class=\"fa fa-check-square-o fa-2\" aria-hidden=\"true\"></i> What You Need\n",
    "\n",
    "You should have Conda setup on your computer and the Earth Analytics Python Conda environment. Follow the <a href=\"{{ site.url }}/workshops/setup-earth-analytics-python/setup-git-bash-conda/\">Set up Git, Bash, and Conda on your computer</a> to install these tools.\n",
    "\n",
    "Be sure that you have completed the chapters on <a href=\"{{ site.url }}/courses/intro-to-earth-data-science/open-reproducible-science/jupyter-python/\">Jupyter Notebook</a>, <a href=\"{{ site.url }}/courses/intro-to-earth-data-science/scientific-data-structures-python/numpy-arrays/\">Numpy Arrays</a>, and <a href=\"{{ site.url }}/courses/intro-to-earth-data-science/scientific-data-structures-python/pandas-dataframes/\">Pandas Dataframes</a>.\n",
    "\n",
    "</div>\n",
    "\n",
    "\n",
    "## Review of Don't Repeat Yourself (DRY) to Remove Repetition in Your Code\n",
    "\n",
    "### Why Write Efficient, DRY (Don’t Repeat Yourself) Code\n",
    "\n",
    "In previous chapters of this textbook, you learned that one component of reproducibility is writing code that is easy to read. \n",
    "\n",
    "If your code is easier to read, it will be easier for your future self to understand, and it will also be easier for your colleagues to work with and contribute to your code. \n",
    "\n",
    "This is important, but there is an even more selfish reason to consider writing efficient code. \n",
    "\n",
    "Efficient coding will make your work easier, too.\n",
    "\n",
    "> Reproducibility is actually all about being as lazy as possible! – Hadley Wickham, Chief Scientist at RStudio (via Twitter, 2015-05-03)\n",
    "\n",
    "For example, imagine that you have copied and pasted the same code block to repeat a specific task throughout your workflow. Any modification of that task requires the same change to be made to every single instance of that task! \n",
    "\n",
    "Editing every instance of a task is not only a lot of work but also introduces the potential for errors. \n",
    "\n",
    "So what is the alternative?\n",
    "\n",
    "DRY (Don’t Repeat Yourself) is a principle of software development. The focus of DRY is to avoid repetition of information. \n",
    "\n",
    "By implementing DRY strategies for writing code, you can make your code: \n",
    "\n",
    "1. easier to follow and read (for yourself as well as others), thereby, supporting reproducibility.\n",
    "2. easier to update because you only have to update the code for a specified task once, rather than every instance of a repeated code block.\n",
    "\n",
    "While there are many strategies for improving efficiency and removing repetition in code, three commonly used DRY strategies are conditional statements, loops, and functions.\n",
    "\n",
    "This chapter introduces conditional statements in **Python**, which can be used to control the flow of code by executing code only when certain conditions are met."
   ]
  },
  {
   "cell_type": "markdown",
   "id": "c65d3d6f",
   "metadata": {},
   "source": [
    "## Why Use Conditional Statements\n",
    "\n",
    "A conditional statement is used to determine whether a certain condition exists before code is executed. \n",
    "\n",
    "Conditional statements can help improve the efficiency of your code by providing you with the ability to control the flow of your code, such as when or how code is executed.  \n",
    "\n",
    "This can be very useful for checking whether a certain condition exists before the code begins to execute, as you may want to only execute certain code lines when certain conditions are met.   \n",
    "\n",
    "For example, conditional statements can be used to check that a certain variable or file exists before code is executed, or to execute more code if some criteria is met, such as a calculation resulting in a specific value. \n",
    "\n",
    "\n",
    "## Structure of Conditional Statements\n",
    "\n",
    "A conditional statement uses a syntax structure based on `if` and `else` statements (each ending with a colon `:`) that define the potential actions that can be completed based on whether the condition is true or not: \n",
    "\n",
    "```python\n",
    "if condition:\n",
    "    some code here\n",
    "else:\n",
    "    some other code here\n",
    "```\n",
    "\n",
    "If the condition provided with the `if` statement is satisfied (i.e. results in a value of `True`), then a certain code will execute. If that condition is not met (i.e. results in a value of `False`), then the code provided with the `else` statement will execute. \n",
    "\n",
    "For example:\n",
    "\n",
    "```python\n",
    "if condition:\n",
    "    print(\"Condition is true, and this statement is printed.\")\n",
    "else:\n",
    "    print(\"Condition is false (i.e. not true), so a different statement is printed.\")\n",
    "```\n",
    "\n",
    "### Indentation and Execution of Code Lines \n",
    "\n",
    "Note that the indentations for the code lines after `if` and `else` are an important part of the syntax of conditional statements. These indentations indicate which code should be executed with which statement, and they make the code easier to read. \n",
    "\n",
    "In the examples above, the `print()` code can actually be replaced by any code that will execute in **Python**. For example, you could choose to add values, select data, plot data, etc. depending on whether the condition is satisfied. \n",
    "\n",
    "To help you get familiar with conditional statements first, the examples on this page simply execute different `print` statements depending on whether the condition is satisfied."
   ]
  },
  {
   "cell_type": "markdown",
   "id": "c6a28668",
   "metadata": {},
   "source": [
    "## Compare Numeric Values Using Conditional Statements\n",
    "\n",
    "You can write conditional statements that use comparison operators (e.g.  equal to `==`, less than `<`)  to check the value of a variable against some other value or variable. \n",
    "\n",
    "For example, you can check whether the value of a variable is equal (`==`) to a certain value."
   ]
  },
  {
   "cell_type": "code",
   "execution_count": 1,
   "id": "82f4938c",
   "metadata": {},
   "outputs": [
    {
     "name": "stdout",
     "output_type": "stream",
     "text": [
      "x is equal to 10.\n"
     ]
    }
   ],
   "source": [
    "# Set x to 10\n",
    "x = 10\n",
    "\n",
    "# Compare x to 10\n",
    "if x == 10:\n",
    "    print(\"x is equal to 10.\")    \n",
    "else:\n",
    "    print(\"x has a value of\", x, \"which is not equal to 10.\")   "
   ]
  },
  {
   "cell_type": "code",
   "execution_count": 2,
   "id": "9ca2d54f",
   "metadata": {},
   "outputs": [
    {
     "name": "stdout",
     "output_type": "stream",
     "text": [
      "x has a value of 0 which is not equal to 10.\n"
     ]
    }
   ],
   "source": [
    "# Set x to 0\n",
    "x = 0\n",
    "\n",
    "# Compare x to 10\n",
    "if x == 10:\n",
    "    print(\"x is equal to 10.\")    \n",
    "else:\n",
    "    print(\"x has a value of\", x, \"which is not equal to 10.\")    "
   ]
  },
  {
   "cell_type": "markdown",
   "id": "fc979c9d",
   "metadata": {},
   "source": [
    "You can also use other comparison operators to check whether the value of variable is less than (`<`) or greater (`>`) than a certain value or another variable."
   ]
  },
  {
   "cell_type": "code",
   "execution_count": 3,
   "id": "4b8ecb78",
   "metadata": {},
   "outputs": [
    {
     "name": "stdout",
     "output_type": "stream",
     "text": [
      "x has a value of 0 which is less than 10.\n"
     ]
    }
   ],
   "source": [
    "# Set x to 0\n",
    "x = 0\n",
    "\n",
    "# Check whether x is less than 10\n",
    "if x < 10:\n",
    "    print(\"x has a value of\", x, \"which is less than 10.\")    \n",
    "else:\n",
    "    print(\"x has a value of\", x, \"which is greater than 10.\")    "
   ]
  },
  {
   "cell_type": "code",
   "execution_count": 4,
   "id": "9988ca73",
   "metadata": {},
   "outputs": [
    {
     "name": "stdout",
     "output_type": "stream",
     "text": [
      "x has a value of 0 which is greater than -10\n"
     ]
    }
   ],
   "source": [
    "# Create y equal to -10\n",
    "y = -10\n",
    "\n",
    "# Check whether x is greater than y\n",
    "if x > y:\n",
    "    print(\"x has a value of\", x, \"which is greater than\", y)\n",
    "else:\n",
    "    print(\"x has a value of\", x, \"which is less than\", y) "
   ]
  },
  {
   "cell_type": "code",
   "execution_count": 5,
   "id": "b31c70f3",
   "metadata": {},
   "outputs": [
    {
     "name": "stdout",
     "output_type": "stream",
     "text": [
      "x has a value of 0 which is less than 100\n"
     ]
    }
   ],
   "source": [
    "# Set y equal to 100 \n",
    "y = 100\n",
    "\n",
    "# Check whether x is greater than y\n",
    "if x > y:\n",
    "    print(\"x has a value of\", x, \"which is greater than\", y)\n",
    "else:\n",
    "    print(\"x has a value of\", x, \"which is less than\", y) "
   ]
  },
  {
   "cell_type": "markdown",
   "id": "42b17a74",
   "metadata": {},
   "source": [
    "## Check For Values Using Conditional Statements\n",
    "\n",
    "You can use membership operators (e.g. `in` or `not in`) to write conditional statements to check whether certain values are contained within a data structure, such as a list, or even a text string."
   ]
  },
  {
   "cell_type": "code",
   "execution_count": 6,
   "id": "458be778",
   "metadata": {},
   "outputs": [
    {
     "name": "stdout",
     "output_type": "stream",
     "text": [
      "Value is in list.\n"
     ]
    }
   ],
   "source": [
    "# Create list of average monthly precip (inches) in Boulder, CO\n",
    "avg_monthly_precip = [0.70,  0.75, 1.85, 2.93, 3.05, 2.02, \n",
    "                      1.93, 1.62, 1.84, 1.31, 1.39, 0.84]\n",
    "\n",
    "# Check for value 0.70 in list\n",
    "if 0.70 in avg_monthly_precip:\n",
    "    print(\"Value is in list.\")\n",
    "else:     \n",
    "    print(\"Value is not in list.\")"
   ]
  },
  {
   "cell_type": "code",
   "execution_count": 7,
   "id": "2804f36a",
   "metadata": {},
   "outputs": [
    {
     "name": "stdout",
     "output_type": "stream",
     "text": [
      "Value is not in list.\n"
     ]
    }
   ],
   "source": [
    "# Check for value 0.71 in list\n",
    "if 0.71 in avg_monthly_precip:\n",
    "    print(\"Value is in list.\")\n",
    "else:     \n",
    "    print(\"Value is not in list.\")"
   ]
  },
  {
   "cell_type": "markdown",
   "id": "5a3ef30c",
   "metadata": {},
   "source": [
    "The condition above could also be checked in the opposite manner using `not in` to check that the value is not in the list:"
   ]
  },
  {
   "cell_type": "code",
   "execution_count": 8,
   "id": "79da3109",
   "metadata": {},
   "outputs": [
    {
     "name": "stdout",
     "output_type": "stream",
     "text": [
      "Value is not in list.\n"
     ]
    }
   ],
   "source": [
    "# Check that value 0.71 not in list\n",
    "if 0.71 not in avg_monthly_precip:\n",
    "    print(\"Value is not in list.\")\n",
    "else:     \n",
    "    print(\"Value is in list.\")"
   ]
  },
  {
   "cell_type": "markdown",
   "id": "4e4a8866",
   "metadata": {},
   "source": [
    "You can also use membership operators to check for specific words within a text string."
   ]
  },
  {
   "cell_type": "code",
   "execution_count": 9,
   "id": "05326739",
   "metadata": {},
   "outputs": [
    {
     "name": "stdout",
     "output_type": "stream",
     "text": [
      "This textstring does not contain the word precip.\n"
     ]
    }
   ],
   "source": [
    "# Check for string \"precip\" within text string \"avg_monthly_temp\"\n",
    "if \"precip\" in \"avg_monthly_temp\":\n",
    "    print(\"This textstring contains the word precip.\")\n",
    "    \n",
    "else:\n",
    "    print(\"This textstring does not contain the word precip.\")"
   ]
  },
  {
   "cell_type": "markdown",
   "id": "8912e507",
   "metadata": {},
   "source": [
    "Note that with this syntax, you are simply checking whether one text string is contained within another text string.\n",
    "\n",
    "Thus, if you check for a specific text string within the name of an object, such as a list (e.g. `avg_monthly_precip`), you are not actually checking the values contained with the object.\n",
    "\n",
    "Instead, specifying the object name using quotations `\"\"` (e.g. `\"list_name\"`) identifies that you are referring to the name as text string."
   ]
  },
  {
   "cell_type": "code",
   "execution_count": 10,
   "id": "13672854",
   "metadata": {},
   "outputs": [
    {
     "name": "stdout",
     "output_type": "stream",
     "text": [
      "This textstring contains the word precip.\n"
     ]
    }
   ],
   "source": [
    "# Check for string \"precip\" within text string \"avg_monthly_precip\"\n",
    "if \"precip\" in \"avg_monthly_precip\":\n",
    "    print(\"This textstring contains the word precip.\")\n",
    "    \n",
    "else:\n",
    "    print(\"This textstring does not contain the word precip.\")"
   ]
  },
  {
   "cell_type": "markdown",
   "id": "0855f2ba",
   "metadata": {},
   "source": [
    "Checking for specific text strings within the names of objects, such as lists or data structures, can be helpful when you have a long, automated workflow for which you want to execute code on only those objects that have a particular word in the name.\n",
    "\n",
    "## Check Object Type Using Conditional Statements  \n",
    "\n",
    "You can also use identity operators (e.g. `is` or `is not`) to write conditional statements to check whether an object is of a certain type (e.g. `int`, `str`, `list`)."
   ]
  },
  {
   "cell_type": "code",
   "execution_count": 11,
   "id": "b64a317b",
   "metadata": {},
   "outputs": [
    {
     "name": "stdout",
     "output_type": "stream",
     "text": [
      "0 is an integer.\n"
     ]
    }
   ],
   "source": [
    "# Set x to 0\n",
    "x = 0\n",
    "\n",
    "# Check if x is type integer\n",
    "if type(x) is int:\n",
    "    print(x, \"is an integer.\")\n",
    "else:\n",
    "    print(x, \"is not an integer.\")"
   ]
  },
  {
   "cell_type": "code",
   "execution_count": 12,
   "id": "949da3f1",
   "metadata": {},
   "outputs": [
    {
     "name": "stdout",
     "output_type": "stream",
     "text": [
      "0 is not a float.\n"
     ]
    }
   ],
   "source": [
    "# Check if x is type float\n",
    "if type(x) is float:\n",
    "    print(x, \"is a float.\")\n",
    "else:\n",
    "    print(x, \"is not a float.\")"
   ]
  },
  {
   "cell_type": "code",
   "execution_count": 13,
   "id": "29a3d15f",
   "metadata": {},
   "outputs": [
    {
     "name": "stdout",
     "output_type": "stream",
     "text": [
      "0 is not a string.\n"
     ]
    }
   ],
   "source": [
    "# Check if x is not type string\n",
    "if type(x) is not str:\n",
    "    print(x, \"is not a string.\")\n",
    "else:\n",
    "    print(x, \"is a string.\")"
   ]
  },
  {
   "cell_type": "markdown",
   "id": "55dc8193",
   "metadata": {},
   "source": [
    "With identity operators, you can also check that an object is a certain data structure, such as a list, and even compare its type to the type of another object."
   ]
  },
  {
   "cell_type": "code",
   "execution_count": 14,
   "id": "506577f7",
   "metadata": {},
   "outputs": [
    {
     "name": "stdout",
     "output_type": "stream",
     "text": [
      "Object is a list.\n"
     ]
    }
   ],
   "source": [
    "# Create list of abbreviated month names\n",
    "months = [\"Jan\", \"Feb\", \"Mar\", \"Apr\", \"May\", \"June\",\n",
    "         \"July\", \"Aug\", \"Sept\", \"Oct\", \"Nov\", \"Dec\"]\n",
    "\n",
    "if type(months) is list:\n",
    "    print(\"Object is a list.\")\n",
    "else:\n",
    "    print(\"Object is not a list.\")"
   ]
  },
  {
   "cell_type": "code",
   "execution_count": 15,
   "id": "7bd60635",
   "metadata": {},
   "outputs": [
    {
     "name": "stdout",
     "output_type": "stream",
     "text": [
      "These objects are of the same type.\n"
     ]
    }
   ],
   "source": [
    "# Check that type of months matches type of avg_monthly_precip\n",
    "if type(avg_monthly_precip) is type(months):\n",
    "    print(\"These objects are of the same type.\")\n",
    "else: \n",
    "    print(\"These objects are not of the same type.\")"
   ]
  },
  {
   "cell_type": "markdown",
   "id": "15afb66e",
   "metadata": {},
   "source": [
    "Note in the example above that you are not checking whether the objects are lists, but rather whether they are both of the same type. Because both of the objects are indeed lists, the condition is satisfied.\n",
    "\n",
    "## Check Paths Using Conditional Statements\n",
    "\n",
    "You can also use conditional statements to check paths using a familiar function: `os.path.exists()`.\n",
    "\n",
    "In the example below, you will download a .txt file that contains the average monthly precipitation values for <a href=\"https://www.esrl.noaa.gov/psd/boulder/Boulder.mm.precip.html\" target=\"_blank\">Boulder, Colorado, provided by the U.S. National Oceanic and Atmospheric Administration (NOAA)</a>. \n",
    "\n",
    "Begin by importing the necessary packages and writing the code needed to download the data (**earthpy**) and set the working directory (**os**). You will also use **numpy** package to import the data into a **numpy** array."
   ]
  },
  {
   "cell_type": "code",
   "execution_count": 16,
   "id": "a1162221",
   "metadata": {},
   "outputs": [],
   "source": [
    "# Import necessary packages\n",
    "import os\n",
    "import numpy as np\n",
    "import earthpy as et"
   ]
  },
  {
   "cell_type": "code",
   "execution_count": 17,
   "id": "ee16a78c",
   "metadata": {},
   "outputs": [
    {
     "data": {
      "text/plain": [
       "'/Users/elsa/earth-analytics/data/earthpy-downloads/avg-monthly-precip.txt'"
      ]
     },
     "execution_count": 17,
     "metadata": {},
     "output_type": "execute_result"
    }
   ],
   "source": [
    "# Avg monthly precip (inches) of Boulder, CO for 1-d array\n",
    "avg_month_precip_url = 'https://ndownloader.figshare.com/files/12565616'\n",
    "et.data.get_data(url=avg_month_precip_url)"
   ]
  },
  {
   "cell_type": "code",
   "execution_count": 18,
   "id": "e469fa53",
   "metadata": {},
   "outputs": [],
   "source": [
    "# Set working directory to earth-analytics\n",
    "os.chdir(os.path.join(et.io.HOME, 'earth-analytics'))"
   ]
  },
  {
   "cell_type": "markdown",
   "id": "b3872a69",
   "metadata": {},
   "source": [
    "Next, define a relative path to the downloaded file, which you will use in the conditional statement."
   ]
  },
  {
   "cell_type": "code",
   "execution_count": 19,
   "id": "3a4e7048",
   "metadata": {},
   "outputs": [],
   "source": [
    "# Path relative to working directory\n",
    "avg_month_precip_path = os.path.join(\"data\", \"earthpy-downloads\", \n",
    "                                     \"avg-monthly-precip.txt\")"
   ]
  },
  {
   "cell_type": "markdown",
   "id": "4e103c8c",
   "metadata": {},
   "source": [
    "Last, add the defined path to the conditional statement to check whether the path exists."
   ]
  },
  {
   "cell_type": "code",
   "execution_count": 20,
   "id": "8e66ea74",
   "metadata": {},
   "outputs": [
    {
     "name": "stdout",
     "output_type": "stream",
     "text": [
      "This is a valid path.\n"
     ]
    }
   ],
   "source": [
    "# Check path\n",
    "if os.path.exists(avg_month_precip_path):\n",
    "    print(\"This is a valid path.\")\n",
    "else:\n",
    "    print(\"This path does not exist.\")"
   ]
  },
  {
   "cell_type": "markdown",
   "id": "9893aeb1",
   "metadata": {},
   "source": [
    "You can expand on the conditional statement to execute additional code if the path is valid, such as code to import the file into a **numpy** array."
   ]
  },
  {
   "cell_type": "code",
   "execution_count": 21,
   "id": "4b7c936c",
   "metadata": {},
   "outputs": [
    {
     "name": "stdout",
     "output_type": "stream",
     "text": [
      "[0.7  0.75 1.85 2.93 3.05 2.02 1.93 1.62 1.84 1.31 1.39 0.84]\n"
     ]
    }
   ],
   "source": [
    "# Import data into array if path exists\n",
    "if os.path.exists(avg_month_precip_path):\n",
    "    avg_month_precip = np.loadtxt(avg_month_precip_path)\n",
    "    print(avg_month_precip)\n",
    "else:\n",
    "    print(\"This path does not exist.\")"
   ]
  },
  {
   "cell_type": "markdown",
   "id": "f93feb18",
   "metadata": {},
   "source": [
    "Using this syntax, you can check whether any defined path exists and then execute additional code as needed.\n",
    "\n",
    "On the next pages of this chapter, you will learn how to write conditional statements that check for multiple conditions and how to apply conditional statements to **numpy** arrays and **pandas** dataframes."
   ]
  }
 ],
 "metadata": {
  "jupytext": {
   "formats": "ipynb,md:myst",
   "text_representation": {
    "extension": ".md",
    "format_name": "myst",
    "format_version": 0.13,
    "jupytext_version": "1.14.7"
   }
  },
  "kernelspec": {
   "display_name": "Python 3",
   "language": "python",
   "name": "python3"
  },
  "language_info": {
   "codemirror_mode": {
    "name": "ipython",
    "version": 3
   },
   "file_extension": ".py",
   "mimetype": "text/x-python",
   "name": "python",
   "nbconvert_exporter": "python",
   "pygments_lexer": "ipython3",
   "version": "3.10.12"
  },
  "source_map": [
   15,
   49,
   108,
   151,
   159,
   170,
   179,
   183,
   194,
   205,
   214,
   220,
   232,
   238,
   242,
   248,
   252,
   259,
   267,
   274,
   282,
   293,
   301,
   307,
   311,
   322,
   328,
   340,
   347,
   353,
   356,
   360,
   364,
   368,
   374,
   378,
   385
  ]
 },
 "nbformat": 4,
 "nbformat_minor": 5
}