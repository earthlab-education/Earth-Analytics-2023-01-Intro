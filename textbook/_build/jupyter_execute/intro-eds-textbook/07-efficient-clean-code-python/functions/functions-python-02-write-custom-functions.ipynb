{
 "cells": [
  {
   "cell_type": "raw",
   "id": "71e85d70",
   "metadata": {},
   "source": [
    "---\n",
    "layout: single\n",
    "title: 'Write Functions in Python'\n",
    "excerpt: \"A function is a reusable block of code that performs a specific task. Learn how to write functions in Python to eliminate repetition and improve efficiency in your code.\"\n",
    "authors: ['Jenny Palomino', 'Leah Wasser']\n",
    "category: [courses]\n",
    "class-lesson: ['intro-functions-tb']\n",
    "permalink: /courses/intro-to-earth-data-science/write-efficient-python-code/functions-modular-code/write-functions-in-python/\n",
    "nav-title: \"Write Functions in Python\"\n",
    "dateCreated: 2019-11-05\n",
    "modified: '{:%Y-%m-%d}'.format(datetime.now())\n",
    "module-type: 'class'\n",
    "chapter: 19\n",
    "course: \"intro-to-earth-data-science-textbook\"\n",
    "week: 7\n",
    "sidebar:\n",
    "  nav:\n",
    "author_profile: false\n",
    "comments: true\n",
    "order: 2\n",
    "topics:\n",
    "  reproducible-science-and-programming: ['python']\n",
    "redirect_from:\n",
    "  - \"/courses/earth-analytics-bootcamp/functions/write-functions/\"\n",
    "  - \"/courses/earth-analytics-python/use-time-series-data-in-python/python-syntax-and-using-functions/\"\n",
    "  - \"/courses/intro-to-earth-data-science/write-efficient-python-code/functions/write-functions-in-python/\" \n",
    "---"
   ]
  },
  {
   "cell_type": "markdown",
   "id": "360fb7bf",
   "metadata": {},
   "source": [
    "{% include toc title=\"On This Page\" icon=\"file-text\" %}\n",
    "\n",
    "<div class='notice--success' markdown=\"1\">\n",
    "\n",
    "## <i class=\"fa fa-graduation-cap\" aria-hidden=\"true\"></i> Learning Objectives\n",
    "\n",
    "* Describe the components needed to define a function in **Python**.\n",
    "* Write and execute a custom function in **Python**.\n",
    " \n",
    "</div>\n",
    "\n",
    "\n",
    "## How to Define Functions in Python\n",
    "\n",
    "There are several components needed to define a function in **Python**, including the `def` keyword, function name, parameters (inputs), and the `return` statement, which specifies the output of the function. \n",
    "\n",
    "```python\n",
    "def function_name(parameter):\n",
    "    some code here    \n",
    "    return output\n",
    "```\n",
    "\n",
    "### def Keyword and Function Name\n",
    "\n",
    "In **Python**, function definitions begin with the keyword **`def`** to indicate the start of a definition for a new function. This keyword is followed by the function name. \n",
    "\n",
    "```python\n",
    "def function_name():\n",
    "```\n",
    "\n",
    "The function name is the name that you use when you want to call the function (e.g. `print()`). \n",
    "\n",
    "Function names should follow <a href=\"{{ site.url }}/courses/intro-to-earth-data-science/write-efficient-python-code/intro-to-clean-code/expressive-variable-names-make-code-easier-to-read/\">PEP 8 recommendations for function names</a> and should be concise but descriptive of what the function does. \n",
    "\n",
    "\n",
    "### Input Parameter(s)\n",
    "\n",
    "The input parameter is the required information that you pass to the function for it to run successfully. The function will take the value or object provided as the input parameter and use it to perform some task.\n",
    "\n",
    "In **Python**, the required parameters are provided within parenthesis `()`, as shown below.\n",
    "\n",
    "```python\n",
    "def function_name(parameter):       \n",
    "```    \n",
    "\n",
    "You can define an input parameter for a function using a placeholder variable, such as `data`, which represents the value or object that will be acted upon in the function. \n",
    "\n",
    "\n",
    "```python\n",
    "def function_name(data):\n",
    "```   \n",
    "\n",
    "\n",
    "When the function is called, a user can provide any value for `data` that the function can take as input (e.g. single value variable, list, **numpy** array, **pandas** dataframe column). \n",
    "\n",
    "If you are defining a function for a specific object type, you can consider using a more specific placeholder variable, such as `arr` for a **numpy** array.\n",
    "\n",
    "\n",
    "```python\n",
    "def function_name(arr):\n",
    "```   \n",
    "\n",
    "Note that functions in **Python** can be defined with multiple input parameters as needed: \n",
    "\n",
    "\n",
    "```python\n",
    "def function_name(arr_1, arr_2):\n",
    "```  \n",
    "\n",
    "\n",
    "### Return Statement\n",
    "\n",
    "In **Python**, function definitions need a `return` statement to specify the output that will be returned by the function. \n",
    "\n",
    "\n",
    "```python\n",
    "def function_name(data):\n",
    "    some code here    \n",
    "    return output\n",
    "```\n",
    "\n",
    "Just like with loops and conditional statements, the code lines executed by the function, including the `return` statement, are provided on new lines after a colon `:` and are indented once to indicate that they are part of the function.\n",
    "\n",
    "The `return` statement can return one or more values or objects and can follow multiple lines of code as needed to \n",
    "complete the task (i.e. code to create the output that will be returned by the function). \n",
    "\n",
    "\n",
    "### Docstring \n",
    "\n",
    "In **Python**, functions should also contain a <a href=\"https://www.python.org/dev/peps/pep-0008/#documentation-strings\" target=\"_blank\">docstring</a>, or a multi-line documentation comment, that provides details about the function, including the specifics of the input parameters and the returns (e.g. type of objects, additional description) and any other important documentation about how to use the function. \n",
    "\n",
    "\n",
    "```python\n",
    "def function_name(data):\n",
    "    \"\"\"Docstrings should include a description of the function here \n",
    "    as well as identify the parameters (inputs) that the function \n",
    "    can take and the return (output) provided by the function,\n",
    "    as shown below. \n",
    "    \n",
    "    Parameters\n",
    "    ----------\n",
    "    input : type\n",
    "        Description of input.\n",
    "    \n",
    "    Returns\n",
    "    ------\n",
    "    output : type\n",
    "        Description of output.\n",
    "    \"\"\"\n",
    "    some code here\n",
    "    \n",
    "    return output\n",
    "```\n",
    "\n",
    "Note that a docstring is not required for the function to work in **Python**. However, good documentation will save you time in the future when you need to use this code again, and it also helps others understand how they can use your function.\n",
    "\n",
    "You can learn more about docstrings in the <a href=\"https://www.python.org/dev/peps/pep-0257/\" target=\"_blank\">PEP 257 guidelines</a> focused on docstrings. This textbook uses the docstring standard that is outlined in the <a href=\"https://numpydoc.readthedocs.io/en/latest/format.html#docstring-standard\" target=\"_blank\">**numpy**  documentation</a>.  \n",
    "\n",
    "\n",
    "## Write a Function in Python\n",
    "\n",
    "Imagine that you want define a function that will convert values from millimeters to inches (1 inch = 25.4 millimeters). To define the function, you can work through each component below to build each piece and bring them together. \n",
    "\n",
    "\n",
    "### def Keyword and Function Name\n",
    "\n",
    "Function names should be concise but descriptive, so an appropriate function name could be `mm_to_in`. Recall that the function name is provided after the `def` keyword, as shown below. \n",
    "\n",
    "\n",
    "```python\n",
    "def mm_to_in():\n",
    "```\n",
    "\n",
    "### Input Parameter\n",
    "\n",
    "To decide on an appropriate placeholder name for the input parameter, it is helpful to think about what inputs the function code needs in order to execute successfully.\n",
    "\n",
    "You need a placeholder variable that represents the original value in millimeters, so an appropriate placeholder could simply be `mm`. \n",
    "\n",
    "\n",
    "```python\n",
    "def mm_to_in(mm):\n",
    "```\n",
    "\n",
    "### Return Statement \n",
    "\n",
    "You know that 1 inch is equal to 25.4 millimeters, so to convert from millimeters to inches, you will need to divide the original value in millimeters by 25.4. \n",
    "\n",
    "Using this information, you can write the code to convert the input value and store the converted value in an variable called `inches`. \n",
    "\n",
    "Then, you can write the `return` statement to return the new value `inches`."
   ]
  },
  {
   "cell_type": "code",
   "execution_count": 1,
   "id": "0a007375",
   "metadata": {},
   "outputs": [],
   "source": [
    "# Convert input from mm to inches\n",
    "def mm_to_in(mm):    \n",
    "    inches = mm / 25.4    \n",
    "    return inches"
   ]
  },
  {
   "cell_type": "markdown",
   "id": "6bc8f21c",
   "metadata": {},
   "source": [
    "### Docstring\n",
    "\n",
    "The function above is complete regarding code. However, as previously discussed, good documentation can help you and others to easily use and adapt this function as needed. \n",
    "\n",
    "**Python** promotes the use of docstrings for documenting functions. This docstring should contain a brief description of the function (i.e. how it works, purpose) as well as identify the input parameters (i.e. type, description) and the returned output (i.e. type, description).\n",
    "\n",
    "#### Function Description\n",
    "\n",
    "Begin with the description of the function. Some functions may require longer description than others. For the `mm_to_in()` function, it can be short but descriptive as shown below."
   ]
  },
  {
   "cell_type": "code",
   "execution_count": 2,
   "id": "8db548d2",
   "metadata": {},
   "outputs": [],
   "source": [
    "def mm_to_in(mm):\n",
    "    \"\"\"Convert input from millimeters to inches. \n",
    "    \n",
    "    Parameters\n",
    "    ----------\n",
    "    input : type\n",
    "        Description of input.\n",
    "    \n",
    "    Returns\n",
    "    ------\n",
    "    output : type\n",
    "        Description of output.\n",
    "    \"\"\"\n",
    "    inches = mm / 25.4    \n",
    "    return inches"
   ]
  },
  {
   "cell_type": "markdown",
   "id": "be88b42f",
   "metadata": {},
   "source": [
    "#### Input Parameter Description\n",
    "\n",
    "Next, think about the required input for the `mm_to_in` function. \n",
    "\n",
    "You need a numeric value in millimeters, represented by the variable `mm` in the code. You can identify the input in the docstring specifically as `mm` and provide a type (int, float) and short description that provides details on the units."
   ]
  },
  {
   "cell_type": "code",
   "execution_count": 3,
   "id": "69c28907",
   "metadata": {},
   "outputs": [],
   "source": [
    "def mm_to_in(mm):\n",
    "    \"\"\"Convert input from millimeters to inches. \n",
    "    \n",
    "    Parameters\n",
    "    ----------\n",
    "    mm : int or float\n",
    "        Numeric value with units in millimeters.\n",
    "    \n",
    "    Returns\n",
    "    ------\n",
    "    output : type\n",
    "        Description of output.\n",
    "    \"\"\"\n",
    "    inches = mm / 25.4    \n",
    "    return inches"
   ]
  },
  {
   "cell_type": "markdown",
   "id": "46b8fe82",
   "metadata": {},
   "source": [
    "#### Return Description\n",
    "\n",
    "By looking at the code in the function, you know that the final output is returned using the variable `inches`. \n",
    "\n",
    "You can provide a short description to specify that the returned output is a numeric value with units in inches."
   ]
  },
  {
   "cell_type": "code",
   "execution_count": 4,
   "id": "7406c73c",
   "metadata": {},
   "outputs": [],
   "source": [
    "def mm_to_in(mm):\n",
    "    \"\"\"Convert input from millimeters to inches. \n",
    "    \n",
    "    Parameters\n",
    "    ----------\n",
    "    mm : int or float\n",
    "        Numeric value with units in millimeters.\n",
    "\n",
    "    Returns\n",
    "    ------\n",
    "    inches : int or float\n",
    "        Numeric value with units in inches.\n",
    "    \"\"\"\n",
    "    inches = mm / 25.4    \n",
    "    return inches"
   ]
  },
  {
   "cell_type": "markdown",
   "id": "cdfd7fe2",
   "metadata": {},
   "source": [
    "## Call Custom Functions in Python\n",
    "\n",
    "Now that you have defined the function `mm_to_in()`, you can call it as needed to convert units. \n",
    "\n",
    "Below is an example call to this function, specifying a single value variable that will be represented by `mm` in the function."
   ]
  },
  {
   "cell_type": "code",
   "execution_count": 5,
   "id": "0375394c",
   "metadata": {},
   "outputs": [
    {
     "data": {
      "text/plain": [
       "0.7000000000000001"
      ]
     },
     "execution_count": 5,
     "metadata": {},
     "output_type": "execute_result"
    }
   ],
   "source": [
    "# Average monthly precip (mm) in Jan for Boulder, CO\n",
    "precip_jan_mm = 17.78\n",
    "\n",
    "# Convert to inches\n",
    "mm_to_in(mm = precip_jan_mm)"
   ]
  },
  {
   "cell_type": "markdown",
   "id": "350aca9c",
   "metadata": {},
   "source": [
    "Notice that the output is provided but you have not actually changed the original values of `precip_jan_mm`."
   ]
  },
  {
   "cell_type": "code",
   "execution_count": 6,
   "id": "97dc9707",
   "metadata": {},
   "outputs": [
    {
     "data": {
      "text/plain": [
       "17.78"
      ]
     },
     "execution_count": 6,
     "metadata": {},
     "output_type": "execute_result"
    }
   ],
   "source": [
    "precip_jan_mm"
   ]
  },
  {
   "cell_type": "markdown",
   "id": "fa52d602",
   "metadata": {},
   "source": [
    "You can create a new variable to store the output of the function as follows:"
   ]
  },
  {
   "cell_type": "code",
   "execution_count": 7,
   "id": "4c66ea56",
   "metadata": {},
   "outputs": [
    {
     "data": {
      "text/plain": [
       "0.7000000000000001"
      ]
     },
     "execution_count": 7,
     "metadata": {},
     "output_type": "execute_result"
    }
   ],
   "source": [
    "# Create new variable with converted values\n",
    "precip_jan_in = mm_to_in(mm = precip_jan_mm)\n",
    "\n",
    "precip_jan_in"
   ]
  },
  {
   "cell_type": "markdown",
   "id": "869efc54",
   "metadata": {},
   "source": [
    "### Placeholder Variables in Functions\n",
    "\n",
    "Notice that in the function call above, you provided a pre-defined variable (`precip_jan_mm`) to the parameter `mm` using:\n",
    "\n",
    "`mm = precip_jan_mm`\n",
    "\n",
    "In the function, `mm` is the placeholder variable for the input and has not been pre-defined outside of the function. The same holds true for `inches`, which is the placeholder variable for the output of the function.\n",
    "\n",
    "Rather than containing pre-defined values, `mm` takes on the values of the input parameter to the function (e.g. `precip_jan_mm`), and `inches` holds the values resulting from the calculation in the function. \n",
    "\n",
    "Thus, `mm` and `inches` will hold different values each time that the function is called.\n",
    "\n",
    "Another important note about the placeholder variables in functions is that they do not exist outside of the function. \n",
    "\n",
    "If you try to call these placeholder variables (e.g. `mm` or `inches`) outside of the function, you will get an error. \n",
    "\n",
    "For example, the following code:\n",
    "\n",
    "```python\n",
    "print(inches)\n",
    "```\n",
    "\n",
    "will return the error:\n",
    "\n",
    "```python\n",
    "NameError: name 'inches' is not defined\n",
    "```\n",
    "\n",
    "This is because `inches` is used by the function to return the result of the code, but it is not actually stored as a variable that is independent of the function.  \n",
    "\n",
    "Note that this is a difference from placeholders that are used in loops, which can be called when the loop is completed its run. \n",
    "\n",
    "\n",
    "### Applying the Same Function to Multiple Object Types\n",
    "\n",
    "Since you know that numeric values can also be stored in **numpy** arrays, you can also provide a **numpy** array as an input to the function."
   ]
  },
  {
   "cell_type": "code",
   "execution_count": 8,
   "id": "b3402354",
   "metadata": {},
   "outputs": [],
   "source": [
    "# Import necessary packages\n",
    "import numpy as np"
   ]
  },
  {
   "cell_type": "code",
   "execution_count": 9,
   "id": "702e588b",
   "metadata": {},
   "outputs": [
    {
     "data": {
      "text/plain": [
       "array([0.7 , 0.75, 1.85, 2.93, 3.05, 2.02, 1.93, 1.62, 1.84, 1.31, 1.39,\n",
       "       0.84])"
      ]
     },
     "execution_count": 9,
     "metadata": {},
     "output_type": "execute_result"
    }
   ],
   "source": [
    "# Average monthly precip (mm) for Boulder, CO\n",
    "avg_monthly_precip_mm = np.array([17.78, 19.05, 46.99, 74.422, \n",
    "                                  77.47, 51.308, 49.022, 41.148, \n",
    "                                  46.736, 33.274, 35.306, 21.336])\n",
    "\n",
    "# Convert to inches\n",
    "mm_to_in(mm = avg_monthly_precip_mm)"
   ]
  },
  {
   "cell_type": "markdown",
   "id": "4ec67405",
   "metadata": {},
   "source": [
    "Again, notice that the output is provided but you have not actually changed the original values of the **numpy** array."
   ]
  },
  {
   "cell_type": "code",
   "execution_count": 10,
   "id": "96dde544",
   "metadata": {},
   "outputs": [
    {
     "data": {
      "text/plain": [
       "array([17.78 , 19.05 , 46.99 , 74.422, 77.47 , 51.308, 49.022, 41.148,\n",
       "       46.736, 33.274, 35.306, 21.336])"
      ]
     },
     "execution_count": 10,
     "metadata": {},
     "output_type": "execute_result"
    }
   ],
   "source": [
    "avg_monthly_precip_mm"
   ]
  },
  {
   "cell_type": "markdown",
   "id": "358517d5",
   "metadata": {},
   "source": [
    "To do this, recall that you can save the output of a function to a new object:"
   ]
  },
  {
   "cell_type": "code",
   "execution_count": 11,
   "id": "15dd1aa1",
   "metadata": {},
   "outputs": [
    {
     "data": {
      "text/plain": [
       "array([0.7 , 0.75, 1.85, 2.93, 3.05, 2.02, 1.93, 1.62, 1.84, 1.31, 1.39,\n",
       "       0.84])"
      ]
     },
     "execution_count": 11,
     "metadata": {},
     "output_type": "execute_result"
    }
   ],
   "source": [
    "# Convert to inches\n",
    "avg_monthly_precip_in = mm_to_in(mm = avg_monthly_precip_mm)\n",
    "\n",
    "avg_monthly_precip_in"
   ]
  },
  {
   "cell_type": "markdown",
   "id": "3938ba5f",
   "metadata": {},
   "source": [
    "Similarly, you know that numeric values can be stored in a column in a **pandas** dataframe, so you can also provide a column in a **pandas** dataframe as an input to the function and store the results of the function in a new column."
   ]
  },
  {
   "cell_type": "code",
   "execution_count": 12,
   "id": "18142e9b",
   "metadata": {},
   "outputs": [],
   "source": [
    "# Import necessary packages\n",
    "import pandas as pd"
   ]
  },
  {
   "cell_type": "code",
   "execution_count": 13,
   "id": "f5acb918",
   "metadata": {},
   "outputs": [],
   "source": [
    "# Average monthly precip (mm) in 2002 for Boulder, CO\n",
    "precip_2002 = pd.DataFrame(columns=[\"month\", \"precip_mm\"],\n",
    "                           data=[\n",
    "                                [\"Jan\", 27.178],  [\"Feb\", 11.176],\n",
    "                                [\"Mar\", 38.100],  [\"Apr\", 5.080],\n",
    "                                [\"May\", 81.280],  [\"June\", 29.972],\n",
    "                                [\"July\", 2.286],  [\"Aug\", 36.576],\n",
    "                                [\"Sept\", 38.608], [\"Oct\", 61.976],\n",
    "                                [\"Nov\", 19.812],  [\"Dec\", 0.508]\n",
    "                           ])"
   ]
  },
  {
   "cell_type": "code",
   "execution_count": 14,
   "id": "bcfdff26",
   "metadata": {},
   "outputs": [
    {
     "data": {
      "text/html": [
       "<div>\n",
       "<style scoped>\n",
       "    .dataframe tbody tr th:only-of-type {\n",
       "        vertical-align: middle;\n",
       "    }\n",
       "\n",
       "    .dataframe tbody tr th {\n",
       "        vertical-align: top;\n",
       "    }\n",
       "\n",
       "    .dataframe thead th {\n",
       "        text-align: right;\n",
       "    }\n",
       "</style>\n",
       "<table border=\"1\" class=\"dataframe\">\n",
       "  <thead>\n",
       "    <tr style=\"text-align: right;\">\n",
       "      <th></th>\n",
       "      <th>month</th>\n",
       "      <th>precip_mm</th>\n",
       "      <th>precip_in</th>\n",
       "    </tr>\n",
       "  </thead>\n",
       "  <tbody>\n",
       "    <tr>\n",
       "      <th>0</th>\n",
       "      <td>Jan</td>\n",
       "      <td>27.178</td>\n",
       "      <td>1.07</td>\n",
       "    </tr>\n",
       "    <tr>\n",
       "      <th>1</th>\n",
       "      <td>Feb</td>\n",
       "      <td>11.176</td>\n",
       "      <td>0.44</td>\n",
       "    </tr>\n",
       "    <tr>\n",
       "      <th>2</th>\n",
       "      <td>Mar</td>\n",
       "      <td>38.100</td>\n",
       "      <td>1.50</td>\n",
       "    </tr>\n",
       "    <tr>\n",
       "      <th>3</th>\n",
       "      <td>Apr</td>\n",
       "      <td>5.080</td>\n",
       "      <td>0.20</td>\n",
       "    </tr>\n",
       "    <tr>\n",
       "      <th>4</th>\n",
       "      <td>May</td>\n",
       "      <td>81.280</td>\n",
       "      <td>3.20</td>\n",
       "    </tr>\n",
       "    <tr>\n",
       "      <th>5</th>\n",
       "      <td>June</td>\n",
       "      <td>29.972</td>\n",
       "      <td>1.18</td>\n",
       "    </tr>\n",
       "    <tr>\n",
       "      <th>6</th>\n",
       "      <td>July</td>\n",
       "      <td>2.286</td>\n",
       "      <td>0.09</td>\n",
       "    </tr>\n",
       "    <tr>\n",
       "      <th>7</th>\n",
       "      <td>Aug</td>\n",
       "      <td>36.576</td>\n",
       "      <td>1.44</td>\n",
       "    </tr>\n",
       "    <tr>\n",
       "      <th>8</th>\n",
       "      <td>Sept</td>\n",
       "      <td>38.608</td>\n",
       "      <td>1.52</td>\n",
       "    </tr>\n",
       "    <tr>\n",
       "      <th>9</th>\n",
       "      <td>Oct</td>\n",
       "      <td>61.976</td>\n",
       "      <td>2.44</td>\n",
       "    </tr>\n",
       "    <tr>\n",
       "      <th>10</th>\n",
       "      <td>Nov</td>\n",
       "      <td>19.812</td>\n",
       "      <td>0.78</td>\n",
       "    </tr>\n",
       "    <tr>\n",
       "      <th>11</th>\n",
       "      <td>Dec</td>\n",
       "      <td>0.508</td>\n",
       "      <td>0.02</td>\n",
       "    </tr>\n",
       "  </tbody>\n",
       "</table>\n",
       "</div>"
      ],
      "text/plain": [
       "   month  precip_mm  precip_in\n",
       "0    Jan     27.178       1.07\n",
       "1    Feb     11.176       0.44\n",
       "2    Mar     38.100       1.50\n",
       "3    Apr      5.080       0.20\n",
       "4    May     81.280       3.20\n",
       "5   June     29.972       1.18\n",
       "6   July      2.286       0.09\n",
       "7    Aug     36.576       1.44\n",
       "8   Sept     38.608       1.52\n",
       "9    Oct     61.976       2.44\n",
       "10   Nov     19.812       0.78\n",
       "11   Dec      0.508       0.02"
      ]
     },
     "execution_count": 14,
     "metadata": {},
     "output_type": "execute_result"
    }
   ],
   "source": [
    "# Create new column with precip in inches\n",
    "precip_2002[\"precip_in\"] = mm_to_in(mm = precip_2002[\"precip_mm\"])\n",
    "\n",
    "precip_2002"
   ]
  },
  {
   "cell_type": "markdown",
   "id": "477aedf6",
   "metadata": {},
   "source": [
    "### Determining Appropriate Inputs to Functions\n",
    "\n",
    "Can the function `mm_to_in()` to take a list as an input? Look again at the code that the function executes."
   ]
  },
  {
   "cell_type": "code",
   "execution_count": 15,
   "id": "50bf6289",
   "metadata": {},
   "outputs": [],
   "source": [
    "def mm_to_in(mm):\n",
    "    \"\"\"Convert input from millimeters to inches. \n",
    "    \n",
    "    Parameters\n",
    "    ----------\n",
    "    mm : int or float\n",
    "        Numeric value with units in millimeters.\n",
    "\n",
    "    Returns\n",
    "    ------\n",
    "    inches : int or float\n",
    "        Numeric value with units in inches.\n",
    "    \"\"\"\n",
    "    inches = mm / 25.4    \n",
    "    return inches"
   ]
  },
  {
   "cell_type": "markdown",
   "id": "ba0fe7bf",
   "metadata": {},
   "source": [
    "Since you know that numeric calculations cannot be performed directly on a list, you know that this function will not execute successfully if provided a list as an input. \n",
    "\n",
    "This is an important idea to keep in mind as you write functions in **Python**. \n",
    "\n",
    "If the code will not execute outside of a function (e.g. numerical operation on a list), then the code will also not execute using a function, as the code is still subject to the rules governing the objects to which it is applied. \n",
    "\n",
    "This also highlights the importance of docstrings to provide clear descriptions of the type of inputs and outputs that are provided by the function. \n",
    "\n",
    "\n",
    "## Call Help on a Custom Function\n",
    "\n",
    "Just like you can call `help()` on a function provided by a **Python** package such as **numpy** (e.g. `help(np.mean)`, you can also call `help()` on custom functions."
   ]
  },
  {
   "cell_type": "code",
   "execution_count": 16,
   "id": "bbf98dfd",
   "metadata": {},
   "outputs": [
    {
     "name": "stdout",
     "output_type": "stream",
     "text": [
      "Help on _ArrayFunctionDispatcher in module numpy:\n",
      "\n",
      "mean(a, axis=None, dtype=None, out=None, keepdims=<no value>, *, where=<no value>)\n",
      "    Compute the arithmetic mean along the specified axis.\n",
      "    \n",
      "    Returns the average of the array elements.  The average is taken over\n",
      "    the flattened array by default, otherwise over the specified axis.\n",
      "    `float64` intermediate and return values are used for integer inputs.\n",
      "    \n",
      "    Parameters\n",
      "    ----------\n",
      "    a : array_like\n",
      "        Array containing numbers whose mean is desired. If `a` is not an\n",
      "        array, a conversion is attempted.\n",
      "    axis : None or int or tuple of ints, optional\n",
      "        Axis or axes along which the means are computed. The default is to\n",
      "        compute the mean of the flattened array.\n",
      "    \n",
      "        .. versionadded:: 1.7.0\n",
      "    \n",
      "        If this is a tuple of ints, a mean is performed over multiple axes,\n",
      "        instead of a single axis or all the axes as before.\n",
      "    dtype : data-type, optional\n",
      "        Type to use in computing the mean.  For integer inputs, the default\n",
      "        is `float64`; for floating point inputs, it is the same as the\n",
      "        input dtype.\n",
      "    out : ndarray, optional\n",
      "        Alternate output array in which to place the result.  The default\n",
      "        is ``None``; if provided, it must have the same shape as the\n",
      "        expected output, but the type will be cast if necessary.\n",
      "        See :ref:`ufuncs-output-type` for more details.\n",
      "    \n",
      "    keepdims : bool, optional\n",
      "        If this is set to True, the axes which are reduced are left\n",
      "        in the result as dimensions with size one. With this option,\n",
      "        the result will broadcast correctly against the input array.\n",
      "    \n",
      "        If the default value is passed, then `keepdims` will not be\n",
      "        passed through to the `mean` method of sub-classes of\n",
      "        `ndarray`, however any non-default value will be.  If the\n",
      "        sub-class' method does not implement `keepdims` any\n",
      "        exceptions will be raised.\n",
      "    \n",
      "    where : array_like of bool, optional\n",
      "        Elements to include in the mean. See `~numpy.ufunc.reduce` for details.\n",
      "    \n",
      "        .. versionadded:: 1.20.0\n",
      "    \n",
      "    Returns\n",
      "    -------\n",
      "    m : ndarray, see dtype parameter above\n",
      "        If `out=None`, returns a new array containing the mean values,\n",
      "        otherwise a reference to the output array is returned.\n",
      "    \n",
      "    See Also\n",
      "    --------\n",
      "    average : Weighted average\n",
      "    std, var, nanmean, nanstd, nanvar\n",
      "    \n",
      "    Notes\n",
      "    -----\n",
      "    The arithmetic mean is the sum of the elements along the axis divided\n",
      "    by the number of elements.\n",
      "    \n",
      "    Note that for floating-point input, the mean is computed using the\n",
      "    same precision the input has.  Depending on the input data, this can\n",
      "    cause the results to be inaccurate, especially for `float32` (see\n",
      "    example below).  Specifying a higher-precision accumulator using the\n",
      "    `dtype` keyword can alleviate this issue.\n",
      "    \n",
      "    By default, `float16` results are computed using `float32` intermediates\n",
      "    for extra precision.\n",
      "    \n",
      "    Examples\n",
      "    --------\n",
      "    >>> a = np.array([[1, 2], [3, 4]])\n",
      "    >>> np.mean(a)\n",
      "    2.5\n",
      "    >>> np.mean(a, axis=0)\n",
      "    array([2., 3.])\n",
      "    >>> np.mean(a, axis=1)\n",
      "    array([1.5, 3.5])\n",
      "    \n",
      "    In single precision, `mean` can be inaccurate:\n",
      "    \n",
      "    >>> a = np.zeros((2, 512*512), dtype=np.float32)\n",
      "    >>> a[0, :] = 1.0\n",
      "    >>> a[1, :] = 0.1\n",
      "    >>> np.mean(a)\n",
      "    0.54999924\n",
      "    \n",
      "    Computing the mean in float64 is more accurate:\n",
      "    \n",
      "    >>> np.mean(a, dtype=np.float64)\n",
      "    0.55000000074505806 # may vary\n",
      "    \n",
      "    Specifying a where argument:\n",
      "    \n",
      "    >>> a = np.array([[5, 9, 13], [14, 10, 12], [11, 15, 19]])\n",
      "    >>> np.mean(a)\n",
      "    12.0\n",
      "    >>> np.mean(a, where=[[True], [False], [False]])\n",
      "    9.0\n",
      "\n"
     ]
    }
   ],
   "source": [
    "# Call help on mean function from numpy\n",
    "help(np.mean)"
   ]
  },
  {
   "cell_type": "code",
   "execution_count": 17,
   "id": "43990ac8",
   "metadata": {},
   "outputs": [
    {
     "name": "stdout",
     "output_type": "stream",
     "text": [
      "Help on function mm_to_in in module __main__:\n",
      "\n",
      "mm_to_in(mm)\n",
      "    Convert input from millimeters to inches. \n",
      "    \n",
      "    Parameters\n",
      "    ----------\n",
      "    mm : int or float\n",
      "        Numeric value with units in millimeters.\n",
      "    \n",
      "    Returns\n",
      "    ------\n",
      "    inches : int or float\n",
      "        Numeric value with units in inches.\n",
      "\n"
     ]
    }
   ],
   "source": [
    "# Call help on custom function\n",
    "help(mm_to_in)"
   ]
  },
  {
   "cell_type": "markdown",
   "id": "755c9f41",
   "metadata": {},
   "source": [
    "Notice that when you call `help()` on custom functions (e.g. `mm_to_in`), you will see the docstring that has been included in the function definition.  \n",
    "\n",
    "The `help()` results for `np.mean` are simply longer because the docstring contains more information such as sections for Notes and Examples. \n",
    "\n",
    "\n",
    "## Combine Multiple Function Calls on a Single Object in Python\n",
    "\n",
    "Imagine that you want to convert the units of a **numpy** array using the function `mm_to_in()` and then calculate a mean using `np.mean()`.\n",
    "\n",
    "You could write code to complete each task one at a time:"
   ]
  },
  {
   "cell_type": "code",
   "execution_count": 18,
   "id": "dc3b3dec",
   "metadata": {},
   "outputs": [
    {
     "name": "stdout",
     "output_type": "stream",
     "text": [
      "1.6858333333333333\n"
     ]
    }
   ],
   "source": [
    "# Convert units and save to new array\n",
    "avg_monthly_precip_in = mm_to_in(mm = avg_monthly_precip_mm)\n",
    "\n",
    "# Calculate mean and save value\n",
    "avg_monthly_precip_mean_in = np.mean(avg_monthly_precip_in)\n",
    "\n",
    "print(avg_monthly_precip_mean_in)"
   ]
  },
  {
   "cell_type": "markdown",
   "id": "a91b6068",
   "metadata": {},
   "source": [
    "However, you will end up with intermediate variables (e.g. `avg_monthly_precip_in`) that are not really needed.\n",
    "\n",
    "Luckily, in **Python**, you can actually combine the calls to both of these functions into one line. \n",
    "\n",
    "To do this, you can use the function call: \n",
    "\n",
    "`mm_to_in(mm = avg_monthtly_precip_mm)`\n",
    "\n",
    "as the input to `np.mean()` function, as shown below."
   ]
  },
  {
   "cell_type": "code",
   "execution_count": 19,
   "id": "7afb38cc",
   "metadata": {},
   "outputs": [
    {
     "data": {
      "text/plain": [
       "1.6858333333333333"
      ]
     },
     "execution_count": 19,
     "metadata": {},
     "output_type": "execute_result"
    }
   ],
   "source": [
    "# Convert to inches and calculate mean\n",
    "avg_monthly_precip_mean_in = np.mean(mm_to_in(mm = avg_monthly_precip_mm))\n",
    "\n",
    "avg_monthly_precip_mean_in"
   ]
  },
  {
   "cell_type": "markdown",
   "id": "f1f76c05",
   "metadata": {},
   "source": [
    "In this example, the values of `avg_monthtly_precip_mm` are converted to inches first and then the mean of the converted values is calculated and stored as a new variable `avg_monthly_precip_mean_in`. \n",
    "\n",
    "Notice that the original function call to `mm_to_in()` looks the same as when you have called it before:\n",
    "\n",
    "`mm_to_in(mm = avg_monthtly_precip_mm)`\n",
    "\n",
    "It is now simply enclosed within the parenthesis `()` of the `np.mean()` function to tell **Python** that the output of `mm_to_in()` will be the input to the function `np.mean()`."
   ]
  },
  {
   "cell_type": "markdown",
   "id": "08efc702",
   "metadata": {},
   "source": [
    "Combining related function calls into a single line of code allows you to write code that is much more efficient and less repetitive, assisting you in writing DRY code in **Python**. \n",
    "\n",
    "Congratulations! You have now written and executed your first custom functions in **Python** to efficiently modularize and execute tasks as needed."
   ]
  }
 ],
 "metadata": {
  "jupytext": {
   "formats": "ipynb,md:myst",
   "text_representation": {
    "extension": ".md",
    "format_name": "myst",
    "format_version": 0.13,
    "jupytext_version": "1.14.7"
   }
  },
  "kernelspec": {
   "display_name": "Python 3",
   "language": "python",
   "name": "python3"
  },
  "language_info": {
   "codemirror_mode": {
    "name": "ipython",
    "version": 3
   },
   "file_extension": ".py",
   "mimetype": "text/x-python",
   "name": "python",
   "nbconvert_exporter": "python",
   "pygments_lexer": "ipython3",
   "version": "3.10.12"
  },
  "source_map": [
   15,
   44,
   198,
   203,
   215,
   231,
   239,
   255,
   263,
   279,
   287,
   293,
   297,
   299,
   303,
   308,
   347,
   352,
   360,
   364,
   366,
   370,
   375,
   379,
   384,
   397,
   402,
   408,
   424,
   439,
   444,
   447,
   460,
   468,
   480,
   485,
   495
  ]
 },
 "nbformat": 4,
 "nbformat_minor": 5
}