{
 "cells": [
  {
   "cell_type": "raw",
   "id": "676b0d54",
   "metadata": {},
   "source": [
    "---\n",
    "layout: single\n",
    "category: courses\n",
    "title: \"Git and GitHub\"\n",
    "permalink: /courses/intro-to-earth-data-science/git-github/\n",
    "week-landing: 3\n",
    "modified: '{:%Y-%m-%d}'.format(datetime.now())\n",
    "week: 3\n",
    "sidebar:\n",
    "  nav:\n",
    "comments: false\n",
    "author_profile: false\n",
    "course: \"intro-to-earth-data-science-textbook\"\n",
    "module-type: 'session'\n",
    "---"
   ]
  },
  {
   "cell_type": "markdown",
   "id": "13ed4ff7",
   "metadata": {},
   "source": [
    "{% include toc title=\"Section Three\" icon=\"file-text\" %}\n",
    "\n",
    "<div class=\"notice--info\" markdown=\"1\">\n",
    "\n",
    "## <i class=\"fa fa-ship\" aria-hidden=\"true\"></i> Section Three - Git and GitHub\n",
    "\n",
    "In section three of this textbook, you will learn about **git**, a version control tool that you can use to track changes to files, and **GitHub.com**, a cloud repository that you can use to host and share files with others. You will also learn how to implement version control using **git**/**GitHub.com**, so that you can work on your files locally with **git** and then upload changes to the cloud version of your files on **Github.com**. \n",
    "\n",
    "\n",
    "## <i class=\"fa fa-graduation-cap\" aria-hidden=\"true\"></i> Learning Objectives\n",
    "\n",
    "After completing this section of the introduction to earth analytics online textbook, you will be able to:\n",
    "\n",
    "* Use **git** to make changes to files locally and upload your changes to **GitHub.com**.\n",
    "* Use **GitHub.com** to collaborate and share files with others. \n",
    "\n",
    "</div>\n",
    "\n",
    "{% include textbook-section-toc.html %}"
   ]
  },
  {
   "cell_type": "code",
   "execution_count": null,
   "id": "d99efd36",
   "metadata": {},
   "outputs": [],
   "source": []
  }
 ],
 "metadata": {
  "jupytext": {
   "formats": "ipynb,md:myst",
   "text_representation": {
    "extension": ".md",
    "format_name": "myst",
    "format_version": 0.13,
    "jupytext_version": "1.14.7"
   }
  },
  "kernelspec": {
   "display_name": "Python 3",
   "language": "python",
   "name": "python3"
  },
  "language_info": {
   "codemirror_mode": {
    "name": "ipython",
    "version": 3
   },
   "file_extension": ".py",
   "mimetype": "text/x-python",
   "name": "python",
   "nbconvert_exporter": "python",
   "pygments_lexer": "ipython3",
   "version": "3.10.12"
  },
  "source_map": [
   15,
   32,
   54
  ]
 },
 "nbformat": 4,
 "nbformat_minor": 5
}