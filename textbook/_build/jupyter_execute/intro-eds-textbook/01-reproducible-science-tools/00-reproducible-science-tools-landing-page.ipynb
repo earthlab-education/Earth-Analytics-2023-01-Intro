{
 "cells": [
  {
   "cell_type": "markdown",
   "id": "86db3b49",
   "metadata": {},
   "source": [
    ":::{include} ../../textbook-header.md\n",
    ":::"
   ]
  }
 ],
 "metadata": {
  "jupytext": {
   "text_representation": {
    "extension": ".md",
    "format_name": "myst",
    "format_version": 0.13,
    "jupytext_version": "1.14.7"
   }
  },
  "kernelspec": {
   "display_name": "Python 3",
   "language": "python",
   "name": "python3"
  },
  "myst": {
   "substitutions": {
    "authors": "Leah Wasser, Jenny Palomino, Elsa Culler",
    "excerpt": "In section one of this textbook, you will learn about **open reproducible science**. The lessons in this book use a suite of open source tools that are often used in open reproducible science workflows including `Bash`/`Shell`, `Python`, and the `Jupyter` ecosystem, including `Jupyter Notebook`. You will also learn about best practices for open reproducible projects and workflows.\n",
    "objective": "* Define open reproducible science and explain its importance.\n* Describe how reproducibility can benefit you and others.\n* Identify best practices for open reproducible science projects and workflows. \n* Run `bash` commands in the terminal to work with files and directories on your computer.\n* Launch and navigate the `Jupyter Notebook` dashboard to access and create `Jupyter Notebook` files.\n* Run cells within `Jupyter Notebook` to execute `Python` code and render `Markdown` text.",
    "title": "Introduction to Open Reproducible Science Workflows"
   }
  },
  "source_map": [
   25
  ]
 },
 "nbformat": 4,
 "nbformat_minor": 5
}