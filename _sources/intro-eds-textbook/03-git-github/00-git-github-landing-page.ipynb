{
 "cells": [
  {
   "cell_type": "markdown",
   "id": "c327c971",
   "metadata": {},
   "source": [
    ":::{include} ../../textbook-header.md\n",
    ":::\n",
    "\n",
    ":::{contents}\n",
    ":local:\n",
    ":::"
   ]
  }
 ],
 "metadata": {
  "jupytext": {
   "formats": "ipynb,md:myst",
   "text_representation": {
    "extension": ".md",
    "format_name": "myst",
    "format_version": 0.13,
    "jupytext_version": "1.14.7"
   }
  },
  "kernelspec": {
   "display_name": "Python 3",
   "language": "python",
   "name": "python3"
  },
  "myst": {
   "substitutions": {
    "authors": "Earthlab Education",
    "excerpt": "In this section, you will learn about **git**, a version control tool that you can use to track changes to files, and **GitHub.com**, a cloud repository that you can use to host and share files with others. You will also learn how to implement version control using **git**/**GitHub.com**, so that you can work on your files locally with **git** and then upload changes to the cloud version of your files on **Github.com**. \n",
    "objective": "* Use **git** to make changes to files locally and upload your changes to **GitHub.com**.\n* Use **GitHub.com** to collaborate and share files with others. \n",
    "title": "Git and GitHub"
   }
  },
  "source_map": [
   23
  ]
 },
 "nbformat": 4,
 "nbformat_minor": 5
}