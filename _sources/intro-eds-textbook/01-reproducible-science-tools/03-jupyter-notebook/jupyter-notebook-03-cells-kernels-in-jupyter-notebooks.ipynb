{
 "cells": [
  {
   "cell_type": "markdown",
   "id": "7638e258",
   "metadata": {},
   "source": [
    ":::{include} ../../../textbook-header.md\n",
    ":::\n",
    "\n",
    "## Work With Python Code and Markdown Cells in Jupyter Notebook\n",
    "\n",
    "Recall that a `Jupyter Notebook` file consists of a set of cells that can store text or code. \n",
    "\n",
    "* **Text Cells:** Text cells allow you to write and render `Markdown` syntax. This is where you can describe and document your workflow. \n",
    "* **Code Cells:** Code cells allow you to write and run programming code (e.g. `Python`). \n",
    "\n",
    "### Create New Cells\n",
    "\n",
    "You can use either the Menu tools or Keyboard Shortcuts to create new cells. \n",
    "\n",
    "Function  | Keyboard Shortcut | Menu Tools\n",
    "--- | --- | ---\n",
    "Create new cell| Esc + a (above), Esc + b (below) | Insert→ Insert Cell Above OR Insert → Insert Cell Below \n",
    "Copy Cell | c  | Copy Key\n",
    "Paste Cell | v | Paste Key\n",
    "\n",
    "While the default cell type for new cells is Code, you can change the cell type of any existing cell by clicking in the cell and selecting a new cell type (e.g. `Markdown`) in the cell type menu in the toolbar. \n",
    "\n",
    "Cell type options include Code, Markdown, Raw NBConvert (for text to remain unmodified by nbconvert), and Heading. \n",
    "\n",
    "<figure>\n",
    " <a href=\"{{ site.url }}/images/courses/earth-analytics/bootcamp/jupyter-interface/change-cell-type.png\">\n",
    " <img src=\"{{ site.url }}/images/courses/earth-analytics/bootcamp/jupyter-interface/change-cell-type.png\" alt=\" You can change the cell type of any cell in Jupyter Notebook using the Toolbar. The default cell type is Code.\"></a>\n",
    " <figcaption> You can change the cell type of any cell in Jupyter Notebook using the Toolbar. The default cell type is Code.\n",
    " </figcaption>\n",
    "</figure>\n",
    "\n",
    "To use the Keyboard Shortcuts, hit the `esc` key. After that, you can change a cell to Markdown by hitting the `m` key, or you can change a cell to Code by hitting the `y` key. \n",
    "\n",
    "\n",
    "### Run Cells\n",
    "\n",
    "#### Python Code Cells\n",
    "\n",
    "You can run any cell in `Jupyter Notebook` (regardless of whether it contains Code or `Markdown`) using the Menu tools or Keyboard Shortcuts.  \n",
    "\n",
    "Function  | Keyboard Shortcut | Menu Tools\n",
    "--- | --- | ---\n",
    "Run Cell  | Ctrl + enter| Cell → Run Cell \n",
    "\n",
    "For example, you can add a new Code cell and then run the following `Python` code (e.g. `3 + 4`). Your result, or output, will be displayed below the Code cell that you run."
   ]
  },
  {
   "cell_type": "code",
   "execution_count": 1,
   "id": "79f8a62e",
   "metadata": {},
   "outputs": [
    {
     "data": {
      "text/plain": [
       "7"
      ]
     },
     "execution_count": 1,
     "metadata": {},
     "output_type": "execute_result"
    }
   ],
   "source": [
    "3 + 4 "
   ]
  },
  {
   "cell_type": "markdown",
   "id": "e6551ea1",
   "metadata": {},
   "source": [
    "#### Markdown Cells\n",
    "\n",
    "You can run `Markdown` cells in the same way that you can run code cells. However, when you run a `Markdown` cell, the text formatted using `Markdown` syntax will be rendered as stylized text. \n",
    "\n",
    "This means that headings are larger and bold, bulleted lists have bullets next to them instead of `*`, and regular text looks normal. No outputs will appear below the Markdown cell.\n",
    "\n",
    "For example, the `Markdown` syntax below represents 3 headers. You can double-click in any `Markdown` cell to see the raw `Markdown` syntax, which for the cell below would appear like this raw `Markdown` syntax:\n",
    "\n",
    "```\n",
    "### This is a subtitle in Markdown\n",
    "\n",
    "#### This is a smaller subtitle\n",
    "\n",
    "##### This is an even smaller subtitle\n",
    "```\n",
    "\n",
    "To see the `Markdown` as stylized text, run the cell. It should look like the text printed below: \n",
    "\n",
    "### This is a subtitle in Markdown\n",
    "\n",
    "#### This is a smaller subtitle\n",
    "\n",
    "##### This is an even smaller subtitle\n",
    "\n",
    "\n",
    "## Rearrange Cells in a Jupyter Notebook\n",
    "You can change the order of cells within `Jupyter Notebook` using the `up arrow` and `down arrow` buttons on the menu bar. To do this,  click inside the cell that you want to move and then press the desired arrow as many times as you need to move the Cell to the desired location.\n",
    "\n",
    "<figure>\n",
    "  <a href=\"{{ site.url }}/images/courses/earth-analytics/bootcamp/jupyter-interface/move-cells.png\">\n",
    "  <img src=\"{{ site.url }}/images/courses/earth-analytics/bootcamp/jupyter-interface/move-cells.png\" alt=\"You can use the menu bar in Jupyter Notebook to move cells within the Jupyter Notebook file.\"></a>\n",
    "  <figcaption> You can use the menu bar in Jupyter Notebook to move cells within the Jupyter Notebook file.\n",
    "  </figcaption>\n",
    " </figure>\n",
    " \n",
    "\n",
    "### Clear Results in Jupyter Notebook\n",
    "\n",
    "Sometimes, you may want to clear any output results that have been produced. You can do this using the Menu:\n",
    "\n",
    "Menu Tools |\n",
    "--- |\n",
    "Cell -> Current Outputs -> Clear |\n",
    "\n",
    "This will clear the current cell that you are working in, which you can activate by clicking in a cell. \n",
    "\n",
    "You can also clear all of the output using the Menu Tools.\n",
    "\n",
    "Menu Tools |\n",
    "--- |\n",
    "Cell -> All Output -> Clear |"
   ]
  }
 ],
 "metadata": {
  "file_format": "mystnb",
  "jupytext": {
   "text_representation": {
    "extension": ".md",
    "format_name": "mystnb",
    "format_version": 0.13,
    "jupytext_version": "1.14.7"
   }
  },
  "kernelspec": {
   "display_name": "Python 3",
   "language": "python",
   "name": "python3"
  },
  "language_info": {
   "codemirror_mode": {
    "name": "ipython",
    "version": 3
   },
   "file_extension": ".py",
   "mimetype": "text/x-python",
   "name": "python",
   "nbconvert_exporter": "python",
   "pygments_lexer": "ipython3",
   "version": "3.10.10"
  },
  "myst": {
   "substitutions": {
    "authors": "Jenny Palomino, Leah Wasser",
    "excerpt": "The Jupyter ecosystem contains many useful tools for working with Python including Jupyter Notebook, an interactive coding environment. Learn how to work with cells, including Python code and Markdown text cells, in Jupyter Notebook.\n",
    "objective": "* Create new Code and `Markdown` cells within `Jupyter Notebook`.\n* Run Code and `Markdown` cells within `Jupyter Notebook` to execute `Python` code and render `Markdown` text.\n* List useful shortcuts for common tasks in `Jupyter Notebook`.",
    "title": "Code and Markdown Cells in Jupyter Notebook"
   }
  },
  "source_map": [
   23,
   71,
   73
  ]
 },
 "nbformat": 4,
 "nbformat_minor": 5
}