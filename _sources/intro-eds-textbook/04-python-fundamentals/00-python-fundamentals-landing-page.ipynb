{
 "cells": [
  {
   "cell_type": "markdown",
   "id": "74e382f4",
   "metadata": {},
   "source": [
    ":::{include} ../../textbook-header.md\n",
    ":::\n",
    "\n",
    "In section four of this textbook, you will learn fundamental concepts for getting started with **Python**, including what makes **Python** a useful language for scientific workflows, and you will learn how to start working with data in **Python**, including creating and working with variables and lists."
   ]
  }
 ],
 "metadata": {
  "jupytext": {
   "formats": "ipynb,md:myst",
   "text_representation": {
    "extension": ".md",
    "format_name": "myst",
    "format_version": 0.13,
    "jupytext_version": "1.14.7"
   }
  },
  "kernelspec": {
   "display_name": "Python 3",
   "language": "python",
   "name": "python3"
  },
  "myst": {
   "substitutions": {
    "authors": "",
    "excerpt": "",
    "objective": "* Explain how variables are used in **Python** to store information.\n* Use **Python** code to create variables that store single data values including numbers and text strings. \n* Check the data type of a variable using **Python**",
    "title": "Python Code Fundamentals"
   }
  },
  "source_map": [
   22
  ]
 },
 "nbformat": 4,
 "nbformat_minor": 5
}